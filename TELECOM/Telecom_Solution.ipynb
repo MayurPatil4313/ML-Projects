{
 "cells": [
  {
   "cell_type": "markdown",
   "metadata": {},
   "source": [
    "# Telecom Domain"
   ]
  },
  {
   "cell_type": "code",
   "execution_count": 2,
   "metadata": {},
   "outputs": [],
   "source": [
    "import numpy as np\n",
    "import pandas as pd\n",
    "import matplotlib.pyplot as plt \n",
    "import seaborn as sns\n",
    "%matplotlib inline\n",
    "import warnings \n",
    "warnings.filterwarnings(\"ignore\")"
   ]
  },
  {
   "cell_type": "code",
   "execution_count": 3,
   "metadata": {},
   "outputs": [],
   "source": [
    "customer_churn = pd.read_csv(r'D:\\Learnbay\\Weekend Project Sunduram sir\\TELECOM\\Telcom Data.csv')"
   ]
  },
  {
   "cell_type": "code",
   "execution_count": 4,
   "metadata": {},
   "outputs": [
    {
     "data": {
      "text/html": [
       "<div>\n",
       "<style scoped>\n",
       "    .dataframe tbody tr th:only-of-type {\n",
       "        vertical-align: middle;\n",
       "    }\n",
       "\n",
       "    .dataframe tbody tr th {\n",
       "        vertical-align: top;\n",
       "    }\n",
       "\n",
       "    .dataframe thead th {\n",
       "        text-align: right;\n",
       "    }\n",
       "</style>\n",
       "<table border=\"1\" class=\"dataframe\">\n",
       "  <thead>\n",
       "    <tr style=\"text-align: right;\">\n",
       "      <th></th>\n",
       "      <th>customerID</th>\n",
       "      <th>gender</th>\n",
       "      <th>SeniorCitizen</th>\n",
       "      <th>Partner</th>\n",
       "      <th>Dependents</th>\n",
       "      <th>tenure</th>\n",
       "      <th>PhoneService</th>\n",
       "      <th>MultipleLines</th>\n",
       "      <th>InternetService</th>\n",
       "      <th>OnlineSecurity</th>\n",
       "      <th>...</th>\n",
       "      <th>DeviceProtection</th>\n",
       "      <th>TechSupport</th>\n",
       "      <th>StreamingTV</th>\n",
       "      <th>StreamingMovies</th>\n",
       "      <th>Contract</th>\n",
       "      <th>PaperlessBilling</th>\n",
       "      <th>PaymentMethod</th>\n",
       "      <th>MonthlyCharges</th>\n",
       "      <th>TotalCharges</th>\n",
       "      <th>Churn</th>\n",
       "    </tr>\n",
       "  </thead>\n",
       "  <tbody>\n",
       "    <tr>\n",
       "      <th>0</th>\n",
       "      <td>7590-VHVEG</td>\n",
       "      <td>Female</td>\n",
       "      <td>0</td>\n",
       "      <td>Yes</td>\n",
       "      <td>No</td>\n",
       "      <td>1</td>\n",
       "      <td>No</td>\n",
       "      <td>No phone service</td>\n",
       "      <td>DSL</td>\n",
       "      <td>No</td>\n",
       "      <td>...</td>\n",
       "      <td>No</td>\n",
       "      <td>No</td>\n",
       "      <td>No</td>\n",
       "      <td>No</td>\n",
       "      <td>Month-to-month</td>\n",
       "      <td>Yes</td>\n",
       "      <td>Electronic check</td>\n",
       "      <td>29.85</td>\n",
       "      <td>29.85</td>\n",
       "      <td>No</td>\n",
       "    </tr>\n",
       "    <tr>\n",
       "      <th>1</th>\n",
       "      <td>5575-GNVDE</td>\n",
       "      <td>Male</td>\n",
       "      <td>0</td>\n",
       "      <td>No</td>\n",
       "      <td>No</td>\n",
       "      <td>34</td>\n",
       "      <td>Yes</td>\n",
       "      <td>No</td>\n",
       "      <td>DSL</td>\n",
       "      <td>Yes</td>\n",
       "      <td>...</td>\n",
       "      <td>Yes</td>\n",
       "      <td>No</td>\n",
       "      <td>No</td>\n",
       "      <td>No</td>\n",
       "      <td>One year</td>\n",
       "      <td>No</td>\n",
       "      <td>Mailed check</td>\n",
       "      <td>56.95</td>\n",
       "      <td>1889.5</td>\n",
       "      <td>No</td>\n",
       "    </tr>\n",
       "    <tr>\n",
       "      <th>2</th>\n",
       "      <td>3668-QPYBK</td>\n",
       "      <td>Male</td>\n",
       "      <td>0</td>\n",
       "      <td>No</td>\n",
       "      <td>No</td>\n",
       "      <td>2</td>\n",
       "      <td>Yes</td>\n",
       "      <td>No</td>\n",
       "      <td>DSL</td>\n",
       "      <td>Yes</td>\n",
       "      <td>...</td>\n",
       "      <td>No</td>\n",
       "      <td>No</td>\n",
       "      <td>No</td>\n",
       "      <td>No</td>\n",
       "      <td>Month-to-month</td>\n",
       "      <td>Yes</td>\n",
       "      <td>Mailed check</td>\n",
       "      <td>53.85</td>\n",
       "      <td>108.15</td>\n",
       "      <td>Yes</td>\n",
       "    </tr>\n",
       "    <tr>\n",
       "      <th>3</th>\n",
       "      <td>7795-CFOCW</td>\n",
       "      <td>Male</td>\n",
       "      <td>0</td>\n",
       "      <td>No</td>\n",
       "      <td>No</td>\n",
       "      <td>45</td>\n",
       "      <td>No</td>\n",
       "      <td>No phone service</td>\n",
       "      <td>DSL</td>\n",
       "      <td>Yes</td>\n",
       "      <td>...</td>\n",
       "      <td>Yes</td>\n",
       "      <td>Yes</td>\n",
       "      <td>No</td>\n",
       "      <td>No</td>\n",
       "      <td>One year</td>\n",
       "      <td>No</td>\n",
       "      <td>Bank transfer (automatic)</td>\n",
       "      <td>42.30</td>\n",
       "      <td>1840.75</td>\n",
       "      <td>No</td>\n",
       "    </tr>\n",
       "    <tr>\n",
       "      <th>4</th>\n",
       "      <td>9237-HQITU</td>\n",
       "      <td>Female</td>\n",
       "      <td>0</td>\n",
       "      <td>No</td>\n",
       "      <td>No</td>\n",
       "      <td>2</td>\n",
       "      <td>Yes</td>\n",
       "      <td>No</td>\n",
       "      <td>Fiber optic</td>\n",
       "      <td>No</td>\n",
       "      <td>...</td>\n",
       "      <td>No</td>\n",
       "      <td>No</td>\n",
       "      <td>No</td>\n",
       "      <td>No</td>\n",
       "      <td>Month-to-month</td>\n",
       "      <td>Yes</td>\n",
       "      <td>Electronic check</td>\n",
       "      <td>70.70</td>\n",
       "      <td>151.65</td>\n",
       "      <td>Yes</td>\n",
       "    </tr>\n",
       "  </tbody>\n",
       "</table>\n",
       "<p>5 rows × 21 columns</p>\n",
       "</div>"
      ],
      "text/plain": [
       "   customerID  gender  SeniorCitizen Partner Dependents  tenure PhoneService  \\\n",
       "0  7590-VHVEG  Female              0     Yes         No       1           No   \n",
       "1  5575-GNVDE    Male              0      No         No      34          Yes   \n",
       "2  3668-QPYBK    Male              0      No         No       2          Yes   \n",
       "3  7795-CFOCW    Male              0      No         No      45           No   \n",
       "4  9237-HQITU  Female              0      No         No       2          Yes   \n",
       "\n",
       "      MultipleLines InternetService OnlineSecurity  ... DeviceProtection  \\\n",
       "0  No phone service             DSL             No  ...               No   \n",
       "1                No             DSL            Yes  ...              Yes   \n",
       "2                No             DSL            Yes  ...               No   \n",
       "3  No phone service             DSL            Yes  ...              Yes   \n",
       "4                No     Fiber optic             No  ...               No   \n",
       "\n",
       "  TechSupport StreamingTV StreamingMovies        Contract PaperlessBilling  \\\n",
       "0          No          No              No  Month-to-month              Yes   \n",
       "1          No          No              No        One year               No   \n",
       "2          No          No              No  Month-to-month              Yes   \n",
       "3         Yes          No              No        One year               No   \n",
       "4          No          No              No  Month-to-month              Yes   \n",
       "\n",
       "               PaymentMethod MonthlyCharges  TotalCharges Churn  \n",
       "0           Electronic check          29.85         29.85    No  \n",
       "1               Mailed check          56.95        1889.5    No  \n",
       "2               Mailed check          53.85        108.15   Yes  \n",
       "3  Bank transfer (automatic)          42.30       1840.75    No  \n",
       "4           Electronic check          70.70        151.65   Yes  \n",
       "\n",
       "[5 rows x 21 columns]"
      ]
     },
     "execution_count": 4,
     "metadata": {},
     "output_type": "execute_result"
    }
   ],
   "source": [
    "customer_churn.head()"
   ]
  },
  {
   "cell_type": "code",
   "execution_count": 5,
   "metadata": {},
   "outputs": [
    {
     "data": {
      "text/plain": [
       "(7043, 21)"
      ]
     },
     "execution_count": 5,
     "metadata": {},
     "output_type": "execute_result"
    }
   ],
   "source": [
    "customer_churn.shape"
   ]
  },
  {
   "cell_type": "code",
   "execution_count": 6,
   "metadata": {},
   "outputs": [
    {
     "data": {
      "text/plain": [
       "Index(['customerID', 'gender', 'SeniorCitizen', 'Partner', 'Dependents',\n",
       "       'tenure', 'PhoneService', 'MultipleLines', 'InternetService',\n",
       "       'OnlineSecurity', 'OnlineBackup', 'DeviceProtection', 'TechSupport',\n",
       "       'StreamingTV', 'StreamingMovies', 'Contract', 'PaperlessBilling',\n",
       "       'PaymentMethod', 'MonthlyCharges', 'TotalCharges', 'Churn'],\n",
       "      dtype='object')"
      ]
     },
     "execution_count": 6,
     "metadata": {},
     "output_type": "execute_result"
    }
   ],
   "source": [
    "customer_churn.columns"
   ]
  },
  {
   "cell_type": "markdown",
   "metadata": {},
   "source": [
    "## Information"
   ]
  },
  {
   "cell_type": "code",
   "execution_count": 7,
   "metadata": {},
   "outputs": [
    {
     "name": "stdout",
     "output_type": "stream",
     "text": [
      "<class 'pandas.core.frame.DataFrame'>\n",
      "RangeIndex: 7043 entries, 0 to 7042\n",
      "Data columns (total 21 columns):\n",
      " #   Column            Non-Null Count  Dtype  \n",
      "---  ------            --------------  -----  \n",
      " 0   customerID        7043 non-null   object \n",
      " 1   gender            7043 non-null   object \n",
      " 2   SeniorCitizen     7043 non-null   int64  \n",
      " 3   Partner           7043 non-null   object \n",
      " 4   Dependents        7043 non-null   object \n",
      " 5   tenure            7043 non-null   int64  \n",
      " 6   PhoneService      7043 non-null   object \n",
      " 7   MultipleLines     7043 non-null   object \n",
      " 8   InternetService   7043 non-null   object \n",
      " 9   OnlineSecurity    7043 non-null   object \n",
      " 10  OnlineBackup      7043 non-null   object \n",
      " 11  DeviceProtection  7043 non-null   object \n",
      " 12  TechSupport       7043 non-null   object \n",
      " 13  StreamingTV       7043 non-null   object \n",
      " 14  StreamingMovies   7043 non-null   object \n",
      " 15  Contract          7043 non-null   object \n",
      " 16  PaperlessBilling  7043 non-null   object \n",
      " 17  PaymentMethod     7043 non-null   object \n",
      " 18  MonthlyCharges    7043 non-null   float64\n",
      " 19  TotalCharges      7043 non-null   object \n",
      " 20  Churn             7043 non-null   object \n",
      "dtypes: float64(1), int64(2), object(18)\n",
      "memory usage: 1.1+ MB\n"
     ]
    }
   ],
   "source": [
    "customer_churn.info() "
   ]
  },
  {
   "cell_type": "markdown",
   "metadata": {},
   "source": [
    "### Obeservation \n",
    "- NO missing data\n",
    "- 1 float , 2 int and 18 object (including dependent variable churn)"
   ]
  },
  {
   "cell_type": "markdown",
   "metadata": {},
   "source": [
    "## Data cleaning "
   ]
  },
  {
   "cell_type": "markdown",
   "metadata": {},
   "source": [
    "### Data Duplication "
   ]
  },
  {
   "cell_type": "code",
   "execution_count": 8,
   "metadata": {},
   "outputs": [
    {
     "data": {
      "text/plain": [
       "0"
      ]
     },
     "execution_count": 8,
     "metadata": {},
     "output_type": "execute_result"
    }
   ],
   "source": [
    "customer_churn.duplicated().sum()"
   ]
  },
  {
   "cell_type": "markdown",
   "metadata": {},
   "source": [
    "### Data Imbalance"
   ]
  },
  {
   "cell_type": "code",
   "execution_count": 9,
   "metadata": {},
   "outputs": [
    {
     "data": {
      "image/png": "[encoded data removed]",
      "text/plain": [
       "<Figure size 640x480 with 1 Axes>"
      ]
     },
     "metadata": {},
     "output_type": "display_data"
    }
   ],
   "source": [
    "ax = sns.countplot(x=customer_churn['Churn'] , palette='rainbow')\n",
    "ax.bar_label(ax.containers[0])\n",
    "plt.show()"
   ]
  },
  {
   "cell_type": "markdown",
   "metadata": {},
   "source": [
    "### Observation\n",
    "- data is imbalance"
   ]
  },
  {
   "cell_type": "code",
   "execution_count": 10,
   "metadata": {},
   "outputs": [
    {
     "data": {
      "text/plain": [
       "Churn\n",
       "No     0.73463\n",
       "Yes    0.26537\n",
       "Name: proportion, dtype: float64"
      ]
     },
     "execution_count": 10,
     "metadata": {},
     "output_type": "execute_result"
    }
   ],
   "source": [
    "customer_churn['Churn'].value_counts(normalize=True)"
   ]
  },
  {
   "cell_type": "markdown",
   "metadata": {},
   "source": [
    "### Encode the dependent variable (Churn)\n",
    "- Yes : 1\n",
    "- No  : 0"
   ]
  },
  {
   "cell_type": "code",
   "execution_count": 11,
   "metadata": {},
   "outputs": [],
   "source": [
    "customer_churn['Churn'] = customer_churn['Churn'].replace({'Yes' : 1  , 'No' : 0})"
   ]
  },
  {
   "cell_type": "code",
   "execution_count": 12,
   "metadata": {},
   "outputs": [
    {
     "data": {
      "text/plain": [
       "Churn\n",
       "0    5174\n",
       "1    1869\n",
       "Name: count, dtype: int64"
      ]
     },
     "execution_count": 12,
     "metadata": {},
     "output_type": "execute_result"
    }
   ],
   "source": [
    "customer_churn['Churn'].value_counts()"
   ]
  },
  {
   "cell_type": "markdown",
   "metadata": {},
   "source": [
    "## EDA"
   ]
  },
  {
   "cell_type": "code",
   "execution_count": 13,
   "metadata": {},
   "outputs": [],
   "source": [
    "def classify_feature(x):\n",
    "    categorical_feature = []\n",
    "    non_categorical_feature = []\n",
    "    discreate_feature = []\n",
    "    continues_feature = []\n",
    "\n",
    "    for column in x.columns:\n",
    "        if x[column].dtype in ['object' , 'bool']:\n",
    "            if x[column].nunique() < 5:\n",
    "                categorical_feature.append(column)\n",
    "            else:\n",
    "                non_categorical_feature.append(column)\n",
    "        elif x[column].dtype in ['int64' , 'float64']:\n",
    "            if x[column].nunique() < 10:\n",
    "                discreate_feature.append(column)\n",
    "            else:\n",
    "                continues_feature.append(column)\n",
    "    \n",
    "    return categorical_feature , non_categorical_feature , discreate_feature  ,continues_feature\n",
    "                "
   ]
  },
  {
   "cell_type": "code",
   "execution_count": 14,
   "metadata": {},
   "outputs": [],
   "source": [
    "categorical_feature , non_categorical_feature , discreate_feature  ,continues_feature = classify_feature(customer_churn)"
   ]
  },
  {
   "cell_type": "code",
   "execution_count": 15,
   "metadata": {},
   "outputs": [
    {
     "data": {
      "text/plain": [
       "['gender',\n",
       " 'Partner',\n",
       " 'Dependents',\n",
       " 'PhoneService',\n",
       " 'MultipleLines',\n",
       " 'InternetService',\n",
       " 'OnlineSecurity',\n",
       " 'OnlineBackup',\n",
       " 'DeviceProtection',\n",
       " 'TechSupport',\n",
       " 'StreamingTV',\n",
       " 'StreamingMovies',\n",
       " 'Contract',\n",
       " 'PaperlessBilling',\n",
       " 'PaymentMethod']"
      ]
     },
     "execution_count": 15,
     "metadata": {},
     "output_type": "execute_result"
    }
   ],
   "source": [
    "categorical_feature"
   ]
  },
  {
   "cell_type": "code",
   "execution_count": 16,
   "metadata": {},
   "outputs": [
    {
     "data": {
      "text/plain": [
       "['customerID', 'TotalCharges']"
      ]
     },
     "execution_count": 16,
     "metadata": {},
     "output_type": "execute_result"
    }
   ],
   "source": [
    "non_categorical_feature"
   ]
  },
  {
   "cell_type": "code",
   "execution_count": 17,
   "metadata": {},
   "outputs": [
    {
     "data": {
      "text/plain": [
       "['SeniorCitizen', 'Churn']"
      ]
     },
     "execution_count": 17,
     "metadata": {},
     "output_type": "execute_result"
    }
   ],
   "source": [
    "discreate_feature"
   ]
  },
  {
   "cell_type": "code",
   "execution_count": 18,
   "metadata": {},
   "outputs": [
    {
     "data": {
      "text/plain": [
       "['tenure', 'MonthlyCharges']"
      ]
     },
     "execution_count": 18,
     "metadata": {},
     "output_type": "execute_result"
    }
   ],
   "source": [
    "continues_feature"
   ]
  },
  {
   "cell_type": "code",
   "execution_count": 19,
   "metadata": {},
   "outputs": [
    {
     "name": "stdout",
     "output_type": "stream",
     "text": [
      "gender\n",
      "Male      3555\n",
      "Female    3488\n",
      "Name: count, dtype: int64\n",
      "\n",
      "Partner\n",
      "No     3641\n",
      "Yes    3402\n",
      "Name: count, dtype: int64\n",
      "\n",
      "Dependents\n",
      "No     4933\n",
      "Yes    2110\n",
      "Name: count, dtype: int64\n",
      "\n",
      "PhoneService\n",
      "Yes    6361\n",
      "No      682\n",
      "Name: count, dtype: int64\n",
      "\n",
      "MultipleLines\n",
      "No                  3390\n",
      "Yes                 2971\n",
      "No phone service     682\n",
      "Name: count, dtype: int64\n",
      "\n",
      "InternetService\n",
      "Fiber optic    3096\n",
      "DSL            2421\n",
      "No             1526\n",
      "Name: count, dtype: int64\n",
      "\n",
      "OnlineSecurity\n",
      "No                     3498\n",
      "Yes                    2019\n",
      "No internet service    1526\n",
      "Name: count, dtype: int64\n",
      "\n",
      "OnlineBackup\n",
      "No                     3088\n",
      "Yes                    2429\n",
      "No internet service    1526\n",
      "Name: count, dtype: int64\n",
      "\n",
      "DeviceProtection\n",
      "No                     3095\n",
      "Yes                    2422\n",
      "No internet service    1526\n",
      "Name: count, dtype: int64\n",
      "\n",
      "TechSupport\n",
      "No                     3473\n",
      "Yes                    2044\n",
      "No internet service    1526\n",
      "Name: count, dtype: int64\n",
      "\n",
      "StreamingTV\n",
      "No                     2810\n",
      "Yes                    2707\n",
      "No internet service    1526\n",
      "Name: count, dtype: int64\n",
      "\n",
      "StreamingMovies\n",
      "No                     2785\n",
      "Yes                    2732\n",
      "No internet service    1526\n",
      "Name: count, dtype: int64\n",
      "\n",
      "Contract\n",
      "Month-to-month    3875\n",
      "Two year          1695\n",
      "One year          1473\n",
      "Name: count, dtype: int64\n",
      "\n",
      "PaperlessBilling\n",
      "Yes    4171\n",
      "No     2872\n",
      "Name: count, dtype: int64\n",
      "\n",
      "PaymentMethod\n",
      "Electronic check             2365\n",
      "Mailed check                 1612\n",
      "Bank transfer (automatic)    1544\n",
      "Credit card (automatic)      1522\n",
      "Name: count, dtype: int64\n",
      "\n",
      "SeniorCitizen\n",
      "0    5901\n",
      "1    1142\n",
      "Name: count, dtype: int64\n",
      "\n",
      "Churn\n",
      "0    5174\n",
      "1    1869\n",
      "Name: count, dtype: int64\n",
      "\n"
     ]
    }
   ],
   "source": [
    "for i in categorical_feature:\n",
    "    print(customer_churn[i].value_counts())\n",
    "    print()\n",
    "for i in discreate_feature:\n",
    "    print(customer_churn[i].value_counts())\n",
    "    print()"
   ]
  },
  {
   "cell_type": "markdown",
   "metadata": {},
   "source": [
    "### Unique "
   ]
  },
  {
   "cell_type": "code",
   "execution_count": 20,
   "metadata": {},
   "outputs": [
    {
     "name": "stdout",
     "output_type": "stream",
     "text": [
      "customerID\n",
      "{'0218-QNVAS', '2074-GUHPQ', '4664-NJCMS', '2506-CLAKW', '9419-IPPBE', '9153-BTBVV', '0356-ERHVT', '3577-AMVUX', '0997-YTLNY', '8749-TZYEC', '7139-JZFVG', '2789-CZANW', '7562-UXTPG', '2778-OCLGR', '6924-TDGMT', '0679-IDSTG', '4905-JEFDW', '6614-VBEGU', '5047-LHVLY', '7065-YUNRY', '6377-WHAOX', '0531-XBKMM', '6024-RUGGH', '2800-QQUSO', '8670-ERCJH', '7636-XUHWW', '6114-TCFID', '5734-EJKXG', '8739-XNIKG', '8901-HJXTF', '8610-WFCJF', '3800-LYTRK', '0019-EFAEP', '0824-VWDPO', '3794-NFNCH', '6486-LHTMA', '5947-SGKCL', '6416-YJTTB', '8869-LIHMK', '3620-MWJNE', '3566-CAAYU', '4825-FUREZ', '8109-YUOHE', '5387-ASZNZ', '7831-QGOXH', '0853-TWRVK', '1397-XKKWR', '8514-VZHEB', '7602-MVRMB', '0818-OCPZO', '4785-FCIFB', '2123-VSCOT', '7147-AYBAA', '8421-WZOOW', '9351-HXDMR', '6419-ZTTLE', '0562-FGDCR', '4583-PARNH', '4190-MFLUW', '2277-BKJKN', '9822-WMWVG', '0447-BEMNG', '2575-GFSOE', '1240-HCBOH', '9500-WBGRP', '4075-WKNIU', '5681-LLOEI', '5816-SCGFC', '3863-IUBJR', '3170-GWYKC', '1452-XRSJV', '2223-GDSHL', '1557-EMYVT', '0052-DCKON', '9840-EFJQB', '3908-BLSYF', '9592-ERDKV', '5562-BETPV', '3538-WZPHD', '6960-HVYXR', '8561-NMTBD', '3696-XRIEN', '0303-WMMRN', '2982-IHMFT', '8605-ITULD', '2676-ISHSF', '5419-JKZNQ', '9558-IHEZX', '5173-ZXXXL', '3253-HKOKL', '3727-RJMEO', '2207-QPJED', '3969-GYXEL', '0780-XNZFN', '4003-OCTMP', '1697-LYYYX', '2506-TNFCO', '2694-CIUMO', '1470-PSXNM', '4537-DKTAL', '4566-NECEV', '4853-RULSV', '3999-QGRJH', '5673-FSSMF', '5299-SJCZT', '6142-VSJQO', '3387-PLKUI', '9073-ZZIAY', '1442-OKRJE', '7544-ZVIKX', '8337-MSSXB', '8169-SAEJD', '4412-YLTKF', '6211-WWLTF', '4013-UBXWQ', '2398-YPMUR', '4250-ZBWLV', '1389-WNUIB', '5275-SQEIZ', '0842-IWYCP', '9588-YRFHY', '5939-SXWHM', '4873-ILOLJ', '9753-OYLBX', '5858-EAFCZ', '6994-FGRHH', '3683-QKIUE', '4484-GLZOU', '6181-AXXYF', '1702-CCFNJ', '9889-TMAHG', '1031-IIDEO', '9391-TTOYH', '5825-XJOCM', '9389-ACWBI', '2424-WVHPL', '3814-MLAXC', '9239-ZBZZV', '4312-KFRXN', '0278-YXOOG', '6754-LZUKA', '9778-OGKQZ', '8378-LKJAF', '0685-MLYYM', '3422-GALYP', '4759-TRPLW', '6047-SUHPR', '5756-JYOJT', '6030-REHUX', '4236-UJPWO', '1460-UZPRJ', '5393-RXQSZ', '9492-TOKRI', '1877-HKBQX', '0048-LUMLS', '2475-MROZF', '4957-TREIR', '6429-SHBCB', '2722-JMONI', '3050-RLLXC', '6933-VLYFX', '0511-JTEOY', '4853-OITSN', '4782-OSFXZ', '7508-KBIMB', '6173-GOLSU', '5306-BVTKJ', '1226-JZNKR', '0011-IGKFF', '5130-YPIRV', '7564-GHCVB', '3417-TSCIC', '0148-DCDOS', '2842-BCQGE', '7803-XOCCZ', '6813-GZQCG', '2612-PHGOX', '5699-BNCAS', '1591-MQJTP', '1452-KIOVK', '3393-FMZPV', '6728-VOIFY', '1628-BIZYP', '6825-UYPFK', '8434-VGEQQ', '9769-TSBZE', '2229-VWQJH', '5173-WXOQV', '7517-SAWMO', '4001-TSBTV', '9052-DHNKM', '0013-SMEOE', '5349-AZPEW', '0928-XUTSN', '7851-WZEKY', '0625-AFOHS', '7010-ZMVBF', '3256-EZDBI', '7072-MBHEV', '2108-XWMPY', '6559-ILWKJ', '1518-OMDIK', '4000-VGMQP', '4573-JKNAE', '1583-IHQZE', '6624-JDRDS', '6435-VWCCY', '3247-MHJKM', '6169-PGNCD', '2472-OVKUP', '8695-WDYEA', '3669-LVWZB', '1623-NLDOT', '4828-FAZPK', '1918-ZBFQJ', '2192-OZITF', '8580-AECUZ', '0618-XWMSS', '8849-AYPTR', '4530-NDRKU', '0929-HYQEW', '1833-TCXKK', '3162-ZJZFU', '4291-SHSBH', '8944-AILEF', '5066-GFJMM', '5120-ZBLAI', '9385-NXKDA', '1928-BXYIV', '5647-FXOTP', '8249-THVEC', '4693-VWVBO', '8182-BJDSI', '3594-KADLU', '3753-TSEMP', '1226-UDFZR', '1227-UDMZR', '7492-TAFJD', '4821-SJHJV', '5859-HZYLF', '8706-HRADD', '6752-APNJL', '7517-LDMPS', '6243-OZGFH', '8884-MRNSU', '0322-YINQP', '3654-ARMGP', '4351-QLCSU', '3653-NCRDJ', '1832-PEUTS', '7254-IQWOZ', '7426-GSWPO', '4418-LZMSV', '9289-LBQVU', '5569-KGJHX', '1545-JFUML', '9805-FILKB', '2357-COQEK', '2486-WYVVE', '8752-GHJFU', '0679-TDGAK', '6303-KFWSL', '9277-JOOMO', '3506-OVLKD', '1839-FBNFR', '6349-JDHQP', '7311-MQJCH', '4962-CHQPW', '9488-FVZCC', '5512-IDZEI', '7349-ALMUX', '9629-NHXFW', '3457-PQBYH', '9881-VCZEP', '7541-YLXCL', '5795-KTGUD', '7173-TETGO', '7005-CCBKV', '4118-CEVPF', '5820-PTRYM', '5329-KRDTM', '0128-MKWSG', '4652-NNHNY', '4615-PIVVU', '0505-SPOOW', '6502-HCJTI', '1696-HXOWK', '6064-ZATLR', '8725-JEDFD', '9058-HRZSV', '5804-LEPIM', '2292-XQWSV', '5562-YJQGT', '3721-CNZHX', '0640-YJTPY', '4307-KWMXE', '4884-ZTHVF', '5879-SESNB', '3249-ZPQRG', '7328-ZJAJO', '3915-ODIYG', '3211-AAPKX', '9256-JTBNZ', '4526-ZJJTM', '5985-BEHZK', '3316-UWXUY', '4955-VCWBI', '6500-JVEGC', '6892-BOGQE', '5461-QKNTN', '8661-BOYNW', '2468-SJFLM', '3488-PGMQJ', '4301-VVZKA', '4441-NIHPT', '3858-XHYJO', '7109-MFBYV', '1143-NMNQJ', '2378-YIZKA', '5574-NXZIU', '6631-HMANX', '8610-ZIKJJ', '5304-EFJLP', '0570-BFQHT', '6407-UTSLV', '4860-YZGZM', '5626-MGTUK', '6172-FECYY', '2332-EFBJY', '9330-DHBFL', '1395-OFUWC', '4548-SDBKE', '5536-RTPWK', '9799-CAYJJ', '0378-CJKPV', '9693-XMUOB', '9717-QEBGU', '7801-KICAO', '7727-SHVZV', '3627-FCRDW', '9611-CTWIH', '5143-EGQFK', '0958-YHXGP', '0098-BOWSO', '1024-GUALD', '1399-UBQIU', '8565-CLBZW', '0392-BZIUW', '0939-YAPAF', '2344-JMOGN', '6248-TKCQV', '7277-KAMWT', '7861-UVUFT', '5753-QQWPW', '9798-DRYDS', '0265-EDXBD', '0704-VCUMB', '9220-ZNKJI', '4846-WHAFZ', '3896-ZVNET', '7182-OVLBJ', '5948-UJZLF', '8071-SBTRN', '8988-ECPJR', '5989-OMNJE', '2359-QWQUL', '2828-SLQPF', '0822-QGCXA', '0594-UFTUL', '3733-ZEECP', '1577-HKTFG', '5854-KSRBJ', '1023-BQXZE', '3354-OADJP', '7919-ZODZZ', '0397-GZBBC', '3410-MHHUM', '9530-GRMJG', '2607-FBDFF', '6701-DHKWQ', '5474-LAMUQ', '7067-KSAZT', '3363-EWLGO', '7008-LZVOZ', '8705-WZCYL', '8123-QBNAZ', '3970-XGJDU', '6838-HVLXG', '8400-WZICQ', '9565-FLVCG', '3279-DYZQM', '9940-RHLFB', '9743-DQKQW', '8173-RXAYP', '7036-ZZKBD', '8690-UPCZI', '5281-BUZGT', '1936-UAFEH', '0136-IFMYD', '3070-FNFZQ', '3933-DQPWX', '8709-KRDVL', '6619-RPLQZ', '3750-RNQKR', '2636-SJDOU', '8871-JLMHM', '9168-INPSZ', '3458-IDMFK', '2027-WKXMW', '1414-YADCW', '2834-JKOOW', '5524-KHNJP', '7549-MYGPK', '3717-FDJFU', '2676-SSLTO', '8849-PRIQJ', '8258-GSTJK', '0999-QXNSA', '1360-XFJMR', '7404-JLKQG', '9958-MEKUC', '8350-NYMVI', '8292-ITGYJ', '8189-HBVRW', '3269-ATYWD', '9150-KPBJQ', '2640-PMGFL', '4423-YLHDV', '2931-FSOHN', '3863-QSTYI', '3955-JBZZM', '6457-USBER', '2826-DXLQO', '1013-QCWAM', '7551-JOHTI', '2027-OAQQC', '6332-FBZRI', '8672-OAUPW', '1264-BYWMS', '5546-BYZSM', '9844-FELAJ', '9609-BENEA', '9298-WGMRW', '5249-QYHEX', '5276-KQWHG', '6901-GOGZG', '4922-CVPDX', '7321-PKUYW', '9504-DSHWM', '0739-UUAJR', '0423-UDIJQ', '9795-SHUHB', '7729-XBTWX', '3765-JXVKY', '3442-ZHHCC', '7145-FEJWU', '1113-IUJYX', '6556-DBKZF', '7074-STDCN', '1535-VTJOQ', '4482-FTFFX', '3956-CJUST', '4488-PSYCG', '2143-LJULT', '8630-FJLIB', '8931-GJJIQ', '0048-PIHNL', '4686-GEFRM', '6777-TGHTM', '8070-AAWZP', '3173-NVMPX', '2108-GLPQB', '2718-GAXQD', '0547-HURJB', '5832-XKAES', '5515-IDEJJ', '1640-PLFMP', '9866-QEVEE', '0292-WEGCH', '6198-PNNSZ', '3855-ONCAR', '0141-YEAYS', '0621-CXBKL', '3315-TOTBP', '3936-QQFLL', '5318-YKDPV', '4628-WQCQQ', '2654-VBVPB', '9938-EKRGF', '3339-EAQNV', '5583-EJXRD', '1163-VIPRI', '6773-LQTVT', '9286-DOJGF', '4290-BSXUX', '3733-UOCWF', '0244-LGNFY', '7657-DYEPJ', '5799-JRCZO', '2266-FUBDZ', '7950-XWOVN', '0027-KWYKW', '1872-EBWSC', '6137-NICCO', '6284-KMNUF', '0496-AHOOK', '8992-VONJD', '4816-LXZYW', '1178-PZGAB', '8979-CAMGB', '5533-RJFTJ', '9600-NAXZN', '6616-AALSR', '1271-UODNO', '6080-TCMYC', '6689-VRRTK', '0604-THJFP', '2636-OHFMN', '6313-GIDIT', '1840-BIUOG', '4291-TPNFG', '2720-FVBQP', '5073-RZGBK', '6646-JPPHA', '7392-YYPYJ', '9025-ZRPVR', '3071-MVJCD', '3786-WOVKF', '8118-TJAFG', '1626-ERCMM', '1084-MNSMJ', '8818-DOPVL', '8133-ANHHJ', '7176-WIONM', '2509-TFPJU', '2228-BZDEE', '6350-XFYGW', '3258-SYSWS', '4983-CLMLV', '5542-DHSXL', '6437-UDQJM', '1047-RNXZV', '1248-DYXUB', '5301-GAUUY', '9436-ZBZCT', '8397-MVTAZ', '7881-INRLC', '5208-HFSBT', '4584-LBNMK', '8779-YIQQA', '8285-ABVLB', '8465-SBRXP', '8019-ENHXU', '0927-LCSMG', '6029-CSMJE', '3668-QPYBK', '4877-TSOFF', '0701-RFGFI', '2632-TACXW', '2799-TSLAG', '9993-LHIEB', '4680-KUTAJ', '8755-IWJHN', '3066-RRJIO', '6207-WIOLX', '5135-RDDQL', '4566-QVRRW', '5287-QWLKY', '4023-RTIQM', '8623-TMRBY', '9992-UJOEL', '3082-VQXNH', '3589-PPVKW', '1379-FRVEB', '0363-SVHYR', '2754-XBHTB', '5774-XZTQC', '1910-FMXJM', '6464-KEXXH', '3675-EQOZA', '6402-SSEJG', '3398-FSHON', '0406-BPDVR', '4238-HFHSN', '9084-OAYKL', '8393-JMVMB', '9732-EQMWY', '5176-LDKUH', '7013-PSXHK', '5780-INQIK', '7314-OXENN', '7473-ZBDSN', '0164-XAIRP', '4614-NUVZD', '9079-LWTFD', '2996-XAUVF', '1722-LDZJS', '0354-VXMJC', '5696-QURRL', '7410-YTJIK', '8909-BOLNL', '2798-NYLMZ', '9867-NNXLC', '2320-JRSDE', '6692-UDPJC', '0463-ZSDNT', '0795-LAFGP', '7721-DVEKZ', '9402-CXWPL', '6481-OGDOO', '1926-QUZNN', '9254-RBFON', '5338-YHWYT', '3537-HPKQT', '7054-ENNGU', '2839-RFSQE', '2266-SJNAT', '2446-BEGGB', '8564-LDKFL', '5204-QZXPU', '8920-NAVAY', '3911-RSNHI', '4177-JPDFU', '6478-HRRCZ', '8062-YBDOE', '6110-OHIHY', '5914-DVBWJ', '3873-WOSBC', '0876-WDUUZ', '6060-DRTNL', '8266-VBFQL', '4277-BWBML', '5687-DKDTV', '1849-RJYIG', '7319-VENRZ', '5016-IBERQ', '7841-TZDMQ', '4011-ARPHK', '8380-MQINP', '9631-RXVJM', '1022-RKXDR', '4686-UXDML', '0916-KNFAJ', '6288-LBEAR', '8035-BUYVG', '3489-VSFRD', '8224-IVVPA', '3315-IKYZQ', '9337-SRRNI', '1830-IPXVJ', '4678-DVQEO', '8668-KNZTI', '2320-TZRRH', '9968-FFVVH', '4012-ZTHBR', '6100-QQHEB', '6959-UWKHF', '2832-KJCRD', '1589-AGTLK', '4936-YPJNK', '5046-NUHWD', '3523-BRGUW', '6629-LADHQ', '2018-PZKMU', '0772-GYEQQ', '4713-ZBURT', '7080-TNUWP', '0031-PVLZI', '0907-HQNTS', '0727-BMPLR', '0337-CNPZE', '4318-RAJVY', '7024-OHCCK', '4361-FEBGN', '8873-GLDMH', '6296-DDOOR', '1077-HUUJM', '8628-MFKAX', '8774-GSBUN', '3068-OMWZA', '1751-NCDLI', '0623-EJQEG', '6609-MXJHJ', '9777-WJJPR', '4067-HLYQI', '8204-YJCLA', '9208-OLGAQ', '9089-UOWJG', '6599-CEBNN', '4568-KNYWR', '6481-LXPWL', '8573-CGOCC', '0942-KOWSM', '2208-NQBCT', '6635-MYYYZ', '2316-ESMLS', '1905-OEILC', '1298-PHBTI', '9699-UBQFS', '3981-QSVQI', '0607-MVMGC', '6112-KTHFQ', '1089-HDMKP', '8680-CGLTP', '4832-VRBMR', '2025-JKFWI', '1697-BCSHV', '7273-TEFQD', '1925-GMVBW', '8380-PEFPE', '9975-GPKZU', '9846-GKXAS', '7351-MHQVU', '6655-LHBYW', '6196-HBOBZ', '7636-PEPNS', '3945-GFWQL', '6421-SZVEM', '9154-QDGTH', '7606-BPHHN', '8571-ZCMCX', '3541-ZNUHK', '7136-RVDTZ', '0564-MUUQK', '4697-LUPSU', '5671-UUNXD', '2642-MAWLJ', '9367-WXLCH', '6333-YDVLT', '3597-MVHJT', '5647-URDKA', '0587-DMGBH', '1228-ZLNBX', '1095-WGNGG', '1561-BWHIN', '5176-OLSKT', '3571-DPYUH', '5197-LQXXH', '6485-QXWWE', '4376-KFVRS', '0419-YAAPX', '9779-DPNEJ', '5453-YBTWV', '7401-RUBNK', '2907-ILJBN', '5931-FLJJF', '9560-BBZXK', '2634-HCZGT', '9225-BZLNZ', '1304-NECVQ', '0117-LFRMW', '9912-OMZDS', '7623-TRNQN', '9360-OMDZZ', '7649-SIJJF', '2055-PDADH', '5949-XIKAE', '9342-VNIMQ', '0786-IVLAW', '9926-PJHDQ', '9933-QRGTX', '9809-IMGCQ', '0303-UNCIP', '2040-LDIWQ', '0115-TFERT', '7526-BEZQB', '5438-QMDDL', '3858-VOBET', '1575-KRZZE', '2573-GYRUU', '6537-QLGEX', '2272-JKMSI', '3023-GFLBR', '2809-ILCYT', '9375-MHRRS', '1555-DJEQW', '0993-OSGPT', '8849-GYOKR', '7568-PODML', '7980-MHFLQ', '6308-CQRBU', '9820-RMCQV', '8791-GFXLZ', '3441-CGZJH', '5378-IKEEG', '4043-MKDTV', '5027-XWQHA', '3011-WQKSZ', '1597-LHYNC', '1302-TPUBN', '9127-FHJBZ', '9281-CEDRU', '3569-JFODW', '2153-MREFK', '5074-FBGHB', '2774-LVQUS', '7670-ZBPOQ', '0536-BGFMZ', '0956-SYCWG', '7623-HKYRK', '0058-EVZWM', '2055-BFOCC', '9824-QCJPK', '7924-GJZFI', '3486-HOOGQ', '3546-GHEAE', '4304-XUMGI', '7407-SUJIZ', '8265-HKSOW', '3146-JTQHR', '9236-NDUCW', '1150-WFARN', '0422-OHQHQ', '6630-UJZMY', '7055-JCGNI', '7493-GVFIO', '0885-HMGPY', '3191-CSNMG', '1036-GUDCL', '2716-GFZOR', '8714-EUHJO', '6476-YHMGA', '5261-QSHQM', '6483-OATDN', '7361-YPXFS', '1559-DTODC', '6339-YPSAH', '7548-SEPYI', '0484-JPBRU', '5186-EJEGL', '5909-ECHUI', '5959-BELXA', '1709-EJDOX', '2868-MZAGQ', '8625-AZYZY', '6551-GNYDG', '4819-HJPIW', '2577-GVSIL', '4840-ORQXB', '6543-JXSOO', '9251-WNSOD', '6695-AMZUF', '7055-VKGDA', '9101-BWFSS', '8749-JMNKX', '1794-HBQTJ', '6621-YOBKI', '4090-KPJIP', '7636-OWBPG', '0135-NMXAP', '6711-VTNRE', '5465-BUBFA', '6519-CFDBX', '2878-RMWXY', '6366-XIVKZ', '6119-SPUDB', '1971-DTCZB', '6508-NJYRO', '0384-LPITE', '5619-PTMIK', '9631-XEYKE', '0064-SUDOG', '5228-EXCET', '7100-FQPRV', '0680-DFNNY', '9481-SFCQY', '1525-LNLOJ', '4657-FWVFY', '6598-RFFVI', '4007-NHVHI', '8587-XYZSF', '6250-CGGUN', '9227-LUNBG', '1110-KYLGQ', '7018-FPXHH', '5002-GCQFH', '4959-JOSRX', '5811-IWXYM', '7279-BUYWN', '0754-UKWQP', '6543-CPZMK', '6064-PUPMC', '6127-IYJOZ', '4913-EHYUI', '2207-OBZNX', '6745-JEFZB', '4973-MGTON', '3208-YPIOE', '0866-QLSIR', '5394-MEITZ', '3746-EUBYR', '5260-UMPWX', '1170-SASML', '9770-KXGQU', '0022-TCJCI', '8652-YHIYU', '4712-AUQZO', '6839-ITVZJ', '5181-OABFK', '2560-PPCHE', '8540-ZQGEA', '2832-SCUCO', '9730-DRTMJ', '7108-DGVUU', '4912-PIGUY', '8859-AXJZP', '2905-KFQUV', '9102-IAYHT', '8212-DJRCH', '2372-HWUHI', '9838-BFCQT', '9620-QJREV', '3807-XHCJH', '8097-VBQTZ', '0983-TATYJ', '3190-FZATL', '9068-VPWQQ', '3137-LUPIX', '0526-SXDJP', '6923-EFPNL', '5248-YGIJN', '2450-ZKEED', '9330-VOFSZ', '9405-GPBBG', '1153-GNOLC', '4939-KYYPY', '5701-SVCWR', '9554-DFKIC', '0067-DKWBL', '5642-MHDQT', '5565-FILXA', '6559-PDZLR', '1094-BKOSX', '4549-ZDQYY', '0654-PQKDW', '3565-UNOCC', '6362-QHAFM', '2558-BUOZZ', '1265-XTECC', '9140-CZQZZ', '5377-NDTOU', '4503-BDXBD', '6075-SLNIL', '4385-GZQXV', '4425-OWHWB', '8601-QACRS', '6549-NNDYT', '8707-HOEDG', '8496-EJAUI', '3521-HTQTV', '0142-GVYSN', '3768-NLUBH', '6907-CQGPN', '6377-KSLXC', '9904-EHEVJ', '9898-KZQDZ', '5375-XLDOF', '6980-IMXXE', '9589-ABEPT', '3096-JRDSO', '1042-HFUCW', '0375-HVGXO', '9259-PACGQ', '8945-GRKHX', '6861-OKBCE', '2626-URJFX', '2876-VBBBL', '5322-ZSMZY', '9079-YEXQJ', '9625-QNLUX', '2157-MXBJS', '1493-AMTIE', '0439-IFYUN', '8593-WHYHV', '7233-PAHHL', '6230-BSUXY', '6551-VLJMV', '6567-HOOPW', '7776-QGYJC', '6680-NENYN', '7480-QNVZJ', '9986-BONCE', '4827-LTQRJ', '6131-FOYAS', '9110-HSGTV', '2987-BJXIK', '0886-QGENL', '1841-YSJGV', '6849-WLEYG', '7740-KKCXF', '7205-BAIAD', '5055-MGMGF', '5370-IIVVL', '4851-BQDNX', '8044-BGWPI', '9979-RGMZT', '3120-FAZKD', '6891-JPYFF', '7503-EPSZW', '7639-SUPCW', '2668-TZSPS', '4737-AQCPU', '1427-VERSM', '3429-IFLEM', '3049-SOLAY', '3370-HXOPH', '6194-HBGQN', '3392-EHMNK', '3373-DIUUN', '4062-HBMOS', '5760-IFJOZ', '4140-WJAWW', '2911-WDXMV', '4504-YOULA', '7291-CDTMJ', '3703-KBKZP', '6171-ZTVYB', '0637-YLETY', '6651-AZVTJ', '6527-PZFPV', '3043-TYBNO', '6022-UGGSO', '3865-QBWSJ', '2592-SEIFQ', '1666-JXLKU', '8395-ETZKQ', '7854-EKTJL', '2242-MFOTG', '9746-MDMBK', '3540-RZJYU', '1816-FLZDK', '4616-EWBNJ', '4059-IIEBK', '5447-VYTKW', '7120-RFMVS', '5673-TIYIB', '2332-TODQS', '3428-MMGUB', '5871-DGTXZ', '2578-JQPHZ', '3115-CZMZD', '4074-SJFFA', '3973-SKMLN', '3714-XPXBW', '2011-TRQYE', '8996-ZROXE', '4130-MZLCC', '0277-ORXQS', '4636-JGAAI', '7075-BNDVQ', '9060-HJJRW', '7503-QQRVF', '2002-MZHWP', '1767-CJKBA', '1455-HFBXA', '1157-BQCUW', '6432-TWQLB', '6692-YQHXC', '1000-AJSLD', '4750-UKWJK', '4957-SREEC', '0913-XWSCN', '7538-GWHML', '6445-TNRXS', '1122-YJBCS', '4145-UQXUQ', '1530-ZTDOZ', '7101-HRBLJ', '0479-HMSWA', '5834-ASPWA', '0096-FCPUF', '6502-MJQAE', '7706-DZNKK', '6408-OTUBZ', '4061-UKJWL', '6917-YACBP', '2322-VCZHZ', '0707-HOVVN', '3391-JSQEW', '7660-HDPJV', '2144-ESWKO', '7976-CICYS', '9367-OIUXP', '5177-RVZNU', '6257-DTAYD', '4026-SKKHW', '3572-UOLYZ', '6797-UCJHZ', '6569-KTMDU', '8356-WUAOJ', '1934-MKPXS', '7833-PKIHD', '3645-DEYGF', '0475-RIJEP', '2027-DNKIV', '3520-FJGCV', '0308-GIQJT', '6967-PEJLL', '4009-ALQFH', '3144-KMTWZ', '5149-QYTTU', '6595-COKXZ', '7301-ABVAD', '9845-QOMAD', '4576-CSAJH', '5442-BXVND', '3404-JNXAX', '2364-UFROM', '1932-UEDCX', '3419-SNJJD', '7382-DFJTU', '4283-IVYCI', '6502-KUGLL', '4628-CTTLA', '4419-UJMUS', '2511-ALLCS', '4881-JVQOD', '2382-BCKQJ', '6223-DHJGV', '5655-JSMZM', '6087-MVHJH', '4990-ALDGW', '6507-ZJSUR', '6954-OOYZZ', '8922-LIEGH', '9444-JTXHZ', '0781-LKXBR', '1075-BGWOH', '7661-CPURM', '3996-ZNWYK', '5887-IKKYO', '0193-ESZXP', '4397-FRLTA', '0330-IVZHA', '5575-GNVDE', '2607-DHDAK', '9734-UYXQI', '5095-AESKG', '3810-PJUHR', '4385-ZKVNW', '4988-IQIGL', '9136-ALYBR', '7198-GLXTC', '1184-PJVDB', '8887-IPQNC', '5628-RKIFK', '6663-JOCQO', '1323-OOEPC', '8495-LJDFO', '0835-JKADZ', '5698-BQJOH', '3976-BWUCK', '2882-WDTBA', '6184-DYUOB', '0756-MPZRL', '1262-OPMFY', '6860-YRJZP', '1196-AMORA', '8191-XWSZG', '6786-OBWQR', '9907-SWKKF', '0895-DQHEW', '1496-GGSUK', '0187-QSXOE', '6115-ZTBFQ', '8309-PPCED', '6509-TSGWN', '1657-DYMBM', '0696-UKTOX', '9469-WEJBT', '9199-PWQVC', '9600-UDOPK', '7609-YBPXG', '4815-GBTCD', '5144-PQCDZ', '7605-SNLQG', '9398-MMQTO', '7634-WSWDB', '0506-LVNGN', '5103-MHMHY', '6994-ORCWG', '9637-CDTKZ', '9462-MJUAW', '1550-LOAHA', '1016-DJTSV', '9764-REAFF', '4092-OFQZS', '0365-GXEZS', '7639-OPLNG', '1455-ESIQH', '0374-AACSZ', '2081-KJSQF', '8229-BUJHX', '4760-XOHVN', '8357-EQXFO', '3027-YNWZU', '7501-IWUNG', '9392-XBGTD', '2360-RDGRO', '9209-NWPGU', '3669-OYSJI', '2521-NPUZR', '0224-HJAPT', '5396-IZEPB', '8079-XRJRS', '7774-OJSXI', '6211-WHMYA', '1024-KPRBB', '4710-FDUIZ', '9924-JPRMC', '3716-LRGXK', '1707-HABPF', '4633-MKHYU', '4077-CROMM', '1708-PBBOA', '4672-FOTSD', '1565-RHDJD', '5918-VUKWP', '1670-SVOWZ', '0872-NXJYS', '7683-CBDKJ', '2812-ENYMO', '7114-AEOZE', '8676-TRMJS', '5318-IXUZF', '3694-DELSO', '4422-QVIJA', '5937-EORGB', '5322-TEUJK', '7398-LXGYX', '0916-QOFDP', '0214-JHPFW', '6682-QJDGB', '7799-LGRDP', '7181-OQCUT', '7113-HIPFI', '2754-SDJRD', '1784-EZDKJ', '4521-YEEHE', '4815-YOSUK', '8626-XHBIE', '3873-NFTGI', '3727-OVPRY', '9470-RTWDV', '3312-UUMZW', '8207-VVMYB', '4079-WWQQQ', '6972-SNKKW', '0280-XJGEX', '8049-WJCLQ', '0093-EXYQL', '0722-SVSFK', '3021-VLNRJ', '7452-FOLON', '3571-RFHAR', '2386-LAHRK', '9174-IHETN', '7346-MEDWM', '7520-HQWJU', '8150-QUDFX', '2239-JALAW', '4176-RELJR', '3677-TNKIO', '2101-RANCD', '0516-OOHAR', '1936-CZAKF', '3804-RVTGV', '6693-DJWTY', '0270-THENM', '7228-PAQPD', '3049-NDXFL', '3982-XWFZQ', '3258-SANFR', '5371-VYLSX', '6461-SZMCV', '6408-WHTEF', '7941-RCJOW', '5676-CFLYY', '0962-CQPWQ', '5044-LRQAQ', '4760-THGOT', '0237-YFUTL', '3714-JTVOV', '7966-YOTQW', '9831-BPFRI', '5628-FCGYG', '5240-IJOQT', '5536-SLHPM', '4195-SMMNX', '5404-GGUKR', '1174-FGIFN', '9821-POOTN', '0431-APWVY', '2842-JTCCU', '0929-PECLO', '0867-LDTTC', '2181-TIDSV', '1468-DEFNC', '0071-NDAFP', '1750-CSKKM', '2533-QVMSK', '4198-VFOEA', '5206-HPJKM', '3763-GCZHZ', '8966-KZXXA', '5366-OBVMR', '8799-OXZMD', '2877-VDUER', '2123-AGEEN', '9702-AIUJO', '6185-TASNN', '2302-OUZXB', '0310-SUCIN', '8111-BKVDS', '5201-FRKKS', '9959-WOFKT', '2223-KAGMX', '3891-NLXJB', '5150-LJNSR', '1810-BOHSY', '1400-MMYXY', '2462-XIIJB', '9481-IEBZY', '1571-SAVHK', '7978-DKUQH', '4512-ZUIYL', '7968-QUXNS', '2154-KVJFF', '7208-PSIHR', '5336-UFNZP', '7730-CLDSV', '4815-TUMEQ', '3853-LYGAM', '7779-LGOVN', '5542-NKVRU', '1725-MIMXW', '7398-HPYZQ', '8152-VETUR', '7718-UPSKJ', '9309-BZGNT', '7722-VJRQD', '0666-UXTJO', '4415-IJZTP', '2275-RBYQS', '4644-PIZRT', '8268-YDIXR', '1779-PWPMG', '1135-LMECX', '2718-YSKCS', '4558-CGYCZ', '3824-RHKVR', '4106-HADHQ', '6614-FHDBO', '5399-ZIMKF', '2480-EJWYP', '0946-FKYTX', '6733-LRIZX', '6723-CEGQI', '7175-NTIXE', '1930-WNXSB', '2245-ADZFJ', '8630-QSGXK', '5886-VLQVU', '9057-SIHCH', '1334-FJSVR', '2933-FILNV', '7691-XVTZH', '4159-NAAIX', '9906-NHHVC', '0851-DFJKB', '9206-GVPEQ', '1574-DYCWE', '6331-LWDTQ', '7993-PYKOF', '7654-YWJUF', '8063-RJYNF', '5934-RMPOV', '5022-KVDQT', '1057-FOGLZ', '2207-NHRJK', '5233-AOZUF', '7480-SPLEF', '3125-RAHBV', '7479-NITWS', '7860-UXCRM', '3606-TWKGI', '8749-CLJXC', '0114-RSRRW', '2369-UAPKZ', '8782-NUUOL', '3948-FVVRP', '9388-ZEYVT', '9442-JTWDL', '8566-YPRGL', '2988-QRAJY', '0820-FNRNX', '6617-WLBQC', '0032-PGELS', '9251-AWQGT', '5458-CQJTA', '8752-STIVR', '7508-SMHXL', '1821-BUCWY', '3498-LZGQZ', '3205-MXZRA', '2725-TTRIQ', '1757-TCATG', '5149-TGWDZ', '3810-DVDQQ', '2270-CHBFN', '5032-USPKF', '6284-AHOOQ', '4188-PCPIG', '7402-PWYJJ', '4211-MMAZN', '1166-PQLGG', '1568-LJSZU', '4671-LXRDQ', '2346-CZYIL', '4597-ELFTS', '9752-ZNQUT', '6479-OAUSD', '0771-CHWSK', '3389-YGYAI', '6625-IUTTT', '7567-ECMCM', '2428-ZMCTB', '1760-CAZHT', '8741-LQOBK', '2079-FBMZK', '5275-PMFUT', '7760-OYPDY', '8859-YSTWS', '9063-ZGTUY', '5599-HVLTW', '7971-HLVXI', '6145-NNPNO', '1907-UBQFC', '8751-EDEKA', '9625-QSTYE', '8086-OVPWV', '7028-DVOIQ', '8259-DZLIZ', '9619-GSATL', '1965-DDBWU', '6166-ILMNY', '5482-NUPNA', '6266-QHOJZ', '9593-CVZKR', '6855-VLGOS', '9350-ZXYJC', '6823-SIDFQ', '1704-NRWYE', '6976-BWGLQ', '0440-EKDCF', '2378-HTWFW', '9818-XQCUV', '4032-RMHCI', '2619-WFQWU', '0667-NSRGI', '3766-EJLFL', '9534-NSXEM', '5934-TSSAU', '9957-YODKZ', '7876-BEUTG', '2434-EEVDB', '9618-LFJRU', '6479-VDGRK', '8627-EHGIP', '5364-XYIRR', '2869-ADAWR', '3620-EHIMZ', '2542-HYGIQ', '4859-ZSRDZ', '4183-WCSEP', '3045-XETSH', '2834-SPCJV', '1855-AGAWH', '7399-QHBJS', '4060-LDNLU', '9848-JQJTX', '0017-IUDMW', '8896-RAZCR', '4676-MQUEA', '1545-ACTAS', '6368-NWMCE', '1820-DJFPH', '9386-LDCZR', '4703-MQYKT', '6614-YOLAC', '4559-UWIHT', '0003-MKNFE', '5386-THSLQ', '0795-XCCTE', '4143-HHPMK', '4320-QMLLA', '5993-JSUWV', '7895-VONWT', '1934-SJVJK', '4361-JEIVL', '4079-ULGFR', '8901-UPRHR', '8486-AYEQH', '5150-ITWWB', '7753-USQYQ', '8809-RIHDD', '5071-FBJFS', '4324-BZCKL', '6158-HDPXZ', '1730-VFMWO', '1809-DMJHQ', '4430-UZIPO', '8780-YRMTT', '6164-HXUGH', '9833-TGFHX', '0520-FDVVT', '8945-MUQUF', '3778-FOAQW', '1862-QRWPE', '3059-NGMXB', '4163-KIUHY', '0376-YMCJC', '4597-NUCQV', '4163-HFTUK', '7820-ZYGNY', '2135-RXIHG', '2667-WYLWJ', '8417-GSODA', '1352-HNSAW', '6990-YNRIO', '5923-GXUOC', '7233-IOQNP', '6265-SXWBU', '7295-JOMMD', '6685-XSHHU', '7297-DVYGA', '0378-TOVMS', '6048-UWKAL', '9867-JCZSP', '7576-JMYWV', '2027-CWDNU', '0485-ZBSLN', '0774-IFUVM', '0620-XEFWH', '6082-OQFBA', '6776-TLWOI', '8232-CTLKO', '7931-PXHFC', '9548-ZMVTX', '8149-RSOUN', '3530-VWVGU', '7267-FRMJW', '0787-LHDYT', '6467-CHFZW', '8033-ATFAS', '2824-MYYBN', '1173-XZPYF', '3097-NNSPB', '4945-RVMTE', '0744-GKNGE', '1106-HRLKZ', '9086-YJYXS', '3685-YLCMQ', '3334-CTHOL', '2858-MOFSQ', '5950-AAAGJ', '8107-KNCIM', '7209-JCUDS', '0743-HNPFG', '2796-NNUFI', '2038-YSEZE', '5564-NEMQO', '1599-MMYRQ', '9076-AXYIK', '9932-WBWIK', '8167-GJLRN', '9722-UJOJR', '8180-AKMJV', '7817-BOQPW', '7576-OYWBN', '4310-KEDTB', '4826-TZEVA', '8922-NPKBJ', '1834-WULEG', '7017-VFHAY', '0674-EYYZV', '2967-MXRAV', '3966-HRMZA', '6169-PPETC', '8329-UTMVM', '2740-TVLFN', '6128-DAFVY', '3178-CIFOT', '1498-NHTLT', '2108-YKQTY', '4429-WYGFR', '4487-ZYJZK', '4797-AXPXK', '5995-LFTLE', '1194-BHJYC', '6180-YBIQI', '2659-VXMWZ', '8015-IHCGW', '5666-CYCYZ', '3934-HXCFZ', '7595-EHCDL', '2985-FMWYF', '9710-ZUSHQ', '3338-CVVEH', '5453-AXEPF', '9443-JUBUO', '1304-BCCFO', '5296-PSYVW', '4439-YRNVD', '2418-TPEUN', '1494-EJZDW', '4989-LIXVT', '8069-RHUXK', '3308-JSGML', '1360-JYXKQ', '2267-FPIMA', '4395-PZMSN', '5312-UXESG', '3351-NQLDI', '2074-GKOWZ', '0508-SQWPL', '4919-MOAVT', '5593-SUAOO', '8065-QBYTO', '7596-ZYWBB', '7269-JISCY', '6726-WEXXK', '2077-DDHJK', '3148-BLQJT', '4872-JCVCA', '9027-YFHQJ', '2126-GSEGL', '3307-TLCUD', '3920-HIHMQ', '5485-ITNPC', '1843-TLSGD', '7560-QJAVJ', '1852-XEMDW', '3643-AHCFP', '4109-CYRBD', '9961-JBNMK', '4277-PVRAN', '8735-IJJEG', '0208-BPQEJ', '8010-EZLOU', '9571-EDEBV', '4690-PKDQG', '2977-CEBSX', '9814-AOUDH', '2676-OXPPQ', '3398-GCPMU', '6575-SUVOI', '2900-PHPLN', '5921-NGYRH', '7270-BDIOA', '2474-LCNUE', '7037-MTYVW', '3349-ANQNH', '6353-BRMMA', '3585-ISXZP', '4501-EQDRN', '8950-MTZNV', '7036-TYDEC', '4712-UYOOI', '4104-PVRPS', '0848-ZGQIJ', '8106-GWQOK', '1197-BVMVG', '4942-VZZOM', '2959-FENLU', '3170-NMYVV', '0897-FEGMU', '6305-YLBMM', '0455-ENTCR', '3144-AUDBS', '1776-SPBWV', '5928-QLDHB', '2621-UDNLU', '2696-RZVZW', '9497-QCMMS', '6647-ZEDXT', '2560-WBWXF', '9851-KIELU', '8348-HFYIV', '7339-POGZN', '1043-UXOVO', '4484-CGXFK', '7402-EYFXX', '8745-PVESG', '5970-GHJAW', '6131-IUNXN', '7916-VCCPB', '9670-BPNXF', '0923-PNFUB', '2282-YGNOR', '0643-OKLRP', '4316-XCSLJ', '8203-XJZRC', '1268-ASBGA', '3167-SNQPL', '0289-IVARM', '7056-IMHCC', '5502-RLUYV', '7502-BNYGS', '8017-UVSZU', '6319-IEJWJ', '0870-VEMYL', '3714-NTNFO', '0921-OHLVP', '6341-AEVKX', '5578-NKCXI', '2371-JUNGC', '3199-XGZCY', '0795-GMVQO', '6582-OIVSP', '1930-QPBVZ', '8224-KDLKN', '2212-LYASK', '3410-YOQBQ', '7572-KPVKK', '3841-CONLJ', '9061-TIHDA', '7609-NRNCA', '2075-PUEPR', '8659-HDIYE', '2091-GPPIQ', '7426-WEIJX', '2851-MMUTZ', '8807-OPMBM', '4192-GORJT', '2391-IPLOP', '8705-DWKTI', '9499-XPZXM', '6919-ELBGL', '7594-LZNWR', '9572-MTILT', '7481-ATQQS', '7677-SJJJK', '3082-WQRVY', '2309-OSFEU', '7129-ACFOG', '6633-MPWBS', '5133-POWUA', '3703-TTEPD', '6698-OXETB', '5140-FOMCQ', '3486-KHMLI', '0397-ZXWQF', '8325-QRPZR', '4789-KWMXN', '7029-IJEJK', '7868-BGSZA', '9572-WUKSB', '6618-RYATB', '1156-ZFYDO', '6008-NAIXK', '9948-YPTDG', '0730-KOAVE', '0181-RITDD', '5879-HMFFH', '4080-OGPJL', '6732-FZUGP', '6253-GNHWH', '8679-LZBMD', '6650-BWFRT', '8622-ZLFKO', '7168-HDQHG', '6133-OZILE', '7581-EBBOU', '0673-IGUQO', '2746-DIJLO', '5727-MYATE', '0201-MIBOL', '2865-TCHJW', '2323-ARSVR', '8750-QWZAJ', '7083-MIOPC', '3682-YEUWS', '7798-JVXYM', '2817-LVCPP', '3556-BVQGL', '6671-NGWON', '6686-YPGHK', '3158-MOERK', '0440-UEDAI', '6078-VESFR', '3612-YUNGG', '0258-NOKBL', '3572-UUHRS', '4786-UKSNZ', '4377-VDHYI', '6050-IJRHS', '2883-ILGWO', '5493-SDRDQ', '6769-DCQLI', '0106-GHRQR', '5668-MEISB', '6298-QDFNH', '4751-ERMAN', '2419-FSORS', '7409-JURKQ', '4881-GQJTW', '5035-BVCXS', '6215-NQCPY', '4480-MBMLB', '1763-WQFUK', '9227-YBAXE', '5550-VFRLC', '2446-PLQVO', '7758-UJWYS', '3707-GNWHM', '5883-GTGVD', '7285-KLOTR', '8969-PRHFK', '8903-WMRNW', '3892-NXAZG', '5542-TBBWB', '9135-MGVPY', '6345-HOVES', '7711-GQBZC', '5442-BHQNG', '5216-WASFJ', '6383-ZTSIW', '0432-CAJZV', '8915-NNTRC', '0238-WHBIQ', '3890-RTCMS', '1891-QRQSA', '8755-OGKNA', '0634-SZPQA', '4735-BJKOU', '9039-RBEEE', '4282-ACRXS', '3413-DHLPB', '0678-RLHVP', '2155-AMQRX', '6656-JWRQX', '3886-CERTZ', '2236-HILPA', '1564-HJUVY', '7472-EQOAV', '5561-NWEVX', '7717-BICXI', '8873-TMKGR', '0277-BKSQP', '2581-VKIRT', '1716-LSAMB', '6195-MELTI', '1723-HKXJQ', '9094-AZPHK', '9373-WSLOY', '3617-XLSGQ', '1099-BTKWT', '3797-FKOGQ', '7488-MXJIV', '5108-ADXWO', '5939-XAIXZ', '6689-TCZHQ', '5183-SNMJQ', '4622-YNKIJ', '2753-JMMCV', '9339-FIIJL', '2172-EJXVF', '7459-RRWQZ', '6614-YWYSC', '7239-HZZCX', '9137-UIYPG', '5144-TVGLP', '8313-NDOIA', '3422-WJOYD', '6620-JDYNW', '1853-UDXBW', '9540-JYROE', '8651-ENBZX', '5393-HJZSM', '2087-QAREY', '7521-AFHAB', '6258-NGCNG', '1383-EZRWL', '0019-GFNTW', '2085-BOJKI', '4742-DRORA', '2208-UGTGR', '5012-YSPJJ', '4018-PPNDW', '0611-DFXKO', '2189-WWOEW', '0320-DWVTU', '1324-NLTJE', '7601-DHFWZ', '0373-AIVNJ', '2657-ALMWY', '5433-KYGHE', '8999-YPYBV', '1403-LKLIK', '2868-SNELZ', '3750-CKVKH', '1273-MTETI', '5442-PPTJY', '7764-BDPEE', '8041-TMEID', '8885-QSQBX', '2226-ICFDO', '1624-NALOJ', '4702-HDRKD', '6108-OQZDQ', '9103-TCIHJ', '6141-OOXUQ', '7159-NOKYQ', '6586-PSJOX', '5693-PIPCS', '1282-IHQAC', '5843-TTHGI', '0895-LNKRC', '9102-OXKFY', '7245-JMTTQ', '1212-GLHMD', '0133-BMFZO', '9305-CDSKC', '3657-COGMW', '4423-JWZJN', '3927-NLNRY', '0334-ZFJSR', '9172-JITSM', '5346-BZCHP', '0716-BQNDX', '8619-IJNDK', '5146-YYFRZ', '3018-TFTSU', '3507-GASNP', '5709-LVOEQ', '6969-MVBAI', '3308-DGHKL', '7064-FRRSW', '2267-WTPYD', '2920-RNCEZ', '3841-NFECX', '5201-CBWYG', '4003-FUSHP', '8329-GWVPJ', '2955-PSXOE', '7852-LECYP', '8580-QVLOC', '8727-XDPUD', '0584-BJQGZ', '9053-JZFKV', '6424-ELEYH', '3351-NGXYI', '9025-AOMKI', '9249-FXSCK', '6242-FEGFD', '4522-XRWWI', '0734-OXWBT', '8087-LGYHQ', '8824-RWFXJ', '6005-OBZPH', '1047-NNCBF', '4006-HKYHO', '7669-LCRSD', '0533-UCAAU', '1228-FZFRV', '1485-YDHMM', '4338-EYCER', '9777-IQHWP', '0409-WTMPL', '2200-DSAAL', '9770-LXDBK', '2897-DOVND', '5760-FXFVO', '6023-YEBUP', '5117-IFGPS', '4307-KTUMW', '4801-KFYKL', '7878-RTCZG', '5198-EFNBM', '2692-AQCPF', '7317-GGVPB', '8908-NMQTX', '8773-HHUOZ', '4933-IKULF', '5315-CKEQK', '4369-HTUIF', '2040-OBMLJ', '5016-LIPDW', '0264-CNITK', '8681-ICONS', '2926-JEJJC', '1447-GIQMR', '7883-ROJOC', '9000-PLFUZ', '7721-JXEAW', '0784-GTUUK', '6999-CHVCF', '2043-WVTQJ', '2404-JIBFC', '2012-NWRPA', '1539-LNKHM', '9323-HGFWY', '0687-ZVTHB', '0297-RBCSG', '7908-QCBCA', '3296-SILRA', '4083-BFNYK', '7526-IVLYU', '1444-VVSGW', '3545-CNWRG', '7156-MXBJE', '9661-JALZV', '7602-DBTOU', '5998-VVEJY', '1818-ESQMW', '4184-VODJZ', '8220-OCUFY', '6326-MTTXK', '2037-XJFUP', '6147-CBCRA', '3787-TRIAL', '3606-SBKRY', '3243-ZHOHY', '1010-DIAUQ', '5364-EVNIB', '0945-TSONX', '2330-PQGDQ', '5402-HTOTQ', '3961-SXAXY', '3266-FTKHB', '3756-VNWDH', '7901-IIDQV', '8224-UAXBZ', '2860-RANUS', '6360-SVNWV', '6484-LATFU', '3865-ZYKAD', '9415-TPKRV', '3186-AJIEK', '1389-CXMLU', '2034-CGRHZ', '4039-PIMHX', '7394-FKDNK', '2169-RRLFW', '7851-FLGGQ', '0969-RGKCU', '9638-JIQYA', '9830-ECLEN', '7673-LPRNY', '0810-BDHAW', '7389-KBFIT', '1173-NOEYG', '5898-IGSLP', '9297-EONCV', '6437-UKHMV', '2160-GPFXD', '4274-DRSQT', '8695-ARGXZ', '8178-EYZUO', '6907-FLBER', '5039-LZRQT', '3399-BMLVW', '9610-WCESF', '7734-DBOAI', '5808-TOTXO', '4079-VTGLK', '5156-UMKOW', '3213-VVOLG', '2650-GYRYL', '2195-VVRJF', '7207-RMRDB', '7690-KPNCU', '2176-OSJUV', '0887-WBJVH', '8775-CEBBJ', '5701-ZIKJE', '3179-GBRWV', '0668-OGMHD', '0018-NYROU', '1618-CFHME', '6339-RZCBJ', '1087-GRUYI', '0420-BWTPW', '6696-YDAYZ', '3030-YDNRM', '0082-OQIQY', '5569-IDSEY', '4692-NNQRU', '5649-ANRML', '6956-SMUCM', '7284-ZZLOH', '4312-GVYNH', '3156-QLHBO', '8454-AATJP', '8194-PEEBY', '7617-EYGLW', '3878-AVSOQ', '4002-BQWPQ', '2599-CIPQE', '6369-MCAKO', '2995-YWTCD', '4895-TMWIR', '4123-DVHPH', '4581-SSPWD', '4567-AKPIA', '3486-NPGST', '2262-SLNVK', '6331-EWIEB', '5821-MMEIL', '1732-FEKLD', '0524-IAVZO', '6380-ARCEH', '3914-FDRHP', '5940-AHUHD', '9565-DJPIB', '5256-SKJGO', '2878-DHMIN', '2091-RFFBA', '4644-OBGFZ', '8711-LOBKY', '4378-BZYFP', '2931-SVLTV', '7748-UMTRK', '3889-VWBID', '2703-AMTUL', '1656-DRSMG', '6537-OTKMY', '5067-XJQFU', '5543-QDCRY', '4374-YMUSQ', '9138-EFSMO', '0902-RFHOF', '9359-UGBTK', '6900-PXRMS', '5213-TWWJU', '3884-HCSWG', '5696-CEIQJ', '8158-WPEZG', '8623-ULFNQ', '1907-YLNYW', '8063-GBATB', '9178-JHUVJ', '3195-TQDZX', '3777-XROBG', '0829-DDVLK', '5020-ZSTTY', '0853-NWIFK', '2719-BDAQO', '8562-GHPPI', '1137-DGOWI', '8048-DSDFQ', '1121-QSIVB', '2452-MRMZF', '1567-DSCIC', '0295-QVKPB', '8313-AFGBW', '9754-CLVZW', '4951-UKAAQ', '1564-NTYXF', '6598-KELSS', '2640-LYMOV', '2205-YMZZJ', '9513-DXHDA', '1205-WNWPJ', '0702-PGIBZ', '7989-VCQOH', '3923-CSIHK', '2522-AHJXR', '5419-CONWX', '1563-IWQEX', '8305-VHZBZ', '2402-TAIRZ', '3462-BJQQA', '2080-CAZNM', '6728-WYQBC', '9531-NSBMR', '5202-IVJNU', '7244-QWYHG', '4186-ZBUEW', '0118-JPNOY', '4609-KNNWG', '1027-LKKQQ', '7969-FFOWG', '0196-JTUQI', '1982-FEBTD', '3870-SPZSI', '9415-ZNBSX', '6874-SGLHU', '3803-KMQFW', '7409-KIUTL', '2984-AFWNC', '0979-MOZQI', '8559-WNQZS', '5847-MXBEO', '7766-CLTIC', '2946-KIQSP', '1447-PJGGA', '7410-KTVFV', '5376-PCKNB', '2612-RRIDN', '0013-MHZWF', '8457-XIGKN', '2202-CUYXZ', '4608-LCIMN', '4981-FLTMF', '8963-MQVYN', '1845-ZLLIG', '8309-IEYJD', '1899-VXWXM', '7515-LODFU', '1482-OXZSY', '0203-HHYIJ', '3130-ICDUP', '3521-SYVOR', '1977-STDKI', '0871-URUWO', '6386-SZZKH', '6950-TWMYB', '8938-UMKPI', '7665-NKLAV', '4685-TFLLS', '0531-ZZJWQ', '0536-ACXIP', '8631-NBHFZ', '4248-HCETZ', '8464-EETCQ', '1131-SUEKT', '6143-JQKEA', '6034-YMTOB', '0014-BMAQU', '4086-YQSNZ', '1871-MOWRM', '6985-HAYWX', '1480-BKXGA', '3701-SFMUH', '9603-OAIHC', '2672-DZUOY', '4785-QRJHC', '6840-RESVB', '6000-UKLWI', '6038-GCYEC', '0621-TSSMU', '5846-ABOBJ', '5624-BQSSA', '8160-HOWOX', '0212-ISBBF', '7047-YXDMZ', '6680-WKXRZ', '4304-TSPVK', '2371-JQHZZ', '3506-LCJDC', '8865-TNMNX', '0697-ZMSWS', '4950-BDEUX', '2904-GGUAZ', '5294-IMHHT', '8727-JQFHV', '4716-HHKQH', '1172-VIYBP', '1548-FEHVL', '2925-VDZHY', '3166-PNEOF', '6584-VQMYT', '8809-XKHMD', '3088-FVYWK', '9681-KYGYB', '9242-TKFSV', '9317-WZPGV', '0388-EOPEX', '3705-PSNGL', '1407-DIGZV', '9786-YWNHU', '1452-VOQCH', '7315-WYOAW', '0336-KXKFK', '2348-KCJLT', '3764-MNMOI', '6769-DYBQN', '7570-WELNY', '5232-NXPAY', '0196-VULGZ', '3795-CAWEX', '8735-DCXNF', '3308-MHOOC', '7251-XFOIL', '4947-DSMXK', '1229-RCALF', '1337-BOZWO', '9780-FKVVF', '3055-OYMSE', '6365-MTGZX', '5651-CPDND', '9776-OJUZI', '3956-MGXOG', '3932-IJWDZ', '7605-BDWDC', '9822-BIIGN', '2351-RRBUE', '2516-XSJKX', '5553-AOINX', '4335-UPJSI', '8417-FMLZI', '4077-HWUYD', '3694-GLTJM', '7191-ADRGF', '7124-UGSUR', '1265-HVPZB', '6854-EXGSF', '6713-OKOMC', '0206-OYVOC', '5397-NSKQG', '6603-QWSPR', '4707-YNOQA', '2100-BDNSN', '9750-BOOHV', '8361-LBRDI', '3009-JWMPU', '9894-QMIMJ', '4871-JTKJF', '6870-ZWMNX', '0596-BQCEQ', '0404-SWRVG', '5266-PFRQK', '5973-EJGDP', '9928-BZVLZ', '1171-TYKUR', '9412-GHEEC', '2853-CWQFQ', '1814-WFGVS', '7306-YDSOI', '4355-HBJHH', '1471-GIQKQ', '2233-TXSIU', '0836-SEYLU', '2587-EKXTS', '1641-RQDAY', '9150-HEPMB', '9547-ITEFG', '1465-LNTLJ', '3669-WHAFY', '9646-NMHXE', '4625-EWPTF', '8384-FZBJK', '5286-YHCVC', '3211-ILJTT', '8347-GDTMP', '7586-ZATGZ', '6469-QJKZW', '2073-QBVBI', '9250-WYPLL', '9185-TQCVP', '1342-JPNKI', '7247-XOZPB', '1741-WTPON', '6579-JPICP', '6198-ZFIOJ', '5902-WBLSE', '1154-HYWWO', '9967-ATRFS', '8200-LGKSR', '4508-OEBEY', '3278-FSIXX', '6728-CZFEI', '5110-CHOPY', '8756-RDDLT', '2908-WGAXL', '5423-BHIXO', '6743-HHQPF', '3758-CKOQL', '7905-TVXTA', '1125-SNVCK', '4822-YCXMX', '4673-KKSLS', '8329-IBCTI', '7242-EDTYC', '0302-JOIVN', '9972-NKTFD', '2927-QRRQV', '8166-ZZTFS', '4199-QHJNM', '9029-FEGVJ', '5766-XQXMQ', '8327-LZKAS', '8242-JSVBO', '2606-RMDHZ', '1265-ZFOSD', '8687-BAFGU', '2229-DPMBI', '3320-VEOYC', '9290-SHCMB', '8020-BWHYL', '1963-VAUKV', '5707-ZMDJP', '1371-DWPAZ', '7446-SFAOA', '2700-LUEVA', '2058-DCJBE', '6439-LAJXL', '0975-VOOVL', '0310-MVLET', '3223-DWFIO', '1032-MAELW', '9695-IDRZR', '9048-JVYVF', '6633-SYEUS', '1041-RXHRA', '7181-BQYBV', '3793-MMFUH', '6890-PFRQX', '4690-LLKUA', '1984-GPTEH', '8818-XYFCQ', '8974-OVACP', '4897-QSUYC', '9921-EZKBY', '3946-MHCZW', '2592-HODOV', '1599-EAHXY', '1685-VAYJF', '4611-ANLQC', '5803-NQJZO', '3452-FLHYD', '6933-FHBZC', '6980-CDGFC', '5136-GFPMB', '7033-CLAMM', '4676-WLUHT', '1218-VKFPE', '1448-CYWKC', '2038-LLMLM', '5827-MWCZK', '1679-JRFBR', '9189-JWSHV', '0378-NHQXU', '1114-CENIM', '2325-WINES', '5468-BPMMO', '1981-INRFU', '6351-SCJKT', '9576-SYUHJ', '8242-PDSGJ', '2791-SFVEW', '5334-AFQJB', '3859-CVCET', '3796-ENZGF', '6425-JWTDV', '7893-IXHRQ', '8894-JVDCV', '3988-RQIXO', '8984-HPEMB', '8591-NXRCV', '6734-JDTTV', '2792-VPPET', '3063-QFSZL', '3452-ABWRL', '0516-QREYC', '4195-NZGTA', '4580-TMHJU', '3454-JFUBC', '3985-HOYPM', '9570-KYEUA', '9065-ZCPQX', '1852-QSWCD', '4890-VMUAV', '6766-HFKLA', '0362-RAOQO', '0269-XFESX', '2697-NQBPF', '4806-DXQCE', '6407-GSJNL', '1004-NOZNR', '0690-SRQID', '8519-IMDHU', '3585-YNADK', '3680-CTHUH', '4468-YDOVK', '2219-MVUSO', '0512-FLFDW', '4360-PNRQB', '9108-EQPNQ', '2672-TGEFF', '6877-LGWXO', '3740-RLMVT', '3938-YFPXD', '2307-FYNNL', '9475-NNDGC', '1099-GODLO', '9512-UIBFX', '1167-OYZJF', '8993-IZEUX', '7228-OMTPN', '7781-EWARA', '4849-PYRLQ', '5448-VWNAM', '1845-CSBRZ', '7048-GXDAY', '4139-DETXS', '4124-MMETB', '1771-OADNZ', '1814-DKOLC', '2616-UUTFK', '0319-QZTCO', '6847-KJLTS', '3034-ZBEQN', '6161-ERDGD', '3030-ZKIWL', '0572-ZJKLT', '2135-DQWAQ', '1230-QAJDW', '7850-VWJUU', '6504-VBLFL', '7110-BDTWG', '3001-UNBTL', '2576-HXMPA', '7401-JIXNM', '6582-PLFUU', '2232-DMLXU', '4749-VFKVB', '1660-HSOOQ', '6542-LWGXJ', '2898-MRKPI', '2959-MJHIC', '9496-IVVRP', '2205-LPVGL', '3671-SHRSP', '9578-FOMUK', '8144-DGHXP', '7890-VYYWG', '5277-ZLOOR', '7527-QNRUS', '9046-DQMTP', '0956-ACVZC', '4451-RWASJ', '2181-UAESM', '8634-CILSZ', '4013-TLDHQ', '2541-YGPKE', '5656-JAMLX', '9003-CPATH', '3522-CDKHF', '0410-IPFTY', '5652-MSDEY', '5916-QEWPT', '5606-AMZBO', '8919-FYFQZ', '3301-LSLWQ', '5293-WXJAK', '5076-YVXCM', '6637-KYRCV', '0635-WKOLD', '6728-DKUCO', '8782-LKFPK', '2801-NISEI', '6400-BWQKW', '3780-YVMFA', '7639-LIAYI', '7047-FWEYA', '1867-TJHTS', '1163-ONYEY', '6176-YJWAS', '3374-LXDEV', '4568-TTZRT', '0936-NQLJU', '8067-NIOYM', '2831-EBWRN', '7718-RXDGG', '1261-FWTTE', '2725-KXXWT', '7940-UQQUG', '8946-BFWSG', '7074-IEVOJ', '9576-ANLXO', '3006-XIMLN', '9415-DPEWS', '9837-BMCLM', '1092-WPIVQ', '4254-QPEDE', '9367-TCUYN', '5186-PEIZU', '1247-QBVSH', '2466-NEJOJ', '9701-CDXHR', '8584-KMVXD', '2799-ARNLO', '9819-FBNSV', '4742-TXUEX', '0420-TXVSG', '4908-XAXAY', '8780-RSYYU', '6481-ESCNL', '2230-XTUWL', '9903-LYSAB', '9114-VEPUF', '6229-UOLQL', '9163-GHAYE', '5226-NOZFC', '0056-EPFBG', '3261-CQXOL', '6217-KDYWC', '9648-BCHKM', '1309-XGFSN', '1642-HMARX', '3345-JHUEO', '6574-MCOEH', '7558-IMLMT', '1194-HVAIF', '8592-PLTMQ', '3663-MITLP', '5376-DEQCP', '8949-JTMAY', '2263-SFSQZ', '1104-TNLZA', '3001-CBHLQ', '6203-HBZPA', '8952-WCVCD', '3995-WFCSM', '5954-BDFSG', '8646-JCOMS', '0665-XHDJU', '4335-BSMJS', '0230-UBYPQ', '0017-DINOC', '0422-UXFAP', '8229-TNIQA', '2511-MORQY', '1534-OULXE', '1439-LCGVL', '2004-OCQXK', '9526-BIHHD', '5499-ECUTN', '9057-MSWCO', '5537-UXXVS', '2568-OIADY', '5669-SRAIP', '3099-OONVS', '4835-YSJMR', '4342-HFXWS', '5054-IEXZT', '9467-ROOLM', '1269-FOYWN', '9174-FKWZE', '4098-NAUKP', '2001-MCUUW', '0701-TJSEF', '3249-VHRIP', '0305-SQECB', '5131-PONJI', '5176-LMJXE', '8319-QBEHW', '5115-SQAAU', '6620-HVDUJ', '0731-EBJQB', '0386-CWRGM', '6689-KXGBO', '0869-PAPRP', '2585-KTFRE', '2845-AFFTX', '5312-IRCFR', '4365-MSDYN', '4946-EDSEW', '7580-UGXNC', '6278-FEPBZ', '7982-VCELR', '4763-PGDPO', '7599-NTMDP', '7668-XCFYV', '3874-EQOEP', '1754-GKYPY', '7449-HVPIV', '6088-BXMRG', '7164-BPTUT', '6896-SRVYQ', '3219-JQRSL', '7190-XHTWJ', '2026-TGDHM', '6916-HIJSE', '9677-AVKED', '0318-QUUOB', '4694-PHWFW', '2717-HVIZY', '7483-IQWIB', '2430-RRYUW', '5520-FVEWJ', '4770-UEZOX', '2203-GHNWN', '2815-CPTUL', '0871-OPBXW', '2065-MMKGR', '3178-FESZO', '7841-FCRQD', '4325-NFSKC', '8565-WUXZU', '5084-OOVCJ', '2240-HSJQD', '8372-JUXUI', '2931-VUVJN', '3402-XRIUO', '4547-FZJWE', '3692-JHONH', '6897-RWMUB', '5382-TEMLV', '0094-OIFMO', '2121-JAFOM', '9430-NKQLY', '1066-JKSGK', '9688-YGXVR', '4958-GZWIY', '9169-BSVIN', '9828-QHFBK', '7131-ZQZNK', '1038-RQOST', '7123-WQUHX', '1453-RZFON', '3536-IQCTX', '5829-NVSQN', '1035-IPQPU', '0356-OBMAC', '2811-POVEX', '4817-KEQSP', '4648-YPBTM', '2812-REYAT', '1492-QGCLU', '8208-EUMTE', '5274-XHAKY', '1399-OUPJN', '8883-GRDWQ', '4111-BNXIF', '8690-ZVLCL', '5663-QBGIS', '8414-OOEEL', '7876-AEHIG', '5127-BZENZ', '4302-ZYFEL', '7442-YGZFK', '7088-FBAWU', '9052-VKDUW', '6295-OSINB', '8879-ZKJOF', '2504-DSHIH', '8515-OCTJS', '9081-WWXKP', '9498-FIMXL', '7787-BNTZM', '7595-EUIVN', '6328-ZPBGN', '1265-BCFEO', '7102-JJVTX', '1785-BPHTP', '6688-UZPWD', '3070-DVEYC', '5650-VDUDS', '3719-TDVQB', '4086-WITJG', '2249-YPRNG', '0829-XXPLX', '5339-TJFEK', '4998-IKFSE', '0121-SNYRK', '8914-RBTSB', '1370-GGAWX', '3675-YDUPJ', '0484-FFVBJ', '0549-CYCQN', '8739-WWKDU', '7783-YKGDV', '5567-WSELE', '3275-RHRNE', '2657-VPXTA', '0369-ZGOVK', '2979-SXESE', '5360-XGYAZ', '6166-YIPFO', '7994-UYIVZ', '2018-QKYGT', '6319-QSUSR', '9451-WLYRI', '1112-CUNAO', '1794-SWWKL', '2265-CYWIV', '7622-FWGEW', '6094-ZIVKX', '4203-QGNZA', '9039-ZVJDC', '8779-QRDMV', '4184-TJFAN', '5049-GLYVG', '7691-KGKGP', '4909-JOUPP', '2080-SRCDE', '7078-NVFAM', '5324-KTGCG', '0872-CASZJ', '8780-IHCRN', '3472-QPRCH', '5840-NVDCG', '4065-JJAVA', '4178-EGMON', '6845-RGTYS', '9987-LUTYD', '9489-UTFKA', '3580-REOAC', '9441-QHEVC', '6629-CZTTH', '3258-ZKPAI', '0856-NAOES', '2651-ZCBXV', '8164-OCKUJ', '6463-MVYRY', '9488-HGMJH', '0396-YCHWO', '6704-UTUKK', '8080-DDEMJ', '7243-LCGGZ', '8217-QYOHV', '4013-GUXND', '1219-NNDDO', '2519-TWKFS', '7105-BENQF', '0804-XBFBV', '2789-HQBOU', '3845-FXCYS', '1415-YFWLT', '9786-IJYDL', '8840-DQLGN', '8311-UEUAB', '0988-AADSA', '0612-RTZZA', '5115-GZDEL', '1624-WOIWJ', '1093-YSWCA', '8474-UMLNT', '6425-YQLLO', '7973-DZRKH', '4501-UYKBC', '2848-YXSMW', '1548-ARAGG', '6427-FEFIG', '6051-PTVNS', '0516-UXRMT', '4495-LHSSK', '3223-WZWJM', '3521-MNKLV', '4389-UEFCZ', '1894-IGFSG', '0254-KCJGT', '2673-CXQEU', '6963-KQYQB', '4827-USJHP', '7338-ERIVA', '6075-QMNRR', '2737-YNGYW', '5944-UGLLK', '0617-FHSGK', '6092-QZVPP', '2773-MADBQ', '5981-ITEMU', '4707-MAXGU', '9261-WDCAF', '7622-NXQZR', '4534-WGCIR', '5968-XQIVE', '1543-LLLFT', '5392-AKEMH', '7010-BRBUU', '1522-VVDMG', '5555-RNPGT', '7130-VTEWQ', '8450-LUGUK', '8746-OQQRW', '1600-DILPE', '8336-TAVKX', '3104-OWCGK', '0742-NXBGR', '6591-QGOYB', '3069-SSVSN', '6726-NNFWD', '4501-VCPFK', '1183-CANVH', '2180-DXNEG', '3372-CDXFJ', '5527-ACHSO', '8046-DNVTL', '1621-YNCJH', '7663-ZTEGJ', '8098-LLAZX', '7218-HKQFK', '4329-YPDDQ', '2568-BRGYX', '4514-GFCFI', '7176-WRTNX', '3108-PCCGG', '6906-MPARY', '4403-BWPAY', '9921-ZVRHG', '9172-ANCRX', '7850-THJMU', '6137-MFAJN', '4462-CYWMH', '2712-SYWAY', '3164-AALRN', '6032-KRXXO', '0887-HJGAR', '5389-FFVKB', '9026-LHEVG', '9639-BUJXT', '2952-QAYZF', '6608-QQLVK', '9200-NLNPD', '4248-QPAVC', '2737-WFVYW', '1728-BQDMA', '1097-FSPVW', '8205-OTCHB', '8337-UPOAQ', '1045-LTCYT', '6060-QBMGV', '0260-ZDLGK', '2452-SNHFZ', '1768-HNVGJ', '4727-MCYZG', '4334-HOWRP', '8388-FYNPZ', '9626-VFRGG', '5297-MDOIR', '2446-ZKVAF', '9552-TGUZV', '0129-KPTWJ', '9578-VRMNM', '9773-PEQBZ', '3212-KXOCR', '6210-KBBPI', '8189-DUKMV', '4629-NRXKX', '2408-PSJVE', '9069-LGEUL', '2887-JPYLU', '4355-CVPVS', '1755-FZQEC', '5566-SOEZD', '6016-LVTJQ', '4902-OHLSK', '2731-GJRDG', '4257-GAESD', '5223-UZAVK', '9066-QRSDU', '3948-KXDUF', '7823-JSOAG', '6061-PQHMK', '2371-KFUOG', '7079-QRCBC', '2956-GGUCQ', '1699-HPSBG', '4803-LBYPN', '2085-JVGAD', '8344-WFMFH', '3612-YVGSJ', '6818-DJXAA', '8040-MNRTF', '9965-YOKZB', '7322-OCWHC', '2388-LAESQ', '7615-ESMYF', '2889-FPWRM', '3842-IYKUE', '5146-CBVOE', '8738-JOKAR', '5884-FBCTL', '3552-CTCYF', '9223-UCPVT', '9040-KZVWO', '1991-VOPLL', '3174-RKMOW', '4350-ZTLPI', '2103-ZRXFN', '6122-LJADA', '2478-EEWWM', '9955-QOPOY', '6821-BUXUX', '5850-BDWCY', '2000-MPKCA', '5056-FIMPT', '2632-UCGVD', '8295-KMENE', '5747-PMBSQ', '2642-DTVCO', '4585-HETAI', '8168-UQWWF', '7603-USHJS', '0581-MDMPW', '4112-LUEIZ', '7359-SSBJK', '0581-BXBUB', '2867-UIMSS', '8582-KRHPJ', '3785-NRHYR', '5893-KCLGT', '9548-LERKT', '7563-BIUPC', '8375-DKEBR', '4213-HKBJO', '6877-TJMBR', '7601-GNDYK', '5240-CAOYT', '7876-DNYAP', '1576-PFZIW', '3453-RTHJQ', '1090-ESELR', '0617-AQNWT', '8155-IBNHG', '6603-YRDCJ', '3055-VTCGS', '7562-GSUHK', '2129-ALKBS', '0577-WHMEV', '9795-VOWON', '1937-OTUKY', '3910-MRQOY', '7722-CVFXN', '3737-XBQDD', '6674-KVJHG', '0708-LGSMF', '1347-KTTTA', '5405-ZMYXQ', '9912-GVSEQ', '7153-OANIO', '7789-HKSBS', '3655-SNQYZ', '6982-SSHFK', '2057-BOYKM', '0380-NEAVX', '8108-UXRQN', '0661-WCQNQ', '4900-MSOMT', '4682-BLBUC', '3677-IYRBF', '9866-OCCKE', '2220-IAHLS', '4373-MAVJG', '4706-AXVKM', '1976-CFOCS', '9087-EYCPR', '5307-UVGNB', '4906-ZHGPK', '8570-KLJYJ', '6048-NJXHX', '4450-MDZFX', '1216-JWVUX', '8565-HBFNN', '8990-ZXLSU', '4110-PFEUZ', '7762-ONLJY', '4128-ETESU', '2460-NGXBJ', '2890-WFBHU', '8189-XRIKE', '2688-BHGOG', '7157-SMCFK', '4795-KTRTH', '7901-TBKJX', '1087-UDSIH', '2150-UWTFY', '6229-LSCKB', '7096-ZNBZI', '8107-RZLNV', '9885-MFVSU', '7611-YKYTC', '2498-XLDZR', '2164-SOQXL', '4640-UHDOS', '4123-FCVCB', '2481-SBOYW', '4737-HOBAX', '5032-MIYKT', '3230-WYKIR', '7975-JMZNT', '9746-UGFAC', '4415-WNGVR', '7881-EVUAD', '7706-YLMQA', '0074-HDKDG', '1501-SGHBW', '4778-IZARL', '0917-EZOLA', '3656-TKRVZ', '8165-CBKXO', '6288-CHQJB', '0621-TWIEM', '8383-SGHJU', '9348-ROUAI', '7869-ZYDST', '9541-PWTWO', '7103-IPXPJ', '9257-AZMTZ', '3566-VVORZ', '6907-NZZIJ', '1293-HHSHJ', '8024-XNAFQ', '9447-YPTBX', '3318-NMQXL', '5716-EZXZN', '0480-KYJVA', '6546-OPBBH', '1848-LBZHY', '8429-XIBUM', '2141-RRYGO', '4702-IOQDC', '0757-WCUUZ', '4119-ZYPZY', '8747-UDCOI', '0201-OAMXR', '4983-CCWMC', '8993-PHFWD', '2586-CWXVV', '4808-YNLEU', '3340-QBBFM', '4116-TZAQJ', '8092-NLTGF', '4670-TABXH', '4295-YURET', '2479-BRAMR', '1325-USMEC', '9584-EXCDZ', '9058-MJLZC', '6646-QVXLR', '7610-TVOPG', '7825-ECJRF', '2538-OIMXF', '1409-PHXTF', '4114-QMKVN', '6199-IPCAO', '0754-EEBDC', '7225-CBZPL', '5236-XMZJY', '7353-YOWFP', '8992-JQYUN', '6212-ATMLK', '1257-SXUXQ', '2664-XJZNO', '8679-JOEVF', '7943-RQCHR', '1803-BGNBD', '1270-XKUCC', '1309-BXVOQ', '6719-FGEDO', '8879-XUAHX', '3199-NPKCN', '8076-FEZKJ', '3084-DOWLE', '3508-VLHCZ', '6862-CQUMB', '6080-LNESI', '1478-VPOAD', '8627-ZYGSZ', '0608-JDVEC', '4847-QNOKA', '0384-RVBPI', '2040-XBAVJ', '6418-PIQSP', '6345-FZOQH', '7647-GYYKX', '3012-VFFMN', '8802-UNOJF', '5353-WILCI', '1685-BQULA', '2761-XECQW', '9851-QXEEQ', '1406-PUQVY', '9755-JHNMN', '1867-BDVFH', '5788-YPOEG', '1310-QRITU', '9033-EOXWV', '5913-INRQV', '3197-NNYNB', '9279-CJEOJ', '8181-YHCMF', '0259-GBZSH', '3039-MJSLN', '7530-HDYDS', '8082-GHXOP', '5269-NRGDP', '0621-HJWXJ', '6121-TNHBO', '5385-SUIRI', '6087-YPWHO', '4822-LPTYJ', '1686-STUHN', '6248-BSHKG', '8374-XGEJJ', '2215-ZAFGX', '4464-JCOLN', '5792-JALQC', '7813-ZGGAW', '1074-WVEVG', '5609-IMCGG', '6122-EFVKN', '2187-LZGPL', '3214-IYUUQ', '9122-UMROB', '2675-IJRGJ', '2037-SGXHH', '7765-LWVVH', '2260-USTRB', '4488-KQFDT', '3834-XUIFC', '9371-BITHB', '2302-ANTDP', '4971-PUYQO', '4132-POCZS', '5986-WWXDV', '9644-KVCNC', '5143-WMWOG', '1376-HHBDV', '0825-CPPQH', '2359-KLTEK', '6702-OHFWR', '8198-RKSZG', '3638-DIMPH', '9479-HYNYL', '8930-XOTDP', '7921-BEPCI', '9477-LGWQI', '4396-KLSEH', '6770-UAYGJ', '2845-KDHVX', '6986-IJDHX', '5245-VDBUR', '9732-KPKBW', '5498-TXHLF', '1062-LHZOD', '8225-BTJAU', '3744-ZBHON', '0042-JVWOJ', '4367-NHWMM', '4049-ZPALD', '1136-XGEQU', '4759-PXTAN', '3466-WAESX', '3423-HHXAO', '6583-KQJLK', '4250-WAROZ', '8295-FHIVV', '1436-ZMJAN', '0082-LDZUE', '8577-QSOCG', '5793-YOLJN', '0343-QLUZP', '6908-VVYHM', '8455-HIRAQ', '0021-IKXGC', '4781-ZXYGU', '8563-OYMQY', '8012-SOUDQ', '2030-BTZRO', '2476-YGEFM', '1784-BXEFA', '8769-KKTPH', '1187-WILMM', '8276-MQBYC', '1866-NXPSP', '4402-FTBXC', '9018-PCIOK', '2565-JSLRY', '8775-ERLNB', '6817-WTYHE', '1038-ZAGBI', '1755-RMCXH', '5203-XEHAX', '9278-VZKCD', '7696-CFTAT', '7698-YFGEZ', '3247-ZVOUO', '6878-GGDWG', '2250-IVBWA', '9495-REDIY', '8318-LCNBW', '3850-OKINF', '8007-YYPWD', '2862-JVEOY', '6204-IEUXJ', '4706-DGAHW', '3500-RMZLT', '1898-JSNDC', '6242-SGYTS', '6323-AYBRX', '4075-JFPGR', '2788-CJQAQ', '3594-UVONA', '4194-FJARJ', '9330-IJWIO', '7754-IXRMC', '6135-OZQVA', '7529-ZDFXI', '6859-QNXIQ', '6317-YPKDH', '0308-IVGOK', '3389-KTRXV', '8785-CJSHH', '3523-QRQLL', '8845-LWKGE', '8942-DBMHZ', '2984-RGEYA', '7675-OZCZG', '9281-OFDMF', '5751-USDBL', '5206-XZZQI', '0654-HMSHN', '8246-SHFGA', '5777-ZPQNC', '2187-PKZAY', '3537-RYBHH', '8552-OBVRU', '1139-WUOAH', '7921-LMDFQ', '1591-XWLGB', '8883-ANODQ', '4821-WQOYN', '0454-OKRCT', '1612-EOHDH', '2133-TSRRM', '0607-DAAHE', '7632-MNYOY', '2682-KEVRP', '3807-BPOMJ', '7511-YMXVQ', '4450-DLLMH', '0247-SLUJI', '8573-JGCZW', '7298-IZWLY', '6416-JNVRK', '9828-AOQLM', '7054-LGEQW', '0236-HFWSV', '4716-MRVEN', '3744-ZRRDZ', '2452-KDRRH', '0580-PIQHM', '9575-IWCAZ', '3115-JPJDD', '7328-OWMOM', '9505-SQFSW', '8096-LOIST', '0078-XZMHT', '7989-CHGTL', '1306-RPWXZ', '5366-IJEQJ', '5382-SOYZL', '8450-JOVAH', '0530-IJVDB', '1608-GMEWB', '5960-MVTUK', '0363-QJVFX', '8345-MVDYC', '0784-ZQJZX', '0257-ZESQC', '9601-BRXPO', '6917-FIJHC', '3551-HUAZH', '8999-EXMNO', '5889-LFOLL', '0582-AVCLN', '4432-ADRLB', '5839-SUYVZ', '8884-FEEWR', '3662-FXJFO', '6833-JMZYP', '2122-YWVYA', '2908-ZTPNF', '9408-SSNVZ', '7408-OFWXJ', '2794-XIMMO', '2589-AYCRP', '0556-FJEGU', '6538-POCHL', '1777-JYQPJ', '3831-YCPUO', '7795-CFOCW', '6734-FQAJX', '5168-MSWXT', '8992-CEUEN', '6496-SLWHQ', '1508-DFXCU', '1488-PBLJN', '3227-WLKLI', '0401-WDBXM', '4193-IBKSW', '1919-RTPQD', '0345-XMMUG', '8985-OOPOS', '9888-ZCUMM', '0486-HECZI', '4398-HSCJH', '7250-EQKIY', '5774-QPLTF', '0603-OLQDC', '8042-JVNFH', '7693-LCKZL', '8740-CRYFY', '5707-ORNDZ', '4057-FKCZK', '9474-PHLYD', '0823-HSCDJ', '8512-WIWYV', '3751-KTZEL', '5019-GQVCR', '1422-DGUBX', '4471-KXAUH', '1951-IEYXM', '2137-DQMEV', '3312-ZWLGF', '9137-NOQKA', '0266-CLZKZ', '7607-QKKTJ', '6000-APYLU', '9689-PTNPG', '2748-MYRVK', '2625-TRCZQ', '7711-YIJWC', '1355-KUSBG', '4456-RHSNB', '2528-HFYZX', '2675-OTVVJ', '2400-XIWIO', '8861-HGGKB', '7743-EXURX', '1552-AAGRX', '1254-IZEYF', '3798-EPWRR', '9465-RWMXL', '1357-MVDOZ', '3776-EKTKM', '4210-QFJMF', '4800-VHZKI', '8461-EFQYM', '0839-QNXME', '0306-JAELE', '9873-MNDKV', '1930-BZLHI', '6258-PVZWJ', '5057-RKGLH', '5583-SXDAG', '4636-QRJKY', '7797-EJMDP', '3567-PQTSO', '7658-UYUQS', '0811-GSDTP', '5570-PTWEH', '1401-FTHFQ', '1585-MQSSU', '6869-FGJJC', '5701-GUXDC', '9620-ENEJV', '0689-NKYLF', '0396-UKGAI', '0004-TLHLJ', '9564-KCLHR', '1875-QIVME', '3088-LHEFH', '7964-YESJC', '2061-VVFST', '9640-ZSLDC', '0947-MUGVO', '2782-LFZVW', '1142-WACZW', '6479-SZPLM', '8929-KSWIH', '3969-JQABI', '3026-ATZYV', '0301-FIDRB', '8665-UTDHZ', '4223-BKEOR', '3090-LETTY', '5889-JTMUL', '7167-PCEYD', '1177-XZBJL', '5640-CAXOA', '5148-HKFIR', '2346-DJQTB', '6376-GAHQE', '2522-WLNSF', '8544-GOQSH', '1449-XQEMT', '0788-DXBFY', '0988-JRWWP', '3413-CSSTH', '5373-SFODM', '6023-GSSXW', '8146-QQKZH', '3640-PHQXK', '4525-VZCZG', '8413-YNHNV', '4231-LZUYM', '9796-BPKIW', '4824-GUCBY', '5063-IUOKK', '5651-CRHKQ', '4616-ULAOA', '8990-YOZLV', '0428-IKYCP', '1053-MXTTK', '8097-OMULG', '9210-IAHGH', '0909-SDHNU', '5010-IPEAQ', '2800-VEQXM', '0064-YIJGF', '3071-VBYPO', '3450-WXOAT', '5288-AHOUP', '4952-YSOGZ', '9483-GCPWE', '8436-BJUMM', '5321-NTRKC', '5473-KHBPS', '1402-PTHGN', '8039-ACLPL', '0641-EVBOJ', '7964-VEXDG', '9796-MVYXX', '5804-HYIEZ', '9372-TXXPS', '0576-WNXXC', '0207-MDKNV', '2990-OGYTD', '2656-FMOKZ', '6261-RCVNS', '1428-IEDPR', '4803-AXVYP', '1475-VWVDO', '6152-ONASV', '3192-NQECA', '8058-JMEQO', '4937-QPZPO', '8812-ZRHFP', '4797-MIWUM', '6645-MXQJT', '5295-PCJOO', '0723-FDLAY', '2277-VWCNI', '5442-UTCVD', '8821-XNHVZ', '2045-BMBTJ', '0434-CSFON', '5351-QESIO', '3761-FLYZI', '7997-EASSD', '5965-GGPRW', '6235-VDHOM', '0125-LZQXK', '4698-KVLLG', '0691-NIKRI', '5960-WPXQM', '3126-WQMGH', '3627-FHKBK', '3518-PZXZQ', '7665-TOALD', '2325-NBPZG', '5095-ETBRJ', '1334-PDUKM', '6754-WKSHP', '3174-AKMAS', '2863-IMQDR', '9803-FTJCG', '9134-WYRVP', '8034-RYTVV', '4701-MLJPN', '5501-TVMGM', '0357-NVCRI', '2856-NNASM', '7271-AJDTL', '8663-UPDGF', '0661-XEYAN', '5966-EMAZU', '2159-TURXX', '3154-CFSZG', '6772-KSATR', '2279-AXJJK', '0123-CRBRT', '4884-TVUQF', '7781-HVGMK', '8823-RLPWL', '1104-FEJAM', '5485-WUYWF', '8050-WYBND', '9732-OUYRN', '6888-SBYAI', '6701-YVNQG', '5331-RGMTT', '8485-GJCDN', '1217-VASWC', '4143-OOBWZ', '2692-BUCFV', '8800-ZKRFW', '6131-JLWZM', '3428-XZMAZ', '0487-CRLZF', '0699-NDKJM', '9143-CANJF', '9494-MRNYX', '7240-ETPTR', '2972-YDYUW', '7244-KXYZN', '9306-CPCBC', '9518-RWHZL', '3709-OIJEA', '3771-PZOBW', '7838-LAZFO', '1465-WCZVT', '9480-BQJEI', '5519-TEEUH', '3323-CPBWR', '5160-UXJED', '2193-SFWQW', '4546-FOKWR', '2239-CGBUZ', '6861-XWTWQ', '7633-MVPUY', '5684-FJVYR', '8981-FJGLA', '1258-YMZNM', '4918-FYJNT', '7049-GKVZY', '8868-GAGIO', '8201-AAXCB', '2550-QHZGP', '2007-QVGAW', '9943-VSZUV', '1927-QEWMY', '3190-XFANI', '8898-KASCD', '6116-RFVHN', '1293-BSEUN', '1209-VFFOC', '5961-VUSRV', '9938-TKDGL', '1343-EHPYB', '7750-EYXWZ', '2957-LOLHO', '2082-CEFLT', '2817-NTQDO', '0925-VYDLG', '2957-JIRMN', '2683-JXWQQ', '1842-EZJMK', '0859-YGKFW', '9184-GALIL', '1766-GKNMI', '5795-BKOYE', '3331-HQDTW', '4342-HENTK', '2580-ATZSQ', '4343-EJVQB', '5310-NOOVA', '7252-NTGSS', '9944-AEXBM', '0023-XUOPT', '9356-AXGMP', '2754-VDLTR', '9253-QXKBE', '8111-RKSPX', '5129-HHMZC', '1051-GEJLJ', '7951-VRDVK', '9170-ARBTB', '7140-ADSMJ', '9978-HYCIN', '4813-HQMGZ', '7272-QDCKA', '3647-GMGDH', '0442-TDYUO', '0898-XCGTF', '9710-NJERN', '1391-UBDAR', '4833-QTJNO', '5327-XOKKY', '3898-BSJYF', '4806-KEXQR', '4829-ZLJTK', '0323-XWWTN', '1552-CZCLL', '4359-INNWN', '2105-PHWON', '2391-SOORI', '0657-DOGUM', '1236-WFCDV', '5804-JMYIO', '9537-VHDTA', '6923-JHPMP', '7872-BAAZR', '0234-TEVTT', '7312-XSBAT', '7742-MYPGI', '6621-NRZAK', '8051-HJRLT', '3750-YHRYO', '8966-SNIZF', '4986-MXSFP', '3318-ISQFQ', '0637-UBJRP', '9397-TZSHA', '4818-DRBQT', '5930-GBIWP', '1431-AIDJQ', '1428-GTBJJ', '8544-JNBOX', '0867-MKZVY', '1839-UMACK', '3594-IVHJZ', '1740-CSDJP', '5090-EMGTC', '0266-GMEAO', '5168-MQQCA', '1853-ARAAQ', '7044-YAACC', '4660-IRIBM', '8659-IOOPU', '2636-ALXXZ', '1206-EHBDD', '5153-RTHKF', '5622-UEJFI', '7537-CBQUZ', '8443-ZRDBZ', '3359-DSRKA', '1996-DBMUS', '7294-TMAOP', '8064-RAVOH', '8710-YGLWG', '2706-QZIHY', '6705-LNMDD', '8003-EWNDZ', '4293-ETKAP', '0661-KBKPA', '2485-ITVKB', '4795-UXVCJ', '2369-FEVNO', '7853-OETYL', '3951-NJCVI', '6522-YRBXD', '7817-OMJNA', '2834-JRTUA', '2886-KEFUM', '3957-HHLMR', '8008-OTEZX', '4322-RCYMT', '6992-TKNYO', '3230-IUALN', '5577-OTWWW', '1088-AUUZZ', '4298-OYIFC', '3737-GCSPV', '7217-JYHOQ', '5451-MHQOF', '1769-GRUIK', '0030-FNXPP', '9424-CMPOG', '3451-VAWLI', '8708-XPXHZ', '0815-MFZGM', '9766-HGEDE', '6173-ITPWD', '1746-TGTWV', '6898-MDLZW', '3030-YZADT', '2672-HUYVI', '6259-WJQLC', '0817-HSUSE', '8728-SKJLR', '1028-FFNJK', '1724-IQWNM', '2162-FRZAA', '4652-ODEVH', '4450-YOOHP', '9674-EHPPG', '6557-BZXLQ', '5201-USSQZ', '5995-OIGLP', '2645-QTLMB', '7598-UAASY', '1122-JWTJW', '6778-YSNIH', '9239-GZHZE', '1980-KXVPM', '8499-BRXTD', '8590-OHDIW', '7729-JTEEC', '5482-VXSXJ', '9845-PEEKO', '3096-YXENJ', '0430-IHCDJ', '3160-TYXLT', '0489-WMEMG', '0225-ZORZP', '4529-CKBCL', '8184-WMOFI', '3904-UKFRE', '3154-HMWUU', '9308-ANMVE', '3882-IYOIJ', '9494-BDNNC', '7666-WKRON', '0002-ORFBO', '1472-TNCWL', '0979-PHULV', '9221-OTIVJ', '3237-AJGEH', '6413-XKKPU', '7601-WFVZV', '3468-DRVQJ', '9788-YTFGE', '1410-RSCMR', '5569-OUICF', '2632-IVXVF', '0480-BIXDE', '5762-TJXGK', '5692-ICXLW', '7465-ZZRVX', '0256-LTHVJ', '6746-WAUWT', '7928-VJYAB', '1897-OKVMW', '3569-VLDHH', '7336-RLLRH', '7216-EWTRS', '4472-VESGY', '7470-DYNOE', '1855-CFULU', '0722-TROQR', '7296-PIXQY', '5196-WPYOW', '1226-IENZN', '0746-JTRFU', '6615-NGGZJ', '2523-EWWZL', '8434-PNQZX', '3378-AJRAO', '9800-ONTFE', '7026-YMSBE', '4193-ORFCL', '4565-EVZMJ', '5296-BFCYD', '2272-QAGFO', '7021-XSNYE', '9360-AHGNL', '1335-HQMKX', '7975-TZMLR', '6872-HXFNF', '2386-OWURY', '4634-JLRJT', '6585-WCEWR', '5968-HYJRZ', '2088-IEBAU', '1768-ZAIFU', '5089-IFSDP', '8361-LTMKD', '0230-WEQUW', '6270-OMFIW', '6127-ISGTU', '1734-ZMNTZ', '1459-QNFQT', '2545-LXYVJ', '0495-ZBNGW', '6227-FBDXH', '1049-FYSYG', '8148-BPLZQ', '1597-FZREH', '7016-BPGEU', '5394-SVGJV', '7925-PNRGI', '8165-ZJRNM', '5680-LQOGP', '6723-WSNTY', '6016-NXBNJ', '4732-RRJZC', '7188-CBBBA', '7325-ENZFI', '6691-CCIHA', '3165-HDOEW', '1159-WFSGR', '4967-WPNCF', '6734-GMPVK', '4724-WXVWF', '6218-KNUBD', '1357-BIJKI', '5383-MMTWC', '1338-CECEE', '7446-KQISO', '1699-TLDLZ', '9194-GFVOI', '8722-PRFDV', '8760-ZRHKE', '5170-PTRKA', '1862-SKORY', '0975-UYDTX', '2466-FCCPT', '6507-DTJZV', '6330-JKLPC', '7153-CHRBV', '7951-QKZPL', '4439-JMPMT', '3128-YOVTD', '5862-BRIXZ', '7632-YUTXB', '1043-YCUTE', '0362-ZBZWJ', '1354-YZFNB', '5639-NTUPK', '4116-IQRFR', '7767-UXAGJ', '4021-RQSNY', '3642-BYHDO', '4704-ERYFC', '7435-ZNUYY', '5917-RYRMG', '4816-JBHOV', '3930-ZGWVE', '3950-VPYJB', '0595-ITUDF', '1465-VINDH', '4779-ZGICK', '2324-AALNO', '9396-ZSFLL', '3768-VHXQO', '7839-NUIAA', '9624-EGDEQ', '3547-LQRIK', '0650-BWOZN', '7020-OZKXZ', '3978-YNKDD', '7432-FFVAR', '5027-YOCXN', '7396-VJUZB', '1394-SUIUH', '8314-DPQHL', '9812-GHVRI', '1984-FCOWB', '7521-YXVZY', '2623-DRYAM', '9553-DLCLU', '0533-BNWKF', '5985-TBABQ', '4431-EDMIQ', '2150-WLKUW', '2277-DJJDL', '0114-IGABW', '4566-GOLUK', '0880-TKATG', '3705-RHRFR', '8626-PTQGE', '0455-XFASS', '8970-ANWXO', '9651-GTSAQ', '0674-GCDXG', '9139-WQQDY', '7184-LRUUR', '1536-YHDOE', '0068-FIGTF', '1291-CUOCY', '6549-BTYPG', '0682-USIXD', '7251-LJBQN', '7590-VHVEG', '5018-GWURO', '6551-ZCOTS', '5605-IYGFG', '0970-QXPXW', '6670-MFRPK', '0411-EZJZE', '4636-TVXVG', '3446-QDSZF', '4747-LCAQL', '0961-ZWLVI', '2903-YYTBW', '3976-HXHCE', '0943-ZQPXH', '2525-GVKQU', '7627-JKIAZ', '3426-NIYYL', '8550-XSXUQ', '4078-SAYYN', '5835-BEQEU', '3588-WSTTJ', '4550-VBOFE', '6121-VZNQB', '9050-QLROH', '8190-ZTQFB', '3799-ISUZQ', '3665-JATSN', '2057-ZBLPD', '0732-OCQOC', '3496-LFSZU', '7486-KSRVI', '8496-DMZUK', '6221-AVQYL', '6516-NKQBO', '3274-NSDWE', '2359-KMGLI', '8430-TWCBX', '2321-OMBXY', '2770-NSVDG', '7470-MCQTK', '9795-NREXC', '8617-ENBDS', '8042-RNLKO', '3372-KWFBM', '5666-MBJPT', '0872-JCPIB', '4191-XOVOM', '3801-HMYNL', '4626-GYCZP', '3887-PBQAO', '1142-IHLOO', '0080-OROZO', '0129-QMPDR', '6778-EICRF', '2233-FAGXV', '4836-WNFNO', '4317-VTEOA', '6762-NSODU', '8008-HAWED', '0442-ZXKVS', '8257-RZAHR', '7746-AWNQW', '4227-OJHAL', '8631-WUXGY', '3276-HDUEG', '9842-EFSYY', '4993-JCRGJ', '0959-WHOKV', '0973-KYVNF', '4883-QICIH', '0557-ASKVU', '9112-WSNPU', '2810-FTLEM', '5229-PRWKT', '7665-VIGUD', '1921-KYSAY', '4134-BSXLX', '2656-TABEH', '5590-BYNII', '1658-XUHBX', '2252-NKNSI', '8559-CIZFV', '7634-HLQJR', '2599-CZABP', '1897-RCFUM', '0883-EIBTI', '5896-NPFWW', '9921-QFQUL', '6583-QGCSI', '9108-EJFJP', '1373-ORVIZ', '5312-TSZVC', '5686-CMAWK', '2256-YLYLP', '7460-ITWWP', '9420-LOJKX', '8853-TZDGH', '0318-ZOPWS', '8671-KKKOS', '4558-FANTW', '4654-GGUII', '2253-KPMNB', '5712-VBOXD', '4829-AUOAX', '3173-WSSUE', '6635-CPNUN', '7318-EIVKO', '7009-PCARS', '7354-OIJLX', '6905-NIQIN', '7410-OIEDU', '8439-LTUGF', '2919-HBCJO', '4081-DYXAV', '6974-DAFLI', '2930-UOTMB', '7134-HBPBS', '6741-QRLUP', '0486-LGCCH', '2520-SGTTA', '1492-KGETH', '6234-PFPXL', '6475-VHUIZ', '5837-LXSDN', '5325-UWTWJ', '1636-NTNCO', '7579-OOPEC', '4948-WBBKL', '9741-YLNTD', '5481-NTDOH', '2234-XADUH', '7752-XUSCI', '1976-AZZPJ', '7321-KKSDU', '1169-SAOCL', '5630-IXDXV', '4080-IIARD', '0906-QVPMS', '6725-TPKJO', '6578-KRMAW', '4826-XTSOH', '7137-RYLPP', '5248-RPYWW', '7029-RPUAV', '4717-GHADL', '8100-HZZLJ', '2096-XOTMO', '1353-GHZOS', '6727-IOTLZ', '4518-FZBSX', '1329-VHWNP', '7641-EUYET', '7714-YXSMB', '8961-QDZZJ', '9426-SXNHE', '5842-POCOP', '8197-BFWVU', '4658-HCOHW', '8982-NHAVY', '6244-BESBM', '1987-AUELQ', '0060-FUALY', '8854-CCVSQ', '4070-OKWVH', '5846-NEQVZ', '8859-DZTGQ', '5236-PERKL', '1536-HBSWP', '2293-IJWPS', '3097-IDVPU', '5081-NWSUP', '3999-WRNGR', '3570-YUEKJ', '6158-DWPZT', '1764-VUUMT', '6851-WEFYX', '8404-GFGCZ', '9408-HRXRK', '3530-CRZSB', '1541-ETJZO', '4020-KIUDI', '2474-BRUCM', '4957-TIALW', '1474-JUWSM', '3387-VATUS', '7504-UWHNB', '8752-IMQOS', '9739-JLPQJ', '8473-VUVJN', '6648-INWPS', '6029-WTIPC', '2237-ZFSMY', '0114-PEGZZ', '6103-BOCOU', '9633-XQABV', '7395-XWZOY', '3244-CQPHU', '3283-WCWXT', '5989-AXPUC', '6101-IMRMM', '8480-PPONV', '0274-JKUJR', '5119-NZPTV', '3487-EARAT', '9313-QOLTZ', '7799-DSEWS', '9357-UJRUN', '4547-LYTDD', '1073-XXCZD', '3016-KSVCP', '7619-ODSGN', '4958-XCBDQ', '2277-AXSDC', '0626-QXNGV', '7579-KKLOE', '6993-OHLXR', '3511-BFTJW', '4817-QRJSX', '2284-VFLKH', '7321-ZNSLA', '3587-PMCOY', '9931-KGHOA', '2958-NHPPS', '2235-EZAIK', '4291-HPAXL', '4220-TINQT', '7813-TKCVO', '0880-FVFWF', '2984-TBYKU', '2347-WKKAE', '8267-KFGYD', '3913-FCUUW', '9972-VAFJJ', '4299-OPXEJ', '6300-BWMJX', '1195-OIYEJ', '8185-UPYBR', '5134-IKDAY', '2639-UGMAZ', '6641-XRPSU', '8642-GVWRF', '4918-QLLIW', '3474-BAFSJ', '8242-SOQUO', '1140-UKVZG', '9359-JANWS', '7873-CVMAW', '0471-ARVMX', '9529-OFXHY', '3847-BAERP', '5996-EBTKM', '5061-PBXFW', '6791-YBNAK', '4238-JSSWH', '0822-GAVAP', '2027-FECZV', '5099-BAILX', '8174-LNWMW', '5356-RHIPP', '8098-TDCBU', '0940-OUQEC', '2176-LVPNX', '1089-XZWHH', '1960-UYCNN', '2067-QYTCF', '3638-VBZTA', '5651-YLPRD', '2674-MIAHT', '8065-YKXKD', '6682-VCIXC', '3472-OAOOR', '5447-WZAFP', '3707-LRWZD', '9248-OJYKK', '8118-LSUEL', '9565-JSNFM', '1096-ADRUX', '6942-LBFDP', '9445-ZUEQE', '6996-KNSML', '9365-SRSZE', '5515-AKOAJ', '9103-CXVOK', '3865-YIOTT', '5188-HGMLP', '8364-TRMMK', '7089-RKVSZ', '4482-EWFMI', '5945-AZYHT', '6668-CNMFP', '0601-WZHJF', '1591-NFNLQ', '3926-CUQZX', '0769-MURVM', '5998-DZLYR', '9237-HQITU', '4654-ULTTN', '9931-DCEZH', '2684-EIWEO', '3891-PUQOD', '7839-QRKXN', '2397-BRLOM', '2580-ASVVY', '3077-RSNTJ', '6047-YHPVI', '8065-BVEPF', '2995-UPRYS', '3932-CMDTD', '6993-YCOBK', '2186-QZEYA', '7860-KSUGX', '7495-OOKFY', '4647-MUZON', '5057-LCOUI', '5028-HTLJB', '4884-LEVMQ', '4837-QUSFT', '1345-ZUKID', '7824-PANSQ', '2338-BQEZT', '7596-LDUXP', '1684-FLBGS', '8838-GPHZP', '6892-EZDTG', '2171-UDMFD', '9947-OTFQU', '9919-FZDED', '8808-ELEHO', '5802-ADBRC', '6848-YLDFR', '8443-WVPSS', '4612-THJBS', '0268-QKIWO', '2925-MXLSX', '2023-VQFDL', '5724-BIDBU', '4860-IJUDE', '9092-GDZKO', '2685-SREOM', '4010-YLMVT', '0052-YNYOT', '2257-BOVXD', '9700-ZCLOT', '6652-YFFJO', '0491-KAPQG', '5424-RLQLC', '2072-ZVJJX', '4723-BEGSG', '6252-DFGTK', '7377-DMMRI', '8050-DVOJX', '6729-GDNGC', '4806-HIPDW', '2167-FQSTQ', '9971-ZWPBF', '1307-ATKGB', '3138-BKYAV', '0233-FTHAV', '9761-XUJWD', '6681-ZSEXG', '2495-INZWQ', '3164-YAXFY', '5875-YPQFJ', '8399-YNDCH', '0620-DLSLK', '2960-NKRSO', '1319-YLZJG', '7416-CKTEP', '4647-XXZAM', '7733-UDMTP', '3791-LGQCY', '6804-GDMOI', '0130-SXOUN', '9361-YNQWJ', '7330-WZLNC', '0835-DUUIQ', '1299-AURJA', '0265-PSUAE', '5414-OFQCB', '7103-ZGVNT', '7932-WPTDS', '9524-EGPJC', '4393-OBCRR', '5380-WJKOV', '6815-ABQFQ', '9134-CEQMF', '8237-ULIXL', '4139-SUGLD', '5609-CEBID', '0310-VQXAM', '5844-QVTAT', '8219-VYBVI', '0282-NVSJS', '0174-QRVVY', '1830-GGFNM', '3186-BAXNB', '6918-UMQCG', '1241-EZFMJ', '4250-FDVOU', '9402-ORRAH', '6289-CPNLD', '4174-LPGTI', '6474-FVJLC', '1891-FZYSA', '7638-QVMVY', '4544-RXFMG', '4795-WRNVT', '5494-HECPR', '4526-RMTLL', '7945-PRBVF', '3908-MKIMJ', '1729-VLAZJ', '9019-QVLZD', '4667-QONEA', '5982-XMDEX', '5003-OKNNK', '3812-LRZIR', '9036-CSKBW', '8216-AZUUZ', '1421-HCERK', '8129-GMVGI', '6286-ZHAOK', '5357-TZHPP', '2005-DWQZJ', '5644-PDMZC', '2190-BCXEC', '1964-SVLEA', '2138-VFAPZ', '7663-RGWBC', '9705-IOVQQ', '4445-ZJNMU', '7929-SKFGK', '1945-XISKS', '9821-BESNZ', '2933-XEUJM', '4282-MSACW', '0709-TVGUR', '5199-FPUSP', '1602-IJQQE', '0459-SPZHJ', '1580-BMCMR', '3413-BMNZE', '1231-YNDEK', '8205-MQUGY', '2483-XSSMZ', '2882-DDZPG', '3623-FQBOX', '6981-TDRFT', '7196-LIWRH', '6715-OFDBP', '5215-LNLDJ', '5299-RULOA', '6416-TVAIH', '4709-LKHYG', '9097-ZUBYC', '4223-WOZCM', '4391-RESHN', '0366-NQSHS', '9058-CBREO', '0257-KXZGU', '8777-MBMTS', '0379-DJQHR', '3005-NFMTA', '0106-UGRDO', '9839-ETQOE', '4183-MYFRB', '4291-HYEBC', '6139-ZZRBQ', '7234-KMNRQ', '0020-INWCK', '0239-OXEXL', '9526-JAWYF', '9152-AMKAK', '5372-FBKBN', '3221-CJMSG', '8267-ZNYVZ', '6844-DZKRF', '4323-ELYYB', '8069-YQQAJ', '5989-PGKJB', '9314-QDMDW', '7534-BFESC', '0841-NULXI', '6458-CYIDZ', '7421-ZLUPA', '5688-KZTSN', '2823-LKABH', '3900-AQPHZ', '6397-JNZZG', '4465-VDKIQ', '6394-MFYNG', '6599-SFQVE', '6322-HRPFA', '2569-WGERO', '8844-TONUD', '4393-GEADV', '1661-CZBAU', '9541-ZPSEA', '7994-XIRTR', '6651-RLGGM', '4459-BBGHE', '9685-WKZGT', '9894-EZEWG', '4979-HPRFL', '3094-JOJAI', '3482-ABPKK', '8017-LXHFA', '2120-SMPEX', '0899-WZRSD', '2812-SFXMJ', '9107-UKCKY', '9700-ISPUP', '1663-MHLHE', '0440-MOGPM', '7379-FNIUJ', '0970-ETWGE', '3384-CTMSF', '2829-HYVZP', '4424-TKOPW', '2480-SQIOB', '0219-YTZUE', '8976-OQHGT', '9117-SHLZX', '8595-SIZNC', '3727-JEZTU', '3836-FZSDJ', '2430-USGXP', '0742-MOABM', '6941-KXRRV', '0523-VNGTF', '2739-CACDQ', '5876-QMYLD', '1223-UNPKS', '9555-SAHUZ', '7814-LEEVE', '4121-AGSIN', '1925-TIBLE', '7439-DKZTW', '7130-CTCUS', '9644-UMGQA', '5787-KXGIY', '4589-IUAJB', '1304-SEGFY', '4277-UDIEF', '7663-YJHSN', '7203-OYKCT', '3795-GWTRD', '8510-TMWYB', '6010-DDPPW', '6522-OIQSX', '3397-AVTKU', '3902-MIVLE', '3524-WQDSG', '3325-FUYCG', '5529-GIBVH', '2320-YKQBO', '7356-IWLFW', '7129-CAKJW', '7614-QVWQL', '2272-UOINI', '5740-YHGTW', '9272-LSVYH', '0361-HJRDX', '4094-NSEDU', '8375-KVTHK', '2833-SLKDQ', '5022-JNQEQ', '7249-WBIYX', '3658-QQJYD', '0960-HUWBM', '1950-KSVVJ', '6374-AFWOX', '8819-WFGGJ', '8917-SZTTJ', '7266-GSSJX', '9412-ARGBX', '4452-QIIEB', '7577-SWIFR', '5429-LWCMV', '9574-RKJIF', '2361-FJWNO', '8784-CGILN', '9067-YGSCA', '0723-DRCLG', '3813-DHBBB', '4472-LVYGI', '2843-CQMEG', '8138-EALND', '8739-QOTTN', '7716-YTYHG', '8815-LMFLX', '7246-ZGQDF', '2070-XYMFH', '4581-LNWUM', '0428-AXXLJ', '4280-DLSHD', '2165-VOEGB', '3143-JQEGI', '7219-TLZHO', '8857-CUPFQ', '8645-KWHJO', '4818-QIUFN', '0504-HHAPI', '0924-BJCRC', '2898-LSJGD', '6100-FJZDG', '7268-IGMFD', '7898-PDWQE', '5440-FLBQG', '7599-FKVXZ', '7903-CMPEY', '0186-CAERR', '1956-YIFGE', '6865-JZNKO', '6161-UUUTA', '0786-VSSUD', '9798-OPFEM', '4683-WYDOU', '2692-PFYTJ', '2144-BFDSO', '3518-FSTWG', '0691-JVSYA', '7608-RGIRO', '0655-YDGFJ', '5671-RQRLP', '8806-EAGWC', '9548-LIGTA', '1820-TQVEV', '9121-PHQSR', '4332-MUOEZ', '4892-VLANZ', '3370-GQEAL', '6837-HAEVO', '7233-DRTRF', '2824-DXNKN', '5997-OPVFA', '6339-DKLMK', '0112-QWPNC', '3806-YAZOV', '4896-CPRPF', '7133-VBDCG', '8125-QPFJD', '1386-ZIKUV', '5406-KGRMX', '7030-FZTFM', '0253-ZTEOB', '2081-VEYEH', '1320-HTRDR', '5478-JJVZK', '2115-BFTIW', '1915-OAKWD', '2333-KWEWW', '3244-DCJWY', '6463-HHXJR', '8957-THMOA', '9013-AQORL', '9546-CQJSU', '0750-EBAIU', '2274-XUATA', '6447-GORXK', '5708-EVONK', '3096-IZETN', '9668-PUGNU', '4550-EVXNY', '2114-MGINA', '0089-IIQKO', '9522-ZSINC', '9314-IJWSQ', '4695-VADHF', '2758-RNWXS', '1891-UAWWU', '2896-TBNBE', '0980-FEXWF', '2189-UXTKY', '6646-VRFOL', '4274-OWWYO', '2884-GBPFB', '9135-HSWOC', '3580-GICBM', '7018-WBJNK', '4458-KVRBJ', '2819-GWENI', '4718-WXBGI', '9602-WCXPI', '6234-RAAPL', '5073-WXOYN', '3902-FOIGH', '3422-LYEPQ', '7821-DPRQE', '7524-VRLPL', '0440-QEXBZ', '0930-EHUZA', '5868-CZJDR', '9114-DPSIA', '4367-NUYAO', '4139-JPIAM', '8183-ONMXC', '6490-FGZAT', '8263-OKETD', '7094-MSZAO', '0895-LMRSF', '3736-BLEPA', '4208-UFFGW', '7547-EKNFS', '1063-DHQJF', '5087-SUURX', '9909-IDLEK', '6374-NTQLP', '2378-VTKDH', '9530-EHPOH', '4176-FXYBO', '7519-JTWQH', '8735-SDUFN', '5549-ZGHFB', '6568-POCUI', '9402-ROUMJ', '2959-EEXWB', '5018-HEKFO', '4662-EKDPQ', '1320-REHCS', '4513-CXYIX', '7109-CQYUZ', '0567-XRHCU', '2796-UUZZO', '4933-BSAIP', '8035-PWSEV', '5915-ANOEI', '6390-DSAZX', '9300-AGZNL', '2068-WWXQZ', '7977-HXJKU', '0488-GSLFR', '4195-PNGZS', '8469-SNFFH', '6922-NCEDI', '5730-DBDSI', '8917-FAEMR', '6457-GIRWB', '1134-YWTYF', '3200-MNQTF', '8405-IGQFX', '5339-PXDVH', '7629-WFGLW', '5219-YIPTK', '9546-KDTRB', '7826-VVKWT', '1895-QTKDO', '2984-MIIZL', '8644-XLFBW', '5119-KEPFY', '1092-GANHU', '6345-ULYRW', '6784-XYJAE', '8450-UYIBU', '3217-FZDMN', '6521-YYTYI', '2665-NPTGL', '2294-SALNE', '3823-KYNQY', '7758-XKCBS', '4671-VJLCL', '4879-GZLFH', '1131-QQZEB', '9763-PDTKK', '0487-VVUVK', '7089-XXAYG', '2501-XWWTZ', '5343-SGUBI', '6997-UVGOX', '4237-RLAQD', '7874-ECPQJ', '6283-GITPX', '8621-MNIHH', '8606-OEGQZ', '5122-CYFXA', '7234-FECYN', '6900-RBKER', '6685-GBWJZ', '7394-LWLYN', '8006-PYCSW', '0827-ITJPH', '1850-AKQEP', '8128-YVJRG', '9617-UDPEU', '9095-HFAFX', '0104-PPXDV', '8204-TIFGJ', '8780-IXSTS', '3512-IZIKN', '2606-PKWJB', '5781-BKHOP', '9489-JMTTN', '6828-HMKWP', '8718-PTMEZ', '3926-YZVVX', '1179-INLAT', '0848-SOMKO', '8224-DWCKX', '0931-MHTEM', '0843-WTBXE', '0471-LVHGK', '9068-FHQHD', '3982-DQLUS', '2019-HDCZY', '5678-VFNEQ', '0415-MOSGF', '8387-UGUSU', '2403-BCASL', '4160-AMJTL', '9953-ZMKSM', '4903-UYAVB', '8819-IMISP', '6035-BXTTY', '5756-OZRIO', '1703-MGIAB', '1061-PNTHC', '7268-WNTCP', '1965-AKTSX', '9853-JFZDU', '5602-BVFMK', '0219-QAERP', '0137-OCGAB', '3605-JISKB', '3061-BCKYI', '6513-EECDB', '6705-LXORM', '8761-NSOBC', '1302-UHBDD', '5472-CVMDX', '8660-BUETV', '6281-FKEWS', '2662-NNTDK', '1761-AEZZR', '1088-CNNKB', '5311-IHLEI', '6048-QBXKL', '2082-OJVTK', '3550-SAHFP', '5656-MJEFC', '4735-ASGMA', '6806-YDEUL', '9365-CSLBQ', '0248-PGHBZ', '0565-IYCGT', '4847-TAJYI', '5736-YEJAX', '0675-NCDYU', '0744-BIKKF', '7901-HXJVA', '2150-OEGBV', '7245-NIIWQ', '0854-UYHZD', '7905-NJMXS', '1009-IRMNA', '7277-OZCGZ', '0016-QLJIS', '5996-DAOQL', '4661-NJEUX', '5956-VKDTT', '6711-FLDFB', '3990-QYKBE', '7469-LKBCI', '5504-WSIUR', '6198-RTPMF', '9481-WHGWY', '3896-RCYYE', '0639-TSIQW', '2507-QZPQS', '2436-QBZFP', '8327-WKMIE', '7963-GQRMY', '0263-FJTQO', '0670-ANMUU', '4547-KQRTM', '0404-AHASP', '3262-EIDHV', '1297-VQDRP', '5138-WVKYJ', '6356-ELRKD', '5075-JSDKI', '6439-GTPCA', '5828-AVIPD', '3346-BRMIS', '9391-LMANN', '2988-PLAHS', '2546-KZAAT', '4234-XTNEA', '1518-VOWAV', '2616-FLVQC', '3723-BFBGR', '2885-HIJDH', '3727-OWVYD', '9274-CNFMO', '2990-HWIML', '3229-USWAR', '1213-NGCUN', '7169-YWAMK', '5627-TVBPP', '7398-SKNQZ', '9861-PDSZP', '5124-EOGYE', '8083-YTZES', '6267-DCFFZ', '4872-VXRIL', '2243-FNMMI', '1194-SPVSP', '4323-OHFOW', '9448-REEVD', '3272-VUHPV', '7156-MHUGY', '6664-FPDAC', '2208-MPXIO', '7025-WCBNE', '0927-CNGRH', '9860-LISIZ', '3113-IWHLC', '6625-FLENO', '1506-YJTYT', '1775-KWJKQ', '3957-SQXML', '6892-XPFPU', '3317-HRTNN', '9347-AERRL', '7762-URZQH', '2361-UPSND', '3050-GBUSH', '6718-BDGHG', '7710-JSYOA', '9825-YCXWZ', '7593-JNWRU', '4256-ZWTZI', '1837-YQUCE', '7143-BQIBA', '5924-IFQTT', '7853-GVUDZ', '8932-CZHRQ', '3473-XIIIT', '5845-BZZIB', '1020-JPQOW', '3721-CNEYS', '7537-RBWEA', '9435-JMLSX', '6480-YAGIY', '4236-XPXAV', '4366-CTOUZ', '1429-UYJSV', '4685-ERGHK', '6067-NGCEU', '8338-QIUNR', '5832-EXGTT', '6297-NOOPG', '0295-PPHDO', '9633-DENPU', '3688-FTHLT', '0229-LFJAF', '3584-WKTTW', '0623-IIHUG', '6168-WFVVF', '0139-IVFJG', '6418-HNFED', '3043-SUDUA', '4201-JMNGR', '8089-UZWLX', '4086-ATNFV', '0689-DSXGL', '4012-YCFAI', '7964-ZRKKG', '5055-BRMNE', '4607-CHPCA', '9378-FXTIZ', '9801-GDWGV', '9411-TPQQV', '5313-FPXWG', '8884-ADFVN', '6352-TWCAU', '1353-LJWEM', '9451-LPGOO', '0623-GDISB', '9432-VOFYX', '4024-CSNBY', '4137-BTIKL', '4726-DLWQN', '1985-MBRYP', '7879-CGSFV', '4915-BFSXL', '2749-CTKAJ', '5995-SNNEW', '0354-WYROK', '6928-ONTRW', '6893-ODYYE', '9637-EIHEQ', '8414-MYSHR', '8792-AOROI', '0725-CXOTM', '0013-EXCHZ', '8819-ZBYNA', '1573-LGXBA', '0831-JNISG', '6518-PPLMZ', '8597-CWYHH', '3509-GWQGF', '2990-IAJSV', '2921-XWDJH', '7471-WNSUF', '1866-DIOQZ', '3209-ZPKFI', '2999-AANRQ', '7571-YXDAD', '0980-PVMRC', '9142-KZXOP', '6543-XRMYR', '1116-FRYVH', '9728-FTTVZ', '6168-YBYNP', '7576-ASEJU', '2808-CHTDM', '9793-WECQC', '3716-UVSPD', '4381-MHQDC', '2924-KHUVI', '0727-BNRLG', '4910-AQFFX', '4807-IZYOZ', '4291-YZODP', '9282-IZGQK', '0325-XBFAC', '4619-EVPHY', '5789-LDFXO', '9297-FVVDH', '8740-XLHDR', '5884-GCYMI', '2050-ONYDQ', '5397-TUPSH', '4826-DXMUP', '6987-XQSJT', '5976-JCJRH', '9313-CDOGY', '4455-BFSPD', '5701-YVSVF', '9031-ZVQPT', '6506-EYCNH', '4553-DVPZG', '4360-QRAVE', '6961-MJKBO', '1767-TGTKO', '7253-UVNDW', '0804-YGEQV', '8905-IAZPF', '6257-RJOHI', '4774-HHGGS', '3712-PKXZA', '6859-RKMZJ', '6870-ECSHE', '5906-CVLHP', '0224-NIJLP', '4854-CIDCF', '8075-GXIUB', '1395-WSWXR', '3720-DBRWL', '3132-TVFDZ', '9975-SKRNR', '1596-BBVTG', '2324-EFHVG', '0519-XUZJU', '2296-DKZFP', '9028-LIHRP', '5125-CNDSP', '5016-ETTFF', '2750-BJLSB', '6304-IJFSQ', '8614-VGMMV', '4102-HLENU', '1193-RTSLK', '2680-XKKNJ', '4489-SNOJF', '1689-MRZQR', '5442-XSDCW', '8182-PNAGI', '8468-EHYJA', '3845-JHAMY', '7341-LXCAF', '8943-URTMR', '4311-QTTAI', '7375-WMVMT', '3870-MQAMG', '0178-CIIKR', '3161-ONRWK', '9667-EQRXU', '9658-WYUFB', '6953-PBDIN', '0723-VSOBE', '3982-JGSFD', '7014-ZZXAW', '8984-EYLLL', '8080-POTJR', '7644-OMVMY', '5729-KLZAR', '8650-RHRKE', '4088-YLDSU', '2070-FNEXE', '3427-GGZZI', '3941-XTSKM', '9099-FTUHS', '4627-MIHJH', '6082-GLJIX', '7550-WIQVA', '5712-AHQNN', '5813-UECBU', '4526-EXKKN', '5766-FTRTS', '3977-QCRSL', '7225-IILWY', '2320-SLKMB', '3871-IKPYH', '3234-VKACU', '1942-OQFRW', '5980-NOPLP', '4378-MYPGO', '3301-VKTGC', '7032-LMBHI', '4654-DLAMQ', '1555-HAPSU', '3230-JCNZS', '9885-CSMWE', '8393-DLHGA', '7808-DVWEP', '9891-NQDBD', '4452-ROHMO', '6357-JJPQT', '5955-EPOAZ', '4132-KALRO', '8510-AWCXC', '4018-KJYUY', '2495-TTHBQ', '5067-DGXLL', '3500-NSDOA', '3722-WPXTK', '5130-IEKQT', '6729-FZWSY', '3002-WQZWT', '1345-GKDZZ', '5049-MUBWG', '9715-WZCLW', '8510-BBWMU', '4237-CLSMM', '9522-BNTHX', '9938-PRCVK', '3197-ARFOY', '3808-HFKDE', '2937-FTHUR', '7180-PISOG', '7501-VTYLJ', '0224-RLWWD', '5949-EBSQK', '0390-DCFDQ', '7422-WNBTY', '8467-WYNSR', '8763-KIAFH', '2955-BJZHG', '3621-CHYVB', '0377-JBKKT', '0374-IOEGQ', '8084-OIVBS', '6035-RIIOM', '9897-KXHCM', '9747-DDZOS', '9348-YVOMK', '1641-BYBTK', '9350-VLHMB', '8100-PNJMH', '3580-HYCSP', '0742-LAFQK', '3074-GQWYX', '9586-JGQKH', '6231-WFGFH', '9680-NIAUV', '0613-WUXUM', '7274-RTAPZ', '5977-CKHON', '5278-PNYOX', '5298-GSTLM', '7206-GZCDC', '9606-PBKBQ', '9114-AAFQH', '0599-XNYDO', '9053-EJUNL', '1400-WIVLL', '0147-ESWWR', '9880-TDQAC', '5093-FEGLU', '9661-ACXBS', '5006-MXVRN', '0968-GSIKN', '5685-IIXLY', '5732-IKGQH', '0902-XKXPN', '0637-KVDLV', '9788-HNGUT', '5975-BAICR', '9720-JJJOR', '9767-FFLEM', '0868-VJRDR', '3806-DXQOM', '5846-QFDFI', '3797-VTIDR', '8124-NZVGJ', '0378-XSZPU', '0137-UDEUO', '3717-OFRTN', '9711-FJTBX', '7255-SSFBC', '8999-BOHSE', '9782-LGXMC', '1431-CYWMH', '8644-XYTSV', '5702-KVQRD', '2346-LOCWC', '0281-CNTZX', '7077-XJMET', '4632-XJMEX', '4700-UBQMV', '4531-AUZNK', '5539-HIVAK', '3590-TCXTB', '7909-FIOIY', '5791-KAJFD', '0575-CUQOV', '6344-SFJVH', '4521-WFJAI', '6559-RAKOZ', '8910-LEDAG', '5443-SCMKX', '8120-JDCAM', '8696-JKZNU', '0107-YHINA', '9659-ZTWSM', '5614-DNZCE', '2821-WARNZ', '3508-CFVZL', '1264-FUHCX', '8547-NSBBO', '6347-DCUIK', '1320-GVNHT', '3352-RICWQ', '2227-JRSJX', '7459-IMVYU', '3528-HFRIQ', '5445-UTODQ', '6465-GSRCL', '6447-EGDIV', '3251-YMVWZ', '8766-PAFNE', '4510-PYUSH', '0810-DHDBD', '3551-GAEGL', '5155-AZQPB', '6885-PKOAM', '7503-MIOGA', '4929-BSTRX', '2469-DTSGX', '7560-QRBXH', '6867-ACCZI', '1866-ZSLJM', '6581-NQCBA', '7771-CFQRQ', '5174-ITUMV', '3724-UCSHY', '6849-OYAMU', '6921-OZMFH', '8713-IGZSO', '6164-HAQTX', '2892-GESUL', '2001-EWBQU', '1029-QFBEN', '5028-GZLDO', '4626-OZDTJ', '7542-CYDDM', '2303-PJYHN', '0516-WJVXC', '6519-ZHPXP', '1024-VRZHF', '5519-YLDGW', '3785-KTYSH', '7384-GHBPI', '7854-FOKSF', '2954-PIBKO', '0644-OQMDK', '3716-BDVDB', '7138-GIRSH', '8590-YFFQO', '8608-OZTLB', '0464-WJTKO', '6384-VMJHP', '1084-UQCHV', '1658-BYGOY', '4765-OXPPD', '5539-TMZLF', '2335-GSODA', '9115-YQHGA', '3420-ZDBMA', '3014-WJKSM', '0107-WESLM', '1051-EQPZR', '9055-MOJJJ', '2000-DHJUY', '3181-MIZBN', '1699-UOTXU', '5242-UOWHD', '6794-HKIAJ', '4827-DPADN', '1360-RCYRT', '9972-EWRJS', '4976-LNFVV', '8466-PZBLH', '3696-DFHHB', '9588-OZDMQ', '5982-PSMKW', '9801-NOSHQ', '3648-GZPHF', '1732-VHUBQ', '3470-OBUET', '7629-WIXZF', '0508-OOLTO', '3729-OWRVL', '5876-HZVZM', '8645-KOMJQ', '8896-BQTTI', '5014-GSOUQ', '1363-TXLSL', '0840-DCNZE', '8166-ORCHU', '6086-ESGRL', '0655-RBDUG', '9391-YZEJW', '6371-NZYEG', '5208-FVQKB', '5955-ERIHD', '8875-AKBYH', '7030-NJVDP', '7979-CORPM', '7115-IRDHS', '7794-JASDG', '6586-MYGKD', '8468-FZTOE', '8398-TBIYD', '7240-FQLHE', '5914-XRFQB', '6993-YGFJV', '5981-ZVXOT', '2410-CIYFZ', '2495-KZNFB', '6925-BAYGL', '1090-PYKCI', '1245-HARPS', '4877-EVATK', '1095-JUDTC', '8731-WBBMB', '7379-POKDZ', '3003-CMDUU', '3563-SVYLG', '1207-BLKSA', '3948-XHGNA', '9054-FOWNV', '8624-GIOUT', '7746-QYVCO', '3754-DXMRT', '4229-CZMLL', '6217-TOWGS', '9862-KJTYK', '6077-BDPXA', '2876-GZYZC', '6242-MBHPK', '3916-NRPAP', '9253-VIFJQ', '3133-PZNSR', '5598-IKHQQ', '6260-ONULR', '7552-KEYGT', '3005-TYFRD', '6265-FRMTQ', '7551-DACSP', '9617-INGJY', '0568-ONFPC', '6311-UEUME', '3318-OSATS', '9625-RZFUK', '0991-BRRFB', '1935-IMVBB', '5935-FCCNB', '9030-QGZNL', '5906-DVAPM', '3091-FYHKI', '0057-QBUQH', '0330-BGYZE', '2805-EDJPQ', '0402-CQAJN', '5895-QSXOD', '5995-WWKKG', '2649-HWLYB', '1052-QJIBV', '5285-MVEHD', '7695-PKLCZ', '0565-JUPYD', '8972-HJWNV', '2856-HYAPG', '5906-BFOZT', '9129-UXERG', '4919-IKATY', '4115-BNPJY', '5899-OUVKV', '6994-KERXL', '7703-ZEKEF', '1133-KXCGE', '4054-CUMIA', '9334-GWGOW', '3129-AAQOU', '3877-JRJIP', '4720-VSTSI', '4730-AWNAU', '7351-KYHQH', '9391-DXGGG', '1552-TKMXS', '9970-QBCDA', '2054-PJOCK', '6986-IXNDM', '1222-LRYKO', '0799-DDIHE', '0487-RPVUM', '6988-CJEYV', '5180-UCIIQ', '2720-WGKHP', '5777-KJIRB', '4349-GFQHK', '9490-DFPMD', '3198-VELRD', '6968-URWQU', '2696-ECXKC', '8313-KTIHG', '1469-LBJQJ', '7319-ZNRTR', '7801-CEDNV', '4878-BUNFV', '6341-JVQGF', '2530-FMFXO', '8270-RKSAP', '5317-FLPJF', '8221-HVAYI', '9369-XFEHK', '8734-FNWVH', '5207-PLSTK', '1069-XAIEM', '7912-SYRQT', '8543-MSDMF', '7054-DMVAS', '6738-ISCBM', '7739-LAXOG', '8218-FFJDS', '0771-WLCLA', '1403-GYAFU', '0774-RMNUW', '0376-OIWME', '5271-DBYSJ', '2484-DGXPZ', '9399-APLBT', '2075-RMJIK', '9659-QEQSY', '8654-DHAOW', '7927-AUXBZ', '1333-PBMXB', '7892-QVYKW', '4822-NGOCH', '4854-SSLTN', '6339-TBELP', '5649-VUKMC', '0329-GTIAJ', '4273-MBHYA', '2868-LLSKM', '5533-NHFRF', '3503-TYDAY', '5515-RUGKN', '8250-ZNGGW', '5043-TRZWM', '4289-DTDKW', '2916-BQZLN', '8563-IIOXK', '4816-OKWNX', '1430-SFQSA', '5014-WUQMG', '4369-NYSCF', '3452-SRFEG', '5018-LXQQG', '5136-RGMZO', '2311-QYMUQ', '8234-GSZYK', '0749-IRGQE', '6923-AQONU', '2451-YMUXS', '5268-DSMNQ', '4510-HIMLV', '6963-EZQEE', '1752-OZXFY', '2314-TNDJQ', '2931-XIQBR', '9133-AYJZG', '9220-CXRSC', '5748-RNCJT', '9269-CQOOL', '7340-KEFQE', '4188-FRABG', '4030-VPZBD', '5522-JBWMO', '7880-XSOJX', '7825-GKXMW', '1705-GUHPV', '5172-MIGPM', '5360-LJCNJ', '5193-QLVZB', '9500-LTVBP', '0324-BRPCJ', '4855-SNKMY', '5449-FIBXJ', '5726-CVNYA', '2739-CCZMB', '2858-EIMXH', '6379-RXJRQ', '6683-VLCTZ', '6656-GULJQ', '0628-CNQRM', '4750-ZRXIU', '9281-PKKZE', '4146-SVFUD', '2379-ENZGV', '1384-RCUXW', '0326-VDYXE', '5195-KPUNQ', '6358-LYNGM', '4701-LKOZD', '7892-POOKP', '4480-QQRHC', '4636-OLWOE', '4361-BKAXE', '3678-MNGZX', '8143-ETQTI', '2988-GBIVW', '2373-NTKOD', '2368-GAKKQ', '2603-HVKCG', '0550-DCXLH', '4115-NZRKS', '6156-UZDLF', '1792-UXAFY', '9944-HKVVB', '4950-HKQTE', '2439-QKJUL', '9715-SBVSU', '0877-SDMBN', '6261-LHRTG', '8205-VSLRB', '4154-AQUGT', '4187-CINZD', '9418-RUKPH', '1080-BWSYE', '2911-IJORQ', '7369-TRPFD', '3724-BSCVH', '8947-YRTDV', '9974-JFBHQ', '3313-QKNKB', '4623-ZKHLY', '3134-DSHVC', '4353-HYOJD', '0515-YPMCW', '4931-TRZWN', '9896-UYMIE', '0562-KBDVM', '3235-ETOOB', '3329-WDIOK', '0177-PXBAT', '8029-XYPWT', '6365-HITVU', '3967-VQOGC', '2911-UREFD', '6505-OZNPG', '0221-WMXNQ', '5192-EBGOV', '5495-GPSRW', '0122-OAHPZ', '9518-IMLHK', '2252-JHJGE', '2351-BKRZW', '9508-ILZDG', '8807-ARQET', '3898-GUYTS', '0468-YRPXN', '6469-MRVET', '2234-EOFPT', '2056-EVGZL', '0231-LXVAP', '0191-ZHSKZ', '8882-TLVRW', '1730-ZMAME', '7621-VPNET', '9804-ICWBG', '1622-HSHSF', '3207-OYBWH', '0380-ZCSBI', '2729-VNVAP', '4129-LYCOI', '8016-NCFVO', '6906-ANDWJ', '0447-RXSGD', '1697-NVVGY', '5451-YHYPW', '0603-TPMIB', '2604-IJPDU', '1866-OBPNR', '6476-EPYZR', '0708-SJDIS', '7055-HNEOJ', '8059-UDZFY', '8963-JLGJT', '2888-ADFAO', '5380-AFSSK', '9591-YVTEB', '6837-BJYDQ', '4776-XSKYQ', '6898-RBTLU', '5993-BQHEA', '5167-ZFFMM', '1941-HOSAM', '1208-DNHLN', '3755-JBMNH', '1635-HDGFT', '0564-JJHGS', '6022-KOUQO', '5924-SNGKP', '3635-JBPSG', '5038-ETMLM', '8717-VCTXJ', '1970-KKFWL', '8332-OSJDW', '1791-PQHBB', '5855-EIBDE', '3285-UCQVC', '8734-DKSTZ', '6402-ZFPPI', '7780-OTDSO', '4635-EJYPD', '1069-QJOEE', '0254-WWRKD', '4785-NKHCX', '7137-NAXML', '5572-ZDXHY', '8314-HTWVE', '5174-RNGBH', '5091-HFAZW', '3398-ZOUAA', '7508-MYBOG', '2722-VOJQL', '5619-XZZKR', '5546-QUERU', '7625-XCQRH', '6654-QGBZZ', '4800-CZMPC', '3327-YBAKM', '1544-JJMYL', '8800-JOOCF', '9850-OWRHQ', '3566-HJGPK', '0187-WZNAB', '0928-JMXNP', '2272-WUSPA', '6013-BHCAW', '3640-JQGJG', '8277-RVRSV', '2273-QCKXA', '5457-COLHT', '2190-PHBHR', '7779-ORAEL', '4598-XLKNJ', '2669-QVCRG', '8456-QDAVC', '9835-ZIITK', '3470-BTGQO', '6789-HJBWG', '2777-PHDEI', '2107-FBPTK', '8317-BVKSO', '8066-POXGX', '7855-DIWPO', '7356-AYNJP', '4505-EXZHB', '1481-ZUWZA', '8495-PRWFH', '5044-XDPYX', '2775-SEFEE', '7089-IVVAZ', '5696-EXCYS', '5380-XPJNZ', '8532-UEFWH', '2195-ZRVAX', '8280-MQRQN', '9763-GRSKD', '0322-CHQRU', '2519-LBNQL', '5590-YRFJT', '9867-XOBQA', '3161-GETRM', '6599-RCLCJ', '3062-ICYZQ', '0733-VUNUW', '2675-DHUTR', '4097-YODCF', '4570-QHXHL', '7853-WNZSY', '4925-LMHOK', '1202-KKGFU', '2637-FKFSY', '3466-BYAVD', '7993-NQLJE', '6518-LGAOV', '2192-CKRLV', '6439-PKTRR', '2393-DIVAI', '2325-ZUSFD', '6034-ZRYCV', '4500-HKANN', '1513-XNPPH', '2740-JFBOK', '1237-WIYYZ', '3658-KIBGF', '9691-HKOVS', '7248-VZQLC', '0519-DRGTI', '7868-TMWMZ', '7359-WWYJV', '7083-YNSKY', '1725-IQNIY', '5196-SGOAK', '2235-ZGKPT', '6770-XUAGN', '6897-UUBNU', '0516-VRYBW', '0426-TIRNE', '8992-OBVDG', '4745-LSPLO', '1448-PWKYE', '7148-XZPHA', '2049-BAFNW', '7945-HLKEA', '1568-BEKZM', '0220-EBGCE', '4718-DHSMV', '0394-YONDK', '2077-MPJQO', '4713-LZDRV', '4659-NZRUF', '4536-PLEQY', '3038-PQIUY', '2139-FQHLM', '3374-PZLXD', '7872-RDDLZ', '4140-MUHUG', '6821-JPCDC', '8910-ICHIU', '6497-TILVL', '9565-AXSMR', '5154-VEKBL', '9560-ARGQJ', '5510-BOIUJ', '7956-XQWGU', '3347-YJZZE', '1215-VFYVK', '2111-DWYHN', '8788-DOXSU', '7107-UBYKY', '3511-APPBJ', '0864-FVJNJ', '1666-JZPZT', '5052-PNLOS', '7142-HVGBG', '0093-XWZFY', '8413-VONUO', '4039-HEUNW', '3067-SVMTC', '2826-UWHIS', '6695-FRVEC', '6661-EIPZC', '2455-USLMV', '2305-MRGLV', '5175-AOBHI', '4285-GYRQC', '0151-ONTOV', '6927-WTFIV', '0206-TBWLC', '2408-TZMJL', '1550-EENBN', '8039-EQPIM', '3336-JORSO', '9167-APMXZ', '3460-TJBWI', '5649-TJHOV', '3769-MHZNV', '6982-UQZLY', '2761-OCIAX', '3022-BEXHZ', '5445-PZWGX', '2709-UQGNP', '8851-RAGOV', '1307-TVUFB', '5863-OOKCL', '1904-WAJAA', '1644-IRKSF', '4522-AKYLR', '5243-SAOTC', '6134-KWTBV', '8023-QHAIO', '1963-SVUCV', '8685-WHQPW', '4063-EIKNQ', '5857-XRECV', '8433-WXGNA', '1131-ALZWV', '4632-PAOYU', '6202-DYYFX', '1215-FIGMP', '2387-KDZQY', '1346-UFHAX', '2454-RPBRZ', '2962-XPMCQ', '4674-HGNUA', '7785-RDVIG', '7216-KAOID', '1696-MZVAU', '3190-ITQXP', '3090-HAWSU', '9909-DFRJA', '6233-HXJMX', '8231-BSWXX', '6175-IRFIT', '2866-IKBTM', '6549-YMFAW', '8778-LMWTJ', '6496-JDSSB', '0156-FVPTA', '4822-RVYBB', '4578-PHJYZ', '2122-SZZZD', '3976-NLDEZ', '8444-WRIDW', '3424-NMNBO', '1456-TWCGB', '6762-QVYJO', '5692-FPTAH', '4433-JCGCG', '8033-VCZGH', '5480-HPRRX', '2873-ZLIWT', '7845-URHJN', '7242-QZLXF', '8060-HIWJJ', '5345-BMKWB', '4468-KAZHE', '0727-IWKVK', '6661-HBGWL', '5940-NFXKV', '9046-JBFWA', '3946-JEWRQ', '4770-QAZXN', '1710-RCXUS', '9170-GYZJC', '5384-ZTTWP', '8402-EIVQS', '2209-XADXF', '3957-LXOLK', '9258-CNWAC', '6410-LEFEN', '4189-NAKJS', '6352-GIGGQ', '4324-AHJKS', '3401-URHDA', '5480-TBGPH', '5337-IIWKZ', '0602-DDUML', '3583-KRKMD', '5498-IBWPI', '6036-TTFYU', '3733-LSYCE', '0559-CKHUS', '7025-IWFHT', '5996-NRVXR', '2453-SAFNS', '2530-ENDWQ', '0215-BQKGS', '2254-DLXRI', '5027-QPKTE', '8937-RDTHP', '5781-RFZRP', '2806-MLNTI', '9725-SCPZG', '7503-ZGUZJ', '9190-MFJLN', '8966-OIQHG', '1432-FPAXX', '7594-RQHXR', '0023-HGHWL', '5630-AHZIL', '8348-JLBUG', '0529-ONKER', '4667-OHGKG', '1162-ECVII', '3717-LNXKW', '3963-RYFNS', '8720-RQSBJ', '5980-BDHPY', '5309-TAIKL', '6904-JLBGY', '6402-EJMWF', '0661-KQHNK', '4883-KCPZJ', '2790-XUYMV', '1450-GALXR', '7162-WPHPM', '5133-VRSAB', '2439-LYPMQ', '6712-OAWRH', '7856-GANIL', '5893-PYOLZ', '7996-MHXLW', '7777-UNYHB', '4323-SADQS', '9714-EDSUC', '2929-ERCFZ', '1502-XFCVR', '6061-GWWAV', '8226-BXGES', '8748-HFWBO', '4182-BGSIQ', '8388-DMKAE', '2985-JUUBZ', '4791-QRGMF', '5494-WOZRZ', '2276-YDAVZ', '0461-CVKMU', '2840-XANRC', '0794-YVSGE', '2519-ERQOJ', '1216-BGTSP', '4404-HIBDJ', '9332-GYWLO', '2294-DMMUS', '8050-XGRVL', '9950-MTGYX', '2308-STERM', '9495-SKLKD', '7365-BVCJH', '5568-DMXZS', '0412-UCCNP', '8207-DMRVL', '9473-CBZOP', '7619-PLRLP', '5917-HBSDW', '4612-SSVHJ', '0684-AOSIH', '3070-BDOQC', '5186-SAMNZ', '8999-XXGNS', '0967-BMLBD', '5327-CNLUQ', '1527-SXDPN', '1813-JLKWR', '2465-BLLEU', '1728-CXQBE', '4646-QZXTF', '5222-JCXZT', '6140-QNRQQ', '0188-GWFLE', '0040-HALCW', '5271-YNWVR', '8958-JPTRR', '6214-EDAKZ', '2039-JONDJ', '5456-ITGIC', '0254-FNMCI', '8498-XXGWA', '8639-NHQEI', '7771-ZONAT', '3638-WEABW', '0536-ESJEP', '9758-MFWGD', '0112-QAWRZ', '1846-XWOQN', '5175-WLYXL', '5999-LCXAO', '8714-CTZJW', '0222-CNVPT', '8374-UULRV', '9605-WGJVW', '5356-CSVSQ', '5552-ZNFSJ', '6814-ZPWFQ', '3319-DWOEP', '5651-WYIPH', '2259-OUUSZ', '9738-QLWTP', '8152-UOBNY', '7998-WNZEM', '2080-GKCWQ', '9514-JDSKI', '0513-RBGPE', '9995-HOTOH', '5419-KLXBN', '7587-AOVVU', '5848-FHRFC', '0495-RVCBF', '0778-NELLA', '3726-TBHQT', '9507-HSMMZ', '7682-AZNDK', '6097-EQISJ', '4138-NAXED', '6435-SRWBJ', '7343-EOBEU', '1385-TQOZW', '9800-OUIGR', '5915-DGNVC', '2384-OVPSA', '5060-TQUQN', '5597-GLBUC', '6595-YGXIT', '9787-XVQIU', '7926-IJOOU', '4588-YBNIB', '5153-LXKDT', '1272-ILHFG', '3439-GVUSX', '8149-AIQCG', '7688-AWMDX', '2458-EOMRE', '1450-SKCVI', '0909-SELIE', '0619-OLYUR', '0748-RDGGM', '0946-CLJTI', '7302-ZHMHP', '1074-AMIOH', '3633-CDBUW', '0807-ZABDG', '5797-APWZC', '4837-PZTIC', '0839-JTCUD', '7471-MQPOS', '5302-BDJNT', '5469-CTCWN', '3086-RUCRN', '3259-QMXUN', '7446-YPODE', '7740-BTPUX', '0311-QYWSS', '9127-QRZMH', '7786-WBJYI', '5469-NUJUR', '5161-UBZXI', '9614-RMGHA', '4565-NLZBV', '5919-VCZYM', '8099-MZPUJ', '1251-STYSZ', '4625-LAMOB', '1241-FPMOF', '6292-TOSSS', '5149-CUZUJ', '3689-MOZGR', '5650-YLIBA', '9227-UAQFT', '6072-NUQCB', '4537-CIBHB', '0348-SDKOL', '1866-RZZQS', '3525-DVKFN', '4072-IPYLT', '3192-LNKRK', '2146-EGVDT', '3295-YVUSR', '6124-ACRHJ', '8869-TORSS', '2894-QOJRX', '6096-EGVTU', '9823-EALYC', '8095-WANWK', '5062-CJJKH', '4801-JZAZL', '2928-HLDBA', '1744-JHKYS', '7516-GMHUV', '6103-QCKFX', '6917-IAYHD', '8091-TTVAX', '0327-WFZSY', '7789-CRUVC', '9822-OAOVB', '5868-YTYKS', '8132-YPVBX', '6857-TKDJV', '7128-GGCNO', '9992-RRAMN', '3082-YVEKW', '9090-SGQXL', '0320-JDNQG', '7017-VFULY', '5204-HMGYF', '7554-NEWDD', '9667-TKTVZ', '5897-ZYEKH', '1396-QWFBJ', '5135-GRQJV', '9705-ZJBCG', '9506-UXUSK', '4710-NKCAW', '8903-XEBGX', '2792-LSHWX', '8008-ESFLK', '1619-YWUBB', '1579-KLYDT', '2626-VEEWG', '8053-WWDRO', '2851-STERV', '9385-EHGDO', '3420-YJLQT', '8199-ZLLSA', '3757-NJYBX', '3642-GKTCT', '8245-UMPYT', '2405-LBMUW', '0365-TRTPY', '5778-BVOFB', '5760-WRAHC', '9391-EOYLI', '3893-JRNFS', '7649-PHJVR', '8294-UIMBA', '9067-SQTNS', '6388-TABGU', '7923-IYJWY', '0420-HLGXF', '6968-GMKPR', '1452-UZOSF', '3280-MRDOF', '2014-MKGMH', '2608-BHKFN', '8402-OOOHJ', '7954-MLBUN', '5349-IECLD', '9717-IOAAF', '8433-WPJTV', '9985-MWVIX', '2408-WITXK', '8775-LHDJH', '9512-PHSMG', '4135-FRWKJ', '6128-CZOMY', '3838-OZURD', '0567-GGCAC', '4603-JANFB', '9544-PYPSJ', '9146-JRIOX', '7293-LSCDV', '0396-HUJBP', '3440-JPSCL', '6778-JFCMK', '4137-JOPHL', '1017-FBQMM', '0100-DUVFC', '8620-RJPZN', '2683-BPJSO', '6876-ADESB', '2880-FPNAE', '6322-PJJDJ', '1221-GHZEP', '8215-NGSPE', '5229-DTFYB', '4232-JGKIY', '7206-PQBBZ', '3866-MDTUB', '4868-AADLV', '7967-HYCDE', '3739-YBWAB', '3597-YASZG', '6810-VCAEX', '5161-XEUVX', '5151-HQRDG', '2983-ZANRP', '9027-TMATR', '9878-TNQGW', '4524-QCSSM', '9837-FWLCH', '6050-FFXES', '7011-CVEUC', '5514-YQENT', '4446-BZKHU', '8757-TFHHJ', '8597-CTXVJ', '3407-QGWLG', '0463-TXOAK', '9224-VTYID', '0178-SZBHO', '1689-YQBYY', '2024-BASKD', '5743-KHMNA', '4560-WQAQW', '6120-RJKLU', '2034-GDRCN', '0402-OAMEN', '7938-OUHIO', '7321-VGNKU', '5227-JSCFE', '8822-KNBHV', '7707-PYBBH', '6372-RFVNS', '2533-TIBIX', '3967-KXAPS', '5365-LLFYV', '9847-HNVGP', '9470-YFUYI', '9283-LZQOH', '8676-OOQEJ', '8382-SHQEH', '1955-IBMMB', '2211-RMNHO', '5716-LIBJC', '5126-RCXYW', '3992-YWPKO', '6576-FBXOJ', '7776-QWNFX', '7802-EFKNY', '0952-KMEEH', '6199-IWKGC', '0691-IFBQW', '8670-MEFCP', '9940-HPQPG', '6240-EURKS', '0080-EMYVY', '7299-GNVPL', '6710-HSJRD', '2615-YVMYX', '6583-SZVGP', '3284-SVCRO', '2197-OMWGI', '9450-TRJUU', '9696-RMYBA', '4869-EPIUS', '2927-CVULT', '5908-QMGOE', '8085-MSNLK', '3621-CEOVK', '8647-SDTWQ', '7463-IFMQU', '6015-VVHHE', '3255-GRXMG', '9318-NKNFC', '5231-FIQPA', '5575-TPIZQ', '6563-VNPMN', '9351-LZYGF', '2587-YNLES', '1356-MKYSK', '0743-HRVFF', '2969-WGHQO', '2516-VQRRV', '7963-SHNDT', '3055-MJDSB', '6532-YLWSI', '7235-NXZCP', '8161-QYMTT', '9327-QSDED', '5968-VXZLG', '0862-PRCBS', '2342-CKIAO', '2429-AYKKO', '7274-CGTOD', '9026-RNUJS', '5197-YPYBZ', '7554-AKDQF', '8286-AFUYI', '5440-VHLUL', '8535-SFUTN', '1091-SOZGA', '1135-HIORI', '0458-HEUZG', '7126-RBHSD', '4910-GMJOT', '0895-UADGO', '3239-TPHPZ', '3374-TTZTK', '4811-JBUVU', '0301-KOBTQ', '6834-NXDCA', '3079-BCHLN', '1810-MVMAI', '2673-ZALNP', '2003-CKLOR', '6627-CFOSN', '0336-PIKEI', '6797-LNAQX', '4641-FROLU', '7493-TPUWZ', '3078-ZKNTS', '4923-ADWXJ', '2208-NKVVH', '1101-SSWAG', '1488-SYSFC', '1925-LFCZZ', '1260-TTRXI', '3519-ZKXGG', '7858-GTZSP', '5148-ORICT', '7359-PTSXY', '5522-NYKPB', '3282-ZISZV', '1266-NZYUI', '0096-BXERS', '6979-TNDEU', '2363-BJLSL', '8316-BBQAY', '9871-ELEYA', '0020-JDNXP', '6734-PSBAW', '9362-MWODR', '5198-HQAEN', '2499-AJYUA', '1025-FALIX', '5334-JLAXU', '6807-SIWJI', '5922-ABDVO', '2251-PYLPB', '2514-GINMM', '8022-BECSI', '8104-OSKWT', '2188-SXWVT', '1678-FYZOW', '1328-EUZHC', '3118-UHVVQ', '6434-TTGJP', '3704-IEAXF', '1251-KRREG', '5183-KLYEM', '8028-PNXHQ', '0134-XWXCE', '3407-JMJQQ', '5419-JPRRN', '3317-VLGQT', '0314-TKOSI', '3345-PBBFH', '7395-IGJOS', '7161-DFHUF', '9874-QLCLH', '5092-STPKP', '2672-OJQZP', '1374-DMZUI', '6253-WRFHY', '8058-INTPH', '8481-YYXWG', '8648-PFRMP', '3779-OSWCF', '6771-XWBDM', '8406-LNMHF', '7305-ZWMAJ', '6368-TZZDT', '4541-RMRLG', '2862-PFNIK', '3363-DTIVD', '8980-WQFWL', '7310-EGVHZ', '1150-FTQGN', '7596-IIWYC', '5167-GBFRE', '7284-BUYEC', '5759-RCVCB', '7815-PDTHL', '7566-DSRLQ', '9776-CLUJA', '5025-GOOKI', '8816-VXNZD', '4980-URKXC', '0616-ATFGB', '1625-JAIIY', '5307-DZCVC', '1735-XMJVH', '3096-GKWEB', '1303-SRDOK', '2202-OUTMO', '6838-YAUVY', '4830-FAXFM', '9762-YAQAA', '1629-DQQVB', '0164-APGRB', '4631-OACRM', '8612-GXIDD', '5129-JLPIS', '9675-ICXCT', '9774-NRNAU', '6599-GZWCM', '4163-NCJAK', '1120-BMWUB', '4994-OBRSZ', '7811-JIVPF', '1724-BQUHA', '1833-VGRUM', '3162-KKZXO', '1240-KNSEZ', '1680-VDCWW', '9470-XCCEM', '4825-XJGDM', '1285-OKIPP', '9158-VCTQB', '9128-CPXKI', '1569-TTNYJ', '7693-QPEFS', '9840-DVNDC', '8699-ASUFO', '9294-TDIPC', '5222-IMUKT', '9708-KFDBY', '2691-NZETQ', '3452-GWUIN', '7163-OCEQI', '0750-EKNGL', '3943-KDREE', '5641-DMBFJ', '9300-RENDD', '8390-FESFV', '1596-OQSPS', '2609-IAICY', '1929-ZCBHE', '4987-GQWPO', '8263-QMNTJ', '8606-CIQUL', '0436-TWFFZ', '1442-BQPVU', '0235-KGSLC', '7508-DQAKK', '7000-WCEVQ', '2380-DAMQP', '4701-AHWMW', '9574-BOSMD', '4554-YGZIH', '5035-PGZXH', '4729-XKASR', '1322-AGOQM', '9507-EXLTT', '9231-ZJYAM', '8677-HDZEE', '7957-RYHQD', '5077-DXTCG', '0812-WUPTB', '6693-FRIRW', '0481-SUMCB', '9802-CAQUT', '7016-NVRIC', '5849-ASHZJ', '4475-NVTLU', '0374-FIUCA', '9962-BFPDU', '8634-MPHTR', '2969-VAPYH', '7041-TXQJH', '9244-ZVAPM', '2194-IIQOF', '3815-SLMEF', '3639-XJHKQ', '6461-PPAXN', '4283-FUTGF', '5567-GZKQY', '9917-KWRBE', '8259-NFJTV', '5248-KWLAR', '3106-ULWFW', '2674-MLXMN', '5697-GOMBF', '4373-VVHQL', '8292-FRFZQ', '9214-EKVXR', '3181-VTHOE', '0939-EREMR', '9537-JALFH', '1658-TJVOA', '8263-JQAIK', '4393-RYCRE', '5141-ZUVBH', '8975-SKGRX', '9229-RQABD', '1346-PJWTK', '3027-ZTDHO', '9488-FYQAU', '0103-CSITQ', '9692-TUSXH', '7694-VLBWQ', '1352-VHKAJ', '8404-VIOMB', '8640-SDGKB', '0328-GRPMV', '0221-NAUXK', '1335-NTIUC', '3913-RDSJZ', '5197-PYEPU', '2482-CZGBB', '6979-ZNSFF', '8000-REIQB', '3348-CFRNX', '9503-XJUME', '2300-RQGOI', '9101-NTIXF', '4226-KKDON', '3298-QEICA', '1086-LXKFY', '6040-CGACY', '1582-RAFML', '2947-DOMLJ', '5956-YHHRX', '2017-CCBLH', '2661-GKBTK', '6473-ULUHT', '4102-OQUPX', '1698-XFZCI', '2696-NARTR', '8868-WOZGU', '3057-VJJQE', '7684-XSZIY', '0813-TAXXS', '9734-YWGEX', '0365-BZUWY', '8328-SKJNO', '1813-JYWTO', '6625-UTXEW', '3092-IGHWF', '9453-PATOS', '1423-BMPBQ', '8221-EQDGL', '7696-AMHOD', '2773-OVBPK', '9661-MHUMO', '3224-DFQNQ', '8904-OPDCK', '8513-OLYGY', '3146-MSEGF', '1271-SJBGZ', '9509-MPYOD', '3411-WLRSQ', '6394-HHHZM', '1336-EZFZY', '2732-ISEZX', '5348-CAGXB', '1116-DXXDF', '6227-HWPWX', '8847-GEOOQ', '7105-MXJLL', '8262-COGGB', '1960-UOTYM', '4115-UMJFQ', '3097-PYWXL', '7593-XFKDI', '5624-RYAMH', '9355-NPPFS', '7989-AWGEH', '8148-WOCMK', '0537-QYZZN', '9518-XXBXE', '8637-XJIVR', '3259-FDWOY', '0298-XACET', '2379-GYFLQ', '8260-NGFNY', '2874-YXVVA', '6967-QIQRV', '2013-SGDXK', '3721-WKIIL', '1587-FKLZB', '8707-RMEZH', '1335-MXCSE', '8591-TKMZH', '8174-TBVCF', '0463-WZZKO', '9577-WJVCQ', '3489-HHPFY', '2612-RANWT', '8212-CRQXP', '2604-XVDAM', '9501-UKKNL', '0191-EQUUH', '0042-RLHYP', '9643-YBLUR', '3365-SAIGS', '5445-GLVOT', '8548-AWOFC', '6017-PPLPX', '9895-VFOXH', '7663-CUXZB', '5766-ZJYBB', '9207-ZPANB', '6103-LIANB', '9964-WBQDJ', '9489-DEDVP', '2400-FEQME', '3629-WEAAM', '2595-KIWPV', '3466-RITXD', '3292-PBZEJ', '0899-LIIBW', '9817-APLHW', '6338-AVWCY', '9091-WTUUY', '1078-TDCRN', '2971-SGAFL', '2724-FJDYW', '8387-MOJJT', '2428-HYUNX', '8603-IJWDN', '9742-XOKTS', '7672-VFMXZ', '0541-FITGH', '0195-IESCP', '3259-KNMRR', '5118-MUEYH', '1952-DVVSW', '5171-EPLKN', '0168-XZKBB', '0562-HKHML', '2786-GCDPI', '2969-QWUBZ', '3549-ZTMNH', '8874-EJNSR', '8404-FYDIB', '1902-XBTFB', '2830-LEWOA', '5616-PRTNT', '8445-DNBAE', '5949-HGVJL', '3745-HRPHI', '6873-UDNLD', '3646-ITDGM', '3865-ZFZIB', '5320-BRKGK', '7613-LLQFO', '3703-VAVCL', '2178-PMGCJ', '4719-UMSIY', '8908-SLFCJ', '2097-YVPKN', '5003-XZWWO', '7674-YTAFD', '1100-DDVRV', '3194-ORPIK', '6749-UTDVX', '0036-IHMOT', '4592-IWTJI', '0334-GDDSO', '6818-WOBHJ', '4282-YMKNA', '9919-KNPOO', '1200-TUZHR', '5882-CMAZQ', '1480-IVEVR', '9445-SZLCH', '1455-UGQVH', '9233-PSYHO', '3594-BDSOA', '3376-BMGFE', '3352-ALMCK', '3649-JPUGY', '5136-KCKGI', '4831-EOBFE', '0719-SYFRB', '8967-SZQAS', '7450-NWRTR', '1222-KJNZD', '2560-QTSBS', '3396-DKDEL', '3748-FVMZZ', '2929-QNSRW', '8441-SHIPE', '3196-NVXLZ', '6952-OMNWB', '5088-QZLRL', '6007-TCTST', '1796-JANOW', '1393-IMKZG', '6827-IEAUQ', '5480-XTFFL', '3629-ZNKXA', '0197-PNKNK', '4625-XMOYM', '1635-FJFCC', '4228-ZGYUW', '5244-IRFIH', '3096-WPXBT', '1349-WXNGG', '1085-LDWAM', '6772-WFQRD', '4973-RLZVI', '9074-KGVOX', '8631-XVRZL', '5294-DMSFH', '2923-ARZLG', '1060-ENTOF', '8241-JUIQO', '8261-GWDBQ', '4587-NUKOX', '9050-IKDZA', '9647-ERGBE', '5712-PTIWW', '8111-SLLHI', '8229-MYEJZ', '8821-KVZKQ', '0347-UBKUZ', '6340-DACFT', '4029-HPFVY', '0383-CLDDA', '0875-CABNR', '9919-YLNNG', '4091-TVOCN', '6959-GQEGV', '5067-WJEUN', '6734-CKRSM', '4926-UMJZD', '4445-KWOKW', '9139-TWBAS', '5857-TYBCJ', '9626-WEQRM', '2974-GGUXS', '6910-HADCM', '7005-CYUIL', '0228-MAUWC', '0585-EGDDA', '2968-SSGAA', '9070-BCKQP', '5815-HGGHV', '7878-JGDKK', '0111-KLBQG', '3987-KQDDU', '5982-FPVQN', '7073-QETQY', '4741-WWJQZ', '0761-AETCS', '4255-DDUOU', '7929-DMBCV', '2809-ZMYOQ', '5828-DWPIL', '2362-IBOOY', '5590-ZSKRV', '5446-DKWYW', '1986-PHGZF', '7730-IUTDZ', '8409-WQJUX', '4940-KHCWD', '3058-HJCUY', '9191-MYQKX', '1215-EXRMO', '8213-TAZPM', '1098-KFQEC', '2432-TFSMK', '9430-FRQOC', '4587-VVTOX', '6366-ZGQGL', '8837-VVWLQ', '5013-SBUIH', '7136-IHZJA', '1098-TDVUQ', '2660-EMUBI', '9681-OXGVC', '2690-DVRVK', '3148-AOIQT', '6177-PEVRA', '8878-RYUKI', '5505-OVWQW', '1015-JPFYW', '4056-QHXHZ', '0730-BGQGF', '9938-ZREHM', '3373-YZZYM', '9581-GVBXT', '5816-JMLGY', '7587-RZNME', '9585-KKMFD', '9863-JZAIC', '7130-YXBRO', '5702-SKUOB', '4891-NLUBA', '6894-LFHLY', '7998-ZLXWN', '6848-HJTXY', '7427-AUFPY', '6741-EGCBI', '1498-DQNRX', '8701-DGLVH', '7363-QTBIW', '2235-DWLJU', '1371-OJCEK', '8519-QJGJD', '7009-LGECI', '1989-PRJHP', '6961-VCPMC', '4767-HZZHQ', '4929-XIHVW', '2978-XXSOG', '7159-FVYPK', '3544-FBCAS', '2480-JZOSN', '9381-NDKME', '0248-IPDFW', '4083-EUGRJ', '2845-HSJCY', '7434-SHXLS', '8902-ZEOVF', '1682-VCOIO', '6968-MHOMU', '8715-KKTFG', '7996-BPXHY', '2091-MJTFX', '3842-QTGDL', '5178-LMXOP', '6719-OXYBR', '2038-OEQZH', '3780-DDGSE', '8746-BFOAJ', '8148-NLEGT', '4999-IEZLT', '4893-GYUJU', '3280-NMUVX', '0311-UNPFF', '8777-PVYGU', '6370-ZVHDV', '3604-WLABM', '3131-NWVFJ', '7326-RIGQZ', '5951-AOFIH', '7129-AZJDE', '8404-VLQFB', '6286-SUUWT', '4016-BJKTZ', '5356-KZCKT', '5482-PLVPE', '3090-QFUVD', '8401-EMUWF', '1015-OWJKI', '9643-AVVWI', '7134-MJPDY', '7426-RHZGU', '5696-JVVQY', '8490-BXHEO', '3445-HXXGF', '3717-OEAUQ', '3774-VBNXY', '8835-VSDSE', '2239-CFOUJ', '5600-KTXFM', '4194-WHFCB', '3533-UVMOM', '7812-FZHPE', '9170-CCKOU', '7096-UCLNH', '8232-UTFOZ', '3415-TAILE', '7643-RCHXS', '1972-XMUWV', '1635-NZATJ', '4598-ZADCK', '1627-AFWVJ', '4523-WXCEF', '0076-LVEPS', '3569-EDBPQ', '4753-PADAS', '0015-UOCOJ', '6572-ADKRS', '6393-WRYZE', '1169-WCVAK', '7241-AJHFS', '2460-FPSYH', '2951-QOQTK', '3583-EKAPL', '5172-RKOCB', '3672-YITQD', '5605-XNWEN', '3884-UEBXB', '8073-IJDCM', '5730-RIITO', '4929-ROART', '4299-SIMNS', '4315-MURBD', '6302-JGYRJ', '5158-RIVOP', '5214-NLTIT', '2805-AUFQN', '2040-VZIKE', '6128-AQBMT', '4328-VUFWD', '2710-WYVXG', '1371-WEPDS', '0506-YLVKJ', '6179-GJPSO', '4804-NCPET', '6285-FTQBF', '4486-EFAEB', '7995-ZHHNZ', '7112-OPOTK', '3400-ESFUW', '9916-AYHTC', '6174-NRBTZ', '6188-UXBBR', '6202-JVYEU', '3644-QXEHN', '7641-TQFHN', '3097-NQYSN', '5159-YFPKQ', '6765-MBQNU', '9650-VBUOG', '3143-ILDAL', '0285-INHLN', '3494-JCHRQ', '6857-VWJDT', '1731-TVIUK', '0345-HKJVM', '0674-DGMAQ', '9274-UARKJ', '8016-ZMGMO', '4695-WJZUE', '7278-CKDNC', '2225-ZRGSG', '9504-YAZWB', '3557-HTYWR', '8200-KLNYW', '6275-YDUVO', '3752-CQSJI', '9708-HPXWZ', '9093-FPDLG', '4911-BANWH', '5649-RXQTV', '7673-BQGKU', '3679-XASPY', '9432-RUVSL', '3007-FDPEA', '0947-IDHRQ', '5872-OEQNH', '1676-MQAOA', '0793-TWELN', '3324-OIRTO', '0953-LGOVU', '1064-FBXNK', '2207-RYYRL', '8735-NBLWT', '4844-JJWUY', '0407-BDJKB', '5816-QVHRX', '6653-CBBOM', '0621-JFHOL', '4430-YHXGG', '2055-SIFSS', '8410-BGQXN', '4927-WWOOZ', '2519-FAKOD', '4992-LTJNE', '0816-TSPHQ', '7064-JHXCE', '2550-AEVRU', '9286-BHDQG', '6348-SNFUS', '3177-LASXD', '9929-PLVPA', '2782-JEEBU', '4656-CAURT', '5832-TRLPB', '9500-IWPXQ', '0670-KDOMA', '9621-OUPYD', '8541-QVFKM', '1834-ABKHQ', '7952-OBOYL', '6732-VAILE', '4476-OSWTN', '9885-AIBVB', '1763-KUAAW', '1301-LOPVR', '1998-VHJHK', '6518-KZXCB', '6178-KFNHS', '0932-YIXYU', '4390-KYULV', '2982-VPSGI', '9374-YOLBJ', '5919-TMRGD', '7816-VGHTO', '9364-YKUVW', '2961-VNFKL', '9945-PSVIP', '6563-VRERX', '7279-NMVJC', '9173-IVZVP', '8878-HMWBV', '5600-PDUJF', '5439-WIKXB', '6937-GCDGQ', '1208-NBVFH', '0963-ZBDRN', '9142-XMYJH', '3058-WQDRE', '2592-YKDIF', '0023-UYUPN', '3254-YRILK', '6946-LMSQS', '8805-JNRAZ', '5914-GXMDA', '6510-UPNKS', '5117-ZSMHQ', '5214-CHIWJ', '2041-JIJCI', '7445-WMRBW', '7854-EDSSA', '4538-WNTMJ', '6260-XLACS', '6941-PMGEP', '5294-CDGWY', '2725-IWWBA', '3085-QUOZK', '1915-IOFGU', '2433-KMEAS', '9927-DSWDF', '1790-NESIO', '0847-HGRML', '1958-RNRKS', '9746-YKGXB', '5868-YWPDW', '3481-JHUZH', '5899-MQZZL', '0315-LVCRK', '2535-PBCGC', '2252-ISRNH', '0971-QIFJK', '4817-VYYWS', '5233-GEEAX', '5220-AGAAX', '3635-QQRQD', '8058-DMYRU', '6899-PPEEA', '7969-AULMZ', '7337-CINUD', '8043-PNYSD', '7531-GQHME', '8785-EPNCG', '4391-LNRXK', '7569-NMZYQ', '5519-NPHVG', '1614-JBEBI', '4749-OJKQU', '9824-BEMCV', '6032-IGALN', '2545-EBUPK', '0307-BCOPK', '8722-NGNBH', '6736-DHUQI', '8272-ONJLV', '4572-DVCGN', '3935-TBRZZ', '2804-ETQDK', '7197-VOJMM', '8331-ZXFOE', '3097-FQTVJ', '0840-DFEZH', '3811-VBYBZ', '8292-TYSPY', '2582-FFFZR', '6856-RAURS', '9124-LHCJQ', '4443-EMBNA', '6440-DKQGE', '8290-YWKHZ', '6615-ZGEDR', '0083-PIVIK', '4903-CNOZC', '3137-NYQQI', '0578-SKVMF', '6650-VJONK', '2669-OIDSD', '7061-OVMIM'}\n",
      "\n",
      "gender\n",
      "{'Female', 'Male'}\n",
      "\n",
      "SeniorCitizen\n",
      "{0, 1}\n",
      "\n",
      "Partner\n",
      "{'No', 'Yes'}\n",
      "\n",
      "Dependents\n",
      "{'No', 'Yes'}\n",
      "\n",
      "tenure\n",
      "{0, 1, 2, 3, 4, 5, 6, 7, 8, 9, 10, 11, 12, 13, 14, 15, 16, 17, 18, 19, 20, 21, 22, 23, 24, 25, 26, 27, 28, 29, 30, 31, 32, 33, 34, 35, 36, 37, 38, 39, 40, 41, 42, 43, 44, 45, 46, 47, 48, 49, 50, 51, 52, 53, 54, 55, 56, 57, 58, 59, 60, 61, 62, 63, 64, 65, 66, 67, 68, 69, 70, 71, 72}\n",
      "\n",
      "PhoneService\n",
      "{'No', 'Yes'}\n",
      "\n",
      "MultipleLines\n",
      "{'No', 'No phone service', 'Yes'}\n",
      "\n",
      "InternetService\n",
      "{'No', 'DSL', 'Fiber optic'}\n",
      "\n",
      "OnlineSecurity\n",
      "{'No', 'Yes', 'No internet service'}\n",
      "\n",
      "OnlineBackup\n",
      "{'No', 'Yes', 'No internet service'}\n",
      "\n",
      "DeviceProtection\n",
      "{'No', 'Yes', 'No internet service'}\n",
      "\n",
      "TechSupport\n",
      "{'No', 'Yes', 'No internet service'}\n",
      "\n",
      "StreamingTV\n",
      "{'No', 'Yes', 'No internet service'}\n",
      "\n",
      "StreamingMovies\n",
      "{'No', 'Yes', 'No internet service'}\n",
      "\n",
      "Contract\n",
      "{'Month-to-month', 'One year', 'Two year'}\n",
      "\n",
      "PaperlessBilling\n",
      "{'No', 'Yes'}\n",
      "\n",
      "PaymentMethod\n",
      "{'Mailed check', 'Electronic check', 'Credit card (automatic)', 'Bank transfer (automatic)'}\n",
      "\n",
      "MonthlyCharges\n",
      "{18.95, 19.8, 20.65, 20.15, 20.2, 20.75, 24.95, 20.4, 24.25, 25.9, 19.95, 29.75, 29.85, 30.2, 24.3, 33.75, 30.15, 31.05, 35.45, 29.95, 30.4, 39.65, 35.9, 40.2, 42.3, 42.1, 44.35, 45.25, 45.55, 45.65, 45.3, 49.95, 49.55, 49.25, 49.05, 53.85, 54.4, 55.2, 56.95, 56.15, 55.3, 59.9, 59.6, 55.65, 54.65, 62.15, 64.7, 64.15, 66.15, 64.5, 66.85, 69.7, 70.7, 69.2, 69.5, 70.45, 74.8, 74.85, 76.2, 75.3, 78.9, 79.85, 80.65, 79.75, 79.2, 74.75, 84.5, 79.35, 82.05, 84.0, 85.2, 89.1, 90.05, 90.25, 89.9, 91.65, 94.4, 95.5, 96.35, 97.85, 95.45, 99.65, 100.35, 99.35, 102.45, 102.7, 103.8, 103.4, 104.15, 104.4, 104.6, 105.35, 108.0, 109.2, 103.7, 104.8, 105.5, 106.7, 108.45, 111.6, 110.5, 113.25, 111.05, 112.25, 24.75, 115.1, 115.05, 116.05, 25.25, 24.5, 25.75, 25.0, 25.5, 26.25, 26.0, 26.5, 28.5, 29.5, 29.25, 30.75, 30.5, 30.25, 31.0, 33.5, 34.25, 34.5, 34.0, 35.75, 35.5, 35.0, 35.25, 36.0, 36.25, 36.5, 38.5, 38.25, 39.0, 39.5, 40.25, 40.0, 40.75, 43.75, 43.25, 44.0, 44.75, 44.25, 44.5, 45.0, 45.75, 45.5, 46.0, 46.25, 48.75, 48.25, 49.5, 49.0, 49.75, 50.25, 50.0, 50.5, 50.75, 51.25, 51.0, 51.75, 51.5, 52.5, 52.0, 53.75, 53.5, 53.0, 54.75, 54.25, 54.0, 54.5, 55.0, 55.5, 55.25, 55.75, 56.0, 56.75, 56.25, 56.5, 57.75, 57.5, 58.75, 58.25, 58.5, 58.0, 59.75, 59.0, 59.5, 59.25, 60.0, 60.25, 60.5, 60.75, 61.5, 61.25, 61.75, 61.0, 62.25, 62.5, 63.25, 63.75, 64.25, 64.75, 64.0, 65.0, 65.5, 65.75, 65.25, 66.5, 66.25, 66.0, 66.75, 67.25, 67.5, 67.75, 68.75, 68.5, 68.25, 69.75, 69.0, 69.25, 70.0, 70.5, 70.75, 70.25, 71.5, 71.0, 71.25, 71.75, 72.75, 72.25, 72.0, 73.25, 73.5, 73.0, 73.75, 74.5, 74.25, 74.0, 75.0, 75.25, 75.5, 75.75, 76.5, 76.0, 76.75, 76.25, 77.75, 77.0, 77.5, 78.75, 78.0, 78.5, 78.25, 79.25, 79.5, 79.0, 80.0, 80.25, 80.5, 80.75, 81.0, 81.25, 81.5, 81.75, 82.5, 82.75, 82.0, 83.25, 83.75, 83.5, 83.0, 84.25, 84.75, 85.75, 85.5, 85.0, 85.25, 86.75, 86.0, 86.5, 86.25, 87.0, 87.25, 87.75, 88.0, 88.5, 88.75, 88.25, 89.25, 89.0, 89.75, 89.5, 90.0, 90.5, 90.75, 18.25, 18.75, 91.0, 91.5, 91.25, 91.75, 92.0, 92.5, 93.0, 93.5, 93.25, 93.75, 94.5, 94.25, 94.75, 94.0, 95.25, 95.0, 95.75, 19.5, 19.75, 19.25, 96.75, 96.5, 19.0, 96.0, 96.25, 97.0, 97.75, 97.25, 98.75, 98.25, 98.5, 98.0, 99.25, 99.0, 99.75, 99.5, 100.0, 100.75, 100.25, 20.25, 20.5, 101.75, 100.5, 20.0, 101.0, 101.5, 102.5, 102.0, 101.25, 102.25, 103.75, 103.25, 103.0, 103.5, 104.0, 104.5, 104.75, 104.25, 105.0, 105.25, 21.0, 21.25, 105.75, 106.0, 106.75, 106.5, 106.25, 107.5, 107.25, 107.0, 107.75, 108.5, 108.25, 108.75, 109.25, 109.5, 109.75, 109.0, 110.0, 110.75, 110.25, 111.25, 111.5, 111.75, 112.75, 113.0, 113.75, 114.5, 114.0, 114.75, 115.75, 115.0, 23.75, 115.5, 115.25, 116.25, 116.75, 116.0, 116.5, 23.5, 117.5, 118.75, 24.0, 18.4, 18.9, 19.4, 19.9, 19.65, 19.15, 20.9, 21.15, 23.65, 23.4, 23.9, 23.15, 24.9, 24.4, 24.15, 24.65, 25.15, 25.4, 25.65, 26.4, 26.9, 29.65, 29.9, 29.15, 29.4, 30.9, 31.65, 33.15, 33.65, 33.9, 34.65, 34.4, 35.4, 35.65, 35.15, 36.65, 36.15, 38.9, 39.9, 39.4, 39.15, 40.4, 40.65, 40.15, 40.9, 41.15, 41.9, 42.9, 42.4, 43.65, 43.9, 44.4, 44.65, 44.9, 44.15, 45.4, 45.15, 45.9, 46.4, 47.15, 47.4, 48.15, 48.9, 48.65, 48.4, 49.15, 49.9, 49.4, 49.65, 50.65, 50.15, 50.9, 50.4, 51.65, 51.4, 51.15, 52.15, 53.65, 53.9, 53.4, 53.15, 54.9, 54.15, 55.15, 55.9, 55.4, 56.4, 56.9, 56.65, 57.15, 57.65, 58.65, 58.9, 58.4, 59.4, 59.65, 59.15, 60.9, 60.15, 60.65, 60.4, 61.65, 61.9, 61.4, 61.15, 62.65, 63.15, 63.4, 63.9, 18.55, 64.9, 64.4, 64.65, 65.15, 65.65, 19.05, 65.4, 65.9, 66.4, 66.9, 66.65, 67.65, 67.4, 68.65, 68.4, 68.9, 68.15, 69.65, 69.9, 69.15, 69.4, 70.9, 70.15, 70.4, 70.65, 71.15, 71.9, 71.4, 71.65, 72.65, 72.9, 72.15, 73.9, 73.15, 73.65, 74.9, 74.4, 74.65, 74.15, 75.9, 75.15, 75.65, 75.4, 21.3, 76.9, 76.65, 76.4, 76.15, 77.4, 77.15, 77.9, 77.65, 78.4, 78.65, 78.15, 79.9, 79.15, 79.4, 79.65, 80.9, 80.4, 80.15, 81.15, 81.4, 81.65, 81.9, 82.4, 82.9, 82.65, 82.15, 83.4, 83.15, 83.9, 83.65, 84.15, 84.9, 84.4, 84.65, 85.4, 85.65, 85.15, 85.9, 23.05, 86.65, 86.15, 86.4, 86.9, 87.65, 87.9, 87.4, 87.15, 88.15, 88.9, 88.65, 88.4, 89.15, 89.65, 89.4, 75.05, 90.4, 90.15, 90.65, 90.9, 91.4, 91.15, 92.9, 92.65, 92.15, 92.4, 93.15, 93.4, 93.9, 93.65, 94.9, 94.65, 94.15, 76.55, 95.15, 95.4, 95.65, 95.9, 96.65, 96.15, 96.9, 96.4, 97.65, 97.9, 98.65, 98.9, 98.15, 98.4, 99.9, 99.4, 99.15, 77.8, 77.55, 100.9, 100.15, 100.65, 100.4, 101.9, 101.15, 101.4, 102.15, 102.65, 102.9, 102.4, 103.9, 103.15, 103.65, 104.65, 104.9, 105.65, 105.15, 105.9, 105.4, 106.9, 106.4, 106.65, 106.15, 107.15, 107.65, 107.9, 107.4, 108.15, 108.65, 108.4, 108.9, 109.9, 109.4, 109.15, 109.65, 110.65, 110.15, 110.9, 111.9, 111.65, 111.15, 111.4, 112.4, 112.9, 113.65, 113.4, 113.15, 114.65, 114.9, 115.65, 115.15, 29.3, 116.15, 116.4, 117.15, 118.65, 33.55, 34.55, 34.8, 34.05, 34.3, 35.8, 35.55, 35.05, 35.3, 36.05, 38.55, 38.8, 39.3, 39.55, 39.05, 40.05, 40.3, 40.55, 41.05, 43.8, 43.55, 43.3, 43.05, 44.8, 44.3, 44.05, 44.55, 45.05, 45.8, 46.3, 46.05, 47.8, 47.05, 48.55, 48.8, 49.3, 49.8, 50.55, 50.05, 50.3, 50.8, 51.8, 51.05, 51.55, 51.3, 52.55, 52.3, 53.8, 53.3, 53.55, 54.8, 54.3, 54.55, 54.05, 55.05, 55.8, 55.55, 56.8, 56.05, 56.3, 56.55, 57.8, 57.55, 58.55, 59.8, 59.3, 59.55, 59.05, 60.3, 60.05, 60.8, 60.55, 61.05, 61.8, 61.55, 61.3, 62.8, 62.05, 62.55, 62.3, 63.3, 63.55, 63.8, 63.05, 64.8, 64.05, 64.3, 64.55, 65.55, 65.8, 65.05, 65.3, 66.8, 66.05, 66.3, 67.8, 67.05, 68.55, 68.8, 68.05, 68.3, 18.8, 69.3, 69.55, 69.05, 69.8, 19.3, 70.8, 70.05, 19.55, 70.3, 20.3, 71.55, 20.55, 20.05, 20.8, 70.55, 72.8, 21.05, 71.05, 71.3, 71.8, 73.8, 73.55, 73.05, 73.3, 23.8, 74.3, 74.05, 23.3, 23.55, 24.55, 24.05, 74.55, 24.8, 75.55, 25.3, 75.8, 25.05, 76.05, 25.55, 26.8, 26.05, 26.3, 76.8, 25.8, 76.3, 78.05, 78.3, 78.55, 78.8, 77.3, 79.3, 79.05, 79.55, 79.8, 29.05, 80.55, 29.8, 80.05, 80.3, 30.3, 81.8, 81.3, 80.8, 81.05, 81.55, 82.3, 30.55, 30.05, 82.55, 83.3, 83.55, 83.8, 83.05, 84.55, 84.8, 84.3, 84.05, 85.8, 85.3, 85.05, 85.55, 86.8, 86.05, 86.3, 86.55, 87.05, 87.55, 87.8, 87.3, 88.55, 88.05, 88.8, 88.3, 89.05, 89.55, 89.8, 89.3, 90.3, 90.55, 90.8, 91.3, 91.55, 91.05, 91.8, 92.05, 92.55, 92.3, 93.05, 93.8, 93.55, 93.3, 94.05, 94.8, 94.3, 94.55, 95.05, 95.8, 95.3, 95.55, 96.05, 96.8, 96.55, 96.3, 97.55, 97.8, 97.05, 98.3, 98.8, 98.05, 98.55, 99.3, 99.8, 99.05, 99.55, 100.8, 100.55, 100.05, 100.3, 101.05, 101.55, 101.3, 101.8, 102.05, 102.55, 102.8, 103.05, 103.3, 104.3, 104.55, 104.05, 105.3, 105.55, 105.05, 105.8, 106.05, 106.8, 106.55, 106.3, 107.05, 107.55, 108.55, 108.05, 108.3, 108.8, 109.55, 109.8, 109.05, 109.3, 110.05, 110.3, 110.8, 110.55, 111.55, 111.8, 111.3, 112.55, 113.3, 113.05, 113.8, 114.05, 114.55, 114.3, 115.8, 115.55, 116.8, 116.3, 116.55, 117.8, 18.7, 19.2, 19.45, 19.7, 20.7, 20.45, 20.95, 21.2, 21.45, 22.95, 23.95, 23.45, 24.7, 24.45, 24.2, 25.7, 25.2, 25.45, 25.95, 26.2, 26.45, 28.45, 29.45, 29.2, 29.7, 30.45, 31.2, 33.45, 33.7, 34.7, 34.2, 34.95, 35.7, 35.2, 36.45, 37.7, 39.7, 39.2, 39.95, 39.45, 40.7, 40.45, 41.95, 43.95, 43.7, 43.45, 44.95, 44.45, 44.7, 44.2, 45.7, 45.95, 45.2, 45.45, 46.2, 47.95, 48.95, 48.7, 48.2, 48.45, 49.2, 49.45, 49.7, 50.2, 50.45, 50.95, 50.7, 51.2, 51.7, 51.45, 52.2, 52.7, 53.95, 53.45, 53.7, 54.7, 54.2, 54.45, 54.95, 55.45, 55.95, 55.7, 56.45, 56.7, 56.2, 57.95, 57.45, 57.2, 58.45, 58.95, 58.7, 58.2, 59.95, 59.45, 59.2, 59.7, 60.45, 60.2, 60.7, 60.95, 61.2, 61.95, 61.45, 62.7, 62.45, 63.95, 63.7, 64.95, 64.2, 64.45, 65.2, 65.7, 65.45, 66.7, 66.2, 67.45, 67.95, 67.2, 67.7, 68.95, 68.7, 68.45, 69.45, 69.95, 70.2, 70.95, 71.7, 71.45, 71.95, 72.95, 72.45, 72.2, 73.2, 73.45, 73.95, 73.7, 74.2, 74.7, 74.45, 74.95, 75.95, 75.45, 75.7, 75.2, 76.45, 76.95, 77.95, 77.2, 78.45, 78.95, 78.2, 78.7, 79.95, 79.45, 79.7, 80.95, 80.7, 80.45, 80.2, 81.95, 81.45, 81.7, 81.2, 82.95, 82.45, 82.7, 83.7, 83.2, 83.45, 83.95, 84.2, 84.95, 84.7, 84.45, 85.95, 85.45, 85.7, 86.2, 86.45, 86.95, 86.7, 87.95, 87.2, 87.45, 87.7, 88.95, 88.2, 88.45, 88.7, 89.7, 89.2, 89.45, 89.95, 90.95, 90.45, 90.7, 90.2, 91.7, 91.2, 91.45, 91.95, 92.2, 92.95, 92.45, 92.7, 93.95, 93.45, 93.2, 93.7, 94.45, 94.2, 94.7, 94.95, 95.2, 95.95, 95.7, 96.7, 96.2, 96.95, 97.45, 97.95, 97.2, 97.7, 98.7, 98.2, 98.45, 99.45, 99.7, 99.95, 99.2, 100.45, 100.7, 100.95, 100.2, 101.45, 101.95, 101.7, 102.95, 103.2, 103.45, 103.95, 104.95, 104.7, 104.45, 104.2, 105.45, 105.2, 105.95, 105.7, 106.45, 106.95, 106.2, 107.95, 107.45, 107.2, 107.7, 108.95, 108.2, 109.7, 109.95, 109.45, 110.45, 110.2, 110.7, 111.95, 111.2, 111.45, 112.95, 112.2, 113.2, 113.45, 113.95, 114.95, 114.7, 114.45, 114.2, 116.45, 116.95, 116.2, 117.2, 117.45, 118.2, 64.35, 64.85, 64.6, 64.1, 65.35, 65.85, 65.1, 65.6, 66.35, 66.1, 66.6, 67.85, 67.6, 68.85, 68.6, 68.35, 68.1, 69.35, 69.85, 69.1, 69.6, 70.35, 70.6, 70.85, 70.1, 71.1, 71.35, 71.6, 71.85, 72.1, 72.85, 72.35, 72.6, 73.6, 73.85, 73.35, 73.1, 74.35, 74.6, 74.1, 75.35, 75.6, 75.1, 75.85, 76.1, 76.85, 76.35, 76.6, 77.35, 77.85, 78.85, 78.1, 78.6, 78.35, 79.1, 79.6, 80.6, 80.35, 80.1, 80.85, 81.85, 81.35, 81.1, 81.6, 82.85, 82.1, 82.35, 83.35, 83.85, 83.6, 84.6, 84.85, 84.35, 84.1, 85.1, 85.35, 85.6, 85.85, 86.1, 86.6, 86.85, 86.35, 87.35, 87.1, 87.6, 88.1, 88.6, 88.85, 88.35, 89.85, 89.35, 89.6, 90.85, 90.35, 90.1, 90.6, 91.35, 91.1, 91.85, 91.6, 92.1, 92.35, 92.85, 92.6, 93.35, 93.85, 93.6, 94.35, 94.85, 94.1, 94.6, 95.6, 95.1, 95.35, 95.85, 96.1, 96.85, 96.6, 97.1, 97.35, 98.85, 98.6, 98.35, 98.1, 99.1, 99.85, 99.6, 100.6, 100.85, 100.1, 101.35, 101.1, 101.6, 101.85, 102.1, 102.85, 102.6, 102.35, 103.1, 103.85, 103.35, 103.6, 104.1, 104.85, 104.35, 105.1, 105.6, 105.85, 106.35, 106.6, 106.1, 106.85, 107.35, 107.6, 108.1, 108.85, 108.6, 108.35, 109.85, 109.6, 109.1, 110.85, 110.35, 110.1, 110.6, 111.35, 111.1, 112.6, 112.1, 112.35, 113.1, 113.6, 113.35, 114.35, 114.85, 114.1, 114.6, 115.6, 115.85, 116.1, 116.85, 116.6, 117.6, 117.35, 118.6, 118.35, 18.85, 19.6, 19.35, 19.85, 19.1, 20.85, 20.6, 20.1, 20.35, 21.1, 23.6, 23.85, 24.1, 24.85, 24.6, 24.35, 25.35, 25.6, 25.1, 25.85, 26.1, 26.35, 28.6, 29.6, 29.35, 29.1, 30.1, 30.85, 30.35, 30.6, 31.35, 31.1, 33.6, 34.6, 34.85, 35.6, 35.1, 35.35, 36.1, 36.85, 38.6, 38.1, 38.85, 39.6, 39.1, 39.85, 39.35, 40.6, 40.35, 40.1, 41.35, 41.1, 41.6, 42.6, 42.35, 43.85, 43.35, 43.6, 44.6, 44.85, 44.1, 45.6, 45.35, 45.85, 45.1, 46.35, 46.1, 46.6, 47.85, 47.6, 48.6, 48.85, 48.35, 49.85, 49.35, 49.1, 49.6, 50.6, 50.35, 50.1, 50.85, 51.6, 51.35, 51.1, 52.1, 52.85, 53.6, 53.1, 53.35, 54.1, 54.6, 54.85, 54.35, 55.1, 55.35, 55.85, 55.6, 56.6, 56.35, 56.1, 56.85, 57.6, 58.6, 58.35, 58.85, 59.85, 59.1, 60.85, 60.35, 60.6, 60.1, 61.6, 61.35, 61.1, 62.1, 62.85, 63.85, 63.35, 63.6, 63.1}\n",
      "\n",
      "TotalCharges\n",
      "{'153.05', '493.65', '199.75', '3721.9', '195.65', '3198.6', '111.05', '1164.3', '2368.4', '8012.75', '2998', '1640', '5315.8', '172.85', '3674.95', '6838.6', '130.5', '2684.85', '181.5', '3734.25', '942.95', '6065.3', '74.35', '4016.85', '1007.8', '4904.25', '4264.6', '1837.7', '156.1', '1850.65', '1400.3', '5166.2', '714.15', '4946.7', '2192.9', '4861.45', '244.1', '2537', '6856.45', '7616', '6293.45', '1505.9', '6441.85', '6518.35', '1389.2', '252', '2042.05', '4995.35', '7845.8', '3587.25', '3181.8', '5265.1', '2727.8', '275.9', '661.55', '1459.35', '608', '6465', '4018.05', '624.15', '1748.55', '1395.05', '96.45', '93.4', '131.05', '3645.6', '2979.3', '866.4', '883.35', '791.15', '4903.15', '806.95', '141.6', '926.25', '1423.85', '1697.7', '7320.9', '2774.55', '139.4', '536.4', '4483.95', '1652.95', '5231.2', '5974.3', '1593.1', '1078.9', '2274.35', '3024.15', '827.45', '365.65', '6526.65', '1090.1', '365.8', '2427.1', '577.6', '4422.95', '141.65', '49.85', '2409.9', '2443.3', '1789.65', '3213.75', '2045.55', '144.95', '7266.95', '89.35', '335.75', '1312.15', '1849.95', '3471.1', '2874.45', '6474.45', '3208.65', '1737.45', '98.5', '469.65', '5601.4', '790', '212.3', '7467.55', '1957.1', '5043.2', '2104.55', '7082.5', '620.75', '1729.35', '2018.1', '4299.2', '1107.2', '1004.5', '5986.55', '70.7', '2413.05', '501.2', '5746.75', '483.15', '74.6', '2716.3', '660.05', '68.45', '1416.75', '1916', '4707.1', '5036.9', '2552.9', '927.65', '90.85', '2220.1', '2434.45', '1790.8', '6066.55', '6457.15', '108.15', '79.55', '918.75', '1573.7', '1441.8', '4390.25', '1875.55', '2939.8', '70.5', '2196.45', '473.9', '5969.85', '69.2', '2312.55', '280.85', '202.25', '95.85', '4749.15', '1111.2', '4176.7', '226.55', '4214.25', '4871.05', '1301.7', '3229.4', '154.55', '3465.7', '6109.65', '2807.1', '1130.85', '4818.8', '552.7', '1652.4', '754', '1669.4', '44', '951.55', '4188.4', '92.75', '1982.6', '5229.8', '1208.35', '389.6', '8405', '7279.35', '8240.85', '78.05', '1253.8', '6744.25', '711.15', '1515.1', '5149.5', '58', '2001', '1130', '702.9', '2157.5', '183.15', '126.05', '2301.15', '3766.2', '7107', '572.2', '2799.75', '762.1', '6139.5', '1863.8', '4689.5', '370.5', '761.85', '3415.25', '1221.55', '1859.1', '454', '2607.6', '76.4', '4557.5', '6703.5', '4193.4', '6668.05', '1411.9', '1742.95', '4754.3', '6441.4', '2221.55', '2966.95', '1322.55', '3645.75', '6096.45', '3994.45', '1212.1', '1093', '2043.45', '1378.25', '143.65', '4932.5', '2106.3', '5154.5', '270.95', '7782.85', '280.35', '1507', '257.05', '5979.7', '525.55', '249.95', '255.35', '415.05', '4959.15', '1079.45', '2619.25', '562.7', '893.55', '7511.9', '7634.25', '147.75', '220.1', '1001.2', '5848.6', '889.9', '2854.95', '1522.7', '1888.65', '1173.35', '1554.9', '211.95', '1825.5', '4350.1', '348.8', '4068', '1914.9', '3409.1', '3545.1', '4233.95', '8175.9', '1022.6', '68.75', '298.35', '71.35', '2208.05', '854.9', '2470.1', '159.2', '1121.05', '1108.2', '6352.4', '717.5', '4331.4', '45.65', '1059.55', '450.9', '231.8', '4284.65', '7930.55', '1024.65', '122.7', '237.25', '316.9', '5769.6', '803.3', '1715.15', '184.05', '446.05', '1660', '340.4', '1498.65', '4375.8', '4308.25', '5461.45', '1529.2', '1093.2', '1448.8', '186.05', '3134.7', '48.45', '1702.9', '8093.15', '2245.4', '223.15', '8312.75', '1836.9', '45.8', '4616.1', '6925.9', '518.9', '130.55', '853', '6470.1', '1387.35', '114.1', '705.45', '4824.45', '176.2', '1036.75', '1029.8', '1219.85', '6075.9', '7998.8', '3326.2', '258.35', '1559.45', '69.1', '5528.9', '114.7', '587.7', '1359', '137.25', '1093.4', '3983.6', '548.9', '2117.25', '4228.55', '8297.5', '1133.7', '1973.75', '330.25', '2001.5', '1834.95', '5244.45', '7261.75', '2309.55', '799', '285.2', '2130.55', '6118.95', '453.4', '4615.25', '2130.45', '4914.8', '552.65', '3958.2', '1079.05', '3687.75', '2048.8', '5961.1', '184.95', '2348.45', '105.6', '587.45', '83.4', '82.85', '5885.4', '1234.6', '3042.25', '1442.65', '20', '8312.4', '5919.35', '4162.05', '1842.7', '1847.55', '20.35', '90.75', '3829.75', '6780.1', '1474.35', '3512.15', '247.25', '1058.1', '3870', '3953.7', '2511.3', '829.1', '4920.8', '3670.5', '2184.85', '1778.7', '3069.45', '876.15', '2653.65', '6179.35', '167.2', '1346.2', '309.35', '69.5', '514.75', '970.4', '4740', '861.85', '452.2', '1846.65', '3472.05', '2244.95', '4657.95', '329.95', '1127.35', '527.5', '1595.5', '76.95', '7943.45', '5607.75', '1171.3', '531.15', '5124.6', '2907.55', '204.7', '3503.5', '1067.15', '2157.3', '5471.75', '3009.5', '438', '6052.25', '3886.85', '1471.75', '6503.2', '2139.2', '555.4', '20.55', '2122.45', '5401.9', '816.8', '2896.4', '2278.75', '104.2', '3928.3', '3678.3', '1341.5', '2010.95', '6572.85', '378.4', '6341.45', '639.45', '4039.5', '5071.05', '2658.4', '3091.75', '1972.35', '4388.4', '53.5', '3715.65', '720.45', '5600.15', '415.55', '552.95', '4719.75', '1237.85', '743.05', '5237.4', '279.5', '2960.1', '1054.8', '1588.75', '259.65', '834.2', '196.15', '899.8', '4639.45', '6033.1', '1657.4', '1334', '4295.35', '4620.4', '1574.5', '107.05', '3532', '6056.9', '1348.5', '374.8', '80.2', '30.2', '2015.8', '537.35', '1563.9', '244.65', '4504.55', '1740.8', '4652.4', '76', '89.3', '1776.45', '238.5', '8310.55', '632.2', '3196', '1236.15', '408.25', '970.55', '931.55', '707.5', '892.15', '8349.45', '696.35', '447.75', '1303.25', '7159.7', '1534.75', '5844.65', '523.1', '181.8', '2550.9', '80.55', '1836.25', '215.25', '5731.85', '765.5', '5356.45', '43.8', '955.15', '522.95', '3834.4', '677.05', '2448.5', '180.25', '7842.3', '905.55', '1638.7', '973.95', '7051.95', '3653.35', '416.4', '6631.85', '1070.5', '3753.2', '4860.85', '4676.7', '80.3', '170.9', '266.6', '3204.4', '1252', '428.7', '50.8', '4805.3', '3260.1', '901.25', '1423.05', '4285.8', '2016.45', '3759.05', '246.5', '1637.3', '1835.3', '71.15', '24.05', '422.6', '697.65', '834.7', '2656.3', '611.45', '1277.5', '1758.6', '1388.45', '6311.2', '2804.45', '165.2', '74.7', '1077.05', '97', '7085.5', '307.6', '6418.9', '576.7', '1429.65', '6823.4', '95', '532.1', '5935.1', '6501.35', '60', '2272.8', '475.7', '2231.05', '2838.7', '501', '1090.6', '123.65', '6077.75', '1288', '2633.3', '1463.5', '788.55', '573.3', '1184', '3778.1', '6312.9', '6094.25', '921.3', '162.15', '75.45', '815.5', '590.35', '6638.35', '4060.55', '3941.7', '6688.1', '2076.2', '781.4', '3862.55', '181.7', '2657.55', '4282.4', '1500.95', '1496.9', '426.65', '2857.6', '2710.25', '8670.1', '7238.6', '5373.1', '1071.6', '7432.05', '631.85', '8152.3', '1682.05', '151.8', '2651.1', '1066.9', '372.45', '5330.2', '1505.05', '36.8', '2391.8', '2965.75', '5153.5', '1468.75', '617.65', '878.35', '223.6', '46.35', '1381.8', '45.1', '678.8', '6302.85', '279.55', '69.95', '1043.4', '2606.35', '1884.65', '600', '55.55', '1336.1', '7987.6', '82.7', '4445.3', '1982.1', '3551.65', '1868.4', '488.65', '1529.45', '2970.8', '4783.5', '4367.35', '419.9', '415.9', '558.8', '930.95', '21', '1170.5', '1067.05', '2431.95', '3265.95', '2628.6', '122.9', '4156.8', '1156.55', '261.3', '23.45', '800.3', '2401.05', '6468.6', '6230.1', '836.35', '3058.15', '3662.25', '1616.15', '1194.3', '3807.35', '3008.55', '2090.25', '8100.55', '30.5', '477.6', '6652.45', '5645.8', '5898.6', '96.05', '708.2', '1146.05', '20.15', '1094.5', '1442.2', '866.45', '3673.6', '299.2', '5502.55', '4059.35', '5442.05', '89.15', '20.05', '514.6', '6669.05', '4447.55', '1313.55', '1466.1', '1120.95', '2215', '3930.55', '6424.7', '5743.3', '213.35', '24.6', '6536.5', '1354.4', '3857.1', '1509.8', '5498.8', '159.35', '6716.45', '755.6', '2460.15', '6827.5', '1758.9', '562.6', '2555.05', '69.8', '416.3', '2538.2', '1108', '2171.15', '4542.35', '1444.05', '264.55', '45.25', '564.4', '5785.5', '641.25', '4563', '3906.7', '5825.5', '1342.15', '102.5', '373.5', '6300.85', '4144.9', '4855.35', '242.8', '1316.9', '253.8', '33.2', '150.85', '1443.65', '1672.1', '1566.75', '625.65', '2924.05', '174.75', '1192.3', '1090.65', '5135.15', '5333.35', '3410.6', '5893.95', '1387', '544.55', '198', '140.4', '1006.9', '2839.65', '293.65', '5411.4', '477.05', '2455.05', '5595.3', '106.2', '3413.25', '4600.95', '2570.2', '32.7', '153.8', '3629.2', '1769.6', '5895.45', '2603.1', '137.1', '5538.8', '3364.55', '1117.55', '451.1', '4869.35', '50.35', '560.85', '54.7', '1372.9', '42.9', '7082.85', '431', '1396.25', '1245.05', '3436.1', '20.85', '7240.65', '5189.75', '1667.25', '174.65', '5662.25', '2545.75', '3694.45', '520.95', '1412.4', '731.3', '914.4', '7581.5', '241.3', '4016.2', '2088.75', '221.1', '770.6', '939.8', '5118.95', '1190.5', '1775.8', '1983.15', '6388.65', '756.4', '5676.65', '1302.65', '51.25', '6875.35', '188.1', '5243.05', '4433.3', '2545.7', '1319.95', '5289.05', '4911.05', '1978.65', '118.25', '743.75', '4917.9', '1208.6', '101.45', '7723.7', '3649.6', '612.1', '45.15', '1424.9', '7624.2', '1681.6', '4908.25', '216.2', '3563.8', '2868.15', '1879.25', '2531.8', '5614.45', '2473.95', '4784.45', '3351.55', '601.25', '6841.4', '2515.3', '1934.45', '639.7', '6674.65', '5275.8', '1643.25', '4744.35', '5976.9', '70.75', '1874.3', '308.1', '4107.25', '8684.8', '97.1', '3270.25', '323.15', '2208.75', '2656.7', '1240.15', '2044.95', '4378.8', '8244.3', '4327.5', '5749.8', '225.6', '4014.2', '199.45', '566.5', '5437.1', '2689.35', '221.35', '1355.1', '4807.35', '1319.85', '20.45', '248.95', '5623.7', '89.55', '882.55', '3266', '228.65', '2263.4', '6223.3', '3460.3', '150.6', '6565.85', '6869.7', '1007.9', '6273.4', '6153.85', '2289.9', '140.7', '2839.45', '435', '5411.65', '446.8', '908.55', '3219.75', '3478.75', '4391.25', '3370.2', '1178.75', '291.9', '5917.55', '6890', '5154.6', '637.55', '3231.05', '330.8', '7288.4', '44.65', '8594.4', '908.15', '435.25', '1672.35', '253.9', '6042.7', '2936.25', '981.45', '1057', '1037.75', '2624.25', '3655.45', '1265.65', '1192.7', '1739.6', '51.6', '2495.2', '764.55', '295.95', '387.9', '1993.25', '1043.3', '3794.5', '389.1', '330.6', '1021.8', '1797.1', '4386.2', '4594.65', '1415', '31.35', '5224.35', '392.65', '1580.1', '1820.9', '1527.5', '287.85', '560.6', '105.5', '574.5', '2320.8', '5594', '3958.25', '352.65', '1478.85', '4459.8', '3532.25', '805.1', '2203.65', '1601.5', '1462.6', '587.4', '969.85', '6241.35', '5585.4', '302.6', '1132.35', '5566.4', '88.8', '446.1', '184.65', '4063', '1559.3', '49.3', '4266.4', '1218.45', '273.25', '3442.8', '395.6', '272.95', '4211.55', '63', '1902', '1468.9', '4453.3', '765.15', '1798.9', '6989.7', '226.2', '1338.15', '2191.15', '819.95', '8477.6', '4469.1', '2395.7', '1389.85', '6979.8', '2890.65', '1461.45', '1856.4', '865.8', '953.45', '829.3', '5301.1', '8443.7', '2727.3', '259.4', '1205.05', '5647.95', '7397', '2538.05', '4520.15', '5073.1', '4060.9', '4917.75', '179.35', '1264.2', '6841.3', '248.4', '1020.2', '401.85', '6717.9', '6605.55', '907.05', '4653.25', '43.15', '4338.6', '235.5', '579', '135', '101.9', '1247.75', '647.5', '706.6', '1383.6', '3263.6', '463.05', '1404.65', '19', '3486.65', '5683.6', '5029.2', '370.4', '711.9', '2227.8', '7262', '1279', '4862.5', '324.2', '471.35', '6398.05', '5589.3', '3990.75', '1430.05', '470.2', '1229.1', '7173.15', '1505.45', '6697.35', '5526.75', '5044.8', '553.4', '8061.5', '5264.5', '777.35', '280', '226.95', '2462.6', '1008.7', '3772.65', '4747.5', '644.5', '1074.3', '207.35', '6431.05', '1417.9', '1905.7', '1215.1', '347.65', '3949.15', '7156.2', '115.1', '1851.45', '2343.85', '767.9', '817.95', '2187.15', '7707.7', '7559.55', '7104.2', '1135.7', '949.85', '3348.1', '686.95', '1195.95', '1461.15', '1405.3', '580.8', '292.85', '1028.9', '507.4', '757.1', '6339.3', '1498.55', '4138.9', '743.5', '5017.7', '566.1', '1968.1', '4236.6', '25.85', '229.5', '3771.5', '4478.85', '2196.15', '6155.4', '141.45', '1364.3', '1147', '717.95', '1612.2', '2541.25', '871.4', '543.8', '3085.35', '958.45', '2033.05', '7365.3', '179.25', '3561.15', '20.2', '249.4', '256.75', '662.65', '4586.15', '1841.2', '3097', '1725.4', '3480.35', '2452.7', '143.9', '5420.65', '2238.5', '4307.1', '5708.2', '1399.35', '383.65', '999.8', '156.25', '608.5', '2847.2', '117.95', '6991.6', '77.5', '132.2', '20.95', '3162.65', '3886.05', '571.05', '1539.45', '936.7', '1281', '59.75', '6413.65', '3865.45', '43.3', '3600.65', '55.25', '6792.45', '1201.65', '19.9', '336.15', '2841.55', '2168.15', '797.1', '978', '5264.3', '1930.9', '2119.5', '572.45', '296.1', '4018.35', '1005.7', '411.75', '864.2', '1620.25', '3131.8', '1183.05', '1691.9', '208.7', '3882.3', '3186.65', '40.9', '5711.05', '587.1', '5986.45', '7493.05', '169.45', '7047.5', '1521.2', '6953.4', '6547.7', '284.9', '1801.9', '8022.85', '666', '1363.25', '648.65', '1941.5', '44.7', '795.65', '616.9', '4692.55', '5229.45', '231.45', '6668', '6581.9', '1866.45', '4364.1', '322.9', '3282.75', '5568.35', '6004.85', '3767.4', '405.7', '6292.7', '7881.2', '1301.1', '4914.9', '3566.7', '605.25', '1423.35', '5618.3', '5475.9', '4720', '2198.3', '323.25', '467.15', '169.65', '673.2', '220.95', '5294.6', '1255.1', '1414.45', '381.2', '4663.4', '79.2', '3121.1', '494.05', '2178.6', '2156.25', '749.35', '1719.15', '1072', '5042.75', '1345.85', '3914.05', '1392.25', '19.4', '333.6', '5688.45', '663.05', '1114.85', '1626.4', '3956.7', '3851.45', '250.05', '59.55', '367.95', '5168.1', '313.45', '7061.65', '483.3', '7475.85', '2708.2', '3131.55', '4040.65', '8456.75', '2344.5', '3958.85', '6029.9', '3741.85', '772.85', '2193.65', '4692.95', '2068.55', '116.95', '2248.05', '45.7', '3545.05', '680.05', '3624.35', '5958.85', '4685.55', '3954.1', '444.75', '3036.75', '85.05', '6579.05', '3988.5', '235.8', '493.4', '6333.8', '1374.2', '546.45', '319.15', '70.3', '2058.5', '5784.3', '760.05', '4322.85', '4456.35', '3395.8', '391.7', '3921.1', '7007.6', '1269.6', '3474.45', '847.8', '96.1', '2854.55', '2511.55', '4513.65', '4916.95', '730.1', '1043.8', '334.65', '944.65', '1309.15', '4245.55', '2204.35', '245.15', '191.05', '5688.05', '605.9', '4368.85', '3557.7', '7299.65', '134.35', '370.25', '6506.15', '3836.3', '137.85', '1050.5', '4920.55', '465.05', '7472.15', '95.1', '38', '6171.2', '1041.8', '1517.5', '4634.35', '1060.6', '6397.6', '1453.1', '1564.05', '916.9', '2745.2', '2007.25', '6401.25', '4348.1', '6130.85', '5125.5', '3096.9', '4096.9', '1045.25', '4990.25', '270.6', '6363.45', '189.95', '3913.3', '3969.4', '4136.4', '7711.45', '25.7', '130.1', '4811.6', '3371', '3046.05', '2548.65', '196.35', '6425.65', '273.2', '5215.1', '900.9', '520.55', '2448.75', '1008.55', '478.75', '4326.8', '1189.4', '38.8', '4854.3', '84.85', '47.5', '830.7', '1533.8', '3124.5', '400.3', '7534.65', '830.8', '2415.95', '913.3', '2568.15', '1570.7', '6767.1', '1653.45', '1688.9', '6586.85', '275.4', '3182.95', '552.1', '214.4', '609.1', '1597.25', '2807.65', '2271.85', '2542.45', '5480.25', '4534.45', '812.4', '108.05', '3756.45', '1221.65', '3152.5', '2597.6', '2896.55', '4759.85', '7285.7', '917.45', '573.05', '4964.7', '2879.2', '1174.8', '6895.5', '412.5', '7365.7', '6125.4', '2813.05', '994.8', '68.8', '741.4', '1013.05', '5680.9', '677.9', '134.5', '1463.45', '234.85', '2585.95', '1128.1', '4174.35', '2146.5', '896.9', '1379.8', '3029.1', '4297.95', '5673.7', '50.65', '6886.25', '2496.7', '6078.75', '5656.75', '6779.05', '5206.55', '6404', '3403.4', '228.75', '5706.3', '167.3', '4594.95', '3014.65', '75.35', '5602.25', '49.5', '718.1', '450.4', '849.9', '3706.95', '1020.75', '834.1', '215.2', '146.4', '622.9', '702.05', '1028.75', '452.8', '266.8', '6954.15', '79.65', '8075.35', '229.55', '3861.45', '4753.85', '1025.95', '5817.7', '2929.75', '3045.75', '3656.25', '4965', '5794.45', '2236.2', '1215.8', '6747.35', '297.35', '2421.75', '5398.6', '238.15', '45.95', '3237.05', '5427.05', '1790.15', '3062.45', '2989.6', '4312.5', '1327.4', '219.5', '740.55', '3778.85', '7049.5', '1520.9', '346.2', '1553.2', '229.6', '324.8', '329.8', '1029.75', '713', '629.55', '1510.5', '18.9', '1837.9', '688.5', '2209.15', '6110.2', '4867.95', '73.65', '1201.15', '1752.65', '3361.05', '1233.15', '206.6', '1747.85', '190.05', '7862.25', '6937.95', '2257.75', '498.25', '1098.85', '5717.85', '2782.4', '2012.7', '425.9', '78.3', '770.5', '6435.25', '99.45', '1810.85', '52.2', '1026.35', '8126.65', '5774.55', '1821.8', '685.55', '494.95', '4819.75', '408.5', '5610.15', '5727.15', '3726.15', '1263.9', '71.1', '135.75', '773.65', '1328.15', '780.5', '4671.65', '459.95', '438.4', '2510.7', '1398.25', '3512.9', '272', '6056.15', '91.4', '2839.95', '4220.35', '2333.85', '1337.5', '3320.75', '3190.65', '5099.15', '2354.8', '284.35', '726.1', '779.25', '70.6', '2414.55', '2066', '1433.8', '2030.3', '316.2', '3517.9', '5785.65', '85.45', '3952.65', '4564.9', '1288.75', '400', '7222.75', '1563.95', '8013.55', '19.75', '1097.15', '74.25', '767.55', '1344.5', '155.8', '672.55', '4346.4', '880.05', '3825.85', '71.65', '1618.2', '50.75', '539.85', '684.05', '6293.75', '187.35', '973.1', '2847.4', '2516.2', '3244.4', '5686.4', '5315.1', '599.3', '2070.75', '70.35', '6735.05', '1783.6', '4492.9', '3778.2', '1502.25', '319.85', '3184.25', '117.8', '5692.65', '3848.8', '5377.8', '958.15', '7362.9', '1022.95', '2038.7', '150.75', '1446.8', '81.25', '990.45', '828.05', '1234.8', '3297', '235.1', '815.55', '628.65', '5321.25', '324.15', '1901.05', '322.5', '502.85', '434.5', '1120.3', '1621.35', '7297.75', '185.6', '3365.4', '695.05', '2679.7', '4786.1', '6841.05', '6283.3', '603', '5931.75', '239.05', '3838.2', '1212.25', '3457.45', '1092.35', '528.45', '755.4', '516.15', '486.85', '4729.3', '5812.6', '2893.4', '1031.1', '1940.85', '2877.05', '1042.65', '270.8', '7349.35', '2546.85', '1752.55', '2293.6', '1802.55', '2076.05', '463.6', '6215.35', '772.4', '7413.55', '6382.55', '485.25', '189.2', '2265.25', '7578.05', '54.3', '5817', '1782', '214.55', '6858.9', '593.3', '86', '718.55', '92.25', '2092.9', '69.85', '2781.85', '802.35', '363.15', '4187.75', '454.05', '4566.5', '7031.3', '6891.45', '2419.55', '1426.45', '369.1', '424.15', '1245.6', '24.9', '3959.35', '1818.9', '667.7', '1441.65', '1537.9', '5388.15', '94.15', '684.4', '7210.85', '1025.15', '334.8', '1880.85', '6563.4', '338.9', '94.4', '937.6', '2429.1', '5222.35', '3047.15', '1307.8', '1390.6', '4707.85', '272.2', '868.5', '658.95', '487.95', '147.55', '5347.95', '3769.7', '1734.5', '958.25', '3944.5', '3321.35', '239.75', '1574.45', '5538.35', '5276.1', '328.95', '2362.1', '4902.8', '4458.15', '4547.25', '1233.4', '2215.45', '601.55', '80.25', '1424.95', '6819.45', '798.2', '219.65', '2421.6', '45.4', '246.25', '575.45', '1049.05', '5617.95', '526.95', '1222.25', '147.8', '326.8', '2172.05', '412.6', '651.4', '443.9', '581.85', '77.15', '4135', '450.65', '5025.8', '2722.2', '452.35', '531.6', '1359.5', '1058.6', '171.15', '76.2', '237.75', '921.4', '6224.8', '164.5', '308.25', '4805.65', '2790.65', '6254.45', '2036.55', '1029.35', '168.9', '2649.15', '115.95', '4145.9', '2088.45', '128.6', '852.7', '7882.5', '7849.85', '1840.75', '919.4', '35.05', '5846.65', '7657.4', '139.35', '5574.35', '3617.1', '1336.8', '779.2', '3605.6', '5231.3', '5883.85', '279.3', '1161.75', '3590.2', '862.4', '534.7', '6079', '4089.45', '1086.75', '4984.85', '55.3', '55.8', '5763.3', '2310.2', '7108.2', '7308.95', '7752.05', '593.75', '137.95', '4317.35', '5193.2', '6841.45', '141.5', '7965.95', '654.5', '80.95', '300.4', '4438.2', '857.2', '1327.85', '7748.75', '214.75', '2642.05', '3369.25', '1160.75', '1745.2', '743.3', '7508.55', '1654.85', '3474.2', '200.2', '1558.7', '1301', '2292.75', '1441.95', '1495.1', '917.15', '1772.25', '7459.05', '155.9', '1287.85', '482.8', '2460.55', '1060.2', '1424.4', '1023.85', '333.65', '4495.65', '801.3', '1263.05', '1401.4', '76.45', '225.65', '2196.3', '146.9', '5981.65', '1195.75', '47.95', '2395.05', '54.9', '129.55', '1023.95', '39.65', '5809.75', '3969.35', '1426.75', '4263.45', '7611.55', '5714.2', '1834.15', '79.9', '2139.1', '2575.45', '3673.15', '61.05', '5453.4', '2665', '2031.95', '2331.3', '950.2', '6300.15', '3444.85', '1723.95', '3119.9', '4735.35', '90.35', '1171.5', '3190.25', '68.5', '2078.55', '420.45', '563.65', '3579.15', '1423.65', '116.85', '80.35', '651.55', '321.7', '2440.15', '4348.65', '1857.85', '369.25', '810.2', '6448.85', '3229.65', '573.75', '7882.25', '161.95', '3682.45', '1158.85', '469.8', '50.15', '436.2', '3019.1', '470', '4414.3', '602.9', '551.3', '2627.35', '1058.25', '1133.65', '1672.15', '1740.7', '247', '4303.65', '4903.2', '2768.35', '1864.2', '538.2', '1107.25', '5522.7', '451.55', '86.05', '208.25', '1360.25', '44.3', '824.75', '6671.7', '1294.6', '1611.65', '947.4', '3822.45', '141.1', '1222.65', '467.7', '7337.55', '41.2', '900.5', '1244.5', '5552.05', '1315', '530.05', '60.1', '4297.6', '3187.65', '313', '225.75', '851.8', '3161.6', '4164.4', '3470.8', '1237.3', '6069.25', '365.55', '174.3', '20.3', '5560', '233.65', '4026.4', '4443.45', '692.35', '5196.1', '565.75', '2660.2', '5586.45', '325.45', '3623.95', '237.95', '954.9', '928.4', '7723.9', '826', '6519.75', '4159.45', '6110.75', '5682.25', '556.35', '1215.65', '1297.35', '2093.9', '5969.95', '526.7', '1145.7', '394.1', '723.35', '1216.35', '5873.75', '6172', '5238.9', '4847.05', '49.7', '4847.35', '1323.7', '181.65', '403.15', '1867.7', '1315.35', '70.65', '1592.35', '1303.5', '1143.8', '897.75', '3342.45', '485.9', '1531.4', '3035.35', '6306.5', '4056.75', '5460.2', '45.75', '83.75', '821.6', '693.45', '134.75', '943.1', '411.45', '6725.3', '6480.9', '6654.1', '505.95', '119.75', '1761.05', '830.85', '865.75', '19.1', '5135.35', '851.75', '1175.85', '4138.05', '5597.65', '1147.45', '232.35', '1504.05', '3344.1', '4849.1', '1579.7', '5867', '6440.25', '1336.9', '597.9', '351.5', '1753', '5991.05', '2083.1', '4911.35', '3082.1', '5510.65', '2007.85', '5563.65', '582.5', '790.7', '1380.1', '3990.6', '474.9', '50.55', '1931.75', '827.05', '3055.5', '6549.45', '970.45', '1052.35', '4323.35', '1230.25', '809.75', '3008.15', '7537.5', '8065.65', '8127.6', '5925.75', '237.2', '6487.2', '2570', '201.95', '465.45', '244.45', '765.45', '3211.9', '1081.45', '1494.5', '2369.05', '1160.45', '223.75', '7325.1', '143.35', '321.65', '3353.4', '184.1', '8672.45', '2719.2', '2780.6', '6219.6', '1328.35', '302.75', '184.15', '739.35', '4993.4', '3515.25', '1031.4', '973.45', '303.15', '770.4', '58.3', '5445.95', '237.65', '2586', '7853.7', '5436.45', '672.2', '399.6', '3545.35', '1212.85', '1336.15', '835.15', '813.45', '920.5', '4915.15', '4615.9', '69.75', '4484.05', '2471.6', '1597.05', '1242.45', '1275.6', '2664.3', '531.55', '3739.8', '6859.05', '3301.05', '918.7', '42.45', '6816.95', '865.55', '4764', '505.45', '1641.3', '71.55', '665.45', '79.6', '468.35', '1423.15', '2549.1', '6130.95', '5515.45', '3877.95', '2335.3', '34.7', '1083.7', '4630.2', '3371.75', '4599.15', '104.3', '198.1', '811.65', '1070.15', '1430.25', '335.4', '1169.35', '360.1', '990.85', '158.35', '78.9', '2931', '6637.9', '1170.55', '7246.15', '7181.25', '1733.15', '1727.5', '1476.25', '1993.2', '6405', '4953.25', '1529.65', '218.5', '203.95', '100.2', '4398.15', '2264.5', '79.7', '5432.2', '6567.9', '6669.45', '2264.05', '278.4', '6849.75', '999.45', '2303.35', '3186.7', '916.75', '6347.55', '2054.4', '3824.2', '2135.5', '929.2', '7039.45', '31.2', '3789.2', '1685.9', '609.9', '609.65', '207.4', '307', '93.7', '100.25', '754.65', '287.4', '1523.4', '240.45', '313.6', '2283.3', '547.65', '4939.25', '1971.15', '418.3', '996.85', '2748.7', '865.85', '228', '7984.15', '5437.75', '8424.9', '2754.45', '1146.65', '186.15', '1032', '5224.5', '3355.65', '303.7', '5431.9', '1138.8', '388.6', '455.3', '413.25', '7482.1', '512.45', '937.1', '781.25', '5016.25', '4664.15', '371.4', '1200.15', '1096.25', '1010', '5199.8', '3870.3', '399.25', '1809.35', '734.6', '506.9', '2919.85', '337.9', '970.85', '1789.25', '5430.65', '541.9', '5655.45', '4828.05', '788.05', '1765.95', '2357.75', '1378.75', '5064.85', '232.4', '40.1', '4085.75', '1329.2', '3527', '1035.7', '4653.85', '989.05', '747.2', '55.05', '62.9', '7732.65', '3027.65', '645.8', '61.7', '50.45', '6140.85', '1326.35', '1284.2', '5515.8', '4748.7', '204.55', '2142.8', '5375.15', '1389.35', '993.15', '930.9', '160.8', '152.95', '6376.55', '52', '4946.05', '563.5', '1779.95', '188.7', '1540.2', '8016.6', '2614.1', '8192.6', '196.75', '2199.05', '545.2', '2364', '1009.25', '6721.6', '20.6', '1441.1', '90.6', '100.35', '343.45', '1867.6', '3141.7', '2625.25', '96.85', '1345.75', '3090.05', '3488.15', '790.15', '1346.3', '3435.6', '461.3', '3023.85', '7962.2', '5703.25', '2531.4', '3011.65', '6998.95', '3487.95', '659.45', '44.75', '60.15', '5329.55', '7405.5', '2298.55', '3171.15', '1118.8', '195.05', '4062.2', '1048.85', '1011.05', '106.55', '5293.95', '5743.05', '1530.6', '1573.05', '4424.2', '4859.95', '332.65', '5661.7', '7168.25', '7234.8', '85.55', '4149.45', '159.15', '4116.9', '4103.9', '7982.5', '2638.1', '1198.05', '2006.95', '7532.15', '5129.3', '1127.2', '4109', '3236.35', '4178.65', '7895.15', '309.1', '2779.5', '4045.65', '5924.4', '559.2', '482.25', '495.15', '5897.4', '789.55', '1907.85', '4194.85', '3264.45', '505.9', '2560.1', '5826.65', '1742.5', '2874.15', '2424.05', '267', '5037.55', '914.3', '792.15', '2333.05', '1646.45', '24', '2109.35', '3858.05', '1573.95', '1905.4', '1382.9', '1893.95', '50.1', '144', '365.35', '567.45', '6148.45', '7447.7', '914', '4760.3', '74.45', '1952.8', '7848.5', '524.5', '49.8', '48.35', '219', '180.3', '6137', '392.5', '69.15', '275.7', '61.45', '651.5', '5753.25', '6029', '1929', '4671.7', '219.35', '1178.4', '85.8', '4631.7', '1415.85', '44.8', '1267.95', '89.9', '3975.9', '3112.05', '599.25', '1363.45', '350.1', '4310.35', '65.95', '613.4', '3090.65', '1816.2', '4713.4', '1016.7', '397', '2000.2', '5997.1', '4254.85', '1506.4', '293.85', '174.8', '639.65', '1482.3', '541.15', '1626.05', '2387.75', '4693.2', '1119.9', '1048.45', '964.9', '2564.95', '3704.15', '2879.9', '3019.7', '80.85', '58.85', '2424.45', '3707.6', '146.05', '2210.2', '930.4', '2447.45', '3665.55', '3263.9', '6975.25', '314.6', '1378.45', '1849.2', '780.15', '525', '851.2', '4820.55', '4134.7', '1582.75', '1596.6', '592.65', '414.95', '20.75', '198.25', '358.15', '653.9', '523.5', '768.45', '6332.75', '2530.4', '5971.25', '1855.65', '235.65', '568.85', '632.95', '1943.9', '6253', '1505.35', '1500.25', '1790.35', '124.4', '8468.2', '1500.5', '7332.4', '2075.1', '492.55', '1567.55', '3217.55', '3254.35', '8248.5', '462.8', '1760.25', '3975.7', '401.95', '990.3', '2351.8', '668.85', '3303.05', '261.25', '269.65', '76.65', '617.35', '3030.6', '649.4', '486.2', '5940.85', '351.55', '522.35', '7446.9', '1362.85', '935.9', '635.6', '1832.4', '4428.6', '6595.9', '1600.25', '3549.25', '548.8', '2568.55', '1396', '6093.3', '4155.95', '5508.35', '4941.8', '1620.2', '829.55', '2019.8', '1095.65', '106.8', '31.9', '828.85', '294.95', '6766.95', '1380.4', '1633', '4335.2', '812.5', '7843.55', '171.45', '2878.75', '2680.15', '156.35', '246.6', '6479.4', '934.15', '442.85', '1144.5', '294.2', '6786.4', '3765.05', '69.6', '1799.3', '997.75', '78.45', '4238.45', '1422.1', '2483.05', '2948.6', '2088.05', '6585.35', '3723.65', '1553.95', '436.9', '272.35', '1359.45', '278.85', '272.15', '1244.8', '97.5', '1164.05', '1654.45', '7082.45', '4916.4', '1211.65', '4275.75', '3847.6', '1293.8', '1151.55', '1700.9', '1165.55', '4487.3', '2193.2', '4872.45', '4222.95', '6744.2', '4860.35', '4361.55', '872.65', '1356.7', '5621.85', '914.6', '3217.65', '903.8', '889', '7099', '1218.65', '1153.25', '262.05', '144.8', '86.6', '4925.35', '2698.35', '1625', '1414.65', '2979.5', '2070.6', '4016.75', '4888.2', '1311.3', '178.5', '1900.25', '6157.6', '4891.5', '655.85', '7069.3', '3899.05', '3092', '893.2', '1025.05', '60.65', '2659.45', '3756.4', '503.25', '860.85', '84.4', '551.95', '4834', '1432.55', '1415.55', '641.35', '1400.55', '416.45', '568.2', '6510.45', '298.45', '6562.9', '1434.1', '4959.6', '1178.25', '2848.45', '804.25', '2869.85', '2034.25', '1710.9', '5611.7', '6152.3', '1326.25', '4024.2', '1611.15', '7904.25', '2583.75', '5224.95', '593.05', '69.25', '3168', '2021.35', '1993.8', '2796.45', '608.8', '1821.2', '6296.75', '34.8', '43.95', '646.05', '314.45', '4896.35', '5127.95', '780.1', '1549.75', '3058.65', '7382.25', '7118.9', '349.65', '5040.2', '174.45', '8041.65', '947.75', '6705.7', '3915.4', '3880.05', '419.35', '109.6', '66.95', '3902.6', '955.6', '413.65', '389.8', '3097.2', '3092.65', '411.6', '4345', '962.9', '345.5', '574.35', '239', '341.45', '4684.3', '8289.2', '1766.75', '224.85', '1258.15', '700.45', '220.75', '73.05', '3970.4', '199.85', '3554.6', '415.95', '1951', '7919.8', '4124.65', '1126.75', '110.05', '4786.15', '1709.15', '369.3', '158.4', '7209', '554.05', '5293.2', '6252.7', '1654.6', '152.6', '2867.75', '3027.4', '314.95', '2234.95', '6733', '1594.75', '48.6', '4399.5', '179.85', '1961.6', '973.25', '1358.6', '4523.25', '289.1', '949.8', '1046.1', '2911.3', '2263.45', '3046.15', '7470.1', '2365.15', '327.45', '5549.4', '6719.9', '5311.85', '4526.85', '3211.2', '7039.05', '1215.6', '736.8', '2276.1', '3067.2', '2337.45', '5194.05', '5514.95', '695.85', '49.95', '1348.9', '2467.75', '163.2', '2209.75', '4600.7', '5948.7', '1291.3', '1463.7', '1617.5', '1406.9', '1448.6', '7553.6', '2375.4', '4528', '6141.65', '1088.25', '45.85', '3078.1', '19.7', '418.8', '888.75', '6362.35', '2830.45', '2845.15', '6256.2', '279.25', '2978.3', '911.6', '521.35', '162.55', '186.3', '629.35', '1061.6', '118.3', '3183.4', '2200.25', '289.3', '1233.25', '1715.1', '6129.2', '48.75', '1039.45', '912', '1311.6', '7839.85', '6236.75', '4479.2', '520.1', '1653.85', '827.7', '4575.35', '2215.25', '515.75', '1411.2', '3522.65', '605.75', '284.3', '274.35', '1345.65', '1990.5', '6538.45', '1325.85', '7372.65', '1561.5', '2302.35', '292.8', '3365.85', '693.3', '927.35', '196.95', '406.95', '996.95', '6325.25', '2237.55', '356.65', '2762.75', '5564.85', '855.3', '206.15', '2341.5', '3160.55', '1072.6', '521.9', '6350.5', '296.15', '1637.4', '674.55', '1964.6', '3539.25', '357.6', '98.35', '1652.1', '6994.6', '6687.85', '95.65', '1013.35', '3571.6', '2151.6', '8399.15', '8332.15', '6392.85', '89.05', '256.6', '139.75', '579.4', '1601.2', '1131.2', '2796.35', '2379.1', '958.1', '38.25', '7459', '2033.85', '1309', '5720.35', '283.95', '5733.4', '3126.85', '1923.85', '2308.6', '1718.35', '71.2', '6914.95', '454.15', '7317.1', '488.25', '235', '2878.55', '610.2', '727.85', '1331.05', '3088.25', '1105.4', '216.45', '3475.55', '1054.6', '295.65', '2715.3', '857.75', '892.7', '208', '3520.75', '8331.95', '1375.6', '3116.15', '341.6', '839.65', '2274.9', '1216.6', '746.5', '4217.8', '6000.1', '402.6', '1493.1', '3043.6', '2548.55', '3126.45', '57.5', '2342.2', '3346.8', '3974.7', '2258.25', '210.3', '304.6', '6871.9', '825.7', '267.35', '785.75', '6548.65', '571.45', '653.25', '4919.7', '7806.6', '1401.15', '7689.95', '417.7', '6185.8', '340.85', '857.25', '7159.05', '608.15', '1728.2', '220.45', '1725.95', '153.3', '518.75', '7149.35', '1195.25', '2288.7', '563.05', '2168.9', '2281.6', '1073.3', '6936.85', '2896.6', '2513.5', '4690.65', '424.45', '906.85', '7076.35', '2911.8', '3540.65', '56.35', '2356.75', '55.7', '4576.3', '1261', '6640.7', '6588.95', '490.55', '394.85', '8166.8', '273.75', '2901.8', '1115.2', '5396.25', '4428.45', '2211.8', '20.5', '4378.9', '1372.45', '3204.65', '1046.2', '1678.05', '8436.25', '542.4', '3996.8', '6328.7', '1258.6', '2111.3', '2763.35', '8317.95', '4533.7', '814.75', '288.05', '357.7', '3795.45', '864.55', '2044.75', '2475.35', '6871.7', '675.6', '3875.4', '113.5', '2495.15', '129.15', '136.05', '75.05', '310.6', '797.25', '916', '985.05', '6697.2', '5219.65', '6615.15', '5746.15', '771.95', '1698.55', '7711.25', '1857.75', '1327.15', '404.2', '263.05', '135.2', '4590.35', '521.1', '1203.95', '2032.3', '1992.85', '1911.5', '1509.9', '3626.35', '385', '521.8', '825.1', '4209.95', '1928.7', '4126.2', '425.1', '1873.7', '7176.55', '364.55', '346.45', '251.65', '373', '476.8', '265.45', '1056.95', '5481.25', '494.9', '2096.1', '1270.2', '595.05', '527.9', '74.1', '7283.25', '412.55', '1514.85', '6941.2', '4158.25', '1356.3', '819.55', '268.45', '2444.25', '669.85', '989.45', '1680.25', '8250', '887.35', '6590.5', '8033.1', '4871.45', '94.55', '235.2', '1882.55', '735.5', '3883.3', '1874.45', '6185.15', '2497.2', '7677.4', '470.95', '5737.6', '2316.85', '5553.25', '7491.75', '4750.95', '3801.7', '1796.55', '1888.45', '5174.35', '265.3', '8035.95', '5251.75', '91.45', '1750.7', '633.45', '5409.75', '2911.5', '232.55', '6891.4', '8543.25', '2438.6', '3121.4', '3145.9', '1057.85', '724.65', '893', '202.3', '5084.65', '745.3', '1336.35', '6449.15', '4730.9', '3320.6', '1857.3', '6944.5', '5999.85', '7030.65', '5841.35', '1899.65', '1074.65', '79.15', '1033.9', '1210.3', '762.5', '2773.9', '1474.75', '7171.7', '3207.55', '1274.45', '6733.15', '1024', '3005.8', '1810.55', '874.8', '967.85', '99.95', '1129.35', '929.3', '93.3', '2852.4', '3161.2', '1193.55', '7751.7', '2683.2', '1620.45', '1355.45', '6976.75', '1396.9', '253', '263.65', '712.25', '865.05', '5968.4', '3027.25', '702', '233.7', '7719.5', '4146.05', '1671.6', '75.1', '3930.6', '113.85', '1647', '5360.75', '472.65', '4845.4', '2877.95', '1709.1', '1165.9', '2633.95', '773.2', '4122.65', '1151.05', '733.95', '6511.8', '6614.9', '6903.1', '1756.6', '471.55', '5116.6', '1785.65', '475.1', '810.85', '1838.15', '442.6', '1743.5', '4036', '1370.35', '669', '839.4', '6096.9', '6239.05', '6962.85', '7932.5', '4904.85', '218.55', '5023', '1271.8', '2835.9', '1460.85', '185.55', '4507.15', '3994.05', '2524.45', '49.9', '742.95', '689', '5290.45', '4113.15', '29.7', '3720.35', '7746.7', '4213.35', '1522.65', '2369.7', '4131.95', '1816.75', '2249.1', '84.75', '6991.9', '370.65', '5918.8', '94.5', '1359.7', '1253.5', '979.5', '1815.65', '1501.75', '237.7', '454.65', '481.1', '80.05', '3210.35', '457.3', '6982.5', '7133.1', '37.2', '980.35', '6463.15', '1269.55', '1317.95', '1023.75', '2020.9', '7181.95', '243.65', '6511.25', '59.2', '2162.6', '276.5', '478.1', '242.95', '696.8', '3565.65', '2806.9', '6825.65', '39.85', '1992.95', '697.7', '35.25', '2967.35', '7101.5', '2398.4', '80.5', '70.55', '7737.55', '2964', '145.4', '220.4', '107.25', '1261.45', '5985.75', '1410.25', '4318.35', '69.65', '8182.75', '1496.45', '439.2', '8058.55', '879.8', '130.25', '5309.5', '1980.3', '4263.4', '83.3', '5234.95', '79.45', '553', '4259.3', '5236.4', '2177.45', '6521.9', '1820.45', '5791.85', '4144.8', '923.1', '2976.95', '84.2', '4535.85', '4055.5', '1001.5', '713.1', '1114.55', '2149.05', '72.4', '1226.45', '4154.8', '7251.7', '2647.2', '1712.7', '1424.5', '432.25', '75.9', '602.55', '168.65', '385.55', '892.65', '5953', '4510.8', '8058.85', '4627.65', '3452.55', '320.4', '1115.6', '1748.9', '1027.25', '2510.2', '5669.5', '4822.85', '2697.4', '856.65', '465.85', '500.1', '94.6', '1094.35', '1597.4', '1564.4', '1071.4', '3603.45', '4261.2', '713.75', '533.5', '8425.3', '131.65', '2085.45', '676.15', '381.3', '69.55', '3521.7', '1269.1', '5720.95', '3166.9', '33.6', '952.3', '1800.05', '1187.05', '1422.65', '433.95', '84.6', '7795.95', '396.1', '1536.75', '5551.15', '1625.65', '5487', '77.6', '7291.75', '1540.35', '36.45', '1181.75', '2326.05', '533.9', '1958.95', '857.8', '7634.8', '93.45', '3616.25', '3912.9', '1743.9', '472.25', '4872.35', '153.95', '3414.65', '3437.5', '831.75', '6912.7', '3708.4', '44.2', '5780.7', '1498.2', '2838.55', '873.4', '5943.65', '2907.35', '1663.75', '1662.05', '301.4', '149.55', '1755.35', '576.95', '1857.25', '1215.45', '6342.7', '1559.25', '3268.05', '19.25', '5638.3', '1285.05', '299.7', '3007.25', '6880.85', '615.35', '3512.5', '510.8', '2078.95', '3103.25', '533.05', '317.75', '59.25', '7379.8', '6126.15', '73.6', '1387.45', '4052.4', '497.6', '567.8', '2339.3', '7665.8', '5443.65', '929.45', '2369.3', '445.3', '2553.7', '4070.95', '70.9', '518.3', '742.9', '5542.55', '1818.3', '4014.6', '4309.55', '113.35', '109.3', '523.15', '1301.9', '1129.1', '255.6', '3562.5', '5832.65', '46.3', '5468.45', '3058.3', '4273.45', '7878.3', '1149.65', '2809.05', '5500.6', '1554', '3948.45', '1556.85', '2868.05', '5882.75', '868.1', '125.5', '2669.45', '1803.7', '701.05', '2871.5', '24.7', '824.85', '3252', '4820.15', '799.65', '2983.65', '299.4', '2018.4', '2763', '926.2', '21.05', '8404.9', '6127.6', '2011.4', '4532.3', '7674.55', '85.7', '7111.3', '1110.05', '3128.8', '1470.95', '196.4', '1743.05', '5832', '117.05', '321.75', '4504.9', '1701.65', '5811.8', '415.1', '5629.55', '6145.85', '7261.25', '927.1', '70.85', '4515.85', '4758.8', '2812.2', '514', '4134.85', '7220.35', '1052.4', '4086.3', '1222.8', '161.45', '116.65', '19.95', '1830.05', '679.8', '5299.65', '450.8', '1474.9', '50.7', '3334.9', '1490.4', '1566.9', '4801.1', '6668.35', '144.35', '163.6', '1082.75', '565.35', '74', '2088.8', '331.3', '233.9', '95.05', '100.9', '1673.8', '2406.1', '6428.4', '658.1', '1357.1', '524.35', '260.8', '1263.85', '8547.15', '360.55', '5536.5', '700.85', '326.65', '3615.6', '1789.9', '1155.6', '5067.45', '5730.15', '1483.25', '342.4', '8337.45', '2070.05', '2627.2', '223.9', '74.5', '1882.8', '2820.65', '554.45', '452.55', '19.2', '997.65', '2471.25', '7576.7', '118.5', '4519.5', '6590.8', '6058.95', '5779.6', '5215.25', '3625.2', '842.25', '1012.4', '2459.8', '106.9', '3292.3', '820.5', '4284.2', '554.25', '5336.35', '2499.3', '3846.75', '3640.45', '550.6', '3369.05', '6293.2', '1108.8', '754.5', '27.55', '5102.35', '1612.75', '890.5', '1305.95', '3168.75', '624.6', '528.35', '426.35', '1348.95', '1346.9', '869.9', '3439', '139.25', '2983.8', '235.05', '3465.05', '338.1', '19.55', '8476.5', '6365.35', '2688.85', '761.95', '70.8', '847.25', '265.75', '232.5', '1139.2', '3548.3', '918.6', '2894.55', '2688.45', '1183.8', '5728.55', '1642.75', '6822.15', '1388', '480.75', '7554.05', '170.85', '1630.4', '6471.85', '1260.7', '720.1', '827.3', '109.25', '73.1', '3251.3', '165.5', '101.1', '3004.15', '189.45', '2823', '30.55', '3327.05', '964.35', '3645.05', '1339.8', '5839.3', '5496.9', '8100.25', '6068.65', '1067.65', '6602.9', '723.3', '2595.25', '1421.9', '24.2', '217.5', '4983.05', '529.8', '712.85', '5598', '6555.2', '3762', '1292.65', '1414.2', '1080.55', '1994.3', '358.5', '1888.25', '4517.25', '5921.35', '5637.85', '165.4', '786.5', '1910.75', '2184.35', '4874.8', '308.7', '319.6', '4905.75', '1311.75', '4858.7', '2898.95', '1767.35', '7188.5', '5032.25', '35.45', '3462.1', '3688.6', '1379.6', '669.45', '3808', '119.3', '1398.6', '5869.4', '324.6', '784.45', '6049.5', '6385.95', '5511.65', '174.2', '2684.35', '3901.25', '7774.05', '422.3', '1191.2', '4627.8', '3650.35', '512.25', '445.85', '4729.75', '7690.9', '3340.55', '20.25', '1438.05', '321.4', '2021.2', '225.55', '1714.95', '6339.45', '1490.95', '419.4', '533.6', '3777.15', '1004.35', '1173.55', '129.2', '260.9', '302.45', '492.1', '2753.8', '38.15', '3950.85', '5459.2', '49.75', '6132.7', '1237.65', '607.3', '434.1', '1730.65', '132.4', '3313.4', '185.4', '6985.65', '4555.2', '44.55', '107.6', '74.3', '5036.3', '164.3', '1677.85', '7767.25', '1777.9', '600.25', '4539.35', '146.6', '759.35', '4442.75', '238.1', '215.8', '1218.55', '452.7', '7922.75', '132.25', '3505.1', '6885.75', '704.3', '75.7', '7015.9', '332.5', '2433.5', '266.9', '332.45', '1347.15', '254.5', '1292.6', '402.85', '973.55', '5468.95', '305.95', '1066.15', '6373.1', '3775.85', '40.2', '79.35', '614.45', '3480', '4981.15', '67.1', '1901.65', '1238.65', '4116.15', '3478.15', '2145', '943.85', '294.9', '151.75', '846.8', '2747.2', '545.15', '5769.75', '5742.9', '4619.55', '94.45', '5835.5', '3953.15', '1022.5', '5464.65', '2835.5', '5186', '3161.4', '2492.25', '551.35', '1927.3', '2441.7', '7629.85', '413', '3686.05', '1270.25', '141.7', '2522.4', '1782.4', '4200.25', '679.55', '7049.75', '910.45', '2072.75', '3015.75', '365.4', '196.9', '5038.15', '1948.35', '838.5', '3373.4', '174.7', '2921.75', '2345.2', '4370.25', '2832.75', '2494.65', '318.6', '63.75', '5031.85', '6741.15', '7008.15', '2136.9', '3744.05', '2386.85', '324.3', '571.75', '1425.45', '2964.8', '93.55', '791.75', '536.35', '875.55', '148.05', '1209.25', '1199.4', '676.7', '4300.45', '966.25', '945.7', '288.35', '3496.3', '947.3', '273.4', '1959.5', '1077.95', '3713.95', '152.45', '994.55', '369.15', '63.15', '198.6', '422.7', '1718.2', '69.9', '51.15', '4534.9', '217.1', '688.65', '1290', '197.7', '1808.7', '4186.3', '1288.3', '21.1', '1070.7', '477.7', '703.55', '527.35', '805.2', '4230.25', '249.55', '5861.75', '1051.05', '411.15', '177.4', '2587.7', '2157.95', '1152.8', '1845.9', '3050.15', '483.7', '4267.15', '70', '401.5', '7985.9', '3068.6', '368.85', '353.65', '48.95', '6849.4', '1434.6', '2882.25', '1502.65', '4738.85', '8124.2', '4882.8', '1218.25', '592.75', '4449.75', '315.3', '3432.9', '688.2', '469.25', '2640.55', '502.6', '7281.6', '6758.45', '834.15', '4299.95', '670.65', '73.55', '2215.4', '70.15', '3246.45', '1498.35', '5265.2', '5744.35', '7334.05', '349.8', '7455.45', '44.35', '5890', '2277.65', '1292.2', '44.05', '788.6', '3169.55', '1842.8', '4759.55', '4512.7', '2217.15', '1687.95', '19.8', '4039.3', '453.75', '8086.4', '856.5', '3342', '6045.9', '967.9', '113.55', '7550.3', '3398.9', '59.85', '4265', '2554', '405.6', '109.8', '2897.95', '2479.25', '1167.8', '732.5', '6287.25', '229.7', '1246.4', '2291.2', '604.7', '456.85', '418.4', '7074.4', '1286.05', '4549.45', '5060.85', '1679.4', '58.15', '100.4', '2298.9', '414.1', '222.65', '1253.15', '864.85', '4888.7', '75.8', '4108.15', '157.65', '854.8', '2651.2', '106.85', '971.3', '4524.05', '81.95', '24.25', '4018.55', '1787.35', '2647.1', '547.8', '4872.2', '377.55', '810.45', '340.35', '1537.85', '1225.65', '1615.1', '4254.1', '1313.25', '382.2', '2745.7', '232.1', '5886.85', '764.95', '1291.35', '6227.5', '2122.05', '1011.8', '242.05', '4300.8', '1238.45', '3574.5', '94', '3273.8', '3423.5', '938.95', '5960.5', '140.1', '435.45', '1205.5', '840.1', '267.4', '979.05', '194.2', '655.5', '307.4', '389.25', '362.2', '2862.75', '1686.15', '5916.45', '4166.35', '2497.35', '5629.15', '7114.25', '8333.95', '1916.2', '4145.25', '3375.9', '1055.9', '2107.15', '6223.8', '1901.25', '217.45', '181.6', '1710.15', '45.2', '3532.85', '1525.35', '2971.7', '475', '1273.3', '344.2', '3382.3', '193.6', '5163.3', '19.65', '5893.15', '6444.05', '283.75', '52.05', '2062.15', '1064.95', '738.2', '6595', '5327.25', '5458.8', '1414.8', '521.3', '2937.65', '4040.2', '1345.55', '535.35', '251.75', '2404.15', '318.9', '1133.9', '318.5', '208.45', '1974.8', '3784', '4069.9', '3895.35', '50.05', '845.25', '1217.25', '5426.85', '2390.45', '4447.75', '939.7', '4997.5', '1304.85', '930.05', '1756.2', '8308.9', '356.1', '4475.9', '1683.6', '198.5', '202.9', '2416.1', '540.95', '3017.65', '4039', '4733.1', '4904.2', '957.1', '4237.5', '3035.8', '4718.25', '601.6', '1988.05', '475.2', '5798.3', '1043.35', '8164.1', '2203.7', '4929.55', '3965.05', '4131.2', '25.25', '3420.5', '67.55', '956.65', '335.65', '220.65', '1917.1', '7556.9', '2028.8', '2964.05', '449.3', '50.5', '151.3', '1539.75', '20.8', '982.95', '2595.85', '149.05', '571.15', '1125.2', '205.05', '1929.35', '4116.8', '5714.25', '1734.2', '5278.15', '221.9', '4837.6', '5899.85', '7251.9', '1852.85', '1137.05', '733.55', '1191.4', '3772.5', '3541.1', '6263.8', '35.1', '5308.7', '24.8', '5731.4', '5000.05', '1406.65', '140.95', '5913.95', '2383.6', '181.1', '38.45', '673.25', '2375.2', '6597.25', '811.8', '2686.05', '154.3', '172.35', '6770.5', '70.4', '4400.75', '70.25', '3389.25', '723.4', '193.05', '4589.85', '25.1', '540.05', '69.35', '485.2', '607.7', '3145.15', '1377.7', '5718.2', '4284.8', '147.5', '3810.55', '6330.4', '173', '2498.4', '1411.35', '1102.4', '4354.45', '1165.6', '7422.1', '2425.4', '1156.1', '5129.45', '996.45', '2692.75', '1553.9', '45.6', '191.35', '948.9', '916.15', '2656.5', '3273.55', '5589.45', '81.05', '3440.25', '3250.45', '716.4', '3827.9', '1235.55', '5916.95', '44.1', '419.7', '4527.45', '5727.45', '42.7', '4451.85', '178.8', '357.15', '2181.75', '1082.8', '1794.8', '286.8', '1421.75', '54.75', '91.1', '504.05', '1716.45', '346.4', '1513.6', '2985.25', '538.5', '3021.45', '1024.7', '8529.5', '1885.15', '5348.65', '5016.65', '2635', '1912.85', '46.2', '3019.25', '682.15', '4189.7', '1033', '7544.3', '25.15', '6710.5', '412.1', '3043.7', '465.7', '6713.2', '2361.8', '880.2', '6028.95', '2917.5', '1798.65', '168.5', '6585.2', '154.8', '3177.25', '1386.8', '1185', '2282.55', '72', '1454.15', '389.95', '75.6', '4009.2', '2015.35', '1021.55', '80', '855.1', '973.35', '1493.2', '84.3', '1083', '1759.4', '470.6', '298.7', '1889.5', '1373.05', '1875.25', '2933.95', '4641.1', '4677.1', '1329.15', '2227.1', '152.3', '262.3', '111.4', '3084.9', '302.35', '649.65', '630.6', '1738.9', '71.25', '210.65', '3876.2', '3066.45', '76.35', '1419.4', '62.05', '293.3', '5253.95', '1183.2', '2169.4', '2003.6', '246.3', '894.3', '2566.3', '165.45', '95.45', '4976.15', '442.45', '195.3', '1752.45', '4107.3', '371.9', '25.2', '886.4', '401.3', '1801.1', '3627.3', '2681.15', '162.45', '6225.4', '1440.75', '145.15', '4323.45', '4741.45', '1275.7', '5755.8', '638', '1689.45', '239.45', '81.1', '4461.85', '4804.75', '2391.15', '6176.6', '2296.25', '710.05', '4947.55', '2095', '295.55', '7244.7', '902.25', '84.65', '2758.15', '1607.2', '1248.9', '112.75', '1103.25', '2596.15', '1175.6', '4079.55', '252.75', '6910.3', '64.55', '152.7', '1862.9', '157.55', '739.9', '3888.65', '2766.4', '2187.55', '6375.2', '2433.9', '5957.9', '762.25', '3473.4', '1505.15', '2555.9', '3003.55', '926', '2576.2', '2564.3', '2619.15', '4889.2', '5791.1', '3419.3', '2319.8', '923.85', '2815.25', '844.45', '2065.4', '2791.5', '903.7', '3416.85', '1132.75', '1539.8', '2509.25', '1374.35', '7195.35', '6844.5', '1145.35', '1004.75', '5435.6', '169.8', '673.1', '1654.75', '5483.9', '847.3', '1864.65', '4541.9', '92.65', '161.65', '1821.95', '101.65', '1715.65', '224.05', '581.7', '457.1', '1651.95', '1784.5', '5555.3', '53.15', '3593.8', '33.7', '3591.25', '5903.15', '4304', '428.45', '189.1', '7854.15', '7942.15', '3541.4', '678.75', '1177.95', '735.9', '35.9', '941', '3157', '580.1', '1332.4', '1397.3', '2049.05', '5893.9', '178.7', '5064.45', '49.65', '7213.75', '5776.45', '755.5', '1367.75', '3942.45', '3580.3', '2416.55', '3632', '2065.15', '93.85', '45', '7069.25', '678.2', '74.4', '1538.6', '2755.35', '6700.05', '224.5', '5914.4', '1259.35', '966.55', '157.75', '3021.3', '5878.9', '1298.7', '2200.7', '4179.2', '2341.55', '2598.95', '4154.55', '521', '7939.25', '795.15', '244.85', '2111.45', '406.05', '6218.45', '6161.9', '2997.45', '1679.65', '7530.8', '953.65', '6876.05', '318.1', '712.75', '659.35', '129.6', '1111.85', '4025.6', '72.1', '55', '1696.2', '858.6', '3937.45', '62.8', '1126.35', '409.9', '127.1', '5894.5', '2789.7', '1152.7', '6126.1', '447.9', '3467', '1112.3', '2566.5', '1489.3', '154.85', '1035.5', '1131.5', '2724.6', '5121.3', '62.25', '6010.05', '4192.15', '2404.1', '1014.25', '73', '7142.5', '1732.95', '1648.45', '2618.3', '733.35', '3845.45', '3089.6', '1952.25', '7412.25', '6017.65', '2234.55', '112.3', '3923.8', '1376.5', '7567.2', '1261.7', '1704.95', '1394.55', '535.55', '3687.85', '5764.7', '1861.1', '496.9', '617.85', '2610.65', '3399.85', '119.5', '2483.5', '134.05', '89.1', '1970.5', '501.35', '741', '1750.85', '746.05', '654.85', '4543.95', '329.75', '242.4', '813.85', '1544.05', '2462.55', '7968.85', '586.05', '853.1', '1581.2', '5484.4', '261.65', '5364.8', '1389.6', '1261.35', '1519', '6424.25', '3366.05', '5567.55', '535.05', '1049.6', '3735.45', '136.75', '1439.35', '2322.85', '1547.35', '3729.75', '29.95', '2995.45', '109.5', '955.75', '1813.1', '226.45', '38.7', '668.4', '1013.6', '1498.85', '92.45', '1938.9', '585.95', '503.6', '6411.25', '2093.4', '1683.7', '1390.85', '1679.25', '1664.3', '5731.45', '4738.3', '313.4', '29.9', '1188.2', '692.55', '3180.5', '606.25', '1214.05', '61.15', '593.2', '5705.05', '7689.8', '5012.35', '946.95', '3635.15', '730.4', '18.8', '7611.85', '265.8', '6603.8', '387.7', '167.5', '28.3', '1914.5', '2535.55', '589.25', '638.95', '1270.55', '1454.25', '5574.75', '144.15', '429.55', '3479.05', '25', '51.2', '2723.4', '336.7', '250.1', '4391.45', '7854.9', '1267.05', '520', '4140.1', '1272.05', '1447.9', '959.9', '55.4', '228.4', '940.35', '85.15', '3442.15', '5643.4', '151.65', '1031.7', '6690.75', '348.15', '1424.6', '1101.85', '362.6', '162.3', '6843.15', '578.5', '5283.95', '374.5', '449.75', '5950.2', '1692.6', '789.2', '347.4', '2230.85', '8129.3', '3110.1', '122', '1119.35', '7589.8', '293.15', '2338.35', '633.85', '637.4', '5431.4', '3000.25', '874.2', '516.3', '1813.35', '1493.75', '48.55', '1174.35', '2723.75', '461.7', '633.3', '3377.8', '1790.65', '6018.65', '550.1', '2110.15', '3509.4', '8564.75', '2959.8', '1665.2', '5936.55', '58.9', '5165.7', '2188.5', '5941.05', '2479.05', '108.7', '137.6', '20.4', '1206.05', '3281.65', '6375.8', '7920.7', '79.05', '794.25', '3274.35', '1505.85', '4804.65', '5581.05', '3171.6', '2184.6', '1794.65', '902', '4669.2', '780.85', '606.55', '3334.95', '1910.6', '2265', '4378.35', '4179.1', '2655.25', '125', '7887.25', '1436.95', '3804.4', '116.6', '4674.55', '3339.05', '6383.35', '681.4', '2188.45', '5959.3', '1299.1', '2666.75', '7623.2', '1258.35', '82.9', '1391.15', '6144.55', '4687.9', '1266.1', '4234.15', '1724.15', '25.3', '1614.2', '775.3', '5069.65', '445.95', '2108.35', '1099.6', '813.3', '1567', '3121.45', '1416.2', '808.95', '934.1', '79.5', '1299.8', '8046.85', '187.45', '2540.1', '438.05', '3541.35', '402.5', '3778', '3580.95', '655.9', '1893.5', '81', '4137.2', '1782.05', '750.1', '7714.65', '1424.2', '123.8', '5233.25', '3634.8', '274.7', '1254.7', '7993.3', '1013.2', '4454.25', '4868.4', '1516.6', '5730.7', '7511.3', '1386.9', '1093.1', '631.4', '2006.1', '1115.15', '459.6', '6152.4', '2572.95', '178.85', '5070.4', '3641.5', '68.95', '422.5', '7548.1', '1588.7', '103.7', '1806.35', '301.55', '74.2', '1182.55', '357.75', '191.1', '3410', '597', '4133.95', '4680.05', '933.3', '5150.55', '1776.55', '697.25', '3919.15', '1734.65', '415.4', '3330.1', '5497.05', '978.6', '7726.35', '2181.55', '3974.15', '1397.65', '7344.45', '1131.3', '7880.25', '3966.3', '689.35', '331.9', '111.65', '68.2', '1620.8', '5824.75', '6520.8', '69.7', '108.95', '7227.45', '3782.4', '54.5', '6860.6', '4900.65', '7250.15', '2536.55', '176.3', '4213.9', '2106.05', '44.6', '832.35', '2730.85', '2625.55', '1277.75', '1198.8', '257', '4480.7', '903.6', '3952.45', '368.1', '3973.2', '78.8', '39.8', '576.65', '7396.15', '89.5', '1003.05', '68.35', '3605.2', '324.25', '740', '374', '641.15', '50.6', '3201.55', '424.5', '294.45', '387.4', '73.5', '2405.05', '1295.4', '2282.95', '3856.75', '6237.05', '2212.55', '45.3', '5125.75', '2754', '583.3', '688', '120.25', '1308.1', '7544', '7609.75', '19.15', '3474.05', '7009.5', '300.8', '5750', '888.65', '7806.5', '79.8', '2345.55', '5059.75', '6393.65', '3624.3', '3985.35', '90.55', '2866.45', '5025.85', '6692.65', '480.6', '1686.85', '2198.9', '273', '330.05', '769.1', '497.3', '1958.45', '5265.55', '3871.85', '6033.3', '5812', '4224.7', '936.85', '4036.85', '1783.75', '436.6', '102.75', '1949.4', '664.4', '396.3', '434.8', '4977.2', '5124.55', '339.9', '1936.85', '751.65', '6302.8', '4747.65', '1268.85', '8078.1', '220.35', '741.7', '5980.55', '3588.4', '786.3', '2407.3', '5000.2', '1148.1', '4765', '804.85', '344.5', '3309.25', '6683.4', '5969.3', '4374.55', '644.35', '1524.85', '4014', '1222.05', '6081.4', '1162.85', '3582.4', '220.8', '818.45', '3457.9', '57.2', '1655.35', '321.9', '6529.25', '217.55', '8277.05', '6994.8', '7679.65', '2816.65', '4459.15', '627.4', '1848.8', '3147.5', '2324.7', '7852.4', '3233.85', '163.7', '1033.95', '29.15', '1871.15', '1267', '5163', '717.3', '1985.15', '165', '931.9', '4092.85', '74.95', '4408.45', '1551.6', '4730.6', '2460.35', '987.95', '5485.5', '1334.45', '91.7', '1745.5', '114.15', '4541.2', '1636.95', '2203.1', '1699.15', '791.7', '159.45', '4464.8', '5082.8', '432.5', '741.5', '3653', '87.3', '7966.9', '1442', '7953.25', '173.15', '201.1', '1134.25', '2169.8', '1266.4', '7346.2', '3874.1', '1032.05', '734.35', '1253.65', '371.6', '6751.35', '605.45', '2239.65', '497.55', '123.05', '3019.5', '257.6', '2909.95', '1923.5', '1297.8', '4048.95', '297.3', '212.4', '3264.5', '4191.45', '3838.75', '1231.85', '1064.65', '46', '715', '1815.3', '2490.15', '3094.05', '294.5', '1096.65', '321.05', '108.65', '2313.8', '4931.8', '2917.65', '2723.15', '2440.25', '233.55', '4982.5', '1451.1', '896.75', '6314.35', '3132.75', '96.8', '270.15', '2603.3', '5639.05', '8496.7', '7348.8', '3199', '2224.5', '378.6', '113.95', '5011.15', '541.5', '309.25', '1559.15', '2254.2', '1451.6', '5535.8', '3306.85', '309.4', '92.05', '250.8', '1281.25', '1815', '1763.55', '312.7', '331.6', ' ', '242', '1286', '4991.5', '156.85', '4681.75', '6129.65', '6151.9', '19.45', '2962', '6017.9', '6309.65', '466.6', '3483.45', '709.5', '420.2', '44.45', '3533.6', '1548.65', '4759.75', '4370.75', '6067.4', '53.05', '87.9', '1266.35', '187.75', '1527.35', '2659.4', '6254.2', '256.25', '306.6', '1079.65', '6055.55', '3638.25', '1641.8', '146.65', '433.75', '564.65', '1393.6', '2654.05', '359.4', '768.05', '676.35', '1457.25', '227.45', '1614.05', '3482.85', '125.95', '5060.9', '1021.75', '1036', '2793.55', '5357.75', '6448.05', '225.85', '163.55', '854.45', '6301.7', '5757.2', '260.7', '758.6', '2737.05', '6297.65', '223.45', '7053.35', '5448.6', '3173.35', '593.45', '2423.4', '1859.2', '2259.35', '5930.05', '75.5', '2751', '301.9', '121.25', '529.5', '264.85', '1413', '4138.7', '1546.3', '342.3', '3437.45', '4863.85', '330.15', '169.05', '239.55', '390.85', '6474.4', '2186.4', '1252.85', '251.25', '4859.1', '185.2', '2024.1', '4793.8', '833.55', '2696.55', '2954.5', '377.85', '6754.35', '1943.2', '3273.95', '210.75', '5810.9', '4874.7', '4667', '3247.55', '333.55', '1240.8', '6993.65', '2743.45', '1250.1', '3527.6', '4421.95', '5232.9', '4473.45', '3143.65', '2658.8', '4616.05', '1604.5', '1608.15', '3729.6', '5931', '3418.2', '2861.45', '4554.85', '655.3', '1901', '418.25', '1282.85', '4298.45', '3865.6', '1776', '5625.55', '5265.5', '4111.35', '345.9', '221.7', '306.05', '492', '6316.2', '469.85', '865.1', '237.3', '201', '1177.05', '1189.9', '8220.4', '220.6', '583', '678.45', '18.85', '43.85', '7990.05', '4473', '168.15', '763.1', '3109.9', '595.5', '164.6', '6557.75', '80.8', '1932.75', '1011.5', '169.75', '1713.1', '909.25', '617.15', '401.1', '1623.15', '1023.9', '2661.1', '424.75', '6367.2', '1081.25', '39.25', '350.3', '1140.05', '190.25', '1242.2', '890.35', '5580.8', '1426.4', '85.1', '4003', '113.1', '1497.05', '573.15', '25.8', '25.4', '4525.8', '4913.3', '3233.6', '5034.05', '264.8', '1971.5', '2453.3', '1400.85', '5289.8', '3283.05', '546.95', '1193.05', '7303.05', '6578.55', '1714.55', '3581.4', '268.35', '7661.8', '1937.4', '6812.95', '3529.95', '335.95', '1510.3', '102.45', '399.45', '3450.15', '4747.2', '5329', '4042.3', '4113.7', '660.9', '1258.3', '7856', '1129.75', '4985.9', '923.5', '3242.5', '7002.95', '1898.1', '2317.1', '613.95', '7383.7', '7548.6', '6851.65', '784.25', '6603', '6873.75', '837.5', '6382', '1908.35', '5762.95', '1334.5', '8165.1', '81.7', '3694.7', '3221.25', '2673.45', '3833.95', '3243.45', '6997.3', '1777.6', '729.95', '160.05', '4808.7', '484.05', '657.5', '1445.3', '168.6', '375.25', '4304.5', '1778.5', '4798.4', '5138.1', '1078.75', '507.9', '5012.1', '1267.2', '5295.7', '4013.8', '55.45', '4326.25', '5624.85', '82.15', '1308.4', '331.35', '6046.1', '793.55', '355.1', '6496.15', '867.1', '57.4', '75.3', '1992.55', '7521.95', '6613.65', '4494.65', '1540.05', '24.45', '1682.4', '2384.15', '3848', '870.25', '1742.75', '5200.8', '190.1', '3566.6', '2165.05', '531', '992.7', '5696.6', '3147.15', '5088.4', '31.55', '3846.35', '1629.2', '62', '3808.2', '265.35', '856.35', '2424.5', '7323.15', '356.15', '1335.2', '3725.5', '1676.95', '1068.15', '3431.75', '34.75', '382.8', '612.95', '7132.15', '2431.35', '749.25', '4368.95', '1534.05', '963.95', '2201.75', '5617.75', '6632.75', '35.85', '417.75', '3379.25', '350.35', '7388.45', '5815.15', '1912.15', '384.5', '35.75', '95.55', '226.8', '4921.2', '663.55', '5270.6', '130.75', '78.95', '78.25', '3959.15', '84.5', '633.4', '757.95', '2757.85', '3275.15', '2016.3', '943', '4859.25', '489.45', '398.55', '4664.2', '762.45', '2117.2', '1232.9', '4812.75', '5038.45', '455.5', '504.2', '3255.35', '3645.5', '184.4', '1460.65', '849.1', '6164.7', '299.3', '154.65', '493.95', '6034.85', '2029.05', '679', '1054.75', '690.25', '6287.3', '2023.55', '961.4', '1337.45', '7875', '183.75', '654.55', '251.6', '5324.5', '1157.05', '4922.4', '367.55', '5965.95', '2427.35', '3165.6', '155.65', '4456.65', '95.6', '3089.1', '1388.75', '4539.6', '6205.5', '3791.6', '5760.65', '5610.7', '7113.75', '4448.8', '1581.95', '3046.4', '1373', '5438.9', '435.4', '2283.15', '2067', '818.05', '5386.5', '4972.1', '4747.85', '4509.5', '2275.1', '3363.8', '198.7', '20.1', '155.35', '6981.35', '24.4', '280.4', '308.05', '546.85', '3921.3', '78.65', '973.65', '1975.85', '2511.95', '118.4', '438.9', '7555', '3684.95', '1781.35', '4613.95', '5980.75', '826.1', '4869.5', '281', '5139.65', '825.4', '1144.6', '5608.4', '5822.3', '5703', '1304.8', '49.55', '1673.4', '711.95', '6423', '134.6', '7475.1', '610.75', '1123.15', '171', '511.25', '442.2', '299.75', '3358.65', '1167.6', '1180.95', '156.4', '20.7', '5031', '7133.25', '2514.5', '4029.95', '92.5', '82.3', '3053', '653.95', '7840.6', '727.8', '7467.5', '666.75', '6794.75', '2626.15', '2799', '583.45', '56.25', '44.95', '4025.5', '222.3', '1938.05', '3754.6', '2193', '1859.5', '7869.05', '2588.95', '1047.7', '1070.25', '19.6', '4965.1', '4084.35', '1830.1', '1321.3', '90.1', '5430.35', '166.3', '5317.8', '411.25', '1110.35', '842.9', '2884.9', '899.45', '1110.5', '777.3', '4949.1', '1125.6', '2381.55', '3139.8', '3314.15', '5376.4', '875.35', '672.7', '3510.3', '1742.45', '1411.65', '433.5', '3618.7', '487.75', '387.2', '1451.9', '6001.45', '809.25', '828.2', '5212.65', '305.1', '2347.9', '661.25', '197.4', '5831.2', '160.85', '4264.25', '2053.05', '819.4', '1412.65', '1654.7', '209.1', '1886.4', '460.2', '5763.15', '142.35', '3122.4', '343.6', '6416.7', '3249.4', '625.05', '6038.55', '3419.5', '2888.7', '2952.85', '759.55', '3835.55', '440.2', '1416.5', '1068.85', '4627.85', '4003.85', '314.55', '5293.4', '886.7', '2961.4', '393.15', '245.2', '208.85', '1797.75', '4119.4', '1663.5', '438.25', '679.3', '6707.15', '1588.25', '7133.45', '5175.3', '146.3', '1322.85', '1826.7', '1776.95', '4097.05', '194.55', '486.05', '6014.85', '4889.3', '291.45', '1710.45', '404.35', '317.25', '4577.75', '2239.4', '407.05', '180.7', '999.9', '1147.85', '2603.95', '3425.35', '746.75', '55.2', '49', '4059.85', '2602.9', '1706.45', '144.55', '4830.25', '4735.2', '70.45', '7752.3', '417.5', '323.45', '998.1', '2351.45', '1046.5', '85.5', '921.55', '4362.05', '49.05', '7382.85', '255.5', '5509.3', '1384.75', '1385.85', '1444.65', '3023.65', '4968', '2599.95', '1336.65', '775.6', '898.35', '7318.2', '662.95', '460.25', '178.1', '25.75', '63.6', '1929.95', '1375.4', '341.35', '2718.3', '2419', '561.15', '266.95', '340.25', '5956.85', '2094.9', '46.4', '995.35', '3205.6', '1583.5', '740.3', '867.3', '7386.05', '1111.65', '1253.9', '3105.55', '2094.65', '778.1', '4614.55', '7138.65', '1358.85', '4122.9', '1872.2', '5794.65', '3887.85', '2970.3', '6396.45', '2467.1', '3646.8', '355.2', '75.75', '2934.3', '227.35', '7322.5', '1587.55', '1520.1', '830.25', '290.55', '3692.85', '386.5', '384.25', '4674.4', '79.1', '1600.95', '190.5', '1259', '74.9', '7112.15', '29.85', '147.15', '3384', '2349.8', '20.9', '1614.7', '270.7', '2613.4', '3691.2', '1955.4', '6688.95', '1493.55', '679.85', '1511.2', '577.15', '2080.1', '100.8', '927.15', '1871.85', '20.65', '1203.9', '2768.65', '6989.45', '846', '6322.1', '1343.4', '305.55', '646.85', '371.65', '69.4', '1312.45', '6252.9', '5576.3', '877.35', '2404.85', '1545.4', '2728.6', '4664.5', '845.6', '5424.25', '139.05', '7758.9', '1492.1', '931.75', '3626.1', '716.1', '720.05', '2553.35', '84.8', '2802.3', '7789.6', '75.55', '1465.75', '70.2', '1369.8', '1639.3', '564.35', '1458.1', '7040.85', '4779.45', '5588.8', '2731', '1558.65', '8071.05', '255.55', '6643.5', '6840.95', '1622.45', '244.8', '56', '1122.4', '4054.2', '7658.3', '5567.45', '2636.05', '2274.1', '6083.1', '1445.95', '54.35', '692.1', '99.75', '7028.5', '3491.55', '1430.95', '7713.55', '3751.15', '8182.85', '5083.55', '49.25', '1992.2', '1427.55', '4698.05', '4042.2', '417', '4688.65', '3316.1', '7517.7', '467.55', '908.75', '2010.55', '3810.8', '6786.1', '99.6', '937.5', '635.9', '890.6', '291.4', '2621.75', '3175.85', '161.15', '1375.15', '355.9', '5550.1', '19.05', '89.75', '3581.6', '1841.9', '2484', '7321.05', '5017.9', '79.25', '832.05', '5685.8', '1123.65', '1210.4', '713.6', '8309.55', '6430.9', '6145.2', '8196.4', '4065', '2958.95', '45.05', '202.15', '1364.75', '2025.1', '255.25', '3107.3', '8306.05', '1296.8', '7804.15', '4816.7', '7898.45', '600.15', '393.45', '474.8', '44.9', '47.7', '1614.9', '2483.65', '1442.6', '1233.65', '3842.6', '1208.15', '8477.7', '19.85', '8349.7', '4242.35', '3343.15', '1712.9', '1422.05', '837.95', '1207', '1470.05', '1431.65', '70.1', '3972.25', '1057.55', '1285.8', '4895.1', '25.05', '1764.75', '80.15', '6951.15', '7129.45', '331.85', '838.7', '216.9', '35', '4287.2', '19.3', '4839.15', '776.25', '145', '5435', '1051.9', '85', '44.4', '2250.65', '270.2', '268.4', '638.55', '1062.1', '209.9', '4732.35', '6460.55', '3409.6', '50.9', '1228.65', '6725.5', '5013', '358.05', '1532.45', '4385.05', '5985', '5450.7', '5438.95', '1725', '8425.15', '487.05', '89.25', '138.85', '1886.25', '1077.5', '150', '5264.25', '788.8', '1403.1', '2633.4', '2979.2', '2724.25', '5598.3', '2576.8', '1350.15', '1924.1', '35.55', '865', '3094.65', '659.65', '159.4', '1940.8', '3251.85', '810.7', '1747.2', '1374.9', '6383.9', '1188.25', '347.25', '1445.2', '158.95', '3454.6', '292.4', '552.9', '6921.7', '150.35', '216.75', '1462.05', '259.8', '161.5', '4551.5', '88.35', '2191.7', '1802.15', '4016.3', '107.1', '788.35', '1156.35', '4853.75', '1340.1', '6561.25', '6859.5', '1296.15', '1402.25', '990.9', '2347.85', '4299.75', '2169.75', '810.3', '1250.85', '2243.9', '7511.65', '1087.45', '59.05', '44.15', '193.8', '25.35', '1087.25', '3021.6', '620.55', '6310.9', '938.65', '499.4', '2933.2', '682.1', '1017.35', '611.65', '930.45', '124.45', '8375.05', '1730.35', '7565.35', '4533.9', '706.85', '1793.25', '689.75', '39.3', '593.85', '1275.85', '1274.05', '5305.05', '458.1', '4508.65', '3608', '1643.55', '708.8', '832.3', '86.35', '1185.95', '467.5', '71', '6889.8', '490.65', '3770', '1623.4', '1861.5', '3877.65', '3023.55', '1391.65', '354.05', '5706.2', '6856.95', '701.3', '2928.5', '7430.75', '3815.4', '3597.5', '1843.05', '2435.15', '357', '311.6', '8109.8', '1611', '3886.45', '653.15', '6281.45', '780.25', '2509.95', '1124.2', '369.6', '1108.6', '109.2', '740.8', '2862.55', '6143.15', '134.7', '439.75', '369.05', '695.75', '934.8', '4952.95', '24.75', '5029.05', '7245.9', '1087.7', '5817.45', '2674.15', '471.85', '5068.05', '2030.75', '2287.25', '6194.1', '4264', '467.85', '41.85', '229.4', '4689.15', '5071.9', '4746.05', '130.15', '165.35', '164.85', '7110.75', '3077', '279.2', '3001.2', '417.65', '383.55', '609.05', '1278.8', '515.45', '5632.55', '110.15', '299.05', '475.25', '7035.6', '876.75', '320.45', '4392.5', '77.75', '3887.25', '543', '1306.3', '5681.1', '2180.55', '683.75', '90.05', '1249.25', '4415.75', '1732.6', '36.55', '6369.45', '6770.85', '3038.55', '1584.8', '4807.45', '6589.6', '54.65', '3088.75', '403.35', '91.3', '267.6', '4549.05', '1230.9', '6782.15', '5963.95', '79.95', '73.45', '5610.25', '1240.25', '4126.35', '4546', '4017.45', '5440.9', '835.5', '7031.45', '6743.55', '4113.1', '2082.95', '572.85', '683.25', '343.95', '5405.8', '2134.3', '684.85', '6333.4', '6368.2', '3357.9', '3527.3', '3902.45', '863.1', '4481', '3238.4', '19.5', '6039.9', '950.75', '246.7', '1113.95', '5676', '4890.5', '1565.7', '3013.05', '5025', '5611.75', '3460.95', '498.1', '1759.55', '962.25', '1172.95', '3349.1', '1790.6', '2276.95', '4884.85', '1096.6', '3894.4', '5341.8', '160.75', '3801.3', '70.05', '8003.8', '53.55', '385.9', '201.7', '2447.95', '509.3', '4250.1', '471.7', '422.4', '300.7', '6201.95', '6019.35', '3893.6', '1381.2', '53.95', '170.5', '1275.65', '1477.65', '1761.45', '620.35', '168.2', '7610.1', '780.2', '360.35', '40.25', '1166.7', '61.35', '2974.5', '1784.9', '2623.65', '5860.7', '1939.35', '477.55', '6689', '5646.6', '5222.3', '2249.95', '5552.5', '1555.65', '45.35', '3946.9', '68.65', '45.55', '4577.9', '1956.4', '1224.05', '1406', '519.15', '1887', '1931.3', '5121.75', '4973.4', '1718.95', '550.35', '1095.3', '1497.9', '4885.85', '244.75', '2077.95', '690.5', '6109.75', '6929.4', '1242.25', '7542.25', '390.4', '4543.15', '2908.2', '5498.2', '4226.7', '670.35'}\n",
      "\n",
      "Churn\n",
      "{0, 1}\n",
      "\n"
     ]
    }
   ],
   "source": [
    "for i in customer_churn.columns:\n",
    "    print(i)\n",
    "    print(set(customer_churn[i]))\n",
    "    print()"
   ]
  },
  {
   "cell_type": "markdown",
   "metadata": {},
   "source": [
    "### Obeservation\n",
    "- TotalCharges is wrongly clasified"
   ]
  },
  {
   "cell_type": "markdown",
   "metadata": {},
   "source": [
    "## Correct the wrongly classified feature (TotalCharges)"
   ]
  },
  {
   "cell_type": "code",
   "execution_count": 21,
   "metadata": {},
   "outputs": [],
   "source": [
    "customer_churn[\"TotalCharges\"] = customer_churn[\"TotalCharges\"].replace({' ': np.nan})"
   ]
  },
  {
   "cell_type": "code",
   "execution_count": 22,
   "metadata": {},
   "outputs": [
    {
     "data": {
      "text/plain": [
       "11"
      ]
     },
     "execution_count": 22,
     "metadata": {},
     "output_type": "execute_result"
    }
   ],
   "source": [
    "customer_churn[\"TotalCharges\"].isnull().sum()"
   ]
  },
  {
   "cell_type": "code",
   "execution_count": 23,
   "metadata": {},
   "outputs": [],
   "source": [
    "customer_churn[\"TotalCharges\"] = customer_churn[\"TotalCharges\"].fillna(customer_churn[\"TotalCharges\"].mode()[0])"
   ]
  },
  {
   "cell_type": "code",
   "execution_count": 24,
   "metadata": {},
   "outputs": [
    {
     "data": {
      "text/plain": [
       "0"
      ]
     },
     "execution_count": 24,
     "metadata": {},
     "output_type": "execute_result"
    }
   ],
   "source": [
    "customer_churn[\"TotalCharges\"].isnull().sum()"
   ]
  },
  {
   "cell_type": "code",
   "execution_count": 25,
   "metadata": {},
   "outputs": [
    {
     "data": {
      "text/plain": [
       "dtype('float64')"
      ]
     },
     "execution_count": 25,
     "metadata": {},
     "output_type": "execute_result"
    }
   ],
   "source": [
    "customer_churn[\"TotalCharges\"] =customer_churn[\"TotalCharges\"].astype(\"float64\")\n",
    "customer_churn[\"TotalCharges\"].dtype"
   ]
  },
  {
   "cell_type": "markdown",
   "metadata": {},
   "source": [
    "## Droping Unnessery feature"
   ]
  },
  {
   "cell_type": "code",
   "execution_count": 26,
   "metadata": {},
   "outputs": [],
   "source": [
    "customer_churn.drop(columns=['customerID'] , inplace=True)"
   ]
  },
  {
   "cell_type": "code",
   "execution_count": 27,
   "metadata": {},
   "outputs": [
    {
     "data": {
      "text/plain": [
       "Index(['gender', 'SeniorCitizen', 'Partner', 'Dependents', 'tenure',\n",
       "       'PhoneService', 'MultipleLines', 'InternetService', 'OnlineSecurity',\n",
       "       'OnlineBackup', 'DeviceProtection', 'TechSupport', 'StreamingTV',\n",
       "       'StreamingMovies', 'Contract', 'PaperlessBilling', 'PaymentMethod',\n",
       "       'MonthlyCharges', 'TotalCharges', 'Churn'],\n",
       "      dtype='object')"
      ]
     },
     "execution_count": 27,
     "metadata": {},
     "output_type": "execute_result"
    }
   ],
   "source": [
    "customer_churn.columns"
   ]
  },
  {
   "cell_type": "markdown",
   "metadata": {},
   "source": [
    "## Encoding \n",
    "* One-Hot-Encoder (categroical data)"
   ]
  },
  {
   "cell_type": "code",
   "execution_count": 28,
   "metadata": {},
   "outputs": [],
   "source": [
    "customer_churn = pd.get_dummies(customer_churn , columns=categorical_feature  ,drop_first=True)"
   ]
  },
  {
   "cell_type": "code",
   "execution_count": 29,
   "metadata": {},
   "outputs": [
    {
     "name": "stdout",
     "output_type": "stream",
     "text": [
      "<class 'pandas.core.frame.DataFrame'>\n",
      "RangeIndex: 7043 entries, 0 to 7042\n",
      "Data columns (total 31 columns):\n",
      " #   Column                                 Non-Null Count  Dtype  \n",
      "---  ------                                 --------------  -----  \n",
      " 0   SeniorCitizen                          7043 non-null   int64  \n",
      " 1   tenure                                 7043 non-null   int64  \n",
      " 2   MonthlyCharges                         7043 non-null   float64\n",
      " 3   TotalCharges                           7043 non-null   float64\n",
      " 4   Churn                                  7043 non-null   int64  \n",
      " 5   gender_Male                            7043 non-null   bool   \n",
      " 6   Partner_Yes                            7043 non-null   bool   \n",
      " 7   Dependents_Yes                         7043 non-null   bool   \n",
      " 8   PhoneService_Yes                       7043 non-null   bool   \n",
      " 9   MultipleLines_No phone service         7043 non-null   bool   \n",
      " 10  MultipleLines_Yes                      7043 non-null   bool   \n",
      " 11  InternetService_Fiber optic            7043 non-null   bool   \n",
      " 12  InternetService_No                     7043 non-null   bool   \n",
      " 13  OnlineSecurity_No internet service     7043 non-null   bool   \n",
      " 14  OnlineSecurity_Yes                     7043 non-null   bool   \n",
      " 15  OnlineBackup_No internet service       7043 non-null   bool   \n",
      " 16  OnlineBackup_Yes                       7043 non-null   bool   \n",
      " 17  DeviceProtection_No internet service   7043 non-null   bool   \n",
      " 18  DeviceProtection_Yes                   7043 non-null   bool   \n",
      " 19  TechSupport_No internet service        7043 non-null   bool   \n",
      " 20  TechSupport_Yes                        7043 non-null   bool   \n",
      " 21  StreamingTV_No internet service        7043 non-null   bool   \n",
      " 22  StreamingTV_Yes                        7043 non-null   bool   \n",
      " 23  StreamingMovies_No internet service    7043 non-null   bool   \n",
      " 24  StreamingMovies_Yes                    7043 non-null   bool   \n",
      " 25  Contract_One year                      7043 non-null   bool   \n",
      " 26  Contract_Two year                      7043 non-null   bool   \n",
      " 27  PaperlessBilling_Yes                   7043 non-null   bool   \n",
      " 28  PaymentMethod_Credit card (automatic)  7043 non-null   bool   \n",
      " 29  PaymentMethod_Electronic check         7043 non-null   bool   \n",
      " 30  PaymentMethod_Mailed check             7043 non-null   bool   \n",
      "dtypes: bool(26), float64(2), int64(3)\n",
      "memory usage: 454.1 KB\n"
     ]
    }
   ],
   "source": [
    "customer_churn.info()"
   ]
  },
  {
   "cell_type": "markdown",
   "metadata": {},
   "source": [
    "## Convert True : 1 False : 0"
   ]
  },
  {
   "cell_type": "code",
   "execution_count": 30,
   "metadata": {},
   "outputs": [],
   "source": [
    "for i in customer_churn.select_dtypes('bool').columns:\n",
    "    customer_churn[i] = customer_churn[i].replace({True : 1 , False : 0})"
   ]
  },
  {
   "cell_type": "code",
   "execution_count": 31,
   "metadata": {},
   "outputs": [
    {
     "data": {
      "text/html": [
       "<div>\n",
       "<style scoped>\n",
       "    .dataframe tbody tr th:only-of-type {\n",
       "        vertical-align: middle;\n",
       "    }\n",
       "\n",
       "    .dataframe tbody tr th {\n",
       "        vertical-align: top;\n",
       "    }\n",
       "\n",
       "    .dataframe thead th {\n",
       "        text-align: right;\n",
       "    }\n",
       "</style>\n",
       "<table border=\"1\" class=\"dataframe\">\n",
       "  <thead>\n",
       "    <tr style=\"text-align: right;\">\n",
       "      <th></th>\n",
       "      <th>SeniorCitizen</th>\n",
       "      <th>tenure</th>\n",
       "      <th>MonthlyCharges</th>\n",
       "      <th>TotalCharges</th>\n",
       "      <th>Churn</th>\n",
       "      <th>gender_Male</th>\n",
       "      <th>Partner_Yes</th>\n",
       "      <th>Dependents_Yes</th>\n",
       "      <th>PhoneService_Yes</th>\n",
       "      <th>MultipleLines_No phone service</th>\n",
       "      <th>...</th>\n",
       "      <th>StreamingTV_No internet service</th>\n",
       "      <th>StreamingTV_Yes</th>\n",
       "      <th>StreamingMovies_No internet service</th>\n",
       "      <th>StreamingMovies_Yes</th>\n",
       "      <th>Contract_One year</th>\n",
       "      <th>Contract_Two year</th>\n",
       "      <th>PaperlessBilling_Yes</th>\n",
       "      <th>PaymentMethod_Credit card (automatic)</th>\n",
       "      <th>PaymentMethod_Electronic check</th>\n",
       "      <th>PaymentMethod_Mailed check</th>\n",
       "    </tr>\n",
       "  </thead>\n",
       "  <tbody>\n",
       "    <tr>\n",
       "      <th>0</th>\n",
       "      <td>0</td>\n",
       "      <td>1</td>\n",
       "      <td>29.85</td>\n",
       "      <td>29.85</td>\n",
       "      <td>0</td>\n",
       "      <td>0</td>\n",
       "      <td>1</td>\n",
       "      <td>0</td>\n",
       "      <td>0</td>\n",
       "      <td>1</td>\n",
       "      <td>...</td>\n",
       "      <td>0</td>\n",
       "      <td>0</td>\n",
       "      <td>0</td>\n",
       "      <td>0</td>\n",
       "      <td>0</td>\n",
       "      <td>0</td>\n",
       "      <td>1</td>\n",
       "      <td>0</td>\n",
       "      <td>1</td>\n",
       "      <td>0</td>\n",
       "    </tr>\n",
       "    <tr>\n",
       "      <th>1</th>\n",
       "      <td>0</td>\n",
       "      <td>34</td>\n",
       "      <td>56.95</td>\n",
       "      <td>1889.50</td>\n",
       "      <td>0</td>\n",
       "      <td>1</td>\n",
       "      <td>0</td>\n",
       "      <td>0</td>\n",
       "      <td>1</td>\n",
       "      <td>0</td>\n",
       "      <td>...</td>\n",
       "      <td>0</td>\n",
       "      <td>0</td>\n",
       "      <td>0</td>\n",
       "      <td>0</td>\n",
       "      <td>1</td>\n",
       "      <td>0</td>\n",
       "      <td>0</td>\n",
       "      <td>0</td>\n",
       "      <td>0</td>\n",
       "      <td>1</td>\n",
       "    </tr>\n",
       "    <tr>\n",
       "      <th>2</th>\n",
       "      <td>0</td>\n",
       "      <td>2</td>\n",
       "      <td>53.85</td>\n",
       "      <td>108.15</td>\n",
       "      <td>1</td>\n",
       "      <td>1</td>\n",
       "      <td>0</td>\n",
       "      <td>0</td>\n",
       "      <td>1</td>\n",
       "      <td>0</td>\n",
       "      <td>...</td>\n",
       "      <td>0</td>\n",
       "      <td>0</td>\n",
       "      <td>0</td>\n",
       "      <td>0</td>\n",
       "      <td>0</td>\n",
       "      <td>0</td>\n",
       "      <td>1</td>\n",
       "      <td>0</td>\n",
       "      <td>0</td>\n",
       "      <td>1</td>\n",
       "    </tr>\n",
       "    <tr>\n",
       "      <th>3</th>\n",
       "      <td>0</td>\n",
       "      <td>45</td>\n",
       "      <td>42.30</td>\n",
       "      <td>1840.75</td>\n",
       "      <td>0</td>\n",
       "      <td>1</td>\n",
       "      <td>0</td>\n",
       "      <td>0</td>\n",
       "      <td>0</td>\n",
       "      <td>1</td>\n",
       "      <td>...</td>\n",
       "      <td>0</td>\n",
       "      <td>0</td>\n",
       "      <td>0</td>\n",
       "      <td>0</td>\n",
       "      <td>1</td>\n",
       "      <td>0</td>\n",
       "      <td>0</td>\n",
       "      <td>0</td>\n",
       "      <td>0</td>\n",
       "      <td>0</td>\n",
       "    </tr>\n",
       "    <tr>\n",
       "      <th>4</th>\n",
       "      <td>0</td>\n",
       "      <td>2</td>\n",
       "      <td>70.70</td>\n",
       "      <td>151.65</td>\n",
       "      <td>1</td>\n",
       "      <td>0</td>\n",
       "      <td>0</td>\n",
       "      <td>0</td>\n",
       "      <td>1</td>\n",
       "      <td>0</td>\n",
       "      <td>...</td>\n",
       "      <td>0</td>\n",
       "      <td>0</td>\n",
       "      <td>0</td>\n",
       "      <td>0</td>\n",
       "      <td>0</td>\n",
       "      <td>0</td>\n",
       "      <td>1</td>\n",
       "      <td>0</td>\n",
       "      <td>1</td>\n",
       "      <td>0</td>\n",
       "    </tr>\n",
       "  </tbody>\n",
       "</table>\n",
       "<p>5 rows × 31 columns</p>\n",
       "</div>"
      ],
      "text/plain": [
       "   SeniorCitizen  tenure  MonthlyCharges  TotalCharges  Churn  gender_Male  \\\n",
       "0              0       1           29.85         29.85      0            0   \n",
       "1              0      34           56.95       1889.50      0            1   \n",
       "2              0       2           53.85        108.15      1            1   \n",
       "3              0      45           42.30       1840.75      0            1   \n",
       "4              0       2           70.70        151.65      1            0   \n",
       "\n",
       "   Partner_Yes  Dependents_Yes  PhoneService_Yes  \\\n",
       "0            1               0                 0   \n",
       "1            0               0                 1   \n",
       "2            0               0                 1   \n",
       "3            0               0                 0   \n",
       "4            0               0                 1   \n",
       "\n",
       "   MultipleLines_No phone service  ...  StreamingTV_No internet service  \\\n",
       "0                               1  ...                                0   \n",
       "1                               0  ...                                0   \n",
       "2                               0  ...                                0   \n",
       "3                               1  ...                                0   \n",
       "4                               0  ...                                0   \n",
       "\n",
       "   StreamingTV_Yes  StreamingMovies_No internet service  StreamingMovies_Yes  \\\n",
       "0                0                                    0                    0   \n",
       "1                0                                    0                    0   \n",
       "2                0                                    0                    0   \n",
       "3                0                                    0                    0   \n",
       "4                0                                    0                    0   \n",
       "\n",
       "   Contract_One year  Contract_Two year  PaperlessBilling_Yes  \\\n",
       "0                  0                  0                     1   \n",
       "1                  1                  0                     0   \n",
       "2                  0                  0                     1   \n",
       "3                  1                  0                     0   \n",
       "4                  0                  0                     1   \n",
       "\n",
       "   PaymentMethod_Credit card (automatic)  PaymentMethod_Electronic check  \\\n",
       "0                                      0                               1   \n",
       "1                                      0                               0   \n",
       "2                                      0                               0   \n",
       "3                                      0                               0   \n",
       "4                                      0                               1   \n",
       "\n",
       "   PaymentMethod_Mailed check  \n",
       "0                           0  \n",
       "1                           1  \n",
       "2                           1  \n",
       "3                           0  \n",
       "4                           0  \n",
       "\n",
       "[5 rows x 31 columns]"
      ]
     },
     "execution_count": 31,
     "metadata": {},
     "output_type": "execute_result"
    }
   ],
   "source": [
    "customer_churn.head()"
   ]
  },
  {
   "cell_type": "code",
   "execution_count": 32,
   "metadata": {},
   "outputs": [
    {
     "data": {
      "text/html": [
       "<div>\n",
       "<style scoped>\n",
       "    .dataframe tbody tr th:only-of-type {\n",
       "        vertical-align: middle;\n",
       "    }\n",
       "\n",
       "    .dataframe tbody tr th {\n",
       "        vertical-align: top;\n",
       "    }\n",
       "\n",
       "    .dataframe thead th {\n",
       "        text-align: right;\n",
       "    }\n",
       "</style>\n",
       "<table border=\"1\" class=\"dataframe\">\n",
       "  <thead>\n",
       "    <tr style=\"text-align: right;\">\n",
       "      <th></th>\n",
       "      <th>SeniorCitizen</th>\n",
       "      <th>tenure</th>\n",
       "      <th>MonthlyCharges</th>\n",
       "      <th>TotalCharges</th>\n",
       "      <th>Churn</th>\n",
       "      <th>gender_Male</th>\n",
       "      <th>Partner_Yes</th>\n",
       "      <th>Dependents_Yes</th>\n",
       "      <th>PhoneService_Yes</th>\n",
       "      <th>MultipleLines_No phone service</th>\n",
       "      <th>...</th>\n",
       "      <th>StreamingTV_No internet service</th>\n",
       "      <th>StreamingTV_Yes</th>\n",
       "      <th>StreamingMovies_No internet service</th>\n",
       "      <th>StreamingMovies_Yes</th>\n",
       "      <th>Contract_One year</th>\n",
       "      <th>Contract_Two year</th>\n",
       "      <th>PaperlessBilling_Yes</th>\n",
       "      <th>PaymentMethod_Credit card (automatic)</th>\n",
       "      <th>PaymentMethod_Electronic check</th>\n",
       "      <th>PaymentMethod_Mailed check</th>\n",
       "    </tr>\n",
       "  </thead>\n",
       "  <tbody>\n",
       "    <tr>\n",
       "      <th>count</th>\n",
       "      <td>7043.000000</td>\n",
       "      <td>7043.000000</td>\n",
       "      <td>7043.000000</td>\n",
       "      <td>7043.000000</td>\n",
       "      <td>7043.000000</td>\n",
       "      <td>7043.000000</td>\n",
       "      <td>7043.000000</td>\n",
       "      <td>7043.000000</td>\n",
       "      <td>7043.000000</td>\n",
       "      <td>7043.000000</td>\n",
       "      <td>...</td>\n",
       "      <td>7043.000000</td>\n",
       "      <td>7043.000000</td>\n",
       "      <td>7043.000000</td>\n",
       "      <td>7043.000000</td>\n",
       "      <td>7043.000000</td>\n",
       "      <td>7043.000000</td>\n",
       "      <td>7043.000000</td>\n",
       "      <td>7043.000000</td>\n",
       "      <td>7043.000000</td>\n",
       "      <td>7043.000000</td>\n",
       "    </tr>\n",
       "    <tr>\n",
       "      <th>mean</th>\n",
       "      <td>0.162147</td>\n",
       "      <td>32.371149</td>\n",
       "      <td>64.761692</td>\n",
       "      <td>2279.765853</td>\n",
       "      <td>0.265370</td>\n",
       "      <td>0.504756</td>\n",
       "      <td>0.483033</td>\n",
       "      <td>0.299588</td>\n",
       "      <td>0.903166</td>\n",
       "      <td>0.096834</td>\n",
       "      <td>...</td>\n",
       "      <td>0.216669</td>\n",
       "      <td>0.384353</td>\n",
       "      <td>0.216669</td>\n",
       "      <td>0.387903</td>\n",
       "      <td>0.209144</td>\n",
       "      <td>0.240664</td>\n",
       "      <td>0.592219</td>\n",
       "      <td>0.216101</td>\n",
       "      <td>0.335794</td>\n",
       "      <td>0.228880</td>\n",
       "    </tr>\n",
       "    <tr>\n",
       "      <th>std</th>\n",
       "      <td>0.368612</td>\n",
       "      <td>24.559481</td>\n",
       "      <td>30.090047</td>\n",
       "      <td>2266.762876</td>\n",
       "      <td>0.441561</td>\n",
       "      <td>0.500013</td>\n",
       "      <td>0.499748</td>\n",
       "      <td>0.458110</td>\n",
       "      <td>0.295752</td>\n",
       "      <td>0.295752</td>\n",
       "      <td>...</td>\n",
       "      <td>0.412004</td>\n",
       "      <td>0.486477</td>\n",
       "      <td>0.412004</td>\n",
       "      <td>0.487307</td>\n",
       "      <td>0.406726</td>\n",
       "      <td>0.427517</td>\n",
       "      <td>0.491457</td>\n",
       "      <td>0.411613</td>\n",
       "      <td>0.472301</td>\n",
       "      <td>0.420141</td>\n",
       "    </tr>\n",
       "    <tr>\n",
       "      <th>min</th>\n",
       "      <td>0.000000</td>\n",
       "      <td>0.000000</td>\n",
       "      <td>18.250000</td>\n",
       "      <td>18.800000</td>\n",
       "      <td>0.000000</td>\n",
       "      <td>0.000000</td>\n",
       "      <td>0.000000</td>\n",
       "      <td>0.000000</td>\n",
       "      <td>0.000000</td>\n",
       "      <td>0.000000</td>\n",
       "      <td>...</td>\n",
       "      <td>0.000000</td>\n",
       "      <td>0.000000</td>\n",
       "      <td>0.000000</td>\n",
       "      <td>0.000000</td>\n",
       "      <td>0.000000</td>\n",
       "      <td>0.000000</td>\n",
       "      <td>0.000000</td>\n",
       "      <td>0.000000</td>\n",
       "      <td>0.000000</td>\n",
       "      <td>0.000000</td>\n",
       "    </tr>\n",
       "    <tr>\n",
       "      <th>25%</th>\n",
       "      <td>0.000000</td>\n",
       "      <td>9.000000</td>\n",
       "      <td>35.500000</td>\n",
       "      <td>398.550000</td>\n",
       "      <td>0.000000</td>\n",
       "      <td>0.000000</td>\n",
       "      <td>0.000000</td>\n",
       "      <td>0.000000</td>\n",
       "      <td>1.000000</td>\n",
       "      <td>0.000000</td>\n",
       "      <td>...</td>\n",
       "      <td>0.000000</td>\n",
       "      <td>0.000000</td>\n",
       "      <td>0.000000</td>\n",
       "      <td>0.000000</td>\n",
       "      <td>0.000000</td>\n",
       "      <td>0.000000</td>\n",
       "      <td>0.000000</td>\n",
       "      <td>0.000000</td>\n",
       "      <td>0.000000</td>\n",
       "      <td>0.000000</td>\n",
       "    </tr>\n",
       "    <tr>\n",
       "      <th>50%</th>\n",
       "      <td>0.000000</td>\n",
       "      <td>29.000000</td>\n",
       "      <td>70.350000</td>\n",
       "      <td>1394.550000</td>\n",
       "      <td>0.000000</td>\n",
       "      <td>1.000000</td>\n",
       "      <td>0.000000</td>\n",
       "      <td>0.000000</td>\n",
       "      <td>1.000000</td>\n",
       "      <td>0.000000</td>\n",
       "      <td>...</td>\n",
       "      <td>0.000000</td>\n",
       "      <td>0.000000</td>\n",
       "      <td>0.000000</td>\n",
       "      <td>0.000000</td>\n",
       "      <td>0.000000</td>\n",
       "      <td>0.000000</td>\n",
       "      <td>1.000000</td>\n",
       "      <td>0.000000</td>\n",
       "      <td>0.000000</td>\n",
       "      <td>0.000000</td>\n",
       "    </tr>\n",
       "    <tr>\n",
       "      <th>75%</th>\n",
       "      <td>0.000000</td>\n",
       "      <td>55.000000</td>\n",
       "      <td>89.850000</td>\n",
       "      <td>3786.600000</td>\n",
       "      <td>1.000000</td>\n",
       "      <td>1.000000</td>\n",
       "      <td>1.000000</td>\n",
       "      <td>1.000000</td>\n",
       "      <td>1.000000</td>\n",
       "      <td>0.000000</td>\n",
       "      <td>...</td>\n",
       "      <td>0.000000</td>\n",
       "      <td>1.000000</td>\n",
       "      <td>0.000000</td>\n",
       "      <td>1.000000</td>\n",
       "      <td>0.000000</td>\n",
       "      <td>0.000000</td>\n",
       "      <td>1.000000</td>\n",
       "      <td>0.000000</td>\n",
       "      <td>1.000000</td>\n",
       "      <td>0.000000</td>\n",
       "    </tr>\n",
       "    <tr>\n",
       "      <th>max</th>\n",
       "      <td>1.000000</td>\n",
       "      <td>72.000000</td>\n",
       "      <td>118.750000</td>\n",
       "      <td>8684.800000</td>\n",
       "      <td>1.000000</td>\n",
       "      <td>1.000000</td>\n",
       "      <td>1.000000</td>\n",
       "      <td>1.000000</td>\n",
       "      <td>1.000000</td>\n",
       "      <td>1.000000</td>\n",
       "      <td>...</td>\n",
       "      <td>1.000000</td>\n",
       "      <td>1.000000</td>\n",
       "      <td>1.000000</td>\n",
       "      <td>1.000000</td>\n",
       "      <td>1.000000</td>\n",
       "      <td>1.000000</td>\n",
       "      <td>1.000000</td>\n",
       "      <td>1.000000</td>\n",
       "      <td>1.000000</td>\n",
       "      <td>1.000000</td>\n",
       "    </tr>\n",
       "  </tbody>\n",
       "</table>\n",
       "<p>8 rows × 31 columns</p>\n",
       "</div>"
      ],
      "text/plain": [
       "       SeniorCitizen       tenure  MonthlyCharges  TotalCharges        Churn  \\\n",
       "count    7043.000000  7043.000000     7043.000000   7043.000000  7043.000000   \n",
       "mean        0.162147    32.371149       64.761692   2279.765853     0.265370   \n",
       "std         0.368612    24.559481       30.090047   2266.762876     0.441561   \n",
       "min         0.000000     0.000000       18.250000     18.800000     0.000000   \n",
       "25%         0.000000     9.000000       35.500000    398.550000     0.000000   \n",
       "50%         0.000000    29.000000       70.350000   1394.550000     0.000000   \n",
       "75%         0.000000    55.000000       89.850000   3786.600000     1.000000   \n",
       "max         1.000000    72.000000      118.750000   8684.800000     1.000000   \n",
       "\n",
       "       gender_Male  Partner_Yes  Dependents_Yes  PhoneService_Yes  \\\n",
       "count  7043.000000  7043.000000     7043.000000       7043.000000   \n",
       "mean      0.504756     0.483033        0.299588          0.903166   \n",
       "std       0.500013     0.499748        0.458110          0.295752   \n",
       "min       0.000000     0.000000        0.000000          0.000000   \n",
       "25%       0.000000     0.000000        0.000000          1.000000   \n",
       "50%       1.000000     0.000000        0.000000          1.000000   \n",
       "75%       1.000000     1.000000        1.000000          1.000000   \n",
       "max       1.000000     1.000000        1.000000          1.000000   \n",
       "\n",
       "       MultipleLines_No phone service  ...  StreamingTV_No internet service  \\\n",
       "count                     7043.000000  ...                      7043.000000   \n",
       "mean                         0.096834  ...                         0.216669   \n",
       "std                          0.295752  ...                         0.412004   \n",
       "min                          0.000000  ...                         0.000000   \n",
       "25%                          0.000000  ...                         0.000000   \n",
       "50%                          0.000000  ...                         0.000000   \n",
       "75%                          0.000000  ...                         0.000000   \n",
       "max                          1.000000  ...                         1.000000   \n",
       "\n",
       "       StreamingTV_Yes  StreamingMovies_No internet service  \\\n",
       "count      7043.000000                          7043.000000   \n",
       "mean          0.384353                             0.216669   \n",
       "std           0.486477                             0.412004   \n",
       "min           0.000000                             0.000000   \n",
       "25%           0.000000                             0.000000   \n",
       "50%           0.000000                             0.000000   \n",
       "75%           1.000000                             0.000000   \n",
       "max           1.000000                             1.000000   \n",
       "\n",
       "       StreamingMovies_Yes  Contract_One year  Contract_Two year  \\\n",
       "count          7043.000000        7043.000000        7043.000000   \n",
       "mean              0.387903           0.209144           0.240664   \n",
       "std               0.487307           0.406726           0.427517   \n",
       "min               0.000000           0.000000           0.000000   \n",
       "25%               0.000000           0.000000           0.000000   \n",
       "50%               0.000000           0.000000           0.000000   \n",
       "75%               1.000000           0.000000           0.000000   \n",
       "max               1.000000           1.000000           1.000000   \n",
       "\n",
       "       PaperlessBilling_Yes  PaymentMethod_Credit card (automatic)  \\\n",
       "count           7043.000000                            7043.000000   \n",
       "mean               0.592219                               0.216101   \n",
       "std                0.491457                               0.411613   \n",
       "min                0.000000                               0.000000   \n",
       "25%                0.000000                               0.000000   \n",
       "50%                1.000000                               0.000000   \n",
       "75%                1.000000                               0.000000   \n",
       "max                1.000000                               1.000000   \n",
       "\n",
       "       PaymentMethod_Electronic check  PaymentMethod_Mailed check  \n",
       "count                     7043.000000                 7043.000000  \n",
       "mean                         0.335794                    0.228880  \n",
       "std                          0.472301                    0.420141  \n",
       "min                          0.000000                    0.000000  \n",
       "25%                          0.000000                    0.000000  \n",
       "50%                          0.000000                    0.000000  \n",
       "75%                          1.000000                    0.000000  \n",
       "max                          1.000000                    1.000000  \n",
       "\n",
       "[8 rows x 31 columns]"
      ]
     },
     "execution_count": 32,
     "metadata": {},
     "output_type": "execute_result"
    }
   ],
   "source": [
    "customer_churn.describe()"
   ]
  },
  {
   "cell_type": "markdown",
   "metadata": {},
   "source": [
    "## Split Data into dependent and independent variable "
   ]
  },
  {
   "cell_type": "code",
   "execution_count": 33,
   "metadata": {},
   "outputs": [],
   "source": [
    "x  = customer_churn.drop(columns=['Churn']) #independent\n",
    "y = customer_churn['Churn']                 #dependent"
   ]
  },
  {
   "cell_type": "code",
   "execution_count": 34,
   "metadata": {},
   "outputs": [
    {
     "data": {
      "text/plain": [
       "Index(['SeniorCitizen', 'tenure', 'MonthlyCharges', 'TotalCharges',\n",
       "       'gender_Male', 'Partner_Yes', 'Dependents_Yes', 'PhoneService_Yes',\n",
       "       'MultipleLines_No phone service', 'MultipleLines_Yes',\n",
       "       'InternetService_Fiber optic', 'InternetService_No',\n",
       "       'OnlineSecurity_No internet service', 'OnlineSecurity_Yes',\n",
       "       'OnlineBackup_No internet service', 'OnlineBackup_Yes',\n",
       "       'DeviceProtection_No internet service', 'DeviceProtection_Yes',\n",
       "       'TechSupport_No internet service', 'TechSupport_Yes',\n",
       "       'StreamingTV_No internet service', 'StreamingTV_Yes',\n",
       "       'StreamingMovies_No internet service', 'StreamingMovies_Yes',\n",
       "       'Contract_One year', 'Contract_Two year', 'PaperlessBilling_Yes',\n",
       "       'PaymentMethod_Credit card (automatic)',\n",
       "       'PaymentMethod_Electronic check', 'PaymentMethod_Mailed check'],\n",
       "      dtype='object')"
      ]
     },
     "execution_count": 34,
     "metadata": {},
     "output_type": "execute_result"
    }
   ],
   "source": [
    "x.columns"
   ]
  },
  {
   "cell_type": "code",
   "execution_count": 35,
   "metadata": {},
   "outputs": [
    {
     "data": {
      "text/plain": [
       "0    0\n",
       "1    0\n",
       "2    1\n",
       "3    0\n",
       "4    1\n",
       "Name: Churn, dtype: int64"
      ]
     },
     "execution_count": 35,
     "metadata": {},
     "output_type": "execute_result"
    }
   ],
   "source": [
    "y.head()"
   ]
  },
  {
   "cell_type": "markdown",
   "metadata": {},
   "source": [
    "## Feature Scalling"
   ]
  },
  {
   "cell_type": "code",
   "execution_count": 36,
   "metadata": {},
   "outputs": [],
   "source": [
    "from sklearn.preprocessing import StandardScaler\n",
    "scaler = StandardScaler()\n",
    "scaler_column = ['tenure','MonthlyCharges',\t'TotalCharges']\n",
    "x[scaler_column] = pd.DataFrame(scaler.fit_transform(x[scaler_column]) , columns=scaler_column)"
   ]
  },
  {
   "cell_type": "code",
   "execution_count": 37,
   "metadata": {},
   "outputs": [
    {
     "data": {
      "text/html": [
       "<div>\n",
       "<style scoped>\n",
       "    .dataframe tbody tr th:only-of-type {\n",
       "        vertical-align: middle;\n",
       "    }\n",
       "\n",
       "    .dataframe tbody tr th {\n",
       "        vertical-align: top;\n",
       "    }\n",
       "\n",
       "    .dataframe thead th {\n",
       "        text-align: right;\n",
       "    }\n",
       "</style>\n",
       "<table border=\"1\" class=\"dataframe\">\n",
       "  <thead>\n",
       "    <tr style=\"text-align: right;\">\n",
       "      <th></th>\n",
       "      <th>SeniorCitizen</th>\n",
       "      <th>tenure</th>\n",
       "      <th>MonthlyCharges</th>\n",
       "      <th>TotalCharges</th>\n",
       "      <th>gender_Male</th>\n",
       "      <th>Partner_Yes</th>\n",
       "      <th>Dependents_Yes</th>\n",
       "      <th>PhoneService_Yes</th>\n",
       "      <th>MultipleLines_No phone service</th>\n",
       "      <th>MultipleLines_Yes</th>\n",
       "      <th>...</th>\n",
       "      <th>StreamingTV_No internet service</th>\n",
       "      <th>StreamingTV_Yes</th>\n",
       "      <th>StreamingMovies_No internet service</th>\n",
       "      <th>StreamingMovies_Yes</th>\n",
       "      <th>Contract_One year</th>\n",
       "      <th>Contract_Two year</th>\n",
       "      <th>PaperlessBilling_Yes</th>\n",
       "      <th>PaymentMethod_Credit card (automatic)</th>\n",
       "      <th>PaymentMethod_Electronic check</th>\n",
       "      <th>PaymentMethod_Mailed check</th>\n",
       "    </tr>\n",
       "  </thead>\n",
       "  <tbody>\n",
       "    <tr>\n",
       "      <th>0</th>\n",
       "      <td>0</td>\n",
       "      <td>-1.277445</td>\n",
       "      <td>-1.160323</td>\n",
       "      <td>-0.992638</td>\n",
       "      <td>0</td>\n",
       "      <td>1</td>\n",
       "      <td>0</td>\n",
       "      <td>0</td>\n",
       "      <td>1</td>\n",
       "      <td>0</td>\n",
       "      <td>...</td>\n",
       "      <td>0</td>\n",
       "      <td>0</td>\n",
       "      <td>0</td>\n",
       "      <td>0</td>\n",
       "      <td>0</td>\n",
       "      <td>0</td>\n",
       "      <td>1</td>\n",
       "      <td>0</td>\n",
       "      <td>1</td>\n",
       "      <td>0</td>\n",
       "    </tr>\n",
       "    <tr>\n",
       "      <th>1</th>\n",
       "      <td>0</td>\n",
       "      <td>0.066327</td>\n",
       "      <td>-0.259629</td>\n",
       "      <td>-0.172181</td>\n",
       "      <td>1</td>\n",
       "      <td>0</td>\n",
       "      <td>0</td>\n",
       "      <td>1</td>\n",
       "      <td>0</td>\n",
       "      <td>0</td>\n",
       "      <td>...</td>\n",
       "      <td>0</td>\n",
       "      <td>0</td>\n",
       "      <td>0</td>\n",
       "      <td>0</td>\n",
       "      <td>1</td>\n",
       "      <td>0</td>\n",
       "      <td>0</td>\n",
       "      <td>0</td>\n",
       "      <td>0</td>\n",
       "      <td>1</td>\n",
       "    </tr>\n",
       "    <tr>\n",
       "      <th>2</th>\n",
       "      <td>0</td>\n",
       "      <td>-1.236724</td>\n",
       "      <td>-0.362660</td>\n",
       "      <td>-0.958093</td>\n",
       "      <td>1</td>\n",
       "      <td>0</td>\n",
       "      <td>0</td>\n",
       "      <td>1</td>\n",
       "      <td>0</td>\n",
       "      <td>0</td>\n",
       "      <td>...</td>\n",
       "      <td>0</td>\n",
       "      <td>0</td>\n",
       "      <td>0</td>\n",
       "      <td>0</td>\n",
       "      <td>0</td>\n",
       "      <td>0</td>\n",
       "      <td>1</td>\n",
       "      <td>0</td>\n",
       "      <td>0</td>\n",
       "      <td>1</td>\n",
       "    </tr>\n",
       "    <tr>\n",
       "      <th>3</th>\n",
       "      <td>0</td>\n",
       "      <td>0.514251</td>\n",
       "      <td>-0.746535</td>\n",
       "      <td>-0.193689</td>\n",
       "      <td>1</td>\n",
       "      <td>0</td>\n",
       "      <td>0</td>\n",
       "      <td>0</td>\n",
       "      <td>1</td>\n",
       "      <td>0</td>\n",
       "      <td>...</td>\n",
       "      <td>0</td>\n",
       "      <td>0</td>\n",
       "      <td>0</td>\n",
       "      <td>0</td>\n",
       "      <td>1</td>\n",
       "      <td>0</td>\n",
       "      <td>0</td>\n",
       "      <td>0</td>\n",
       "      <td>0</td>\n",
       "      <td>0</td>\n",
       "    </tr>\n",
       "    <tr>\n",
       "      <th>4</th>\n",
       "      <td>0</td>\n",
       "      <td>-1.236724</td>\n",
       "      <td>0.197365</td>\n",
       "      <td>-0.938901</td>\n",
       "      <td>0</td>\n",
       "      <td>0</td>\n",
       "      <td>0</td>\n",
       "      <td>1</td>\n",
       "      <td>0</td>\n",
       "      <td>0</td>\n",
       "      <td>...</td>\n",
       "      <td>0</td>\n",
       "      <td>0</td>\n",
       "      <td>0</td>\n",
       "      <td>0</td>\n",
       "      <td>0</td>\n",
       "      <td>0</td>\n",
       "      <td>1</td>\n",
       "      <td>0</td>\n",
       "      <td>1</td>\n",
       "      <td>0</td>\n",
       "    </tr>\n",
       "  </tbody>\n",
       "</table>\n",
       "<p>5 rows × 30 columns</p>\n",
       "</div>"
      ],
      "text/plain": [
       "   SeniorCitizen    tenure  MonthlyCharges  TotalCharges  gender_Male  \\\n",
       "0              0 -1.277445       -1.160323     -0.992638            0   \n",
       "1              0  0.066327       -0.259629     -0.172181            1   \n",
       "2              0 -1.236724       -0.362660     -0.958093            1   \n",
       "3              0  0.514251       -0.746535     -0.193689            1   \n",
       "4              0 -1.236724        0.197365     -0.938901            0   \n",
       "\n",
       "   Partner_Yes  Dependents_Yes  PhoneService_Yes  \\\n",
       "0            1               0                 0   \n",
       "1            0               0                 1   \n",
       "2            0               0                 1   \n",
       "3            0               0                 0   \n",
       "4            0               0                 1   \n",
       "\n",
       "   MultipleLines_No phone service  MultipleLines_Yes  ...  \\\n",
       "0                               1                  0  ...   \n",
       "1                               0                  0  ...   \n",
       "2                               0                  0  ...   \n",
       "3                               1                  0  ...   \n",
       "4                               0                  0  ...   \n",
       "\n",
       "   StreamingTV_No internet service  StreamingTV_Yes  \\\n",
       "0                                0                0   \n",
       "1                                0                0   \n",
       "2                                0                0   \n",
       "3                                0                0   \n",
       "4                                0                0   \n",
       "\n",
       "   StreamingMovies_No internet service  StreamingMovies_Yes  \\\n",
       "0                                    0                    0   \n",
       "1                                    0                    0   \n",
       "2                                    0                    0   \n",
       "3                                    0                    0   \n",
       "4                                    0                    0   \n",
       "\n",
       "   Contract_One year  Contract_Two year  PaperlessBilling_Yes  \\\n",
       "0                  0                  0                     1   \n",
       "1                  1                  0                     0   \n",
       "2                  0                  0                     1   \n",
       "3                  1                  0                     0   \n",
       "4                  0                  0                     1   \n",
       "\n",
       "   PaymentMethod_Credit card (automatic)  PaymentMethod_Electronic check  \\\n",
       "0                                      0                               1   \n",
       "1                                      0                               0   \n",
       "2                                      0                               0   \n",
       "3                                      0                               0   \n",
       "4                                      0                               1   \n",
       "\n",
       "   PaymentMethod_Mailed check  \n",
       "0                           0  \n",
       "1                           1  \n",
       "2                           1  \n",
       "3                           0  \n",
       "4                           0  \n",
       "\n",
       "[5 rows x 30 columns]"
      ]
     },
     "execution_count": 37,
     "metadata": {},
     "output_type": "execute_result"
    }
   ],
   "source": [
    "x.head()"
   ]
  },
  {
   "cell_type": "markdown",
   "metadata": {},
   "source": [
    "## Handle Imbalance Dataset"
   ]
  },
  {
   "cell_type": "code",
   "execution_count": 38,
   "metadata": {},
   "outputs": [
    {
     "data": {
      "text/plain": [
       "Churn\n",
       "0    0.73463\n",
       "1    0.26537\n",
       "Name: proportion, dtype: float64"
      ]
     },
     "execution_count": 38,
     "metadata": {},
     "output_type": "execute_result"
    }
   ],
   "source": [
    "y.value_counts(normalize=True)"
   ]
  },
  {
   "cell_type": "code",
   "execution_count": 39,
   "metadata": {},
   "outputs": [],
   "source": [
    "from imblearn.over_sampling import SMOTE\n",
    "smote = SMOTE()\n",
    "x_smote , y_smote = smote.fit_resample(x,y)"
   ]
  },
  {
   "cell_type": "code",
   "execution_count": 51,
   "metadata": {},
   "outputs": [
    {
     "data": {
      "text/plain": [
       "Churn\n",
       "0    5174\n",
       "1    5174\n",
       "Name: count, dtype: int64"
      ]
     },
     "execution_count": 51,
     "metadata": {},
     "output_type": "execute_result"
    }
   ],
   "source": [
    "y_smote.value_counts()"
   ]
  },
  {
   "cell_type": "code",
   "execution_count": 40,
   "metadata": {},
   "outputs": [
    {
     "data": {
      "text/plain": [
       "Churn\n",
       "0    0.5\n",
       "1    0.5\n",
       "Name: proportion, dtype: float64"
      ]
     },
     "execution_count": 40,
     "metadata": {},
     "output_type": "execute_result"
    }
   ],
   "source": [
    "y_smote.value_counts(normalize=True)"
   ]
  },
  {
   "cell_type": "markdown",
   "metadata": {},
   "source": [
    "## Split Data Training and testing "
   ]
  },
  {
   "cell_type": "code",
   "execution_count": 41,
   "metadata": {},
   "outputs": [],
   "source": [
    "from sklearn.model_selection import train_test_split\n",
    "x_train ,x_test , y_train , y_test = train_test_split(x_smote , y_smote , test_size=0.3 , random_state=42)"
   ]
  },
  {
   "cell_type": "code",
   "execution_count": 42,
   "metadata": {},
   "outputs": [
    {
     "data": {
      "text/plain": [
       "((7243, 30), (3105, 30), (7243,), (3105,))"
      ]
     },
     "execution_count": 42,
     "metadata": {},
     "output_type": "execute_result"
    }
   ],
   "source": [
    "x_train.shape  ,x_test.shape , y_train.shape , y_test.shape"
   ]
  },
  {
   "cell_type": "markdown",
   "metadata": {},
   "source": [
    "## Yprofiling (EDA)"
   ]
  },
  {
   "cell_type": "code",
   "execution_count": null,
   "metadata": {},
   "outputs": [
    {
     "data": {
      "application/vnd.jupyter.widget-view+json": {
       "model_id": "c04f93b64cf34f5b805baca07f7bb210",
       "version_major": 2,
       "version_minor": 0
      },
      "text/plain": [
       "Summarize dataset:   0%|          | 0/5 [00:00<?, ?it/s]"
      ]
     },
     "metadata": {},
     "output_type": "display_data"
    },
    {
     "data": {
      "application/vnd.jupyter.widget-view+json": {
       "model_id": "b5a0f6ebbda647faa787c3431f599396",
       "version_major": 2,
       "version_minor": 0
      },
      "text/plain": [
       "Generate report structure:   0%|          | 0/1 [00:00<?, ?it/s]"
      ]
     },
     "metadata": {},
     "output_type": "display_data"
    },
    {
     "data": {
      "application/vnd.jupyter.widget-view+json": {
       "model_id": "9256a786a1dc429d92623bc52ee4cb0f",
       "version_major": 2,
       "version_minor": 0
      },
      "text/plain": [
       "Render HTML:   0%|          | 0/1 [00:00<?, ?it/s]"
      ]
     },
     "metadata": {},
     "output_type": "display_data"
    },
    {
     "data": {
      "application/vnd.jupyter.widget-view+json": {
       "model_id": "df307af4bb2f442389b620fe1920cd29",
       "version_major": 2,
       "version_minor": 0
      },
      "text/plain": [
       "Export report to file:   0%|          | 0/1 [00:00<?, ?it/s]"
      ]
     },
     "metadata": {},
     "output_type": "display_data"
    }
   ],
   "source": [
    "# from ydata_profiling import ProfileReport\n",
    "# profile = ProfileReport(customer_churn, title=\"Profiling Report\")\n",
    "# profile.to_file(\"Y_Profiling.html\")"
   ]
  },
  {
   "cell_type": "markdown",
   "metadata": {},
   "source": [
    "## Model Building "
   ]
  },
  {
   "cell_type": "code",
   "execution_count": 44,
   "metadata": {},
   "outputs": [],
   "source": [
    "from sklearn.linear_model import LogisticRegression\n",
    "from sklearn.tree import DecisionTreeClassifier\n",
    "from sklearn.ensemble import RandomForestClassifier, VotingClassifier\n",
    "from xgboost import XGBClassifier\n",
    "from sklearn.neighbors import KNeighborsClassifier\n",
    "from sklearn.svm import SVC\n",
    "from sklearn.naive_bayes import GaussianNB \n",
    "# evaluation matrics\n",
    "from sklearn.metrics import confusion_matrix, classification_report, accuracy_score"
   ]
  },
  {
   "cell_type": "code",
   "execution_count": 45,
   "metadata": {},
   "outputs": [
    {
     "name": "stdout",
     "output_type": "stream",
     "text": [
      "      Method Used  Accuracy\n",
      "0  LogitRegession  0.811916\n",
      "1           Dtree  0.769726\n",
      "2         RForest  0.840258\n",
      "3             XGB  0.830274\n",
      "4             KNN  0.797101\n",
      "5             SVM  0.811594\n",
      "6             NBT  0.762963\n",
      "7          Voting  0.832206\n",
      "Axes(0.125,0.11;0.775x0.77)\n"
     ]
    },
    {
     "data": {
      "image/png": "[encoded data removed]",
      "text/plain": [
       "<Figure size 640x480 with 1 Axes>"
      ]
     },
     "metadata": {},
     "output_type": "display_data"
    }
   ],
   "source": [
    "\n",
    "# LogisticRegression\n",
    "logit = LogisticRegression()\n",
    "logit = logit.fit(x_train, y_train)\n",
    "y_pred_lr = logit.predict(x_test) \n",
    "accuracy_lr = accuracy_score(y_test, y_pred_lr)\n",
    "\n",
    "# DecisionTree\n",
    "dtree = DecisionTreeClassifier()\n",
    "dtree = dtree.fit(x_train, y_train)\n",
    "y_pred_dt = dtree.predict(x_test)\n",
    "accuracy_dt = accuracy_score(y_test, y_pred_dt)\n",
    "\n",
    "# RandomForest\n",
    "rforest = RandomForestClassifier(criterion='entropy' , n_estimators=50)\n",
    "rforest = rforest.fit(x_train, y_train)\n",
    "y_pred_rf = rforest.predict(x_test)\n",
    "accuracy_rf = accuracy_score(y_test, y_pred_rf)\n",
    "\n",
    "# XGBoost\n",
    "xgboost = XGBClassifier()\n",
    "xgboost = xgboost.fit(x_train, y_train)\n",
    "y_pred_xg = xgboost.predict(x_test)\n",
    "accuracy_xg = accuracy_score(y_test, y_pred_xg)\n",
    "\n",
    "# KNN\n",
    "knn = KNeighborsClassifier()\n",
    "knn = knn.fit(x_train, y_train)\n",
    "y_pred_knn = knn.predict(x_test)\n",
    "accuracy_knn = accuracy_score(y_test, y_pred_knn)\n",
    " \n",
    "# SVM\n",
    "svm = SVC()\n",
    "svm = svm.fit(x_train, y_train)\n",
    "y_pred_svm = svm.predict(x_test)\n",
    "accuracy_svm = accuracy_score(y_test, y_pred_svm)\n",
    "\n",
    "# Naive Based Theorem\n",
    "nbt = GaussianNB()\n",
    "nbt = nbt.fit(x_train, y_train)\n",
    "y_pred_nbt = nbt.predict(x_test)\n",
    "accuracy_nbt = accuracy_score(y_test, y_pred_nbt)\n",
    "\n",
    "# Voting Classifier - combining all the above model together by using voting classifier approach\n",
    "model_evc = VotingClassifier(estimators = [('logit',logit), ('dtree',dtree), ('rforest',rforest),('xgboost',xgboost),\n",
    "                                           ('knn',knn),('svm',svm),('nbt',nbt)])\n",
    "model_evc = model_evc.fit(x_train, y_train)\n",
    "pred_evc = model_evc.predict(x_test)\n",
    "accuracy_evc = accuracy_score(y_test, pred_evc)\n",
    "\n",
    "list1 = ['LogitRegession','Dtree','RForest','XGB','KNN','SVM','NBT','Voting']\n",
    "list2 = [accuracy_lr,accuracy_dt,accuracy_rf,accuracy_xg,accuracy_knn,accuracy_svm,accuracy_nbt,accuracy_evc]\n",
    "list3 = [logit,dtree,rforest,xgboost,knn,svm,nbt,model_evc]\n",
    "\n",
    "df_accuracy = pd.DataFrame({\"Method Used\":list1, \"Accuracy\":list2})\n",
    "\n",
    "print(df_accuracy)\n",
    "\n",
    "chart = sns.barplot(x=\"Method Used\", y=\"Accuracy\", data=df_accuracy)\n",
    "chart.set_xticklabels(chart.get_xticklabels(), rotation=90)\n",
    "print(chart)                          \n",
    "                               "
   ]
  },
  {
   "cell_type": "markdown",
   "metadata": {},
   "source": [
    "### Observation \n",
    "- Voting giving more accurate result"
   ]
  },
  {
   "cell_type": "markdown",
   "metadata": {},
   "source": [
    "## Check underfitting and overfitting problem (high bias or high variance problem)- Bias-Variance Trade off"
   ]
  },
  {
   "cell_type": "code",
   "execution_count": 46,
   "metadata": {},
   "outputs": [
    {
     "name": "stdout",
     "output_type": "stream",
     "text": [
      "************************\n",
      "Training Accuracy : 0.9057020571586359\n",
      "************************\n",
      "Test Accuracy : 0.8322061191626409\n"
     ]
    }
   ],
   "source": [
    "pred_evc_train = model_evc.predict(x_train)\n",
    "pred_evc_test = model_evc.predict(x_test)\n",
    "accuracy_evc_train = accuracy_score(y_train, pred_evc_train)\n",
    "accuracy_evc_test = accuracy_score(y_test, pred_evc_test)\n",
    "\n",
    "print(\"************************\")\n",
    "print(\"Training Accuracy :\",accuracy_evc_train)\n",
    "print(\"************************\")\n",
    "print(\"Test Accuracy :\",accuracy_evc_test)"
   ]
  },
  {
   "cell_type": "markdown",
   "metadata": {},
   "source": [
    "## Cross Validation "
   ]
  },
  {
   "cell_type": "code",
   "execution_count": 47,
   "metadata": {},
   "outputs": [],
   "source": [
    "from sklearn.model_selection import cross_val_score\n",
    "training = cross_val_score(model_evc , x_train , y_train , cv=10)"
   ]
  },
  {
   "cell_type": "code",
   "execution_count": 48,
   "metadata": {},
   "outputs": [
    {
     "data": {
      "text/plain": [
       "0.8190030481996571"
      ]
     },
     "execution_count": 48,
     "metadata": {},
     "output_type": "execute_result"
    }
   ],
   "source": [
    "training.mean()"
   ]
  },
  {
   "cell_type": "markdown",
   "metadata": {},
   "source": [
    "## Evaluation Matric"
   ]
  },
  {
   "cell_type": "code",
   "execution_count": 49,
   "metadata": {},
   "outputs": [
    {
     "name": "stdout",
     "output_type": "stream",
     "text": [
      "************************\n",
      "Training :               precision    recall  f1-score   support\n",
      "\n",
      "           0       0.96      0.84      0.90      3600\n",
      "           1       0.86      0.97      0.91      3643\n",
      "\n",
      "    accuracy                           0.91      7243\n",
      "   macro avg       0.91      0.91      0.91      7243\n",
      "weighted avg       0.91      0.91      0.91      7243\n",
      "\n",
      "************************\n",
      "Test :               precision    recall  f1-score   support\n",
      "\n",
      "           0       0.88      0.77      0.82      1574\n",
      "           1       0.79      0.90      0.84      1531\n",
      "\n",
      "    accuracy                           0.83      3105\n",
      "   macro avg       0.84      0.83      0.83      3105\n",
      "weighted avg       0.84      0.83      0.83      3105\n",
      "\n"
     ]
    }
   ],
   "source": [
    "from sklearn.metrics import classification_report , confusion_matrix\n",
    "print(\"************************\")\n",
    "print(\"Training :\",classification_report(y_train, pred_evc_train))\n",
    "print(\"************************\")\n",
    "print(\"Test :\",classification_report(y_test, pred_evc_test))"
   ]
  },
  {
   "cell_type": "code",
   "execution_count": 50,
   "metadata": {},
   "outputs": [
    {
     "name": "stdout",
     "output_type": "stream",
     "text": [
      "Train\n",
      "[[3038  562]\n",
      " [ 121 3522]]\n",
      "\n",
      "Test\n",
      "[[1213  361]\n",
      " [ 160 1371]]\n"
     ]
    }
   ],
   "source": [
    "print('Train')\n",
    "print(confusion_matrix(y_train, pred_evc_train))\n",
    "print()\n",
    "print(\"Test\")\n",
    "print(confusion_matrix(y_test, pred_evc_test))"
   ]
  }
 ],
 "metadata": {
  "kernelspec": {
   "display_name": "Python 3",
   "language": "python",
   "name": "python3"
  },
  "language_info": {
   "codemirror_mode": {
    "name": "ipython",
    "version": 3
   },
   "file_extension": ".py",
   "mimetype": "text/x-python",
   "name": "python",
   "nbconvert_exporter": "python",
   "pygments_lexer": "ipython3",
   "version": "3.11.4"
  }
 },
 "nbformat": 4,
 "nbformat_minor": 2
}
