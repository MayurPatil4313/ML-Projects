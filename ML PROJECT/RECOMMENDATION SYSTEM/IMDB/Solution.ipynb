{
 "cells": [
  {
   "cell_type": "markdown",
   "id": "120c29c5",
   "metadata": {},
   "source": [
    "# Content based recommendation system"
   ]
  },
  {
   "cell_type": "code",
   "execution_count": 294,
   "id": "5a8a0bc2",
   "metadata": {},
   "outputs": [],
   "source": [
    "import numpy as np \n",
    "import pandas as pd \n",
    "import matplotlib.pyplot as plt \n",
    "import seaborn as sns    \n",
    "%matplotlib inline \n",
    "import warnings\n",
    "warnings.filterwarnings('ignore')\n"
   ]
  },
  {
   "cell_type": "code",
   "execution_count": 295,
   "id": "f521e7c5",
   "metadata": {},
   "outputs": [],
   "source": [
    "movies1 = pd.read_csv(r'D:\\Learnbay\\Weekend Project Sunduram sir\\RECOMMENDATION SYSTEM\\IMDB\\IMDb_Dataset.csv')\n",
    "movies2 = pd.read_csv(r'D:\\Learnbay\\Weekend Project Sunduram sir\\RECOMMENDATION SYSTEM\\IMDB\\IMDb_Dataset_2.csv')\n",
    "movies3 = pd.read_csv(r'D:\\Learnbay\\Weekend Project Sunduram sir\\RECOMMENDATION SYSTEM\\IMDB\\IMDb_Dataset_3.csv')"
   ]
  },
  {
   "cell_type": "code",
   "execution_count": 296,
   "id": "58f3c506",
   "metadata": {},
   "outputs": [
    {
     "data": {
      "text/html": [
       "<div>\n",
       "<style scoped>\n",
       "    .dataframe tbody tr th:only-of-type {\n",
       "        vertical-align: middle;\n",
       "    }\n",
       "\n",
       "    .dataframe tbody tr th {\n",
       "        vertical-align: top;\n",
       "    }\n",
       "\n",
       "    .dataframe thead th {\n",
       "        text-align: right;\n",
       "    }\n",
       "</style>\n",
       "<table border=\"1\" class=\"dataframe\">\n",
       "  <thead>\n",
       "    <tr style=\"text-align: right;\">\n",
       "      <th></th>\n",
       "      <th>Title</th>\n",
       "      <th>IMDb Rating</th>\n",
       "      <th>Year</th>\n",
       "      <th>Certificates</th>\n",
       "      <th>Genre</th>\n",
       "      <th>Director</th>\n",
       "      <th>Star Cast</th>\n",
       "      <th>MetaScore</th>\n",
       "      <th>Duration (minutes)</th>\n",
       "    </tr>\n",
       "  </thead>\n",
       "  <tbody>\n",
       "    <tr>\n",
       "      <th>0</th>\n",
       "      <td>Gladiator</td>\n",
       "      <td>8.5</td>\n",
       "      <td>2000</td>\n",
       "      <td>R</td>\n",
       "      <td>Action</td>\n",
       "      <td>Ridley Scott</td>\n",
       "      <td>David FranzoniJohn LoganWilliam Nicholson</td>\n",
       "      <td>67.0</td>\n",
       "      <td>155.0</td>\n",
       "    </tr>\n",
       "    <tr>\n",
       "      <th>1</th>\n",
       "      <td>Mission: Impossible - Dead Reckoning Part One</td>\n",
       "      <td>7.7</td>\n",
       "      <td>2023</td>\n",
       "      <td>PG-13</td>\n",
       "      <td>Action</td>\n",
       "      <td>Christopher McQuarrie</td>\n",
       "      <td>Tom CruiseHayley AtwellVing Rhames</td>\n",
       "      <td>81.0</td>\n",
       "      <td>163.0</td>\n",
       "    </tr>\n",
       "    <tr>\n",
       "      <th>2</th>\n",
       "      <td>Rebel Moon - Part Two: The Scargiver</td>\n",
       "      <td>5.2</td>\n",
       "      <td>2024</td>\n",
       "      <td>PG-13</td>\n",
       "      <td>Action</td>\n",
       "      <td>Zack Snyder</td>\n",
       "      <td>Zack SnyderKurt JohnstadShay Hatten</td>\n",
       "      <td>35.0</td>\n",
       "      <td>122.0</td>\n",
       "    </tr>\n",
       "    <tr>\n",
       "      <th>3</th>\n",
       "      <td>Inglourious Basterds</td>\n",
       "      <td>8.4</td>\n",
       "      <td>2009</td>\n",
       "      <td>R</td>\n",
       "      <td>Adventure</td>\n",
       "      <td>Quentin Tarantino</td>\n",
       "      <td>Brad PittDiane KrugerEli Roth</td>\n",
       "      <td>69.0</td>\n",
       "      <td>153.0</td>\n",
       "    </tr>\n",
       "    <tr>\n",
       "      <th>4</th>\n",
       "      <td>Borderlands</td>\n",
       "      <td>7.1</td>\n",
       "      <td>2024</td>\n",
       "      <td>R</td>\n",
       "      <td>Action</td>\n",
       "      <td>Eli Roth</td>\n",
       "      <td>Eli RothJoe Crombie</td>\n",
       "      <td>66.9</td>\n",
       "      <td>116.3</td>\n",
       "    </tr>\n",
       "  </tbody>\n",
       "</table>\n",
       "</div>"
      ],
      "text/plain": [
       "                                           Title  IMDb Rating  Year  \\\n",
       "0                                      Gladiator          8.5  2000   \n",
       "1  Mission: Impossible - Dead Reckoning Part One          7.7  2023   \n",
       "2           Rebel Moon - Part Two: The Scargiver          5.2  2024   \n",
       "3                           Inglourious Basterds          8.4  2009   \n",
       "4                                    Borderlands          7.1  2024   \n",
       "\n",
       "  Certificates      Genre               Director  \\\n",
       "0            R     Action           Ridley Scott   \n",
       "1        PG-13     Action  Christopher McQuarrie   \n",
       "2        PG-13     Action            Zack Snyder   \n",
       "3            R  Adventure      Quentin Tarantino   \n",
       "4            R     Action               Eli Roth   \n",
       "\n",
       "                                   Star Cast  MetaScore  Duration (minutes)  \n",
       "0  David FranzoniJohn LoganWilliam Nicholson       67.0               155.0  \n",
       "1         Tom CruiseHayley AtwellVing Rhames       81.0               163.0  \n",
       "2        Zack SnyderKurt JohnstadShay Hatten       35.0               122.0  \n",
       "3              Brad PittDiane KrugerEli Roth       69.0               153.0  \n",
       "4                        Eli RothJoe Crombie       66.9               116.3  "
      ]
     },
     "execution_count": 296,
     "metadata": {},
     "output_type": "execute_result"
    }
   ],
   "source": [
    "movies1.head()"
   ]
  },
  {
   "cell_type": "code",
   "execution_count": 297,
   "id": "85c2488f",
   "metadata": {},
   "outputs": [
    {
     "data": {
      "text/plain": [
       "Index(['Title', 'IMDb Rating', 'Year', 'Certificates', 'Genre', 'Director',\n",
       "       'Star Cast', 'MetaScore', 'Duration (minutes)'],\n",
       "      dtype='object')"
      ]
     },
     "execution_count": 297,
     "metadata": {},
     "output_type": "execute_result"
    }
   ],
   "source": [
    "movies1.columns"
   ]
  },
  {
   "cell_type": "code",
   "execution_count": 298,
   "id": "6fda8e9a",
   "metadata": {},
   "outputs": [
    {
     "data": {
      "text/html": [
       "<div>\n",
       "<style scoped>\n",
       "    .dataframe tbody tr th:only-of-type {\n",
       "        vertical-align: middle;\n",
       "    }\n",
       "\n",
       "    .dataframe tbody tr th {\n",
       "        vertical-align: top;\n",
       "    }\n",
       "\n",
       "    .dataframe thead th {\n",
       "        text-align: right;\n",
       "    }\n",
       "</style>\n",
       "<table border=\"1\" class=\"dataframe\">\n",
       "  <thead>\n",
       "    <tr style=\"text-align: right;\">\n",
       "      <th></th>\n",
       "      <th>Title</th>\n",
       "      <th>IMDb Rating</th>\n",
       "      <th>Year</th>\n",
       "      <th>Certificates</th>\n",
       "      <th>Genre</th>\n",
       "      <th>Director</th>\n",
       "      <th>Star Cast</th>\n",
       "      <th>MetaScore</th>\n",
       "      <th>Poster-src</th>\n",
       "      <th>Duration (minutes)</th>\n",
       "    </tr>\n",
       "  </thead>\n",
       "  <tbody>\n",
       "    <tr>\n",
       "      <th>0</th>\n",
       "      <td>End of the Spear</td>\n",
       "      <td>6.8</td>\n",
       "      <td>2005</td>\n",
       "      <td>PG-13</td>\n",
       "      <td>Adventure</td>\n",
       "      <td>Jim Hanon</td>\n",
       "      <td>Louie LeonardoChad AllenJack Guzman</td>\n",
       "      <td>45.0</td>\n",
       "      <td>https://m.media-amazon.com/images/M/MV5BMTYxOT...</td>\n",
       "      <td>108.0</td>\n",
       "    </tr>\n",
       "    <tr>\n",
       "      <th>1</th>\n",
       "      <td>Elvira Madigan</td>\n",
       "      <td>7.0</td>\n",
       "      <td>1967</td>\n",
       "      <td>PG</td>\n",
       "      <td>Biography</td>\n",
       "      <td>Bo Widerberg</td>\n",
       "      <td>Pia DegermarkThommy BerggrenLennart Malmer</td>\n",
       "      <td>66.0</td>\n",
       "      <td>https://m.media-amazon.com/images/M/MV5BMmY2Nj...</td>\n",
       "      <td>91.0</td>\n",
       "    </tr>\n",
       "    <tr>\n",
       "      <th>2</th>\n",
       "      <td>The Kid Stays in the Picture</td>\n",
       "      <td>7.3</td>\n",
       "      <td>2002</td>\n",
       "      <td>R</td>\n",
       "      <td>Documentary</td>\n",
       "      <td>Nanette Burstein</td>\n",
       "      <td>Robert EvansEddie AlbertPeter Bart</td>\n",
       "      <td>75.0</td>\n",
       "      <td>https://m.media-amazon.com/images/M/MV5BZjhiZm...</td>\n",
       "      <td>93.0</td>\n",
       "    </tr>\n",
       "    <tr>\n",
       "      <th>3</th>\n",
       "      <td>It Ain't Over</td>\n",
       "      <td>8.2</td>\n",
       "      <td>2022</td>\n",
       "      <td>PG</td>\n",
       "      <td>Documentary</td>\n",
       "      <td>Sean Mullin</td>\n",
       "      <td>Andy AndresRoger AngellMarty Appel</td>\n",
       "      <td>79.0</td>\n",
       "      <td>https://m.media-amazon.com/images/M/MV5BZWViYW...</td>\n",
       "      <td>99.0</td>\n",
       "    </tr>\n",
       "    <tr>\n",
       "      <th>4</th>\n",
       "      <td>Mahler</td>\n",
       "      <td>7.0</td>\n",
       "      <td>1974</td>\n",
       "      <td>PG</td>\n",
       "      <td>Biography</td>\n",
       "      <td>Ken Russell</td>\n",
       "      <td>Robert PowellGeorgina HaleLee Montague</td>\n",
       "      <td>66.0</td>\n",
       "      <td>https://m.media-amazon.com/images/M/MV5BYzY4Mz...</td>\n",
       "      <td>115.0</td>\n",
       "    </tr>\n",
       "  </tbody>\n",
       "</table>\n",
       "</div>"
      ],
      "text/plain": [
       "                          Title  IMDb Rating  Year Certificates        Genre  \\\n",
       "0              End of the Spear          6.8  2005        PG-13    Adventure   \n",
       "1                Elvira Madigan          7.0  1967           PG    Biography   \n",
       "2  The Kid Stays in the Picture          7.3  2002            R  Documentary   \n",
       "3                 It Ain't Over          8.2  2022           PG  Documentary   \n",
       "4                        Mahler          7.0  1974           PG    Biography   \n",
       "\n",
       "           Director                                   Star Cast  MetaScore  \\\n",
       "0         Jim Hanon         Louie LeonardoChad AllenJack Guzman       45.0   \n",
       "1      Bo Widerberg  Pia DegermarkThommy BerggrenLennart Malmer       66.0   \n",
       "2  Nanette Burstein          Robert EvansEddie AlbertPeter Bart       75.0   \n",
       "3       Sean Mullin          Andy AndresRoger AngellMarty Appel       79.0   \n",
       "4       Ken Russell      Robert PowellGeorgina HaleLee Montague       66.0   \n",
       "\n",
       "                                          Poster-src  Duration (minutes)  \n",
       "0  https://m.media-amazon.com/images/M/MV5BMTYxOT...               108.0  \n",
       "1  https://m.media-amazon.com/images/M/MV5BMmY2Nj...                91.0  \n",
       "2  https://m.media-amazon.com/images/M/MV5BZjhiZm...                93.0  \n",
       "3  https://m.media-amazon.com/images/M/MV5BZWViYW...                99.0  \n",
       "4  https://m.media-amazon.com/images/M/MV5BYzY4Mz...               115.0  "
      ]
     },
     "execution_count": 298,
     "metadata": {},
     "output_type": "execute_result"
    }
   ],
   "source": [
    "movies2.head()"
   ]
  },
  {
   "cell_type": "code",
   "execution_count": 299,
   "id": "bb226fa3",
   "metadata": {},
   "outputs": [
    {
     "data": {
      "text/plain": [
       "Index(['Title', 'IMDb Rating', 'Year', 'Certificates', 'Genre', 'Director',\n",
       "       'Star Cast', 'MetaScore', 'Poster-src', 'Duration (minutes)'],\n",
       "      dtype='object')"
      ]
     },
     "execution_count": 299,
     "metadata": {},
     "output_type": "execute_result"
    }
   ],
   "source": [
    "movies2.columns"
   ]
  },
  {
   "cell_type": "code",
   "execution_count": 300,
   "id": "124ae8f0",
   "metadata": {},
   "outputs": [
    {
     "data": {
      "text/html": [
       "<div>\n",
       "<style scoped>\n",
       "    .dataframe tbody tr th:only-of-type {\n",
       "        vertical-align: middle;\n",
       "    }\n",
       "\n",
       "    .dataframe tbody tr th {\n",
       "        vertical-align: top;\n",
       "    }\n",
       "\n",
       "    .dataframe thead th {\n",
       "        text-align: right;\n",
       "    }\n",
       "</style>\n",
       "<table border=\"1\" class=\"dataframe\">\n",
       "  <thead>\n",
       "    <tr style=\"text-align: right;\">\n",
       "      <th></th>\n",
       "      <th>Title</th>\n",
       "      <th>Director</th>\n",
       "      <th>Star Cast</th>\n",
       "      <th>Year</th>\n",
       "      <th>IMDb Rating</th>\n",
       "      <th>MetaScore</th>\n",
       "      <th>Certificates</th>\n",
       "      <th>Genre</th>\n",
       "      <th>Second_Genre</th>\n",
       "      <th>Third_Genre</th>\n",
       "      <th>Poster-src</th>\n",
       "      <th>Duration (minutes)</th>\n",
       "    </tr>\n",
       "  </thead>\n",
       "  <tbody>\n",
       "    <tr>\n",
       "      <th>0</th>\n",
       "      <td>The Biggest Little Farm</td>\n",
       "      <td>John Chester</td>\n",
       "      <td>John Chester</td>\n",
       "      <td>2018</td>\n",
       "      <td>8.0</td>\n",
       "      <td>73.0</td>\n",
       "      <td>PG</td>\n",
       "      <td>Documentary</td>\n",
       "      <td>Family</td>\n",
       "      <td>Family</td>\n",
       "      <td>https://m.media-amazon.com/images/M/MV5BMjQ1Mj...</td>\n",
       "      <td>91.0</td>\n",
       "    </tr>\n",
       "    <tr>\n",
       "      <th>1</th>\n",
       "      <td>Pokémon the Movie 2000</td>\n",
       "      <td>Kunihiko Yuyama</td>\n",
       "      <td>Veronica Taylor</td>\n",
       "      <td>1999</td>\n",
       "      <td>6.1</td>\n",
       "      <td>28.0</td>\n",
       "      <td>G</td>\n",
       "      <td>Animation</td>\n",
       "      <td>Action</td>\n",
       "      <td>Adventure</td>\n",
       "      <td>https://m.media-amazon.com/images/M/MV5BNzE1Nj...</td>\n",
       "      <td>99.0</td>\n",
       "    </tr>\n",
       "    <tr>\n",
       "      <th>2</th>\n",
       "      <td>When Hitler Stole Pink Rabbit</td>\n",
       "      <td>Caroline Link</td>\n",
       "      <td>Riva Krymalowski</td>\n",
       "      <td>2019</td>\n",
       "      <td>7.0</td>\n",
       "      <td>54.0</td>\n",
       "      <td>PG</td>\n",
       "      <td>Biography</td>\n",
       "      <td>Drama</td>\n",
       "      <td>Family</td>\n",
       "      <td>https://m.media-amazon.com/images/M/MV5BMmNiOW...</td>\n",
       "      <td>100.0</td>\n",
       "    </tr>\n",
       "  </tbody>\n",
       "</table>\n",
       "</div>"
      ],
      "text/plain": [
       "                           Title         Director         Star Cast  Year  \\\n",
       "0        The Biggest Little Farm     John Chester      John Chester  2018   \n",
       "1         Pokémon the Movie 2000  Kunihiko Yuyama   Veronica Taylor  1999   \n",
       "2  When Hitler Stole Pink Rabbit    Caroline Link  Riva Krymalowski  2019   \n",
       "\n",
       "   IMDb Rating  MetaScore Certificates        Genre Second_Genre Third_Genre  \\\n",
       "0          8.0       73.0           PG  Documentary       Family      Family   \n",
       "1          6.1       28.0            G    Animation       Action   Adventure   \n",
       "2          7.0       54.0           PG    Biography        Drama      Family   \n",
       "\n",
       "                                          Poster-src  Duration (minutes)  \n",
       "0  https://m.media-amazon.com/images/M/MV5BMjQ1Mj...                91.0  \n",
       "1  https://m.media-amazon.com/images/M/MV5BNzE1Nj...                99.0  \n",
       "2  https://m.media-amazon.com/images/M/MV5BMmNiOW...               100.0  "
      ]
     },
     "execution_count": 300,
     "metadata": {},
     "output_type": "execute_result"
    }
   ],
   "source": [
    "movies3.head(3)"
   ]
  },
  {
   "cell_type": "code",
   "execution_count": 301,
   "id": "0647db97",
   "metadata": {},
   "outputs": [
    {
     "data": {
      "text/plain": [
       "Index(['Title', 'Director', 'Star Cast', 'Year', 'IMDb Rating', 'MetaScore',\n",
       "       'Certificates', 'Genre', 'Second_Genre', 'Third_Genre', 'Poster-src',\n",
       "       'Duration (minutes)'],\n",
       "      dtype='object')"
      ]
     },
     "execution_count": 301,
     "metadata": {},
     "output_type": "execute_result"
    }
   ],
   "source": [
    "movies3.columns"
   ]
  },
  {
   "cell_type": "markdown",
   "id": "bbcd507a",
   "metadata": {},
   "source": [
    "## Info"
   ]
  },
  {
   "cell_type": "code",
   "execution_count": 302,
   "id": "c484dbc9",
   "metadata": {},
   "outputs": [
    {
     "name": "stdout",
     "output_type": "stream",
     "text": [
      "<class 'pandas.core.frame.DataFrame'>\n",
      "RangeIndex: 400 entries, 0 to 399\n",
      "Data columns (total 9 columns):\n",
      " #   Column              Non-Null Count  Dtype  \n",
      "---  ------              --------------  -----  \n",
      " 0   Title               400 non-null    object \n",
      " 1   IMDb Rating         400 non-null    float64\n",
      " 2   Year                400 non-null    int64  \n",
      " 3   Certificates        400 non-null    object \n",
      " 4   Genre               400 non-null    object \n",
      " 5   Director            400 non-null    object \n",
      " 6   Star Cast           400 non-null    object \n",
      " 7   MetaScore           400 non-null    float64\n",
      " 8   Duration (minutes)  400 non-null    float64\n",
      "dtypes: float64(3), int64(1), object(5)\n",
      "memory usage: 28.3+ KB\n"
     ]
    }
   ],
   "source": [
    "movies1.info()"
   ]
  },
  {
   "cell_type": "code",
   "execution_count": 303,
   "id": "33d0fbc2",
   "metadata": {},
   "outputs": [
    {
     "data": {
      "text/plain": [
       "(400, 9)"
      ]
     },
     "execution_count": 303,
     "metadata": {},
     "output_type": "execute_result"
    }
   ],
   "source": [
    "movies1.shape"
   ]
  },
  {
   "cell_type": "code",
   "execution_count": 304,
   "id": "56d2a35a",
   "metadata": {},
   "outputs": [
    {
     "name": "stdout",
     "output_type": "stream",
     "text": [
      "<class 'pandas.core.frame.DataFrame'>\n",
      "RangeIndex: 3173 entries, 0 to 3172\n",
      "Data columns (total 10 columns):\n",
      " #   Column              Non-Null Count  Dtype  \n",
      "---  ------              --------------  -----  \n",
      " 0   Title               3173 non-null   object \n",
      " 1   IMDb Rating         3173 non-null   float64\n",
      " 2   Year                3173 non-null   int64  \n",
      " 3   Certificates        3173 non-null   object \n",
      " 4   Genre               3173 non-null   object \n",
      " 5   Director            3173 non-null   object \n",
      " 6   Star Cast           3173 non-null   object \n",
      " 7   MetaScore           3173 non-null   float64\n",
      " 8   Poster-src          3173 non-null   object \n",
      " 9   Duration (minutes)  3173 non-null   float64\n",
      "dtypes: float64(3), int64(1), object(6)\n",
      "memory usage: 248.0+ KB\n"
     ]
    }
   ],
   "source": [
    "movies2.info()"
   ]
  },
  {
   "cell_type": "code",
   "execution_count": 305,
   "id": "3cf8f881",
   "metadata": {},
   "outputs": [
    {
     "data": {
      "text/plain": [
       "(3173, 10)"
      ]
     },
     "execution_count": 305,
     "metadata": {},
     "output_type": "execute_result"
    }
   ],
   "source": [
    "movies2.shape"
   ]
  },
  {
   "cell_type": "code",
   "execution_count": 306,
   "id": "054cfc48",
   "metadata": {},
   "outputs": [
    {
     "name": "stdout",
     "output_type": "stream",
     "text": [
      "<class 'pandas.core.frame.DataFrame'>\n",
      "RangeIndex: 1000 entries, 0 to 999\n",
      "Data columns (total 12 columns):\n",
      " #   Column              Non-Null Count  Dtype  \n",
      "---  ------              --------------  -----  \n",
      " 0   Title               1000 non-null   object \n",
      " 1   Director            1000 non-null   object \n",
      " 2   Star Cast           1000 non-null   object \n",
      " 3   Year                1000 non-null   int64  \n",
      " 4   IMDb Rating         1000 non-null   float64\n",
      " 5   MetaScore           1000 non-null   float64\n",
      " 6   Certificates        1000 non-null   object \n",
      " 7   Genre               1000 non-null   object \n",
      " 8   Second_Genre        1000 non-null   object \n",
      " 9   Third_Genre         1000 non-null   object \n",
      " 10  Poster-src          1000 non-null   object \n",
      " 11  Duration (minutes)  1000 non-null   float64\n",
      "dtypes: float64(3), int64(1), object(8)\n",
      "memory usage: 93.9+ KB\n"
     ]
    }
   ],
   "source": [
    "movies3.info()"
   ]
  },
  {
   "cell_type": "code",
   "execution_count": 307,
   "id": "0af0b476",
   "metadata": {},
   "outputs": [
    {
     "data": {
      "text/plain": [
       "(1000, 12)"
      ]
     },
     "execution_count": 307,
     "metadata": {},
     "output_type": "execute_result"
    }
   ],
   "source": [
    "movies3.shape"
   ]
  },
  {
   "cell_type": "markdown",
   "id": "592972cc",
   "metadata": {},
   "source": [
    "## Duplicate basis title "
   ]
  },
  {
   "cell_type": "code",
   "execution_count": 308,
   "id": "c58502ed",
   "metadata": {},
   "outputs": [
    {
     "name": "stdout",
     "output_type": "stream",
     "text": [
      "movies1\n",
      "149\n",
      "****************************\n",
      "movies2\n",
      "434\n",
      "****************************\n",
      "movies3\n",
      "34\n",
      "****************************\n"
     ]
    }
   ],
   "source": [
    "print('movies1')\n",
    "print(movies1['Title'].duplicated().sum())\n",
    "print(\"****************************\")\n",
    "print('movies2')\n",
    "print(movies2['Title'].duplicated().sum())\n",
    "print(\"****************************\")\n",
    "print('movies3')\n",
    "print(movies3['Title'].duplicated().sum())\n",
    "print(\"****************************\")"
   ]
  },
  {
   "cell_type": "code",
   "execution_count": 309,
   "id": "2a3cd32f",
   "metadata": {},
   "outputs": [],
   "source": [
    "movies1.drop_duplicates(subset='Title', inplace=True)\n",
    "movies2.drop_duplicates(subset='Title', inplace=True)\n",
    "movies3.drop_duplicates(subset='Title', inplace=True)\n"
   ]
  },
  {
   "cell_type": "code",
   "execution_count": 310,
   "id": "fb100526",
   "metadata": {},
   "outputs": [
    {
     "name": "stdout",
     "output_type": "stream",
     "text": [
      "movies1\n",
      "0\n",
      "****************************\n",
      "movies2\n",
      "0\n",
      "****************************\n",
      "movies3\n",
      "0\n",
      "****************************\n"
     ]
    }
   ],
   "source": [
    "print('movies1')\n",
    "print(movies1['Title'].duplicated().sum())\n",
    "print(\"****************************\")\n",
    "print('movies2')\n",
    "print(movies2['Title'].duplicated().sum())\n",
    "print(\"****************************\")\n",
    "print('movies3')\n",
    "print(movies3['Title'].duplicated().sum())\n",
    "print(\"****************************\")"
   ]
  },
  {
   "cell_type": "code",
   "execution_count": 311,
   "id": "7a171ffd",
   "metadata": {},
   "outputs": [
    {
     "data": {
      "text/plain": [
       "((251, 9), (2739, 10), (966, 12))"
      ]
     },
     "execution_count": 311,
     "metadata": {},
     "output_type": "execute_result"
    }
   ],
   "source": [
    "movies1.shape , movies2.shape , movies3.shape"
   ]
  },
  {
   "cell_type": "code",
   "execution_count": 312,
   "id": "301e7e3b",
   "metadata": {},
   "outputs": [
    {
     "name": "stdout",
     "output_type": "stream",
     "text": [
      "movies1: 251\n",
      "movies2: 2739\n",
      "movies3: 966\n"
     ]
    }
   ],
   "source": [
    "print(\"movies1:\", movies1['Title'].nunique())\n",
    "print(\"movies2:\", movies2['Title'].nunique())\n",
    "print(\"movies3:\", movies3['Title'].nunique())"
   ]
  },
  {
   "cell_type": "code",
   "execution_count": 313,
   "id": "acba394c",
   "metadata": {},
   "outputs": [
    {
     "data": {
      "text/plain": [
       "Index(['Title', 'Director', 'Star Cast', 'Year', 'IMDb Rating', 'MetaScore',\n",
       "       'Certificates', 'Genre', 'Second_Genre', 'Third_Genre', 'Poster-src',\n",
       "       'Duration (minutes)'],\n",
       "      dtype='object')"
      ]
     },
     "execution_count": 313,
     "metadata": {},
     "output_type": "execute_result"
    }
   ],
   "source": [
    "movies3.columns"
   ]
  },
  {
   "cell_type": "markdown",
   "id": "1334ca1a",
   "metadata": {},
   "source": [
    "## Add the Second_Genre  Third_Genre to Genre"
   ]
  },
  {
   "cell_type": "code",
   "execution_count": 314,
   "id": "97ba5e1f",
   "metadata": {},
   "outputs": [],
   "source": [
    "movies1['Genre'] = movies1['Genre'].apply(lambda x : x.split())\n",
    "movies2['Genre'] = movies2['Genre'].apply(lambda x : x.split())"
   ]
  },
  {
   "cell_type": "code",
   "execution_count": 315,
   "id": "1ae6011c",
   "metadata": {},
   "outputs": [],
   "source": [
    "# converting into list\n",
    "movies3['Genre'] = movies3['Genre'].apply(lambda x : x.split())\n",
    "movies3['Second_Genre'] = movies3['Second_Genre'].apply(lambda x : x.split())\n",
    "movies3['Third_Genre'] = movies3['Third_Genre'].apply(lambda x : x.split())"
   ]
  },
  {
   "cell_type": "code",
   "execution_count": 316,
   "id": "a8c27b86",
   "metadata": {},
   "outputs": [],
   "source": [
    "movies3['Genre'] =  movies3['Genre'] + movies3['Second_Genre'] + movies3['Third_Genre'] "
   ]
  },
  {
   "cell_type": "code",
   "execution_count": 317,
   "id": "db017cfb",
   "metadata": {},
   "outputs": [
    {
     "data": {
      "text/html": [
       "<div>\n",
       "<style scoped>\n",
       "    .dataframe tbody tr th:only-of-type {\n",
       "        vertical-align: middle;\n",
       "    }\n",
       "\n",
       "    .dataframe tbody tr th {\n",
       "        vertical-align: top;\n",
       "    }\n",
       "\n",
       "    .dataframe thead th {\n",
       "        text-align: right;\n",
       "    }\n",
       "</style>\n",
       "<table border=\"1\" class=\"dataframe\">\n",
       "  <thead>\n",
       "    <tr style=\"text-align: right;\">\n",
       "      <th></th>\n",
       "      <th>Title</th>\n",
       "      <th>Director</th>\n",
       "      <th>Star Cast</th>\n",
       "      <th>Year</th>\n",
       "      <th>IMDb Rating</th>\n",
       "      <th>MetaScore</th>\n",
       "      <th>Certificates</th>\n",
       "      <th>Genre</th>\n",
       "      <th>Second_Genre</th>\n",
       "      <th>Third_Genre</th>\n",
       "      <th>Poster-src</th>\n",
       "      <th>Duration (minutes)</th>\n",
       "    </tr>\n",
       "  </thead>\n",
       "  <tbody>\n",
       "    <tr>\n",
       "      <th>0</th>\n",
       "      <td>The Biggest Little Farm</td>\n",
       "      <td>John Chester</td>\n",
       "      <td>John Chester</td>\n",
       "      <td>2018</td>\n",
       "      <td>8.0</td>\n",
       "      <td>73.0</td>\n",
       "      <td>PG</td>\n",
       "      <td>[Documentary, Family, Family]</td>\n",
       "      <td>[Family]</td>\n",
       "      <td>[Family]</td>\n",
       "      <td>https://m.media-amazon.com/images/M/MV5BMjQ1Mj...</td>\n",
       "      <td>91.0</td>\n",
       "    </tr>\n",
       "    <tr>\n",
       "      <th>1</th>\n",
       "      <td>Pokémon the Movie 2000</td>\n",
       "      <td>Kunihiko Yuyama</td>\n",
       "      <td>Veronica Taylor</td>\n",
       "      <td>1999</td>\n",
       "      <td>6.1</td>\n",
       "      <td>28.0</td>\n",
       "      <td>G</td>\n",
       "      <td>[Animation, Action, Adventure]</td>\n",
       "      <td>[Action]</td>\n",
       "      <td>[Adventure]</td>\n",
       "      <td>https://m.media-amazon.com/images/M/MV5BNzE1Nj...</td>\n",
       "      <td>99.0</td>\n",
       "    </tr>\n",
       "    <tr>\n",
       "      <th>2</th>\n",
       "      <td>When Hitler Stole Pink Rabbit</td>\n",
       "      <td>Caroline Link</td>\n",
       "      <td>Riva Krymalowski</td>\n",
       "      <td>2019</td>\n",
       "      <td>7.0</td>\n",
       "      <td>54.0</td>\n",
       "      <td>PG</td>\n",
       "      <td>[Biography, Drama, Family]</td>\n",
       "      <td>[Drama]</td>\n",
       "      <td>[Family]</td>\n",
       "      <td>https://m.media-amazon.com/images/M/MV5BMmNiOW...</td>\n",
       "      <td>100.0</td>\n",
       "    </tr>\n",
       "  </tbody>\n",
       "</table>\n",
       "</div>"
      ],
      "text/plain": [
       "                           Title         Director         Star Cast  Year  \\\n",
       "0        The Biggest Little Farm     John Chester      John Chester  2018   \n",
       "1         Pokémon the Movie 2000  Kunihiko Yuyama   Veronica Taylor  1999   \n",
       "2  When Hitler Stole Pink Rabbit    Caroline Link  Riva Krymalowski  2019   \n",
       "\n",
       "   IMDb Rating  MetaScore Certificates                           Genre  \\\n",
       "0          8.0       73.0           PG   [Documentary, Family, Family]   \n",
       "1          6.1       28.0            G  [Animation, Action, Adventure]   \n",
       "2          7.0       54.0           PG      [Biography, Drama, Family]   \n",
       "\n",
       "  Second_Genre  Third_Genre  \\\n",
       "0     [Family]     [Family]   \n",
       "1     [Action]  [Adventure]   \n",
       "2      [Drama]     [Family]   \n",
       "\n",
       "                                          Poster-src  Duration (minutes)  \n",
       "0  https://m.media-amazon.com/images/M/MV5BMjQ1Mj...                91.0  \n",
       "1  https://m.media-amazon.com/images/M/MV5BNzE1Nj...                99.0  \n",
       "2  https://m.media-amazon.com/images/M/MV5BMmNiOW...               100.0  "
      ]
     },
     "execution_count": 317,
     "metadata": {},
     "output_type": "execute_result"
    }
   ],
   "source": [
    "movies3.head(3)"
   ]
  },
  {
   "cell_type": "markdown",
   "id": "0cfa77f7",
   "metadata": {},
   "source": [
    "## No need Second_Genre  Third_Genre"
   ]
  },
  {
   "cell_type": "code",
   "execution_count": 318,
   "id": "734dad0c",
   "metadata": {},
   "outputs": [],
   "source": [
    "movies3.drop(columns=['Second_Genre' , 'Third_Genre'] , inplace=True)"
   ]
  },
  {
   "cell_type": "code",
   "execution_count": 319,
   "id": "12be732f",
   "metadata": {},
   "outputs": [
    {
     "data": {
      "text/plain": [
       "Index(['Title', 'Director', 'Star Cast', 'Year', 'IMDb Rating', 'MetaScore',\n",
       "       'Certificates', 'Genre', 'Poster-src', 'Duration (minutes)'],\n",
       "      dtype='object')"
      ]
     },
     "execution_count": 319,
     "metadata": {},
     "output_type": "execute_result"
    }
   ],
   "source": [
    "movies3.columns"
   ]
  },
  {
   "cell_type": "markdown",
   "id": "3ed5506b",
   "metadata": {},
   "source": [
    "## Concanate on the basis of Title"
   ]
  },
  {
   "cell_type": "code",
   "execution_count": 320,
   "id": "07d4d072",
   "metadata": {},
   "outputs": [],
   "source": [
    "final_movies = pd.concat([movies1 , movies2 , movies3] , axis=0)"
   ]
  },
  {
   "cell_type": "code",
   "execution_count": 321,
   "id": "1bda0738",
   "metadata": {},
   "outputs": [
    {
     "data": {
      "text/plain": [
       "(3956, 10)"
      ]
     },
     "execution_count": 321,
     "metadata": {},
     "output_type": "execute_result"
    }
   ],
   "source": [
    "final_movies.shape"
   ]
  },
  {
   "cell_type": "code",
   "execution_count": 322,
   "id": "8133dcfb",
   "metadata": {},
   "outputs": [
    {
     "data": {
      "text/plain": [
       "Index(['Title', 'IMDb Rating', 'Year', 'Certificates', 'Genre', 'Director',\n",
       "       'Star Cast', 'MetaScore', 'Duration (minutes)', 'Poster-src'],\n",
       "      dtype='object')"
      ]
     },
     "execution_count": 322,
     "metadata": {},
     "output_type": "execute_result"
    }
   ],
   "source": [
    "final_movies.columns"
   ]
  },
  {
   "cell_type": "code",
   "execution_count": 323,
   "id": "6f1f0b5b",
   "metadata": {},
   "outputs": [
    {
     "data": {
      "text/html": [
       "<div>\n",
       "<style scoped>\n",
       "    .dataframe tbody tr th:only-of-type {\n",
       "        vertical-align: middle;\n",
       "    }\n",
       "\n",
       "    .dataframe tbody tr th {\n",
       "        vertical-align: top;\n",
       "    }\n",
       "\n",
       "    .dataframe thead th {\n",
       "        text-align: right;\n",
       "    }\n",
       "</style>\n",
       "<table border=\"1\" class=\"dataframe\">\n",
       "  <thead>\n",
       "    <tr style=\"text-align: right;\">\n",
       "      <th></th>\n",
       "      <th>Title</th>\n",
       "      <th>IMDb Rating</th>\n",
       "      <th>Year</th>\n",
       "      <th>Certificates</th>\n",
       "      <th>Genre</th>\n",
       "      <th>Director</th>\n",
       "      <th>Star Cast</th>\n",
       "      <th>MetaScore</th>\n",
       "      <th>Duration (minutes)</th>\n",
       "      <th>Poster-src</th>\n",
       "    </tr>\n",
       "  </thead>\n",
       "  <tbody>\n",
       "    <tr>\n",
       "      <th>0</th>\n",
       "      <td>Gladiator</td>\n",
       "      <td>8.5</td>\n",
       "      <td>2000</td>\n",
       "      <td>R</td>\n",
       "      <td>[Action]</td>\n",
       "      <td>Ridley Scott</td>\n",
       "      <td>David FranzoniJohn LoganWilliam Nicholson</td>\n",
       "      <td>67.0</td>\n",
       "      <td>155.0</td>\n",
       "      <td>NaN</td>\n",
       "    </tr>\n",
       "    <tr>\n",
       "      <th>1</th>\n",
       "      <td>Mission: Impossible - Dead Reckoning Part One</td>\n",
       "      <td>7.7</td>\n",
       "      <td>2023</td>\n",
       "      <td>PG-13</td>\n",
       "      <td>[Action]</td>\n",
       "      <td>Christopher McQuarrie</td>\n",
       "      <td>Tom CruiseHayley AtwellVing Rhames</td>\n",
       "      <td>81.0</td>\n",
       "      <td>163.0</td>\n",
       "      <td>NaN</td>\n",
       "    </tr>\n",
       "    <tr>\n",
       "      <th>2</th>\n",
       "      <td>Rebel Moon - Part Two: The Scargiver</td>\n",
       "      <td>5.2</td>\n",
       "      <td>2024</td>\n",
       "      <td>PG-13</td>\n",
       "      <td>[Action]</td>\n",
       "      <td>Zack Snyder</td>\n",
       "      <td>Zack SnyderKurt JohnstadShay Hatten</td>\n",
       "      <td>35.0</td>\n",
       "      <td>122.0</td>\n",
       "      <td>NaN</td>\n",
       "    </tr>\n",
       "    <tr>\n",
       "      <th>3</th>\n",
       "      <td>Inglourious Basterds</td>\n",
       "      <td>8.4</td>\n",
       "      <td>2009</td>\n",
       "      <td>R</td>\n",
       "      <td>[Adventure]</td>\n",
       "      <td>Quentin Tarantino</td>\n",
       "      <td>Brad PittDiane KrugerEli Roth</td>\n",
       "      <td>69.0</td>\n",
       "      <td>153.0</td>\n",
       "      <td>NaN</td>\n",
       "    </tr>\n",
       "    <tr>\n",
       "      <th>4</th>\n",
       "      <td>Borderlands</td>\n",
       "      <td>7.1</td>\n",
       "      <td>2024</td>\n",
       "      <td>R</td>\n",
       "      <td>[Action]</td>\n",
       "      <td>Eli Roth</td>\n",
       "      <td>Eli RothJoe Crombie</td>\n",
       "      <td>66.9</td>\n",
       "      <td>116.3</td>\n",
       "      <td>NaN</td>\n",
       "    </tr>\n",
       "  </tbody>\n",
       "</table>\n",
       "</div>"
      ],
      "text/plain": [
       "                                           Title  IMDb Rating  Year  \\\n",
       "0                                      Gladiator          8.5  2000   \n",
       "1  Mission: Impossible - Dead Reckoning Part One          7.7  2023   \n",
       "2           Rebel Moon - Part Two: The Scargiver          5.2  2024   \n",
       "3                           Inglourious Basterds          8.4  2009   \n",
       "4                                    Borderlands          7.1  2024   \n",
       "\n",
       "  Certificates        Genre               Director  \\\n",
       "0            R     [Action]           Ridley Scott   \n",
       "1        PG-13     [Action]  Christopher McQuarrie   \n",
       "2        PG-13     [Action]            Zack Snyder   \n",
       "3            R  [Adventure]      Quentin Tarantino   \n",
       "4            R     [Action]               Eli Roth   \n",
       "\n",
       "                                   Star Cast  MetaScore  Duration (minutes)  \\\n",
       "0  David FranzoniJohn LoganWilliam Nicholson       67.0               155.0   \n",
       "1         Tom CruiseHayley AtwellVing Rhames       81.0               163.0   \n",
       "2        Zack SnyderKurt JohnstadShay Hatten       35.0               122.0   \n",
       "3              Brad PittDiane KrugerEli Roth       69.0               153.0   \n",
       "4                        Eli RothJoe Crombie       66.9               116.3   \n",
       "\n",
       "  Poster-src  \n",
       "0        NaN  \n",
       "1        NaN  \n",
       "2        NaN  \n",
       "3        NaN  \n",
       "4        NaN  "
      ]
     },
     "execution_count": 323,
     "metadata": {},
     "output_type": "execute_result"
    }
   ],
   "source": [
    "final_movies.head()"
   ]
  },
  {
   "cell_type": "markdown",
   "id": "34cb7371",
   "metadata": {},
   "source": [
    "## Checking Duplicated values"
   ]
  },
  {
   "cell_type": "code",
   "execution_count": 324,
   "id": "a5c9d687",
   "metadata": {},
   "outputs": [
    {
     "data": {
      "text/plain": [
       "300"
      ]
     },
     "execution_count": 324,
     "metadata": {},
     "output_type": "execute_result"
    }
   ],
   "source": [
    "final_movies['Title'].duplicated().sum()"
   ]
  },
  {
   "cell_type": "code",
   "execution_count": 325,
   "id": "4f8f4c11",
   "metadata": {},
   "outputs": [],
   "source": [
    "final_movies.drop_duplicates(subset='Title' , inplace=True)"
   ]
  },
  {
   "cell_type": "code",
   "execution_count": 326,
   "id": "2ecb59c4",
   "metadata": {},
   "outputs": [
    {
     "data": {
      "text/plain": [
       "0"
      ]
     },
     "execution_count": 326,
     "metadata": {},
     "output_type": "execute_result"
    }
   ],
   "source": [
    "final_movies['Title'].duplicated().sum()"
   ]
  },
  {
   "cell_type": "markdown",
   "id": "782660b8",
   "metadata": {},
   "source": [
    "## Checking Missing Values"
   ]
  },
  {
   "cell_type": "code",
   "execution_count": 327,
   "id": "717ad118",
   "metadata": {},
   "outputs": [
    {
     "data": {
      "text/plain": [
       "Title                   0\n",
       "IMDb Rating             0\n",
       "Year                    0\n",
       "Certificates            0\n",
       "Genre                   0\n",
       "Director                0\n",
       "Star Cast               0\n",
       "MetaScore               0\n",
       "Duration (minutes)      0\n",
       "Poster-src            251\n",
       "dtype: int64"
      ]
     },
     "execution_count": 327,
     "metadata": {},
     "output_type": "execute_result"
    }
   ],
   "source": [
    "final_movies.isnull().sum()"
   ]
  },
  {
   "cell_type": "markdown",
   "id": "19cae424",
   "metadata": {},
   "source": [
    "## Selecting requred columns"
   ]
  },
  {
   "cell_type": "code",
   "execution_count": 328,
   "id": "6d29be03",
   "metadata": {},
   "outputs": [],
   "source": [
    "final_movies = final_movies[['Title' ,'Genre', 'Director','Star Cast', 'IMDb Rating']]"
   ]
  },
  {
   "cell_type": "code",
   "execution_count": 329,
   "id": "ed8e6194",
   "metadata": {},
   "outputs": [
    {
     "data": {
      "text/html": [
       "<div>\n",
       "<style scoped>\n",
       "    .dataframe tbody tr th:only-of-type {\n",
       "        vertical-align: middle;\n",
       "    }\n",
       "\n",
       "    .dataframe tbody tr th {\n",
       "        vertical-align: top;\n",
       "    }\n",
       "\n",
       "    .dataframe thead th {\n",
       "        text-align: right;\n",
       "    }\n",
       "</style>\n",
       "<table border=\"1\" class=\"dataframe\">\n",
       "  <thead>\n",
       "    <tr style=\"text-align: right;\">\n",
       "      <th></th>\n",
       "      <th>Title</th>\n",
       "      <th>Genre</th>\n",
       "      <th>Director</th>\n",
       "      <th>Star Cast</th>\n",
       "      <th>IMDb Rating</th>\n",
       "    </tr>\n",
       "  </thead>\n",
       "  <tbody>\n",
       "    <tr>\n",
       "      <th>0</th>\n",
       "      <td>Gladiator</td>\n",
       "      <td>[Action]</td>\n",
       "      <td>Ridley Scott</td>\n",
       "      <td>David FranzoniJohn LoganWilliam Nicholson</td>\n",
       "      <td>8.5</td>\n",
       "    </tr>\n",
       "    <tr>\n",
       "      <th>1</th>\n",
       "      <td>Mission: Impossible - Dead Reckoning Part One</td>\n",
       "      <td>[Action]</td>\n",
       "      <td>Christopher McQuarrie</td>\n",
       "      <td>Tom CruiseHayley AtwellVing Rhames</td>\n",
       "      <td>7.7</td>\n",
       "    </tr>\n",
       "    <tr>\n",
       "      <th>2</th>\n",
       "      <td>Rebel Moon - Part Two: The Scargiver</td>\n",
       "      <td>[Action]</td>\n",
       "      <td>Zack Snyder</td>\n",
       "      <td>Zack SnyderKurt JohnstadShay Hatten</td>\n",
       "      <td>5.2</td>\n",
       "    </tr>\n",
       "    <tr>\n",
       "      <th>3</th>\n",
       "      <td>Inglourious Basterds</td>\n",
       "      <td>[Adventure]</td>\n",
       "      <td>Quentin Tarantino</td>\n",
       "      <td>Brad PittDiane KrugerEli Roth</td>\n",
       "      <td>8.4</td>\n",
       "    </tr>\n",
       "    <tr>\n",
       "      <th>4</th>\n",
       "      <td>Borderlands</td>\n",
       "      <td>[Action]</td>\n",
       "      <td>Eli Roth</td>\n",
       "      <td>Eli RothJoe Crombie</td>\n",
       "      <td>7.1</td>\n",
       "    </tr>\n",
       "  </tbody>\n",
       "</table>\n",
       "</div>"
      ],
      "text/plain": [
       "                                           Title        Genre  \\\n",
       "0                                      Gladiator     [Action]   \n",
       "1  Mission: Impossible - Dead Reckoning Part One     [Action]   \n",
       "2           Rebel Moon - Part Two: The Scargiver     [Action]   \n",
       "3                           Inglourious Basterds  [Adventure]   \n",
       "4                                    Borderlands     [Action]   \n",
       "\n",
       "                Director                                  Star Cast  \\\n",
       "0           Ridley Scott  David FranzoniJohn LoganWilliam Nicholson   \n",
       "1  Christopher McQuarrie         Tom CruiseHayley AtwellVing Rhames   \n",
       "2            Zack Snyder        Zack SnyderKurt JohnstadShay Hatten   \n",
       "3      Quentin Tarantino              Brad PittDiane KrugerEli Roth   \n",
       "4               Eli Roth                        Eli RothJoe Crombie   \n",
       "\n",
       "   IMDb Rating  \n",
       "0          8.5  \n",
       "1          7.7  \n",
       "2          5.2  \n",
       "3          8.4  \n",
       "4          7.1  "
      ]
     },
     "execution_count": 329,
     "metadata": {},
     "output_type": "execute_result"
    }
   ],
   "source": [
    "final_movies.head()"
   ]
  },
  {
   "cell_type": "markdown",
   "id": "52b7a4d0",
   "metadata": {},
   "source": [
    "## Missing Value\n"
   ]
  },
  {
   "cell_type": "code",
   "execution_count": 330,
   "id": "66fbf3b9",
   "metadata": {},
   "outputs": [
    {
     "data": {
      "text/plain": [
       "Title          0\n",
       "Genre          0\n",
       "Director       0\n",
       "Star Cast      0\n",
       "IMDb Rating    0\n",
       "dtype: int64"
      ]
     },
     "execution_count": 330,
     "metadata": {},
     "output_type": "execute_result"
    }
   ],
   "source": [
    "final_movies.isnull().sum()"
   ]
  },
  {
   "cell_type": "markdown",
   "id": "bd05a50e",
   "metadata": {},
   "source": [
    "## Removing Spaces"
   ]
  },
  {
   "cell_type": "code",
   "execution_count": 331,
   "id": "7971f12c",
   "metadata": {},
   "outputs": [
    {
     "data": {
      "text/html": [
       "<div>\n",
       "<style scoped>\n",
       "    .dataframe tbody tr th:only-of-type {\n",
       "        vertical-align: middle;\n",
       "    }\n",
       "\n",
       "    .dataframe tbody tr th {\n",
       "        vertical-align: top;\n",
       "    }\n",
       "\n",
       "    .dataframe thead th {\n",
       "        text-align: right;\n",
       "    }\n",
       "</style>\n",
       "<table border=\"1\" class=\"dataframe\">\n",
       "  <thead>\n",
       "    <tr style=\"text-align: right;\">\n",
       "      <th></th>\n",
       "      <th>Title</th>\n",
       "      <th>Genre</th>\n",
       "      <th>Director</th>\n",
       "      <th>Star Cast</th>\n",
       "      <th>IMDb Rating</th>\n",
       "    </tr>\n",
       "  </thead>\n",
       "  <tbody>\n",
       "    <tr>\n",
       "      <th>0</th>\n",
       "      <td>Gladiator</td>\n",
       "      <td>[Action]</td>\n",
       "      <td>Ridley Scott</td>\n",
       "      <td>David FranzoniJohn LoganWilliam Nicholson</td>\n",
       "      <td>8.5</td>\n",
       "    </tr>\n",
       "    <tr>\n",
       "      <th>1</th>\n",
       "      <td>Mission: Impossible - Dead Reckoning Part One</td>\n",
       "      <td>[Action]</td>\n",
       "      <td>Christopher McQuarrie</td>\n",
       "      <td>Tom CruiseHayley AtwellVing Rhames</td>\n",
       "      <td>7.7</td>\n",
       "    </tr>\n",
       "    <tr>\n",
       "      <th>2</th>\n",
       "      <td>Rebel Moon - Part Two: The Scargiver</td>\n",
       "      <td>[Action]</td>\n",
       "      <td>Zack Snyder</td>\n",
       "      <td>Zack SnyderKurt JohnstadShay Hatten</td>\n",
       "      <td>5.2</td>\n",
       "    </tr>\n",
       "    <tr>\n",
       "      <th>3</th>\n",
       "      <td>Inglourious Basterds</td>\n",
       "      <td>[Adventure]</td>\n",
       "      <td>Quentin Tarantino</td>\n",
       "      <td>Brad PittDiane KrugerEli Roth</td>\n",
       "      <td>8.4</td>\n",
       "    </tr>\n",
       "    <tr>\n",
       "      <th>4</th>\n",
       "      <td>Borderlands</td>\n",
       "      <td>[Action]</td>\n",
       "      <td>Eli Roth</td>\n",
       "      <td>Eli RothJoe Crombie</td>\n",
       "      <td>7.1</td>\n",
       "    </tr>\n",
       "  </tbody>\n",
       "</table>\n",
       "</div>"
      ],
      "text/plain": [
       "                                           Title        Genre  \\\n",
       "0                                      Gladiator     [Action]   \n",
       "1  Mission: Impossible - Dead Reckoning Part One     [Action]   \n",
       "2           Rebel Moon - Part Two: The Scargiver     [Action]   \n",
       "3                           Inglourious Basterds  [Adventure]   \n",
       "4                                    Borderlands     [Action]   \n",
       "\n",
       "                Director                                  Star Cast  \\\n",
       "0           Ridley Scott  David FranzoniJohn LoganWilliam Nicholson   \n",
       "1  Christopher McQuarrie         Tom CruiseHayley AtwellVing Rhames   \n",
       "2            Zack Snyder        Zack SnyderKurt JohnstadShay Hatten   \n",
       "3      Quentin Tarantino              Brad PittDiane KrugerEli Roth   \n",
       "4               Eli Roth                        Eli RothJoe Crombie   \n",
       "\n",
       "   IMDb Rating  \n",
       "0          8.5  \n",
       "1          7.7  \n",
       "2          5.2  \n",
       "3          8.4  \n",
       "4          7.1  "
      ]
     },
     "execution_count": 331,
     "metadata": {},
     "output_type": "execute_result"
    }
   ],
   "source": [
    "final_movies.head()"
   ]
  },
  {
   "cell_type": "code",
   "execution_count": 332,
   "id": "5f4a2ba0",
   "metadata": {},
   "outputs": [],
   "source": [
    "final_movies['Director'] = final_movies['Director'].apply(lambda x : x.replace(\" \",\"\"))"
   ]
  },
  {
   "cell_type": "code",
   "execution_count": 333,
   "id": "1694156c",
   "metadata": {},
   "outputs": [
    {
     "data": {
      "text/html": [
       "<div>\n",
       "<style scoped>\n",
       "    .dataframe tbody tr th:only-of-type {\n",
       "        vertical-align: middle;\n",
       "    }\n",
       "\n",
       "    .dataframe tbody tr th {\n",
       "        vertical-align: top;\n",
       "    }\n",
       "\n",
       "    .dataframe thead th {\n",
       "        text-align: right;\n",
       "    }\n",
       "</style>\n",
       "<table border=\"1\" class=\"dataframe\">\n",
       "  <thead>\n",
       "    <tr style=\"text-align: right;\">\n",
       "      <th></th>\n",
       "      <th>Title</th>\n",
       "      <th>Genre</th>\n",
       "      <th>Director</th>\n",
       "      <th>Star Cast</th>\n",
       "      <th>IMDb Rating</th>\n",
       "    </tr>\n",
       "  </thead>\n",
       "  <tbody>\n",
       "    <tr>\n",
       "      <th>0</th>\n",
       "      <td>Gladiator</td>\n",
       "      <td>[Action]</td>\n",
       "      <td>RidleyScott</td>\n",
       "      <td>David FranzoniJohn LoganWilliam Nicholson</td>\n",
       "      <td>8.5</td>\n",
       "    </tr>\n",
       "    <tr>\n",
       "      <th>1</th>\n",
       "      <td>Mission: Impossible - Dead Reckoning Part One</td>\n",
       "      <td>[Action]</td>\n",
       "      <td>ChristopherMcQuarrie</td>\n",
       "      <td>Tom CruiseHayley AtwellVing Rhames</td>\n",
       "      <td>7.7</td>\n",
       "    </tr>\n",
       "    <tr>\n",
       "      <th>2</th>\n",
       "      <td>Rebel Moon - Part Two: The Scargiver</td>\n",
       "      <td>[Action]</td>\n",
       "      <td>ZackSnyder</td>\n",
       "      <td>Zack SnyderKurt JohnstadShay Hatten</td>\n",
       "      <td>5.2</td>\n",
       "    </tr>\n",
       "    <tr>\n",
       "      <th>3</th>\n",
       "      <td>Inglourious Basterds</td>\n",
       "      <td>[Adventure]</td>\n",
       "      <td>QuentinTarantino</td>\n",
       "      <td>Brad PittDiane KrugerEli Roth</td>\n",
       "      <td>8.4</td>\n",
       "    </tr>\n",
       "    <tr>\n",
       "      <th>4</th>\n",
       "      <td>Borderlands</td>\n",
       "      <td>[Action]</td>\n",
       "      <td>EliRoth</td>\n",
       "      <td>Eli RothJoe Crombie</td>\n",
       "      <td>7.1</td>\n",
       "    </tr>\n",
       "  </tbody>\n",
       "</table>\n",
       "</div>"
      ],
      "text/plain": [
       "                                           Title        Genre  \\\n",
       "0                                      Gladiator     [Action]   \n",
       "1  Mission: Impossible - Dead Reckoning Part One     [Action]   \n",
       "2           Rebel Moon - Part Two: The Scargiver     [Action]   \n",
       "3                           Inglourious Basterds  [Adventure]   \n",
       "4                                    Borderlands     [Action]   \n",
       "\n",
       "               Director                                  Star Cast  \\\n",
       "0           RidleyScott  David FranzoniJohn LoganWilliam Nicholson   \n",
       "1  ChristopherMcQuarrie         Tom CruiseHayley AtwellVing Rhames   \n",
       "2            ZackSnyder        Zack SnyderKurt JohnstadShay Hatten   \n",
       "3      QuentinTarantino              Brad PittDiane KrugerEli Roth   \n",
       "4               EliRoth                        Eli RothJoe Crombie   \n",
       "\n",
       "   IMDb Rating  \n",
       "0          8.5  \n",
       "1          7.7  \n",
       "2          5.2  \n",
       "3          8.4  \n",
       "4          7.1  "
      ]
     },
     "execution_count": 333,
     "metadata": {},
     "output_type": "execute_result"
    }
   ],
   "source": [
    "final_movies.head()"
   ]
  },
  {
   "cell_type": "markdown",
   "id": "dd468107",
   "metadata": {},
   "source": [
    "## Convering into list "
   ]
  },
  {
   "cell_type": "code",
   "execution_count": 334,
   "id": "5e6ec120",
   "metadata": {},
   "outputs": [],
   "source": [
    "final_movies['Director'] = final_movies['Director'].apply(lambda x : x.split())\n",
    "final_movies['Star Cast'] = final_movies['Star Cast'].apply(lambda x : x.split())\n"
   ]
  },
  {
   "cell_type": "code",
   "execution_count": 335,
   "id": "8595b43f",
   "metadata": {},
   "outputs": [],
   "source": [
    "final_movies['IMDb Rating'] = final_movies['IMDb Rating'].astype(str)\n",
    "final_movies['IMDb Rating'] = final_movies['IMDb Rating'].apply(lambda x : x.split())"
   ]
  },
  {
   "cell_type": "code",
   "execution_count": 336,
   "id": "53fdfce8",
   "metadata": {},
   "outputs": [
    {
     "data": {
      "text/html": [
       "<div>\n",
       "<style scoped>\n",
       "    .dataframe tbody tr th:only-of-type {\n",
       "        vertical-align: middle;\n",
       "    }\n",
       "\n",
       "    .dataframe tbody tr th {\n",
       "        vertical-align: top;\n",
       "    }\n",
       "\n",
       "    .dataframe thead th {\n",
       "        text-align: right;\n",
       "    }\n",
       "</style>\n",
       "<table border=\"1\" class=\"dataframe\">\n",
       "  <thead>\n",
       "    <tr style=\"text-align: right;\">\n",
       "      <th></th>\n",
       "      <th>Title</th>\n",
       "      <th>Genre</th>\n",
       "      <th>Director</th>\n",
       "      <th>Star Cast</th>\n",
       "      <th>IMDb Rating</th>\n",
       "    </tr>\n",
       "  </thead>\n",
       "  <tbody>\n",
       "    <tr>\n",
       "      <th>0</th>\n",
       "      <td>Gladiator</td>\n",
       "      <td>[Action]</td>\n",
       "      <td>[RidleyScott]</td>\n",
       "      <td>[David, FranzoniJohn, LoganWilliam, Nicholson]</td>\n",
       "      <td>[8.5]</td>\n",
       "    </tr>\n",
       "    <tr>\n",
       "      <th>1</th>\n",
       "      <td>Mission: Impossible - Dead Reckoning Part One</td>\n",
       "      <td>[Action]</td>\n",
       "      <td>[ChristopherMcQuarrie]</td>\n",
       "      <td>[Tom, CruiseHayley, AtwellVing, Rhames]</td>\n",
       "      <td>[7.7]</td>\n",
       "    </tr>\n",
       "    <tr>\n",
       "      <th>2</th>\n",
       "      <td>Rebel Moon - Part Two: The Scargiver</td>\n",
       "      <td>[Action]</td>\n",
       "      <td>[ZackSnyder]</td>\n",
       "      <td>[Zack, SnyderKurt, JohnstadShay, Hatten]</td>\n",
       "      <td>[5.2]</td>\n",
       "    </tr>\n",
       "    <tr>\n",
       "      <th>3</th>\n",
       "      <td>Inglourious Basterds</td>\n",
       "      <td>[Adventure]</td>\n",
       "      <td>[QuentinTarantino]</td>\n",
       "      <td>[Brad, PittDiane, KrugerEli, Roth]</td>\n",
       "      <td>[8.4]</td>\n",
       "    </tr>\n",
       "    <tr>\n",
       "      <th>4</th>\n",
       "      <td>Borderlands</td>\n",
       "      <td>[Action]</td>\n",
       "      <td>[EliRoth]</td>\n",
       "      <td>[Eli, RothJoe, Crombie]</td>\n",
       "      <td>[7.1]</td>\n",
       "    </tr>\n",
       "  </tbody>\n",
       "</table>\n",
       "</div>"
      ],
      "text/plain": [
       "                                           Title        Genre  \\\n",
       "0                                      Gladiator     [Action]   \n",
       "1  Mission: Impossible - Dead Reckoning Part One     [Action]   \n",
       "2           Rebel Moon - Part Two: The Scargiver     [Action]   \n",
       "3                           Inglourious Basterds  [Adventure]   \n",
       "4                                    Borderlands     [Action]   \n",
       "\n",
       "                 Director                                       Star Cast  \\\n",
       "0           [RidleyScott]  [David, FranzoniJohn, LoganWilliam, Nicholson]   \n",
       "1  [ChristopherMcQuarrie]         [Tom, CruiseHayley, AtwellVing, Rhames]   \n",
       "2            [ZackSnyder]        [Zack, SnyderKurt, JohnstadShay, Hatten]   \n",
       "3      [QuentinTarantino]              [Brad, PittDiane, KrugerEli, Roth]   \n",
       "4               [EliRoth]                         [Eli, RothJoe, Crombie]   \n",
       "\n",
       "  IMDb Rating  \n",
       "0       [8.5]  \n",
       "1       [7.7]  \n",
       "2       [5.2]  \n",
       "3       [8.4]  \n",
       "4       [7.1]  "
      ]
     },
     "execution_count": 336,
     "metadata": {},
     "output_type": "execute_result"
    }
   ],
   "source": [
    "final_movies.head()"
   ]
  },
  {
   "cell_type": "markdown",
   "id": "9170d40d",
   "metadata": {},
   "source": [
    "## Merge and make 2 columns"
   ]
  },
  {
   "cell_type": "code",
   "execution_count": 337,
   "id": "c17775f5",
   "metadata": {},
   "outputs": [],
   "source": [
    "final_movies['context'] = final_movies['Genre'] + final_movies['Director'] + final_movies['Star Cast'] + final_movies['IMDb Rating']"
   ]
  },
  {
   "cell_type": "code",
   "execution_count": 338,
   "id": "d27f5ecf",
   "metadata": {},
   "outputs": [
    {
     "data": {
      "text/html": [
       "<div>\n",
       "<style scoped>\n",
       "    .dataframe tbody tr th:only-of-type {\n",
       "        vertical-align: middle;\n",
       "    }\n",
       "\n",
       "    .dataframe tbody tr th {\n",
       "        vertical-align: top;\n",
       "    }\n",
       "\n",
       "    .dataframe thead th {\n",
       "        text-align: right;\n",
       "    }\n",
       "</style>\n",
       "<table border=\"1\" class=\"dataframe\">\n",
       "  <thead>\n",
       "    <tr style=\"text-align: right;\">\n",
       "      <th></th>\n",
       "      <th>Title</th>\n",
       "      <th>Genre</th>\n",
       "      <th>Director</th>\n",
       "      <th>Star Cast</th>\n",
       "      <th>IMDb Rating</th>\n",
       "      <th>context</th>\n",
       "    </tr>\n",
       "  </thead>\n",
       "  <tbody>\n",
       "    <tr>\n",
       "      <th>0</th>\n",
       "      <td>Gladiator</td>\n",
       "      <td>[Action]</td>\n",
       "      <td>[RidleyScott]</td>\n",
       "      <td>[David, FranzoniJohn, LoganWilliam, Nicholson]</td>\n",
       "      <td>[8.5]</td>\n",
       "      <td>[Action, RidleyScott, David, FranzoniJohn, Log...</td>\n",
       "    </tr>\n",
       "    <tr>\n",
       "      <th>1</th>\n",
       "      <td>Mission: Impossible - Dead Reckoning Part One</td>\n",
       "      <td>[Action]</td>\n",
       "      <td>[ChristopherMcQuarrie]</td>\n",
       "      <td>[Tom, CruiseHayley, AtwellVing, Rhames]</td>\n",
       "      <td>[7.7]</td>\n",
       "      <td>[Action, ChristopherMcQuarrie, Tom, CruiseHayl...</td>\n",
       "    </tr>\n",
       "    <tr>\n",
       "      <th>2</th>\n",
       "      <td>Rebel Moon - Part Two: The Scargiver</td>\n",
       "      <td>[Action]</td>\n",
       "      <td>[ZackSnyder]</td>\n",
       "      <td>[Zack, SnyderKurt, JohnstadShay, Hatten]</td>\n",
       "      <td>[5.2]</td>\n",
       "      <td>[Action, ZackSnyder, Zack, SnyderKurt, Johnsta...</td>\n",
       "    </tr>\n",
       "    <tr>\n",
       "      <th>3</th>\n",
       "      <td>Inglourious Basterds</td>\n",
       "      <td>[Adventure]</td>\n",
       "      <td>[QuentinTarantino]</td>\n",
       "      <td>[Brad, PittDiane, KrugerEli, Roth]</td>\n",
       "      <td>[8.4]</td>\n",
       "      <td>[Adventure, QuentinTarantino, Brad, PittDiane,...</td>\n",
       "    </tr>\n",
       "    <tr>\n",
       "      <th>4</th>\n",
       "      <td>Borderlands</td>\n",
       "      <td>[Action]</td>\n",
       "      <td>[EliRoth]</td>\n",
       "      <td>[Eli, RothJoe, Crombie]</td>\n",
       "      <td>[7.1]</td>\n",
       "      <td>[Action, EliRoth, Eli, RothJoe, Crombie, 7.1]</td>\n",
       "    </tr>\n",
       "  </tbody>\n",
       "</table>\n",
       "</div>"
      ],
      "text/plain": [
       "                                           Title        Genre  \\\n",
       "0                                      Gladiator     [Action]   \n",
       "1  Mission: Impossible - Dead Reckoning Part One     [Action]   \n",
       "2           Rebel Moon - Part Two: The Scargiver     [Action]   \n",
       "3                           Inglourious Basterds  [Adventure]   \n",
       "4                                    Borderlands     [Action]   \n",
       "\n",
       "                 Director                                       Star Cast  \\\n",
       "0           [RidleyScott]  [David, FranzoniJohn, LoganWilliam, Nicholson]   \n",
       "1  [ChristopherMcQuarrie]         [Tom, CruiseHayley, AtwellVing, Rhames]   \n",
       "2            [ZackSnyder]        [Zack, SnyderKurt, JohnstadShay, Hatten]   \n",
       "3      [QuentinTarantino]              [Brad, PittDiane, KrugerEli, Roth]   \n",
       "4               [EliRoth]                         [Eli, RothJoe, Crombie]   \n",
       "\n",
       "  IMDb Rating                                            context  \n",
       "0       [8.5]  [Action, RidleyScott, David, FranzoniJohn, Log...  \n",
       "1       [7.7]  [Action, ChristopherMcQuarrie, Tom, CruiseHayl...  \n",
       "2       [5.2]  [Action, ZackSnyder, Zack, SnyderKurt, Johnsta...  \n",
       "3       [8.4]  [Adventure, QuentinTarantino, Brad, PittDiane,...  \n",
       "4       [7.1]      [Action, EliRoth, Eli, RothJoe, Crombie, 7.1]  "
      ]
     },
     "execution_count": 338,
     "metadata": {},
     "output_type": "execute_result"
    }
   ],
   "source": [
    "final_movies.head()"
   ]
  },
  {
   "cell_type": "markdown",
   "id": "7f77acd9",
   "metadata": {},
   "source": [
    "## Drop un-wanted columns"
   ]
  },
  {
   "cell_type": "code",
   "execution_count": 339,
   "id": "7e51f78e",
   "metadata": {},
   "outputs": [],
   "source": [
    "final_movies.drop(columns=['Genre', 'Director', 'Star Cast', 'IMDb Rating'] , inplace=True)"
   ]
  },
  {
   "cell_type": "code",
   "execution_count": 340,
   "id": "169101f1",
   "metadata": {},
   "outputs": [
    {
     "data": {
      "text/html": [
       "<div>\n",
       "<style scoped>\n",
       "    .dataframe tbody tr th:only-of-type {\n",
       "        vertical-align: middle;\n",
       "    }\n",
       "\n",
       "    .dataframe tbody tr th {\n",
       "        vertical-align: top;\n",
       "    }\n",
       "\n",
       "    .dataframe thead th {\n",
       "        text-align: right;\n",
       "    }\n",
       "</style>\n",
       "<table border=\"1\" class=\"dataframe\">\n",
       "  <thead>\n",
       "    <tr style=\"text-align: right;\">\n",
       "      <th></th>\n",
       "      <th>Title</th>\n",
       "      <th>context</th>\n",
       "    </tr>\n",
       "  </thead>\n",
       "  <tbody>\n",
       "    <tr>\n",
       "      <th>0</th>\n",
       "      <td>Gladiator</td>\n",
       "      <td>[Action, RidleyScott, David, FranzoniJohn, Log...</td>\n",
       "    </tr>\n",
       "    <tr>\n",
       "      <th>1</th>\n",
       "      <td>Mission: Impossible - Dead Reckoning Part One</td>\n",
       "      <td>[Action, ChristopherMcQuarrie, Tom, CruiseHayl...</td>\n",
       "    </tr>\n",
       "    <tr>\n",
       "      <th>2</th>\n",
       "      <td>Rebel Moon - Part Two: The Scargiver</td>\n",
       "      <td>[Action, ZackSnyder, Zack, SnyderKurt, Johnsta...</td>\n",
       "    </tr>\n",
       "    <tr>\n",
       "      <th>3</th>\n",
       "      <td>Inglourious Basterds</td>\n",
       "      <td>[Adventure, QuentinTarantino, Brad, PittDiane,...</td>\n",
       "    </tr>\n",
       "    <tr>\n",
       "      <th>4</th>\n",
       "      <td>Borderlands</td>\n",
       "      <td>[Action, EliRoth, Eli, RothJoe, Crombie, 7.1]</td>\n",
       "    </tr>\n",
       "  </tbody>\n",
       "</table>\n",
       "</div>"
      ],
      "text/plain": [
       "                                           Title  \\\n",
       "0                                      Gladiator   \n",
       "1  Mission: Impossible - Dead Reckoning Part One   \n",
       "2           Rebel Moon - Part Two: The Scargiver   \n",
       "3                           Inglourious Basterds   \n",
       "4                                    Borderlands   \n",
       "\n",
       "                                             context  \n",
       "0  [Action, RidleyScott, David, FranzoniJohn, Log...  \n",
       "1  [Action, ChristopherMcQuarrie, Tom, CruiseHayl...  \n",
       "2  [Action, ZackSnyder, Zack, SnyderKurt, Johnsta...  \n",
       "3  [Adventure, QuentinTarantino, Brad, PittDiane,...  \n",
       "4      [Action, EliRoth, Eli, RothJoe, Crombie, 7.1]  "
      ]
     },
     "execution_count": 340,
     "metadata": {},
     "output_type": "execute_result"
    }
   ],
   "source": [
    "final_movies.head()"
   ]
  },
  {
   "cell_type": "markdown",
   "id": "42416004",
   "metadata": {},
   "source": [
    "## Convert Context list into text "
   ]
  },
  {
   "cell_type": "code",
   "execution_count": 341,
   "id": "d3531b64",
   "metadata": {},
   "outputs": [],
   "source": [
    "final_movies['context'] = final_movies['context'].apply(lambda x : \" \".join(x))"
   ]
  },
  {
   "cell_type": "code",
   "execution_count": 342,
   "id": "bdbde049",
   "metadata": {},
   "outputs": [
    {
     "data": {
      "text/plain": [
       "0    Action RidleyScott David FranzoniJohn LoganWil...\n",
       "1    Action ChristopherMcQuarrie Tom CruiseHayley A...\n",
       "2    Action ZackSnyder Zack SnyderKurt JohnstadShay...\n",
       "3    Adventure QuentinTarantino Brad PittDiane Krug...\n",
       "4               Action EliRoth Eli RothJoe Crombie 7.1\n",
       "Name: context, dtype: object"
      ]
     },
     "execution_count": 342,
     "metadata": {},
     "output_type": "execute_result"
    }
   ],
   "source": [
    "final_movies['context'].head()"
   ]
  },
  {
   "cell_type": "markdown",
   "id": "e979ce2d",
   "metadata": {},
   "source": [
    "## Feature Engennering \n",
    "- BOW (Bag of words)"
   ]
  },
  {
   "cell_type": "code",
   "execution_count": 343,
   "id": "278337c7",
   "metadata": {},
   "outputs": [],
   "source": [
    "from sklearn.feature_extraction.text import CountVectorizer\n",
    "cv = CountVectorizer(max_features=5000 , stop_words='english')\n",
    "vector = cv.fit_transform(final_movies['context']).toarray()"
   ]
  },
  {
   "cell_type": "code",
   "execution_count": 344,
   "id": "d0d79865",
   "metadata": {},
   "outputs": [
    {
     "data": {
      "text/html": [
       "<div>\n",
       "<style scoped>\n",
       "    .dataframe tbody tr th:only-of-type {\n",
       "        vertical-align: middle;\n",
       "    }\n",
       "\n",
       "    .dataframe tbody tr th {\n",
       "        vertical-align: top;\n",
       "    }\n",
       "\n",
       "    .dataframe thead th {\n",
       "        text-align: right;\n",
       "    }\n",
       "</style>\n",
       "<table border=\"1\" class=\"dataframe\">\n",
       "  <thead>\n",
       "    <tr style=\"text-align: right;\">\n",
       "      <th></th>\n",
       "      <th>0</th>\n",
       "      <th>1</th>\n",
       "      <th>2</th>\n",
       "      <th>3</th>\n",
       "      <th>4</th>\n",
       "      <th>5</th>\n",
       "      <th>6</th>\n",
       "      <th>7</th>\n",
       "      <th>8</th>\n",
       "      <th>9</th>\n",
       "      <th>...</th>\n",
       "      <th>4990</th>\n",
       "      <th>4991</th>\n",
       "      <th>4992</th>\n",
       "      <th>4993</th>\n",
       "      <th>4994</th>\n",
       "      <th>4995</th>\n",
       "      <th>4996</th>\n",
       "      <th>4997</th>\n",
       "      <th>4998</th>\n",
       "      <th>4999</th>\n",
       "    </tr>\n",
       "  </thead>\n",
       "  <tbody>\n",
       "    <tr>\n",
       "      <th>0</th>\n",
       "      <td>0</td>\n",
       "      <td>0</td>\n",
       "      <td>0</td>\n",
       "      <td>0</td>\n",
       "      <td>0</td>\n",
       "      <td>0</td>\n",
       "      <td>1</td>\n",
       "      <td>0</td>\n",
       "      <td>0</td>\n",
       "      <td>0</td>\n",
       "      <td>...</td>\n",
       "      <td>0</td>\n",
       "      <td>0</td>\n",
       "      <td>0</td>\n",
       "      <td>0</td>\n",
       "      <td>0</td>\n",
       "      <td>0</td>\n",
       "      <td>0</td>\n",
       "      <td>0</td>\n",
       "      <td>0</td>\n",
       "      <td>0</td>\n",
       "    </tr>\n",
       "    <tr>\n",
       "      <th>1</th>\n",
       "      <td>0</td>\n",
       "      <td>0</td>\n",
       "      <td>0</td>\n",
       "      <td>0</td>\n",
       "      <td>0</td>\n",
       "      <td>0</td>\n",
       "      <td>1</td>\n",
       "      <td>0</td>\n",
       "      <td>0</td>\n",
       "      <td>0</td>\n",
       "      <td>...</td>\n",
       "      <td>0</td>\n",
       "      <td>0</td>\n",
       "      <td>0</td>\n",
       "      <td>0</td>\n",
       "      <td>0</td>\n",
       "      <td>0</td>\n",
       "      <td>0</td>\n",
       "      <td>0</td>\n",
       "      <td>0</td>\n",
       "      <td>0</td>\n",
       "    </tr>\n",
       "    <tr>\n",
       "      <th>2</th>\n",
       "      <td>0</td>\n",
       "      <td>0</td>\n",
       "      <td>0</td>\n",
       "      <td>0</td>\n",
       "      <td>0</td>\n",
       "      <td>0</td>\n",
       "      <td>1</td>\n",
       "      <td>0</td>\n",
       "      <td>0</td>\n",
       "      <td>0</td>\n",
       "      <td>...</td>\n",
       "      <td>0</td>\n",
       "      <td>0</td>\n",
       "      <td>0</td>\n",
       "      <td>0</td>\n",
       "      <td>0</td>\n",
       "      <td>0</td>\n",
       "      <td>0</td>\n",
       "      <td>0</td>\n",
       "      <td>0</td>\n",
       "      <td>0</td>\n",
       "    </tr>\n",
       "    <tr>\n",
       "      <th>3</th>\n",
       "      <td>0</td>\n",
       "      <td>0</td>\n",
       "      <td>0</td>\n",
       "      <td>0</td>\n",
       "      <td>0</td>\n",
       "      <td>0</td>\n",
       "      <td>0</td>\n",
       "      <td>0</td>\n",
       "      <td>0</td>\n",
       "      <td>0</td>\n",
       "      <td>...</td>\n",
       "      <td>0</td>\n",
       "      <td>0</td>\n",
       "      <td>0</td>\n",
       "      <td>0</td>\n",
       "      <td>0</td>\n",
       "      <td>0</td>\n",
       "      <td>0</td>\n",
       "      <td>0</td>\n",
       "      <td>0</td>\n",
       "      <td>0</td>\n",
       "    </tr>\n",
       "    <tr>\n",
       "      <th>4</th>\n",
       "      <td>0</td>\n",
       "      <td>0</td>\n",
       "      <td>0</td>\n",
       "      <td>0</td>\n",
       "      <td>0</td>\n",
       "      <td>0</td>\n",
       "      <td>1</td>\n",
       "      <td>0</td>\n",
       "      <td>0</td>\n",
       "      <td>0</td>\n",
       "      <td>...</td>\n",
       "      <td>0</td>\n",
       "      <td>0</td>\n",
       "      <td>0</td>\n",
       "      <td>0</td>\n",
       "      <td>0</td>\n",
       "      <td>0</td>\n",
       "      <td>0</td>\n",
       "      <td>0</td>\n",
       "      <td>0</td>\n",
       "      <td>0</td>\n",
       "    </tr>\n",
       "  </tbody>\n",
       "</table>\n",
       "<p>5 rows × 5000 columns</p>\n",
       "</div>"
      ],
      "text/plain": [
       "   0     1     2     3     4     5     6     7     8     9     ...  4990  \\\n",
       "0     0     0     0     0     0     0     1     0     0     0  ...     0   \n",
       "1     0     0     0     0     0     0     1     0     0     0  ...     0   \n",
       "2     0     0     0     0     0     0     1     0     0     0  ...     0   \n",
       "3     0     0     0     0     0     0     0     0     0     0  ...     0   \n",
       "4     0     0     0     0     0     0     1     0     0     0  ...     0   \n",
       "\n",
       "   4991  4992  4993  4994  4995  4996  4997  4998  4999  \n",
       "0     0     0     0     0     0     0     0     0     0  \n",
       "1     0     0     0     0     0     0     0     0     0  \n",
       "2     0     0     0     0     0     0     0     0     0  \n",
       "3     0     0     0     0     0     0     0     0     0  \n",
       "4     0     0     0     0     0     0     0     0     0  \n",
       "\n",
       "[5 rows x 5000 columns]"
      ]
     },
     "execution_count": 344,
     "metadata": {},
     "output_type": "execute_result"
    }
   ],
   "source": [
    "pd.DataFrame(vector).head()"
   ]
  },
  {
   "cell_type": "markdown",
   "id": "5d6b3dd7",
   "metadata": {},
   "source": [
    "## Cosine-similarity"
   ]
  },
  {
   "cell_type": "code",
   "execution_count": 345,
   "id": "9375756e",
   "metadata": {},
   "outputs": [
    {
     "data": {
      "text/plain": [
       "array([[1.        , 0.25819889, 0.18257419, ..., 0.2       , 0.        ,\n",
       "        0.2       ],\n",
       "       [0.25819889, 1.        , 0.23570226, ..., 0.25819889, 0.        ,\n",
       "        0.25819889],\n",
       "       [0.18257419, 0.23570226, 1.        , ..., 0.18257419, 0.        ,\n",
       "        0.18257419],\n",
       "       ...,\n",
       "       [0.2       , 0.25819889, 0.18257419, ..., 1.        , 0.        ,\n",
       "        0.6       ],\n",
       "       [0.        , 0.        , 0.        , ..., 0.        , 1.        ,\n",
       "        0.        ],\n",
       "       [0.2       , 0.25819889, 0.18257419, ..., 0.6       , 0.        ,\n",
       "        1.        ]])"
      ]
     },
     "execution_count": 345,
     "metadata": {},
     "output_type": "execute_result"
    }
   ],
   "source": [
    "from sklearn.metrics.pairwise import cosine_similarity\n",
    "similarity = cosine_similarity(vector)\n",
    "similarity"
   ]
  },
  {
   "cell_type": "code",
   "execution_count": 346,
   "id": "5e6f79c1",
   "metadata": {},
   "outputs": [
    {
     "data": {
      "text/plain": [
       "4"
      ]
     },
     "execution_count": 346,
     "metadata": {},
     "output_type": "execute_result"
    }
   ],
   "source": [
    "final_movies[final_movies['Title'] == 'Borderlands'].index[0]"
   ]
  },
  {
   "cell_type": "markdown",
   "id": "dc946158",
   "metadata": {},
   "source": [
    "## Recommendation System"
   ]
  },
  {
   "cell_type": "code",
   "execution_count": 347,
   "id": "abb8a5c6",
   "metadata": {},
   "outputs": [],
   "source": [
    "def recommendationSystem(movie):\n",
    "    index = final_movies[final_movies['Title'] == movie].index[0]\n",
    "    distance = sorted(list(enumerate(similarity[index])) , reverse=True , key=lambda x : x[1])\n",
    "\n",
    "    for i in distance[1:6]: #top 5 movies\n",
    "        print(final_movies.iloc[i[0]].Title)\n",
    "    "
   ]
  },
  {
   "cell_type": "code",
   "execution_count": 348,
   "id": "287cbc99",
   "metadata": {},
   "outputs": [
    {
     "name": "stdout",
     "output_type": "stream",
     "text": [
      "Superman in Exile\n",
      "G.I. Jane\n",
      "Exodus: Gods and Kings\n",
      "Tomica Hero: Rescue Force Explosive Movie: Rescue the Mach Train!\n",
      "Where the Journey Ends\n"
     ]
    }
   ],
   "source": [
    "recommendationSystem('Gladiator')"
   ]
  },
  {
   "cell_type": "code",
   "execution_count": 349,
   "id": "0ad3dd38",
   "metadata": {},
   "outputs": [
    {
     "name": "stdout",
     "output_type": "stream",
     "text": [
      "Captain Phillips\n",
      "The Substitute\n",
      "Cloak & Dagger\n",
      "One Man's Hero\n",
      "Greyhound\n"
     ]
    }
   ],
   "source": [
    "recommendationSystem('Mission: Impossible - Dead Reckoning Part One')"
   ]
  },
  {
   "cell_type": "code",
   "execution_count": 350,
   "id": "066d78dd",
   "metadata": {},
   "outputs": [
    {
     "name": "stdout",
     "output_type": "stream",
     "text": [
      "Tomica Hero: Rescue Force Explosive Movie: Rescue the Mach Train!\n",
      "Where the Journey Ends\n",
      "Aavesham\n",
      "The Iron Giant\n",
      "Beverly Hills Cop: Axel F\n"
     ]
    }
   ],
   "source": [
    "recommendationSystem('Borderlands')"
   ]
  },
  {
   "cell_type": "code",
   "execution_count": 351,
   "id": "da3094f1",
   "metadata": {},
   "outputs": [
    {
     "name": "stdout",
     "output_type": "stream",
     "text": [
      "Rebel Moon - Part One: A Child of Fire\n",
      "Army of the Dead\n",
      "Dawn of the Dead\n",
      "Tomica Hero: Rescue Force Explosive Movie: Rescue the Mach Train!\n",
      "Where the Journey Ends\n"
     ]
    }
   ],
   "source": [
    "recommendationSystem('Rebel Moon - Part Two: The Scargiver')"
   ]
  }
 ],
 "metadata": {
  "kernelspec": {
   "display_name": "Python 3",
   "language": "python",
   "name": "python3"
  },
  "language_info": {
   "codemirror_mode": {
    "name": "ipython",
    "version": 3
   },
   "file_extension": ".py",
   "mimetype": "text/x-python",
   "name": "python",
   "nbconvert_exporter": "python",
   "pygments_lexer": "ipython3",
   "version": "3.11.4"
  }
 },
 "nbformat": 4,
 "nbformat_minor": 5
}
